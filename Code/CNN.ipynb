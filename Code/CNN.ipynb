{
  "cells": [
    {
      "cell_type": "markdown",
      "source": [
        "The dataset used here is PhysioNet 2016. The Physionet 2016 dataset is a collection of electrocardiogram (ECG) recordings for detecting cardiac arrhythmias. It includes recordings from patients with various arrhythmias and normal rhythms, along with corresponding beat annotations.This dataset has been widely used for developing and evaluating algorithms for automatic arrhythmia detection.\n"
      ],
      "metadata": {
        "id": "c9nRtg8G5ukv"
      }
    },
    {
      "cell_type": "code",
      "source": [
        "from google.colab import drive\n",
        "drive.mount('/content/drive')"
      ],
      "metadata": {
        "colab": {
          "base_uri": "https://localhost:8080/"
        },
        "id": "BtMOWcZIR7Pb",
        "outputId": "b0303483-6027-4ffb-cd88-00bdc506abfa"
      },
      "execution_count": null,
      "outputs": [
        {
          "output_type": "stream",
          "name": "stdout",
          "text": [
            "Mounted at /content/drive\n"
          ]
        }
      ]
    },
    {
      "cell_type": "markdown",
      "source": [
        "Importing Python Libraries"
      ],
      "metadata": {
        "id": "Vwa8V5Z0WqoA"
      }
    },
    {
      "cell_type": "code",
      "execution_count": null,
      "metadata": {
        "id": "FTqBLGuF2c1v"
      },
      "outputs": [],
      "source": [
        "# Import necessary libraries\n",
        "import pandas as pd\n",
        "import numpy as np\n",
        "from numpy import argmax\n",
        "import matplotlib.pyplot as plt\n",
        "%matplotlib inline\n",
        "import librosa\n",
        "import librosa.display\n",
        "import IPython.display\n",
        "import random\n",
        "import warnings\n",
        "import os\n",
        "from PIL import Image\n",
        "import pathlib\n",
        "import csv\n",
        "from sklearn.model_selection import train_test_split\n",
        "import shutil\n",
        "import warnings\n",
        "warnings.filterwarnings('ignore')\n",
        "\n",
        "# Import necessary Keras layers and modules\n",
        "import keras\n",
        "from keras import layers\n",
        "from keras.layers import Activation, Dense, Dropout, Conv2D, Flatten, MaxPooling2D, GlobalMaxPooling2D, GlobalAveragePooling1D, AveragePooling2D, Input, Add\n",
        "from keras.models import Sequential\n",
        "from keras.optimizers import SGD\n",
        "\n",
        "# Import TensorFlow\n",
        "import tensorflow as tf"
      ]
    },
    {
      "cell_type": "markdown",
      "source": [
        "Splitting the dataset into two folders, one with normal signals and the other one with abnormal signals"
      ],
      "metadata": {
        "id": "gtcdMWWJYYUI"
      }
    },
    {
      "cell_type": "code",
      "execution_count": null,
      "metadata": {
        "id": "14TMwbUuTe7T"
      },
      "outputs": [],
      "source": [
        "# Read in the training data file as a pandas dataframe\n",
        "df = pd.read_csv('/content/drive/MyDrive/Rixprojects-cairdio-ml-pipeline-fe9a94f56c5b/data_splits_2016/train_recordings.csv')\n",
        "\n",
        "# Create two new dataframes, one for normal recordings and one for abnormal recordings\n",
        "outcome_1_df = df[df['outcome'] == 1]\n",
        "outcome_0_df = df[df['outcome'] == 0]\n",
        "\n",
        "# Save the two new dataframes as CSV files, without index column\n",
        "outcome_1_df.to_csv('/content/sample_data/outcome_1.csv', index=False)\n",
        "outcome_0_df.to_csv('/content/sample_data/outcome_0.csv', index=False)"
      ]
    },
    {
      "cell_type": "code",
      "execution_count": null,
      "metadata": {
        "id": "kipDPmPcASsv"
      },
      "outputs": [],
      "source": [
        "# Read in the validation data file as a pandas dataframe\n",
        "df = pd.read_csv('/content/drive/MyDrive/Rixprojects-cairdio-ml-pipeline-fe9a94f56c5b/data_splits_2016/validation_recordings.csv')\n",
        "\n",
        "# Create two new dataframes, one for normal recordings and one for abnormal recordings\n",
        "outcome_1_df = df[df['outcome'] == 1]\n",
        "outcome_0_df = df[df['outcome'] == 0]\n",
        "\n",
        "# Save the two new dataframes as CSV files, without index column\n",
        "outcome_1_df.to_csv('/content/sample_data/outcome_1_val.csv', index=False)\n",
        "outcome_0_df.to_csv('/content/sample_data/outcome_0_val.csv', index=False)"
      ]
    },
    {
      "cell_type": "code",
      "source": [
        "import pandas as pd\n",
        "import os\n",
        "import shutil\n",
        "\n",
        "# Load the CSV file\n",
        "df = pd.read_csv('/content/sample_data/outcome_1.csv')\n",
        "\n",
        "# Extract the recording IDs from the CSV file\n",
        "recording_ids_in_csv = set(df['recording_id'])\n",
        "\n",
        "# Define the source folder\n",
        "source_folder = '/content/drive/MyDrive/preprocessed_recordings_10s'\n",
        "\n",
        "# Define the destination folder where normal .wav files will be saved\n",
        "destination_folder = '/content/drive/MyDrive/Preprocessed1/train/normal'\n",
        "\n",
        "# Create the destination folder if it doesn't exist\n",
        "os.makedirs(destination_folder, exist_ok=True)\n",
        "\n",
        "# Loop through the files in the source folder\n",
        "for filename in os.listdir(source_folder):\n",
        "    if filename.endswith(\".wav\"):\n",
        "        recording_id = os.path.splitext(filename)[0]  # Extract recording ID from the filename\n",
        "\n",
        "        # Check if the recording ID is in the CSV file\n",
        "        if recording_id in recording_ids_in_csv:\n",
        "            source_path = os.path.join(source_folder, filename)\n",
        "            destination_path = os.path.join(destination_folder, filename)\n",
        "\n",
        "            # Copy the .wav file to the destination folder\n",
        "            shutil.copyfile(source_path, destination_path)\n",
        "            print(f'Copied {filename} to {destination_folder}')\n"
      ],
      "metadata": {
        "colab": {
          "base_uri": "https://localhost:8080/"
        },
        "id": "kYOkMwJYgHLy",
        "outputId": "d3e19baa-bff3-4c83-9680-56f1bcf93f3d"
      },
      "execution_count": null,
      "outputs": [
        {
          "output_type": "stream",
          "name": "stdout",
          "text": [
            "Copied a0067.wav to /content/drive/MyDrive/Preprocessed1/train/normal\n",
            "Copied e00176.wav to /content/drive/MyDrive/Preprocessed1/train/normal\n",
            "Copied a0259.wav to /content/drive/MyDrive/Preprocessed1/train/normal\n",
            "Copied e00980.wav to /content/drive/MyDrive/Preprocessed1/train/normal\n",
            "Copied a0305.wav to /content/drive/MyDrive/Preprocessed1/train/normal\n",
            "Copied a0339.wav to /content/drive/MyDrive/Preprocessed1/train/normal\n",
            "Copied a0113.wav to /content/drive/MyDrive/Preprocessed1/train/normal\n",
            "Copied e00228.wav to /content/drive/MyDrive/Preprocessed1/train/normal\n",
            "Copied a0107.wav to /content/drive/MyDrive/Preprocessed1/train/normal\n",
            "Copied d0042.wav to /content/drive/MyDrive/Preprocessed1/train/normal\n",
            "Copied b0013.wav to /content/drive/MyDrive/Preprocessed1/train/normal\n",
            "Copied e01686.wav to /content/drive/MyDrive/Preprocessed1/train/normal\n",
            "Copied b0238.wav to /content/drive/MyDrive/Preprocessed1/train/normal\n",
            "Copied e00605.wav to /content/drive/MyDrive/Preprocessed1/train/normal\n",
            "Copied a0258.wav to /content/drive/MyDrive/Preprocessed1/train/normal\n",
            "Copied a0066.wav to /content/drive/MyDrive/Preprocessed1/train/normal\n",
            "Copied e01719.wav to /content/drive/MyDrive/Preprocessed1/train/normal\n",
            "Copied a0072.wav to /content/drive/MyDrive/Preprocessed1/train/normal\n",
            "Copied a0058.wav to /content/drive/MyDrive/Preprocessed1/train/normal\n",
            "Copied a0099.wav to /content/drive/MyDrive/Preprocessed1/train/normal\n",
            "Copied c0015.wav to /content/drive/MyDrive/Preprocessed1/train/normal\n",
            "Copied a0272.wav to /content/drive/MyDrive/Preprocessed1/train/normal\n",
            "Copied e01055.wav to /content/drive/MyDrive/Preprocessed1/train/normal\n",
            "Copied a0312.wav to /content/drive/MyDrive/Preprocessed1/train/normal\n",
            "Copied a0306.wav to /content/drive/MyDrive/Preprocessed1/train/normal\n",
            "Copied a0110.wav to /content/drive/MyDrive/Preprocessed1/train/normal\n",
            "Copied a0104.wav to /content/drive/MyDrive/Preprocessed1/train/normal\n",
            "Copied d0040.wav to /content/drive/MyDrive/Preprocessed1/train/normal\n",
            "Copied e00766.wav to /content/drive/MyDrive/Preprocessed1/train/normal\n",
            "Copied a0307.wav to /content/drive/MyDrive/Preprocessed1/train/normal\n",
            "Copied a0273.wav to /content/drive/MyDrive/Preprocessed1/train/normal\n",
            "Copied c0028.wav to /content/drive/MyDrive/Preprocessed1/train/normal\n",
            "Copied a0267.wav to /content/drive/MyDrive/Preprocessed1/train/normal\n",
            "Copied e01256.wav to /content/drive/MyDrive/Preprocessed1/train/normal\n",
            "Copied e00477.wav to /content/drive/MyDrive/Preprocessed1/train/normal\n",
            "Copied a0228.wav to /content/drive/MyDrive/Preprocessed1/train/normal\n",
            "Copied e01351.wav to /content/drive/MyDrive/Preprocessed1/train/normal\n",
            "Copied b0248.wav to /content/drive/MyDrive/Preprocessed1/train/normal\n",
            "Copied e02102.wav to /content/drive/MyDrive/Preprocessed1/train/normal\n",
            "Copied e01812.wav to /content/drive/MyDrive/Preprocessed1/train/normal\n",
            "Copied a0176.wav to /content/drive/MyDrive/Preprocessed1/train/normal\n",
            "Copied d0032.wav to /content/drive/MyDrive/Preprocessed1/train/normal\n",
            "Copied a0188.wav to /content/drive/MyDrive/Preprocessed1/train/normal\n",
            "Copied a0177.wav to /content/drive/MyDrive/Preprocessed1/train/normal\n",
            "Copied b0063.wav to /content/drive/MyDrive/Preprocessed1/train/normal\n",
            "Copied a0215.wav to /content/drive/MyDrive/Preprocessed1/train/normal\n",
            "Copied a0349.wav to /content/drive/MyDrive/Preprocessed1/train/normal\n",
            "Copied a0017.wav to /content/drive/MyDrive/Preprocessed1/train/normal\n",
            "Copied a0201.wav to /content/drive/MyDrive/Preprocessed1/train/normal\n",
            "Copied e00847.wav to /content/drive/MyDrive/Preprocessed1/train/normal\n",
            "Copied e00304.wav to /content/drive/MyDrive/Preprocessed1/train/normal\n",
            "Copied a0015.wav to /content/drive/MyDrive/Preprocessed1/train/normal\n",
            "Copied a0003.wav to /content/drive/MyDrive/Preprocessed1/train/normal\n",
            "Copied b0117.wav to /content/drive/MyDrive/Preprocessed1/train/normal\n",
            "Copied e01967.wav to /content/drive/MyDrive/Preprocessed1/train/normal\n",
            "Copied b0471.wav to /content/drive/MyDrive/Preprocessed1/train/normal\n",
            "Copied a0001.wav to /content/drive/MyDrive/Preprocessed1/train/normal\n",
            "Copied a0217.wav to /content/drive/MyDrive/Preprocessed1/train/normal\n",
            "Copied e00925.wav to /content/drive/MyDrive/Preprocessed1/train/normal\n",
            "Copied e01226.wav to /content/drive/MyDrive/Preprocessed1/train/normal\n",
            "Copied d0018.wav to /content/drive/MyDrive/Preprocessed1/train/normal\n",
            "Copied e00528.wav to /content/drive/MyDrive/Preprocessed1/train/normal\n",
            "Copied a0175.wav to /content/drive/MyDrive/Preprocessed1/train/normal\n",
            "Copied a0148.wav to /content/drive/MyDrive/Preprocessed1/train/normal\n",
            "Copied a0149.wav to /content/drive/MyDrive/Preprocessed1/train/normal\n",
            "Copied a0160.wav to /content/drive/MyDrive/Preprocessed1/train/normal\n",
            "Copied a0174.wav to /content/drive/MyDrive/Preprocessed1/train/normal\n",
            "Copied e00703.wav to /content/drive/MyDrive/Preprocessed1/train/normal\n",
            "Copied a0404.wav to /content/drive/MyDrive/Preprocessed1/train/normal\n",
            "Copied a0389.wav to /content/drive/MyDrive/Preprocessed1/train/normal\n",
            "Copied a0362.wav to /content/drive/MyDrive/Preprocessed1/train/normal\n",
            "Copied a0376.wav to /content/drive/MyDrive/Preprocessed1/train/normal\n",
            "Copied e01421.wav to /content/drive/MyDrive/Preprocessed1/train/normal\n",
            "Copied e02074.wav to /content/drive/MyDrive/Preprocessed1/train/normal\n",
            "Copied a0202.wav to /content/drive/MyDrive/Preprocessed1/train/normal\n",
            "Copied b0262.wav to /content/drive/MyDrive/Preprocessed1/train/normal\n",
            "Copied b0474.wav to /content/drive/MyDrive/Preprocessed1/train/normal\n",
            "Copied a0206.wav to /content/drive/MyDrive/Preprocessed1/train/normal\n",
            "Copied a0372.wav to /content/drive/MyDrive/Preprocessed1/train/normal\n",
            "Copied a0366.wav to /content/drive/MyDrive/Preprocessed1/train/normal\n",
            "Copied a0158.wav to /content/drive/MyDrive/Preprocessed1/train/normal\n",
            "Copied d0034.wav to /content/drive/MyDrive/Preprocessed1/train/normal\n",
            "Copied d0035.wav to /content/drive/MyDrive/Preprocessed1/train/normal\n",
            "Copied d0021.wav to /content/drive/MyDrive/Preprocessed1/train/normal\n",
            "Copied a0170.wav to /content/drive/MyDrive/Preprocessed1/train/normal\n",
            "Copied a0367.wav to /content/drive/MyDrive/Preprocessed1/train/normal\n",
            "Copied a0373.wav to /content/drive/MyDrive/Preprocessed1/train/normal\n",
            "Copied a0398.wav to /content/drive/MyDrive/Preprocessed1/train/normal\n",
            "Copied b0273.wav to /content/drive/MyDrive/Preprocessed1/train/normal\n",
            "Copied b0267.wav to /content/drive/MyDrive/Preprocessed1/train/normal\n",
            "Copied b0307.wav to /content/drive/MyDrive/Preprocessed1/train/normal\n",
            "Copied e02065.wav to /content/drive/MyDrive/Preprocessed1/train/normal\n",
            "Copied a0005.wav to /content/drive/MyDrive/Preprocessed1/train/normal\n",
            "Copied a0039.wav to /content/drive/MyDrive/Preprocessed1/train/normal\n",
            "Copied e01787.wav to /content/drive/MyDrive/Preprocessed1/train/normal\n",
            "Copied e00328.wav to /content/drive/MyDrive/Preprocessed1/train/normal\n",
            "Copied e00670.wav to /content/drive/MyDrive/Preprocessed1/train/normal\n",
            "Copied a0239.wav to /content/drive/MyDrive/Preprocessed1/train/normal\n",
            "Copied a0198.wav to /content/drive/MyDrive/Preprocessed1/train/normal\n",
            "Copied a0365.wav to /content/drive/MyDrive/Preprocessed1/train/normal\n",
            "Copied b0265.wav to /content/drive/MyDrive/Preprocessed1/train/normal\n",
            "Copied d0022.wav to /content/drive/MyDrive/Preprocessed1/train/normal\n",
            "Copied a0173.wav to /content/drive/MyDrive/Preprocessed1/train/normal\n",
            "Copied a0166.wav to /content/drive/MyDrive/Preprocessed1/train/normal\n",
            "Copied a0172.wav to /content/drive/MyDrive/Preprocessed1/train/normal\n",
            "Copied a0358.wav to /content/drive/MyDrive/Preprocessed1/train/normal\n",
            "Copied a0364.wav to /content/drive/MyDrive/Preprocessed1/train/normal\n",
            "Copied a0402.wav to /content/drive/MyDrive/Preprocessed1/train/normal\n",
            "Copied e01962.wav to /content/drive/MyDrive/Preprocessed1/train/normal\n",
            "Copied a0242.wav to /content/drive/MyDrive/Preprocessed1/train/normal\n",
            "Copied b0395.wav to /content/drive/MyDrive/Preprocessed1/train/normal\n",
            "Copied a0256.wav to /content/drive/MyDrive/Preprocessed1/train/normal\n",
            "Copied c0025.wav to /content/drive/MyDrive/Preprocessed1/train/normal\n",
            "Copied b0008.wav to /content/drive/MyDrive/Preprocessed1/train/normal\n",
            "Copied a0322.wav to /content/drive/MyDrive/Preprocessed1/train/normal\n",
            "Copied c0019.wav to /content/drive/MyDrive/Preprocessed1/train/normal\n",
            "Copied e01461.wav to /content/drive/MyDrive/Preprocessed1/train/normal\n",
            "Copied a0120.wav to /content/drive/MyDrive/Preprocessed1/train/normal\n",
            "Copied a0134.wav to /content/drive/MyDrive/Preprocessed1/train/normal\n",
            "Copied a0257.wav to /content/drive/MyDrive/Preprocessed1/train/normal\n",
            "Copied e01272.wav to /content/drive/MyDrive/Preprocessed1/train/normal\n",
            "Copied a0082.wav to /content/drive/MyDrive/Preprocessed1/train/normal\n",
            "Copied a0280.wav to /content/drive/MyDrive/Preprocessed1/train/normal\n",
            "Copied a0041.wav to /content/drive/MyDrive/Preprocessed1/train/normal\n",
            "Copied a0096.wav to /content/drive/MyDrive/Preprocessed1/train/normal\n",
            "Copied a0282.wav to /content/drive/MyDrive/Preprocessed1/train/normal\n",
            "Copied b0341.wav to /content/drive/MyDrive/Preprocessed1/train/normal\n",
            "Copied a0269.wav to /content/drive/MyDrive/Preprocessed1/train/normal\n",
            "Copied c0026.wav to /content/drive/MyDrive/Preprocessed1/train/normal\n",
            "Copied a0137.wav to /content/drive/MyDrive/Preprocessed1/train/normal\n",
            "Copied a0123.wav to /content/drive/MyDrive/Preprocessed1/train/normal\n",
            "Copied a0335.wav to /content/drive/MyDrive/Preprocessed1/train/normal\n",
            "Copied a0122.wav to /content/drive/MyDrive/Preprocessed1/train/normal\n",
            "Copied b0208.wav to /content/drive/MyDrive/Preprocessed1/train/normal\n",
            "Copied b0397.wav to /content/drive/MyDrive/Preprocessed1/train/normal\n",
            "Copied a0254.wav to /content/drive/MyDrive/Preprocessed1/train/normal\n",
            "Copied a0297.wav to /content/drive/MyDrive/Preprocessed1/train/normal\n",
            "Copied a0095.wav to /content/drive/MyDrive/Preprocessed1/train/normal\n",
            "Copied a0056.wav to /content/drive/MyDrive/Preprocessed1/train/normal\n",
            "Copied e01922.wav to /content/drive/MyDrive/Preprocessed1/train/normal\n",
            "Copied a0052.wav to /content/drive/MyDrive/Preprocessed1/train/normal\n",
            "Copied b0436.wav to /content/drive/MyDrive/Preprocessed1/train/normal\n",
            "Copied a0046.wav to /content/drive/MyDrive/Preprocessed1/train/normal\n",
            "Copied b0344.wav to /content/drive/MyDrive/Preprocessed1/train/normal\n",
            "Copied e02032.wav to /content/drive/MyDrive/Preprocessed1/train/normal\n",
            "Copied e00792.wav to /content/drive/MyDrive/Preprocessed1/train/normal\n",
            "Copied c0023.wav to /content/drive/MyDrive/Preprocessed1/train/normal\n",
            "Copied e00619.wav to /content/drive/MyDrive/Preprocessed1/train/normal\n",
            "Copied e01881.wav to /content/drive/MyDrive/Preprocessed1/train/normal\n",
            "Copied e01856.wav to /content/drive/MyDrive/Preprocessed1/train/normal\n",
            "Copied a0324.wav to /content/drive/MyDrive/Preprocessed1/train/normal\n",
            "Copied b0033.wav to /content/drive/MyDrive/Preprocessed1/train/normal\n",
            "Copied a0133.wav to /content/drive/MyDrive/Preprocessed1/train/normal\n",
            "Copied a0132.wav to /content/drive/MyDrive/Preprocessed1/train/normal\n",
            "Copied a0331.wav to /content/drive/MyDrive/Preprocessed1/train/normal\n",
            "Copied a0319.wav to /content/drive/MyDrive/Preprocessed1/train/normal\n",
            "Copied a0245.wav to /content/drive/MyDrive/Preprocessed1/train/normal\n",
            "Copied a0047.wav to /content/drive/MyDrive/Preprocessed1/train/normal\n",
            "Copied b0190.wav to /content/drive/MyDrive/Preprocessed1/train/normal\n",
            "Copied e01062.wav to /content/drive/MyDrive/Preprocessed1/train/normal\n",
            "Copied a0090.wav to /content/drive/MyDrive/Preprocessed1/train/normal\n",
            "Copied a0084.wav to /content/drive/MyDrive/Preprocessed1/train/normal\n",
            "Copied e00140.wav to /content/drive/MyDrive/Preprocessed1/train/normal\n",
            "Copied e01289.wav to /content/drive/MyDrive/Preprocessed1/train/normal\n",
            "Copied a0247.wav to /content/drive/MyDrive/Preprocessed1/train/normal\n",
            "Copied b0233.wav to /content/drive/MyDrive/Preprocessed1/train/normal\n",
            "Copied b0390.wav to /content/drive/MyDrive/Preprocessed1/train/normal\n",
            "Copied c0020.wav to /content/drive/MyDrive/Preprocessed1/train/normal\n",
            "Copied a0327.wav to /content/drive/MyDrive/Preprocessed1/train/normal\n",
            "Copied e01855.wav to /content/drive/MyDrive/Preprocessed1/train/normal\n",
            "Copied e01869.wav to /content/drive/MyDrive/Preprocessed1/train/normal\n",
            "Copied a0119.wav to /content/drive/MyDrive/Preprocessed1/train/normal\n",
            "Copied a0131.wav to /content/drive/MyDrive/Preprocessed1/train/normal\n",
            "Copied a0130.wav to /content/drive/MyDrive/Preprocessed1/train/normal\n",
            "Copied e01115.wav to /content/drive/MyDrive/Preprocessed1/train/normal\n",
            "Copied b0030.wav to /content/drive/MyDrive/Preprocessed1/train/normal\n",
            "Copied b0018.wav to /content/drive/MyDrive/Preprocessed1/train/normal\n",
            "Copied c0009.wav to /content/drive/MyDrive/Preprocessed1/train/normal\n",
            "Copied c0021.wav to /content/drive/MyDrive/Preprocessed1/train/normal\n",
            "Copied a0252.wav to /content/drive/MyDrive/Preprocessed1/train/normal\n",
            "Copied a0326.wav to /content/drive/MyDrive/Preprocessed1/train/normal\n",
            "Copied e01511.wav to /content/drive/MyDrive/Preprocessed1/train/normal\n",
            "Copied e00627.wav to /content/drive/MyDrive/Preprocessed1/train/normal\n",
            "Copied e02030.wav to /content/drive/MyDrive/Preprocessed1/train/normal\n",
            "Copied b0385.wav to /content/drive/MyDrive/Preprocessed1/train/normal\n",
            "Copied a0246.wav to /content/drive/MyDrive/Preprocessed1/train/normal\n",
            "Copied b0408.wav to /content/drive/MyDrive/Preprocessed1/train/normal\n",
            "Copied a0044.wav to /content/drive/MyDrive/Preprocessed1/train/normal\n",
            "Copied a0078.wav to /content/drive/MyDrive/Preprocessed1/train/normal\n",
            "Copied a0061.wav to /content/drive/MyDrive/Preprocessed1/train/normal\n",
            "Copied a0075.wav to /content/drive/MyDrive/Preprocessed1/train/normal\n",
            "Copied a0277.wav to /content/drive/MyDrive/Preprocessed1/train/normal\n",
            "Copied e01246.wav to /content/drive/MyDrive/Preprocessed1/train/normal\n",
            "Copied a0263.wav to /content/drive/MyDrive/Preprocessed1/train/normal\n",
            "Copied c0004.wav to /content/drive/MyDrive/Preprocessed1/train/normal\n",
            "Copied a0303.wav to /content/drive/MyDrive/Preprocessed1/train/normal\n",
            "Copied a0101.wav to /content/drive/MyDrive/Preprocessed1/train/normal\n",
            "Copied a0100.wav to /content/drive/MyDrive/Preprocessed1/train/normal\n",
            "Copied a0128.wav to /content/drive/MyDrive/Preprocessed1/train/normal\n",
            "Copied a0114.wav to /content/drive/MyDrive/Preprocessed1/train/normal\n",
            "Copied a0316.wav to /content/drive/MyDrive/Preprocessed1/train/normal\n",
            "Copied e00603.wav to /content/drive/MyDrive/Preprocessed1/train/normal\n",
            "Copied e01284.wav to /content/drive/MyDrive/Preprocessed1/train/normal\n",
            "Copied a0060.wav to /content/drive/MyDrive/Preprocessed1/train/normal\n",
            "Copied e00373.wav to /content/drive/MyDrive/Preprocessed1/train/normal\n",
            "Copied e00359.wav to /content/drive/MyDrive/Preprocessed1/train/normal\n",
            "Copied a0248.wav to /content/drive/MyDrive/Preprocessed1/train/normal\n",
            "Copied a0260.wav to /content/drive/MyDrive/Preprocessed1/train/normal\n",
            "Copied e00601.wav to /content/drive/MyDrive/Preprocessed1/train/normal\n",
            "Copied a0300.wav to /content/drive/MyDrive/Preprocessed1/train/normal\n",
            "Copied d0052.wav to /content/drive/MyDrive/Preprocessed1/train/normal\n",
            "Copied a0117.wav to /content/drive/MyDrive/Preprocessed1/train/normal\n",
            "Copied e01668.wav to /content/drive/MyDrive/Preprocessed1/train/normal\n",
            "Copied a0103.wav to /content/drive/MyDrive/Preprocessed1/train/normal\n",
            "Copied e01867.wav to /content/drive/MyDrive/Preprocessed1/train/normal\n",
            "Copied a0249.wav to /content/drive/MyDrive/Preprocessed1/train/normal\n",
            "Copied c0012.wav to /content/drive/MyDrive/Preprocessed1/train/normal\n",
            "Copied a0275.wav to /content/drive/MyDrive/Preprocessed1/train/normal\n",
            "Copied a0077.wav to /content/drive/MyDrive/Preprocessed1/train/normal\n",
            "Copied a0063.wav to /content/drive/MyDrive/Preprocessed1/train/normal\n",
            "Copied e01917.wav to /content/drive/MyDrive/Preprocessed1/train/normal\n",
            "Copied a0073.wav to /content/drive/MyDrive/Preprocessed1/train/normal\n",
            "Copied e01953.wav to /content/drive/MyDrive/Preprocessed1/train/normal\n",
            "Copied a0037.wav to /content/drive/MyDrive/Preprocessed1/train/normal\n",
            "Copied e00330.wav to /content/drive/MyDrive/Preprocessed1/train/normal\n",
            "Copied e00456.wav to /content/drive/MyDrive/Preprocessed1/train/normal\n",
            "Copied b0335.wav to /content/drive/MyDrive/Preprocessed1/train/normal\n",
            "Copied b0484.wav to /content/drive/MyDrive/Preprocessed1/train/normal\n",
            "Copied a0209.wav to /content/drive/MyDrive/Preprocessed1/train/normal\n",
            "Copied a0221.wav to /content/drive/MyDrive/Preprocessed1/train/normal\n",
            "Copied a0341.wav to /content/drive/MyDrive/Preprocessed1/train/normal\n",
            "Copied a0396.wav to /content/drive/MyDrive/Preprocessed1/train/normal\n",
            "Copied a0143.wav to /content/drive/MyDrive/Preprocessed1/train/normal\n",
            "Copied b0043.wav to /content/drive/MyDrive/Preprocessed1/train/normal\n",
            "Copied d0012.wav to /content/drive/MyDrive/Preprocessed1/train/normal\n",
            "Copied a0157.wav to /content/drive/MyDrive/Preprocessed1/train/normal\n",
            "Copied a0180.wav to /content/drive/MyDrive/Preprocessed1/train/normal\n",
            "Copied e00537.wav to /content/drive/MyDrive/Preprocessed1/train/normal\n",
            "Copied e01832.wav to /content/drive/MyDrive/Preprocessed1/train/normal\n",
            "Copied b0081.wav to /content/drive/MyDrive/Preprocessed1/train/normal\n",
            "Copied e00523.wav to /content/drive/MyDrive/Preprocessed1/train/normal\n",
            "Copied e01601.wav to /content/drive/MyDrive/Preprocessed1/train/normal\n",
            "Copied a0354.wav to /content/drive/MyDrive/Preprocessed1/train/normal\n",
            "Copied a0368.wav to /content/drive/MyDrive/Preprocessed1/train/normal\n",
            "Copied a0383.wav to /content/drive/MyDrive/Preprocessed1/train/normal\n",
            "Copied a0220.wav to /content/drive/MyDrive/Preprocessed1/train/normal\n",
            "Copied e01013.wav to /content/drive/MyDrive/Preprocessed1/train/normal\n",
            "Copied e01978.wav to /content/drive/MyDrive/Preprocessed1/train/normal\n",
            "Copied a0036.wav to /content/drive/MyDrive/Preprocessed1/train/normal\n",
            "Copied a0034.wav to /content/drive/MyDrive/Preprocessed1/train/normal\n",
            "Copied a0222.wav to /content/drive/MyDrive/Preprocessed1/train/normal\n",
            "Copied a0236.wav to /content/drive/MyDrive/Preprocessed1/train/normal\n",
            "Copied e00657.wav to /content/drive/MyDrive/Preprocessed1/train/normal\n",
            "Copied b0040.wav to /content/drive/MyDrive/Preprocessed1/train/normal\n",
            "Copied a0197.wav to /content/drive/MyDrive/Preprocessed1/train/normal\n",
            "Copied e01367.wav to /content/drive/MyDrive/Preprocessed1/train/normal\n",
            "Copied a0183.wav to /content/drive/MyDrive/Preprocessed1/train/normal\n",
            "Copied d0038.wav to /content/drive/MyDrive/Preprocessed1/train/normal\n",
            "Copied e01824.wav to /content/drive/MyDrive/Preprocessed1/train/normal\n",
            "Copied d0011.wav to /content/drive/MyDrive/Preprocessed1/train/normal\n",
            "Copied b0041.wav to /content/drive/MyDrive/Preprocessed1/train/normal\n",
            "Copied b0096.wav to /content/drive/MyDrive/Preprocessed1/train/normal\n",
            "Copied e02121.wav to /content/drive/MyDrive/Preprocessed1/train/normal\n",
            "Copied a0182.wav to /content/drive/MyDrive/Preprocessed1/train/normal\n",
            "Copied e01602.wav to /content/drive/MyDrive/Preprocessed1/train/normal\n",
            "Copied d0010.wav to /content/drive/MyDrive/Preprocessed1/train/normal\n",
            "Copied a0380.wav to /content/drive/MyDrive/Preprocessed1/train/normal\n",
            "Copied a0357.wav to /content/drive/MyDrive/Preprocessed1/train/normal\n",
            "Copied e01399.wav to /content/drive/MyDrive/Preprocessed1/train/normal\n",
            "Copied a0343.wav to /content/drive/MyDrive/Preprocessed1/train/normal\n",
            "Copied e00087.wav to /content/drive/MyDrive/Preprocessed1/train/normal\n",
            "Copied b0280.wav to /content/drive/MyDrive/Preprocessed1/train/normal\n",
            "Copied e00871.wav to /content/drive/MyDrive/Preprocessed1/train/normal\n",
            "Copied a0031.wav to /content/drive/MyDrive/Preprocessed1/train/normal\n",
            "Copied b0327.wav to /content/drive/MyDrive/Preprocessed1/train/normal\n",
            "Copied a0233.wav to /content/drive/MyDrive/Preprocessed1/train/normal\n",
            "Copied e00097.wav to /content/drive/MyDrive/Preprocessed1/train/normal\n",
            "Copied a0384.wav to /content/drive/MyDrive/Preprocessed1/train/normal\n",
            "Copied a0347.wav to /content/drive/MyDrive/Preprocessed1/train/normal\n",
            "Copied e01376.wav to /content/drive/MyDrive/Preprocessed1/train/normal\n",
            "Copied e00295.wav to /content/drive/MyDrive/Preprocessed1/train/normal\n",
            "Copied d0028.wav to /content/drive/MyDrive/Preprocessed1/train/normal\n",
            "Copied a0145.wav to /content/drive/MyDrive/Preprocessed1/train/normal\n",
            "Copied d0014.wav to /content/drive/MyDrive/Preprocessed1/train/normal\n",
            "Copied a0144.wav to /content/drive/MyDrive/Preprocessed1/train/normal\n",
            "Copied a0346.wav to /content/drive/MyDrive/Preprocessed1/train/normal\n",
            "Copied a0232.wav to /content/drive/MyDrive/Preprocessed1/train/normal\n",
            "Copied b0468.wav to /content/drive/MyDrive/Preprocessed1/train/normal\n",
            "Copied a0024.wav to /content/drive/MyDrive/Preprocessed1/train/normal\n",
            "Copied e02044.wav to /content/drive/MyDrive/Preprocessed1/train/normal\n",
            "Copied a0018.wav to /content/drive/MyDrive/Preprocessed1/train/normal\n",
            "Copied e00321.wav to /content/drive/MyDrive/Preprocessed1/train/normal\n",
            "Copied e02085.wav to /content/drive/MyDrive/Preprocessed1/train/normal\n",
            "Copied a0230.wav to /content/drive/MyDrive/Preprocessed1/train/normal\n",
            "Copied a0387.wav to /content/drive/MyDrive/Preprocessed1/train/normal\n",
            "Copied e02126.wav to /content/drive/MyDrive/Preprocessed1/train/normal\n",
            "Copied b0046.wav to /content/drive/MyDrive/Preprocessed1/train/normal\n",
            "Copied e01605.wav to /content/drive/MyDrive/Preprocessed1/train/normal\n",
            "Copied a0152.wav to /content/drive/MyDrive/Preprocessed1/train/normal\n",
            "Copied a0146.wav to /content/drive/MyDrive/Preprocessed1/train/normal\n",
            "Copied a0191.wav to /content/drive/MyDrive/Preprocessed1/train/normal\n",
            "Copied e01638.wav to /content/drive/MyDrive/Preprocessed1/train/normal\n",
            "Copied e01374.wav to /content/drive/MyDrive/Preprocessed1/train/normal\n",
            "Copied a0190.wav to /content/drive/MyDrive/Preprocessed1/train/normal\n",
            "Copied e01572.wav to /content/drive/MyDrive/Preprocessed1/train/normal\n",
            "Copied a0225.wav to /content/drive/MyDrive/Preprocessed1/train/normal\n",
            "Copied b0292.wav to /content/drive/MyDrive/Preprocessed1/train/normal\n",
            "Copied b0279.wav to /content/drive/MyDrive/Preprocessed1/train/normal\n",
            "Copied b0251.wav to /content/drive/MyDrive/Preprocessed1/train/normal\n",
            "Copied e00917.wav to /content/drive/MyDrive/Preprocessed1/train/normal\n",
            "Copied e00693.wav to /content/drive/MyDrive/Preprocessed1/train/normal\n",
            "Copied e01016.wav to /content/drive/MyDrive/Preprocessed1/train/normal\n",
            "Copied a0083.wav to /content/drive/MyDrive/Preprocessed1/train/normal\n",
            "Copied a0097.wav to /content/drive/MyDrive/Preprocessed1/train/normal\n",
            "Copied b0140.wav to /content/drive/MyDrive/Preprocessed1/train/normal\n",
            "Copied a0054.wav to /content/drive/MyDrive/Preprocessed1/train/normal\n",
            "Copied a0295.wav to /content/drive/MyDrive/Preprocessed1/train/normal\n",
            "Copied b0197.wav to /content/drive/MyDrive/Preprocessed1/train/normal\n",
            "Copied a0281.wav to /content/drive/MyDrive/Preprocessed1/train/normal\n"
          ]
        }
      ]
    },
    {
      "cell_type": "code",
      "execution_count": null,
      "metadata": {
        "id": "y-vBEg41XLLy",
        "colab": {
          "base_uri": "https://localhost:8080/"
        },
        "outputId": "ece016a8-8654-4c00-f139-315a83a49a3b"
      },
      "outputs": [
        {
          "output_type": "stream",
          "name": "stdout",
          "text": [
            "Copied e00189.wav to /content/drive/MyDrive/Preprocessed1/train/abnormal\n",
            "Copied e01730.wav to /content/drive/MyDrive/Preprocessed1/train/abnormal\n",
            "Copied b0371.wav to /content/drive/MyDrive/Preprocessed1/train/abnormal\n",
            "Copied e01081.wav to /content/drive/MyDrive/Preprocessed1/train/abnormal\n",
            "Copied e01297.wav to /content/drive/MyDrive/Preprocessed1/train/abnormal\n",
            "Copied b0177.wav to /content/drive/MyDrive/Preprocessed1/train/abnormal\n",
            "Copied e00412.wav to /content/drive/MyDrive/Preprocessed1/train/abnormal\n",
            "Copied e01526.wav to /content/drive/MyDrive/Preprocessed1/train/abnormal\n",
            "Copied e01240.wav to /content/drive/MyDrive/Preprocessed1/train/abnormal\n",
            "Copied c0016.wav to /content/drive/MyDrive/Preprocessed1/train/abnormal\n",
            "Copied e01283.wav to /content/drive/MyDrive/Preprocessed1/train/abnormal\n",
            "Copied e01532.wav to /content/drive/MyDrive/Preprocessed1/train/abnormal\n",
            "Copied e00162.wav to /content/drive/MyDrive/Preprocessed1/train/abnormal\n",
            "Copied a0271.wav to /content/drive/MyDrive/Preprocessed1/train/abnormal\n",
            "Copied e00610.wav to /content/drive/MyDrive/Preprocessed1/train/abnormal\n",
            "Copied e00764.wav to /content/drive/MyDrive/Preprocessed1/train/abnormal\n",
            "Copied e00016.wav to /content/drive/MyDrive/Preprocessed1/train/abnormal\n",
            "Copied e01334.wav to /content/drive/MyDrive/Preprocessed1/train/abnormal\n",
            "Copied a0311.wav to /content/drive/MyDrive/Preprocessed1/train/abnormal\n",
            "Copied e00758.wav to /content/drive/MyDrive/Preprocessed1/train/abnormal\n",
            "Copied e01308.wav to /content/drive/MyDrive/Preprocessed1/train/abnormal\n",
            "Copied e01491.wav to /content/drive/MyDrive/Preprocessed1/train/abnormal\n",
            "Copied b0211.wav to /content/drive/MyDrive/Preprocessed1/train/abnormal\n",
            "Copied e01320.wav to /content/drive/MyDrive/Preprocessed1/train/abnormal\n",
            "Copied e00599.wav to /content/drive/MyDrive/Preprocessed1/train/abnormal\n",
            "Copied e00200.wav to /content/drive/MyDrive/Preprocessed1/train/abnormal\n",
            "Copied e01687.wav to /content/drive/MyDrive/Preprocessed1/train/abnormal\n",
            "Copied e01136.wav to /content/drive/MyDrive/Preprocessed1/train/abnormal\n",
            "Copied e01877.wav to /content/drive/MyDrive/Preprocessed1/train/abnormal\n",
            "Copied e01863.wav to /content/drive/MyDrive/Preprocessed1/train/abnormal\n",
            "Copied e00573.wav to /content/drive/MyDrive/Preprocessed1/train/abnormal\n",
            "Copied e01645.wav to /content/drive/MyDrive/Preprocessed1/train/abnormal\n",
            "Copied e00598.wav to /content/drive/MyDrive/Preprocessed1/train/abnormal\n",
            "Copied e01679.wav to /content/drive/MyDrive/Preprocessed1/train/abnormal\n",
            "Copied e00201.wav to /content/drive/MyDrive/Preprocessed1/train/abnormal\n",
            "Copied d0043.wav to /content/drive/MyDrive/Preprocessed1/train/abnormal\n",
            "Copied e01123.wav to /content/drive/MyDrive/Preprocessed1/train/abnormal\n",
            "Copied b0006.wav to /content/drive/MyDrive/Preprocessed1/train/abnormal\n",
            "Copied e01889.wav to /content/drive/MyDrive/Preprocessed1/train/abnormal\n",
            "Copied e00771.wav to /content/drive/MyDrive/Preprocessed1/train/abnormal\n",
            "Copied e00942.wav to /content/drive/MyDrive/Preprocessed1/train/abnormal\n",
            "Copied a0304.wav to /content/drive/MyDrive/Preprocessed1/train/abnormal\n",
            "Copied e01309.wav to /content/drive/MyDrive/Preprocessed1/train/abnormal\n",
            "Copied e00003.wav to /content/drive/MyDrive/Preprocessed1/train/abnormal\n",
            "Copied b0210.wav to /content/drive/MyDrive/Preprocessed1/train/abnormal\n",
            "Copied b0204.wav to /content/drive/MyDrive/Preprocessed1/train/abnormal\n",
            "Copied e00956.wav to /content/drive/MyDrive/Preprocessed1/train/abnormal\n",
            "Copied e00995.wav to /content/drive/MyDrive/Preprocessed1/train/abnormal\n",
            "Copied e00981.wav to /content/drive/MyDrive/Preprocessed1/train/abnormal\n",
            "Copied a0310.wav to /content/drive/MyDrive/Preprocessed1/train/abnormal\n",
            "Copied e01484.wav to /content/drive/MyDrive/Preprocessed1/train/abnormal\n",
            "Copied e00765.wav to /content/drive/MyDrive/Preprocessed1/train/abnormal\n",
            "Copied e01282.wav to /content/drive/MyDrive/Preprocessed1/train/abnormal\n",
            "Copied a0270.wav to /content/drive/MyDrive/Preprocessed1/train/abnormal\n",
            "Copied e01269.wav to /content/drive/MyDrive/Preprocessed1/train/abnormal\n",
            "Copied e00177.wav to /content/drive/MyDrive/Preprocessed1/train/abnormal\n",
            "Copied e00822.wav to /content/drive/MyDrive/Preprocessed1/train/abnormal\n",
            "Copied e00611.wav to /content/drive/MyDrive/Preprocessed1/train/abnormal\n",
            "Copied e00836.wav to /content/drive/MyDrive/Preprocessed1/train/abnormal\n",
            "Copied e01533.wav to /content/drive/MyDrive/Preprocessed1/train/abnormal\n",
            "Copied b0364.wav to /content/drive/MyDrive/Preprocessed1/train/abnormal\n",
            "Copied e02012.wav to /content/drive/MyDrive/Preprocessed1/train/abnormal\n",
            "Copied b0416.wav to /content/drive/MyDrive/Preprocessed1/train/abnormal\n",
            "Copied e01057.wav to /content/drive/MyDrive/Preprocessed1/train/abnormal\n",
            "Copied b0199.wav to /content/drive/MyDrive/Preprocessed1/train/abnormal\n",
            "Copied e01296.wav to /content/drive/MyDrive/Preprocessed1/train/abnormal\n",
            "Copied e00375.wav to /content/drive/MyDrive/Preprocessed1/train/abnormal\n",
            "Copied e00349.wav to /content/drive/MyDrive/Preprocessed1/train/abnormal\n",
            "Copied e01043.wav to /content/drive/MyDrive/Preprocessed1/train/abnormal\n",
            "Copied b0370.wav to /content/drive/MyDrive/Preprocessed1/train/abnormal\n",
            "Copied e01731.wav to /content/drive/MyDrive/Preprocessed1/train/abnormal\n",
            "Copied e00361.wav to /content/drive/MyDrive/Preprocessed1/train/abnormal\n",
            "Copied b0166.wav to /content/drive/MyDrive/Preprocessed1/train/abnormal\n",
            "Copied e01733.wav to /content/drive/MyDrive/Preprocessed1/train/abnormal\n",
            "Copied e00405.wav to /content/drive/MyDrive/Preprocessed1/train/abnormal\n",
            "Copied b0172.wav to /content/drive/MyDrive/Preprocessed1/train/abnormal\n",
            "Copied e01727.wav to /content/drive/MyDrive/Preprocessed1/train/abnormal\n",
            "Copied a0070.wav to /content/drive/MyDrive/Preprocessed1/train/abnormal\n",
            "Copied e00413.wav to /content/drive/MyDrive/Preprocessed1/train/abnormal\n",
            "Copied e00363.wav to /content/drive/MyDrive/Preprocessed1/train/abnormal\n",
            "Copied e00439.wav to /content/drive/MyDrive/Preprocessed1/train/abnormal\n",
            "Copied e00411.wav to /content/drive/MyDrive/Preprocessed1/train/abnormal\n",
            "Copied e01069.wav to /content/drive/MyDrive/Preprocessed1/train/abnormal\n",
            "Copied e01902.wav to /content/drive/MyDrive/Preprocessed1/train/abnormal\n",
            "Copied e01928.wav to /content/drive/MyDrive/Preprocessed1/train/abnormal\n",
            "Copied b0158.wav to /content/drive/MyDrive/Preprocessed1/train/abnormal\n",
            "Copied e01082.wav to /content/drive/MyDrive/Preprocessed1/train/abnormal\n",
            "Copied e01096.wav to /content/drive/MyDrive/Preprocessed1/train/abnormal\n",
            "Copied e00968.wav to /content/drive/MyDrive/Preprocessed1/train/abnormal\n",
            "Copied b0399.wav to /content/drive/MyDrive/Preprocessed1/train/abnormal\n",
            "Copied e00161.wav to /content/drive/MyDrive/Preprocessed1/train/abnormal\n",
            "Copied e01243.wav to /content/drive/MyDrive/Preprocessed1/train/abnormal\n",
            "Copied b0414.wav to /content/drive/MyDrive/Preprocessed1/train/abnormal\n",
            "Copied e00820.wav to /content/drive/MyDrive/Preprocessed1/train/abnormal\n",
            "Copied e00834.wav to /content/drive/MyDrive/Preprocessed1/train/abnormal\n",
            "Copied a0266.wav to /content/drive/MyDrive/Preprocessed1/train/abnormal\n",
            "Copied e01294.wav to /content/drive/MyDrive/Preprocessed1/train/abnormal\n",
            "Copied e00808.wav to /content/drive/MyDrive/Preprocessed1/train/abnormal\n",
            "Copied e02038.wav to /content/drive/MyDrive/Preprocessed1/train/abnormal\n",
            "Copied e01257.wav to /content/drive/MyDrive/Preprocessed1/train/abnormal\n",
            "Copied e00571.wav to /content/drive/MyDrive/Preprocessed1/train/abnormal\n",
            "Copied e00217.wav to /content/drive/MyDrive/Preprocessed1/train/abnormal\n",
            "Copied e01690.wav to /content/drive/MyDrive/Preprocessed1/train/abnormal\n",
            "Copied e01486.wav to /content/drive/MyDrive/Preprocessed1/train/abnormal\n",
            "Copied e01451.wav to /content/drive/MyDrive/Preprocessed1/train/abnormal\n",
            "Copied b0004.wav to /content/drive/MyDrive/Preprocessed1/train/abnormal\n",
            "Copied e01337.wav to /content/drive/MyDrive/Preprocessed1/train/abnormal\n",
            "Copied e00983.wav to /content/drive/MyDrive/Preprocessed1/train/abnormal\n",
            "Copied e00940.wav to /content/drive/MyDrive/Preprocessed1/train/abnormal\n",
            "Copied b0010.wav to /content/drive/MyDrive/Preprocessed1/train/abnormal\n",
            "Copied e00029.wav to /content/drive/MyDrive/Preprocessed1/train/abnormal\n",
            "Copied b0038.wav to /content/drive/MyDrive/Preprocessed1/train/abnormal\n",
            "Copied d0054.wav to /content/drive/MyDrive/Preprocessed1/train/abnormal\n",
            "Copied e00202.wav to /content/drive/MyDrive/Preprocessed1/train/abnormal\n",
            "Copied e00564.wav to /content/drive/MyDrive/Preprocessed1/train/abnormal\n",
            "Copied e01108.wav to /content/drive/MyDrive/Preprocessed1/train/abnormal\n",
            "Copied e01121.wav to /content/drive/MyDrive/Preprocessed1/train/abnormal\n",
            "Copied e01653.wav to /content/drive/MyDrive/Preprocessed1/train/abnormal\n",
            "Copied e01135.wav to /content/drive/MyDrive/Preprocessed1/train/abnormal\n",
            "Copied d0055.wav to /content/drive/MyDrive/Preprocessed1/train/abnormal\n",
            "Copied e00570.wav to /content/drive/MyDrive/Preprocessed1/train/abnormal\n",
            "Copied a0139.wav to /content/drive/MyDrive/Preprocessed1/train/abnormal\n",
            "Copied e01120.wav to /content/drive/MyDrive/Preprocessed1/train/abnormal\n",
            "Copied b0207.wav to /content/drive/MyDrive/Preprocessed1/train/abnormal\n",
            "Copied e01691.wav to /content/drive/MyDrive/Preprocessed1/train/abnormal\n",
            "Copied e01450.wav to /content/drive/MyDrive/Preprocessed1/train/abnormal\n",
            "Copied e00799.wav to /content/drive/MyDrive/Preprocessed1/train/abnormal\n",
            "Copied e01849.wav to /content/drive/MyDrive/Preprocessed1/train/abnormal\n",
            "Copied e01685.wav to /content/drive/MyDrive/Preprocessed1/train/abnormal\n",
            "Copied b0011.wav to /content/drive/MyDrive/Preprocessed1/train/abnormal\n",
            "Copied e01487.wav to /content/drive/MyDrive/Preprocessed1/train/abnormal\n",
            "Copied e00028.wav to /content/drive/MyDrive/Preprocessed1/train/abnormal\n",
            "Copied e00772.wav to /content/drive/MyDrive/Preprocessed1/train/abnormal\n",
            "Copied e01861.wav to /content/drive/MyDrive/Preprocessed1/train/abnormal\n",
            "Copied e00982.wav to /content/drive/MyDrive/Preprocessed1/train/abnormal\n",
            "Copied b0005.wav to /content/drive/MyDrive/Preprocessed1/train/abnormal\n",
            "Copied e00996.wav to /content/drive/MyDrive/Preprocessed1/train/abnormal\n",
            "Copied e00014.wav to /content/drive/MyDrive/Preprocessed1/train/abnormal\n",
            "Copied e01524.wav to /content/drive/MyDrive/Preprocessed1/train/abnormal\n",
            "Copied e02011.wav to /content/drive/MyDrive/Preprocessed1/train/abnormal\n",
            "Copied e02039.wav to /content/drive/MyDrive/Preprocessed1/train/abnormal\n",
            "Copied e00955.wav to /content/drive/MyDrive/Preprocessed1/train/abnormal\n",
            "Copied e01518.wav to /content/drive/MyDrive/Preprocessed1/train/abnormal\n",
            "Copied e01295.wav to /content/drive/MyDrive/Preprocessed1/train/abnormal\n",
            "Copied e00809.wav to /content/drive/MyDrive/Preprocessed1/train/abnormal\n",
            "Copied e00835.wav to /content/drive/MyDrive/Preprocessed1/train/abnormal\n",
            "Copied b0373.wav to /content/drive/MyDrive/Preprocessed1/train/abnormal\n",
            "Copied e01726.wav to /content/drive/MyDrive/Preprocessed1/train/abnormal\n",
            "Copied e00438.wav to /content/drive/MyDrive/Preprocessed1/train/abnormal\n",
            "Copied e01068.wav to /content/drive/MyDrive/Preprocessed1/train/abnormal\n",
            "Copied e00376.wav to /content/drive/MyDrive/Preprocessed1/train/abnormal\n",
            "Copied e00410.wav to /content/drive/MyDrive/Preprocessed1/train/abnormal\n",
            "Copied e00362.wav to /content/drive/MyDrive/Preprocessed1/train/abnormal\n",
            "Copied e01901.wav to /content/drive/MyDrive/Preprocessed1/train/abnormal\n",
            "Copied e02089.wav to /content/drive/MyDrive/Preprocessed1/train/abnormal\n",
            "Copied e01033.wav to /content/drive/MyDrive/Preprocessed1/train/abnormal\n",
            "Copied e01796.wav to /content/drive/MyDrive/Preprocessed1/train/abnormal\n",
            "Copied b0300.wav to /content/drive/MyDrive/Preprocessed1/train/abnormal\n",
            "Copied b0314.wav to /content/drive/MyDrive/Preprocessed1/train/abnormal\n",
            "Copied e01915.wav to /content/drive/MyDrive/Preprocessed1/train/abnormal\n",
            "Copied e00339.wav to /content/drive/MyDrive/Preprocessed1/train/abnormal\n",
            "Copied b0116.wav to /content/drive/MyDrive/Preprocessed1/train/abnormal\n",
            "Copied a0016.wav to /content/drive/MyDrive/Preprocessed1/train/abnormal\n",
            "Copied e00488.wav to /content/drive/MyDrive/Preprocessed1/train/abnormal\n",
            "Copied e00846.wav to /content/drive/MyDrive/Preprocessed1/train/abnormal\n",
            "Copied e01580.wav to /content/drive/MyDrive/Preprocessed1/train/abnormal\n",
            "Copied e01083.wav to /content/drive/MyDrive/Preprocessed1/train/abnormal\n",
            "Copied e01741.wav to /content/drive/MyDrive/Preprocessed1/train/abnormal\n",
            "Copied e01972.wav to /content/drive/MyDrive/Preprocessed1/train/abnormal\n",
            "Copied e01557.wav to /content/drive/MyDrive/Preprocessed1/train/abnormal\n",
            "Copied e00107.wav to /content/drive/MyDrive/Preprocessed1/train/abnormal\n",
            "Copied e01219.wav to /content/drive/MyDrive/Preprocessed1/train/abnormal\n",
            "Copied b0328.wav to /content/drive/MyDrive/Preprocessed1/train/abnormal\n",
            "Copied e02062.wav to /content/drive/MyDrive/Preprocessed1/train/abnormal\n",
            "Copied e00113.wav to /content/drive/MyDrive/Preprocessed1/train/abnormal\n",
            "Copied e00649.wav to /content/drive/MyDrive/Preprocessed1/train/abnormal\n",
            "Copied e02076.wav to /content/drive/MyDrive/Preprocessed1/train/abnormal\n",
            "Copied e00675.wav to /content/drive/MyDrive/Preprocessed1/train/abnormal\n",
            "Copied e01543.wav to /content/drive/MyDrive/Preprocessed1/train/abnormal\n",
            "Copied e00932.wav to /content/drive/MyDrive/Preprocessed1/train/abnormal\n",
            "Copied e01345.wav to /content/drive/MyDrive/Preprocessed1/train/abnormal\n",
            "Copied e00073.wav to /content/drive/MyDrive/Preprocessed1/train/abnormal\n",
            "Copied e01184.wav to /content/drive/MyDrive/Preprocessed1/train/abnormal\n",
            "Copied e01190.wav to /content/drive/MyDrive/Preprocessed1/train/abnormal\n",
            "Copied e01386.wav to /content/drive/MyDrive/Preprocessed1/train/abnormal\n",
            "Copied e02116.wav to /content/drive/MyDrive/Preprocessed1/train/abnormal\n",
            "Copied b0260.wav to /content/drive/MyDrive/Preprocessed1/train/abnormal\n",
            "Copied e00729.wav to /content/drive/MyDrive/Preprocessed1/train/abnormal\n",
            "Copied e00701.wav to /content/drive/MyDrive/Preprocessed1/train/abnormal\n",
            "Copied e01423.wav to /content/drive/MyDrive/Preprocessed1/train/abnormal\n",
            "Copied e01379.wav to /content/drive/MyDrive/Preprocessed1/train/abnormal\n",
            "Copied e00715.wav to /content/drive/MyDrive/Preprocessed1/train/abnormal\n",
            "Copied e01153.wav to /content/drive/MyDrive/Preprocessed1/train/abnormal\n",
            "Copied a0189.wav to /content/drive/MyDrive/Preprocessed1/train/abnormal\n",
            "Copied e01609.wav to /content/drive/MyDrive/Preprocessed1/train/abnormal\n",
            "Copied e01806.wav to /content/drive/MyDrive/Preprocessed1/train/abnormal\n",
            "Copied e00517.wav to /content/drive/MyDrive/Preprocessed1/train/abnormal\n",
            "Copied b0089.wav to /content/drive/MyDrive/Preprocessed1/train/abnormal\n",
            "Copied e00271.wav to /content/drive/MyDrive/Preprocessed1/train/abnormal\n",
            "Copied e00265.wav to /content/drive/MyDrive/Preprocessed1/train/abnormal\n",
            "Copied e00516.wav to /content/drive/MyDrive/Preprocessed1/train/abnormal\n",
            "Copied e00258.wav to /content/drive/MyDrive/Preprocessed1/train/abnormal\n",
            "Copied e00700.wav to /content/drive/MyDrive/Preprocessed1/train/abnormal\n",
            "Copied e02103.wav to /content/drive/MyDrive/Preprocessed1/train/abnormal\n",
            "Copied e02117.wav to /content/drive/MyDrive/Preprocessed1/train/abnormal\n",
            "Copied e01620.wav to /content/drive/MyDrive/Preprocessed1/train/abnormal\n",
            "Copied e01378.wav to /content/drive/MyDrive/Preprocessed1/train/abnormal\n",
            "Copied e00072.wav to /content/drive/MyDrive/Preprocessed1/train/abnormal\n",
            "Copied e01152.wav to /content/drive/MyDrive/Preprocessed1/train/abnormal\n",
            "Copied e01185.wav to /content/drive/MyDrive/Preprocessed1/train/abnormal\n",
            "Copied e01807.wav to /content/drive/MyDrive/Preprocessed1/train/abnormal\n",
            "Copied b0261.wav to /content/drive/MyDrive/Preprocessed1/train/abnormal\n",
            "Copied e00112.wav to /content/drive/MyDrive/Preprocessed1/train/abnormal\n",
            "Copied b0249.wav to /content/drive/MyDrive/Preprocessed1/train/abnormal\n",
            "Copied e00106.wav to /content/drive/MyDrive/Preprocessed1/train/abnormal\n",
            "Copied a0407.wav to /content/drive/MyDrive/Preprocessed1/train/abnormal\n",
            "Copied e02063.wav to /content/drive/MyDrive/Preprocessed1/train/abnormal\n",
            "Copied e01436.wav to /content/drive/MyDrive/Preprocessed1/train/abnormal\n",
            "Copied e01387.wav to /content/drive/MyDrive/Preprocessed1/train/abnormal\n",
            "Copied e00933.wav to /content/drive/MyDrive/Preprocessed1/train/abnormal\n",
            "Copied e02077.wav to /content/drive/MyDrive/Preprocessed1/train/abnormal\n",
            "Copied a0361.wav to /content/drive/MyDrive/Preprocessed1/train/abnormal\n",
            "Copied e01230.wav to /content/drive/MyDrive/Preprocessed1/train/abnormal\n",
            "Copied e01422.wav to /content/drive/MyDrive/Preprocessed1/train/abnormal\n",
            "Copied e00674.wav to /content/drive/MyDrive/Preprocessed1/train/abnormal\n",
            "Copied e01768.wav to /content/drive/MyDrive/Preprocessed1/train/abnormal\n",
            "Copied e01026.wav to /content/drive/MyDrive/Preprocessed1/train/abnormal\n",
            "Copied e02088.wav to /content/drive/MyDrive/Preprocessed1/train/abnormal\n",
            "Copied e01542.wav to /content/drive/MyDrive/Preprocessed1/train/abnormal\n",
            "Copied e01754.wav to /content/drive/MyDrive/Preprocessed1/train/abnormal\n",
            "Copied e00853.wav to /content/drive/MyDrive/Preprocessed1/train/abnormal\n",
            "Copied e01032.wav to /content/drive/MyDrive/Preprocessed1/train/abnormal\n",
            "Copied e00462.wav to /content/drive/MyDrive/Preprocessed1/train/abnormal\n",
            "Copied e01224.wav to /content/drive/MyDrive/Preprocessed1/train/abnormal\n",
            "Copied e01783.wav to /content/drive/MyDrive/Preprocessed1/train/abnormal\n",
            "Copied e01795.wav to /content/drive/MyDrive/Preprocessed1/train/abnormal\n",
            "Copied b0115.wav to /content/drive/MyDrive/Preprocessed1/train/abnormal\n",
            "Copied e01030.wav to /content/drive/MyDrive/Preprocessed1/train/abnormal\n",
            "Copied e01781.wav to /content/drive/MyDrive/Preprocessed1/train/abnormal\n",
            "Copied e00489.wav to /content/drive/MyDrive/Preprocessed1/train/abnormal\n",
            "Copied a0029.wav to /content/drive/MyDrive/Preprocessed1/train/abnormal\n",
            "Copied e01597.wav to /content/drive/MyDrive/Preprocessed1/train/abnormal\n",
            "Copied e01024.wav to /content/drive/MyDrive/Preprocessed1/train/abnormal\n",
            "Copied e00460.wav to /content/drive/MyDrive/Preprocessed1/train/abnormal\n",
            "Copied b0317.wav to /content/drive/MyDrive/Preprocessed1/train/abnormal\n",
            "Copied e00689.wav to /content/drive/MyDrive/Preprocessed1/train/abnormal\n",
            "Copied e01583.wav to /content/drive/MyDrive/Preprocessed1/train/abnormal\n",
            "Copied e00312.wav to /content/drive/MyDrive/Preprocessed1/train/abnormal\n",
            "Copied e02061.wav to /content/drive/MyDrive/Preprocessed1/train/abnormal\n",
            "Copied e01232.wav to /content/drive/MyDrive/Preprocessed1/train/abnormal\n",
            "Copied e00138.wav to /content/drive/MyDrive/Preprocessed1/train/abnormal\n",
            "Copied e00110.wav to /content/drive/MyDrive/Preprocessed1/train/abnormal\n",
            "Copied e02075.wav to /content/drive/MyDrive/Preprocessed1/train/abnormal\n",
            "Copied e00892.wav to /content/drive/MyDrive/Preprocessed1/train/abnormal\n",
            "Copied e00676.wav to /content/drive/MyDrive/Preprocessed1/train/abnormal\n",
            "Copied e01554.wav to /content/drive/MyDrive/Preprocessed1/train/abnormal\n",
            "Copied e01346.wav to /content/drive/MyDrive/Preprocessed1/train/abnormal\n",
            "Copied b0277.wav to /content/drive/MyDrive/Preprocessed1/train/abnormal\n",
            "Copied e01391.wav to /content/drive/MyDrive/Preprocessed1/train/abnormal\n",
            "Copied e01352.wav to /content/drive/MyDrive/Preprocessed1/train/abnormal\n",
            "Copied e00919.wav to /content/drive/MyDrive/Preprocessed1/train/abnormal\n",
            "Copied e02129.wav to /content/drive/MyDrive/Preprocessed1/train/abnormal\n",
            "Copied a0405.wav to /content/drive/MyDrive/Preprocessed1/train/abnormal\n",
            "Copied e00702.wav to /content/drive/MyDrive/Preprocessed1/train/abnormal\n",
            "Copied e00064.wav to /content/drive/MyDrive/Preprocessed1/train/abnormal\n",
            "Copied e01193.wav to /content/drive/MyDrive/Preprocessed1/train/abnormal\n",
            "Copied d0030.wav to /content/drive/MyDrive/Preprocessed1/train/abnormal\n",
            "Copied e01811.wav to /content/drive/MyDrive/Preprocessed1/train/abnormal\n",
            "Copied b0061.wav to /content/drive/MyDrive/Preprocessed1/train/abnormal\n",
            "Copied e00299.wav to /content/drive/MyDrive/Preprocessed1/train/abnormal\n",
            "Copied e01622.wav to /content/drive/MyDrive/Preprocessed1/train/abnormal\n",
            "Copied e01187.wav to /content/drive/MyDrive/Preprocessed1/train/abnormal\n",
            "Copied e01805.wav to /content/drive/MyDrive/Preprocessed1/train/abnormal\n",
            "Copied b0049.wav to /content/drive/MyDrive/Preprocessed1/train/abnormal\n",
            "Copied e01150.wav to /content/drive/MyDrive/Preprocessed1/train/abnormal\n",
            "Copied e00514.wav to /content/drive/MyDrive/Preprocessed1/train/abnormal\n",
            "Copied e01636.wav to /content/drive/MyDrive/Preprocessed1/train/abnormal\n",
            "Copied d0025.wav to /content/drive/MyDrive/Preprocessed1/train/abnormal\n",
            "Copied e01192.wav to /content/drive/MyDrive/Preprocessed1/train/abnormal\n",
            "Copied e00501.wav to /content/drive/MyDrive/Preprocessed1/train/abnormal\n",
            "Copied e00529.wav to /content/drive/MyDrive/Preprocessed1/train/abnormal\n",
            "Copied e01151.wav to /content/drive/MyDrive/Preprocessed1/train/abnormal\n",
            "Copied e00272.wav to /content/drive/MyDrive/Preprocessed1/train/abnormal\n",
            "Copied e01390.wav to /content/drive/MyDrive/Preprocessed1/train/abnormal\n",
            "Copied e02114.wav to /content/drive/MyDrive/Preprocessed1/train/abnormal\n",
            "Copied e01838.wav to /content/drive/MyDrive/Preprocessed1/train/abnormal\n",
            "Copied e02128.wav to /content/drive/MyDrive/Preprocessed1/train/abnormal\n",
            "Copied b0289.wav to /content/drive/MyDrive/Preprocessed1/train/abnormal\n",
            "Copied e02100.wav to /content/drive/MyDrive/Preprocessed1/train/abnormal\n",
            "Copied e01347.wav to /content/drive/MyDrive/Preprocessed1/train/abnormal\n",
            "Copied e01541.wav to /content/drive/MyDrive/Preprocessed1/train/abnormal\n",
            "Copied e01227.wav to /content/drive/MyDrive/Preprocessed1/train/abnormal\n",
            "Copied e00139.wav to /content/drive/MyDrive/Preprocessed1/train/abnormal\n",
            "Copied e00111.wav to /content/drive/MyDrive/Preprocessed1/train/abnormal\n",
            "Copied e00930.wav to /content/drive/MyDrive/Preprocessed1/train/abnormal\n",
            "Copied e00887.wav to /content/drive/MyDrive/Preprocessed1/train/abnormal\n",
            "Copied e00878.wav to /content/drive/MyDrive/Preprocessed1/train/abnormal\n",
            "Copied b0458.wav to /content/drive/MyDrive/Preprocessed1/train/abnormal\n",
            "Copied e01384.wav to /content/drive/MyDrive/Preprocessed1/train/abnormal\n",
            "Copied e02060.wav to /content/drive/MyDrive/Preprocessed1/train/abnormal\n",
            "Copied b0302.wav to /content/drive/MyDrive/Preprocessed1/train/abnormal\n",
            "Copied e00677.wav to /content/drive/MyDrive/Preprocessed1/train/abnormal\n",
            "Copied e01569.wav to /content/drive/MyDrive/Preprocessed1/train/abnormal\n",
            "Copied e01555.wav to /content/drive/MyDrive/Preprocessed1/train/abnormal\n",
            "Copied b0470.wav to /content/drive/MyDrive/Preprocessed1/train/abnormal\n",
            "Copied a0028.wav to /content/drive/MyDrive/Preprocessed1/train/abnormal\n",
            "Copied e01019.wav to /content/drive/MyDrive/Preprocessed1/train/abnormal\n",
            "Copied e00850.wav to /content/drive/MyDrive/Preprocessed1/train/abnormal\n",
            "Copied e01757.wav to /content/drive/MyDrive/Preprocessed1/train/abnormal\n",
            "Copied e01025.wav to /content/drive/MyDrive/Preprocessed1/train/abnormal\n",
            "Copied b0316.wav to /content/drive/MyDrive/Preprocessed1/train/abnormal\n",
            "Copied e00313.wav to /content/drive/MyDrive/Preprocessed1/train/abnormal\n",
            "Copied e01031.wav to /content/drive/MyDrive/Preprocessed1/train/abnormal\n",
            "Copied e00449.wav to /content/drive/MyDrive/Preprocessed1/train/abnormal\n",
            "Copied e01790.wav to /content/drive/MyDrive/Preprocessed1/train/abnormal\n",
            "Copied e01009.wav to /content/drive/MyDrive/Preprocessed1/train/abnormal\n",
            "Copied e01964.wav to /content/drive/MyDrive/Preprocessed1/train/abnormal\n",
            "Copied e01780.wav to /content/drive/MyDrive/Preprocessed1/train/abnormal\n",
            "Copied e00471.wav to /content/drive/MyDrive/Preprocessed1/train/abnormal\n",
            "Copied e01958.wav to /content/drive/MyDrive/Preprocessed1/train/abnormal\n",
            "Copied b0138.wav to /content/drive/MyDrive/Preprocessed1/train/abnormal\n",
            "Copied b0128.wav to /content/drive/MyDrive/Preprocessed1/train/abnormal\n",
            "Copied b0100.wav to /content/drive/MyDrive/Preprocessed1/train/abnormal\n",
            "Copied e01960.wav to /content/drive/MyDrive/Preprocessed1/train/abnormal\n",
            "Copied e00303.wav to /content/drive/MyDrive/Preprocessed1/train/abnormal\n",
            "Copied e00698.wav to /content/drive/MyDrive/Preprocessed1/train/abnormal\n",
            "Copied b0306.wav to /content/drive/MyDrive/Preprocessed1/train/abnormal\n",
            "Copied e02064.wav to /content/drive/MyDrive/Preprocessed1/train/abnormal\n",
            "Copied e01753.wav to /content/drive/MyDrive/Preprocessed1/train/abnormal\n",
            "Copied b0312.wav to /content/drive/MyDrive/Preprocessed1/train/abnormal\n",
            "Copied e00673.wav to /content/drive/MyDrive/Preprocessed1/train/abnormal\n",
            "Copied e00667.wav to /content/drive/MyDrive/Preprocessed1/train/abnormal\n",
            "Copied e00868.wav to /content/drive/MyDrive/Preprocessed1/train/abnormal\n",
            "Copied e00854.wav to /content/drive/MyDrive/Preprocessed1/train/abnormal\n",
            "Copied e00840.wav to /content/drive/MyDrive/Preprocessed1/train/abnormal\n",
            "Copied e01545.wav to /content/drive/MyDrive/Preprocessed1/train/abnormal\n",
            "Copied e01223.wav to /content/drive/MyDrive/Preprocessed1/train/abnormal\n",
            "Copied e00934.wav to /content/drive/MyDrive/Preprocessed1/train/abnormal\n",
            "Copied e00920.wav to /content/drive/MyDrive/Preprocessed1/train/abnormal\n",
            "Copied a0212.wav to /content/drive/MyDrive/Preprocessed1/train/abnormal\n",
            "Copied e02110.wav to /content/drive/MyDrive/Preprocessed1/train/abnormal\n",
            "Copied e02070.wav to /content/drive/MyDrive/Preprocessed1/train/abnormal\n",
            "Copied e02058.wav to /content/drive/MyDrive/Preprocessed1/train/abnormal\n",
            "Copied e01380.wav to /content/drive/MyDrive/Preprocessed1/train/abnormal\n",
            "Copied e00883.wav to /content/drive/MyDrive/Preprocessed1/train/abnormal\n",
            "Copied e00908.wav to /content/drive/MyDrive/Preprocessed1/train/abnormal\n",
            "Copied b0266.wav to /content/drive/MyDrive/Preprocessed1/train/abnormal\n",
            "Copied e00129.wav to /content/drive/MyDrive/Preprocessed1/train/abnormal\n",
            "Copied e00101.wav to /content/drive/MyDrive/Preprocessed1/train/abnormal\n",
            "Copied e00061.wav to /content/drive/MyDrive/Preprocessed1/train/abnormal\n",
            "Copied e01551.wav to /content/drive/MyDrive/Preprocessed1/train/abnormal\n",
            "Copied e01357.wav to /content/drive/MyDrive/Preprocessed1/train/abnormal\n",
            "Copied e01800.wav to /content/drive/MyDrive/Preprocessed1/train/abnormal\n",
            "Copied e01182.wav to /content/drive/MyDrive/Preprocessed1/train/abnormal\n",
            "Copied e01343.wav to /content/drive/MyDrive/Preprocessed1/train/abnormal\n",
            "Copied e01431.wav to /content/drive/MyDrive/Preprocessed1/train/abnormal\n",
            "Copied e02104.wav to /content/drive/MyDrive/Preprocessed1/train/abnormal\n",
            "Copied e01419.wav to /content/drive/MyDrive/Preprocessed1/train/abnormal\n",
            "Copied b0058.wav to /content/drive/MyDrive/Preprocessed1/train/abnormal\n",
            "Copied d0020.wav to /content/drive/MyDrive/Preprocessed1/train/abnormal\n",
            "Copied a0165.wav to /content/drive/MyDrive/Preprocessed1/train/abnormal\n",
            "Copied e01626.wav to /content/drive/MyDrive/Preprocessed1/train/abnormal\n",
            "Copied e00505.wav to /content/drive/MyDrive/Preprocessed1/train/abnormal\n",
            "Copied e01828.wav to /content/drive/MyDrive/Preprocessed1/train/abnormal\n",
            "Copied e01627.wav to /content/drive/MyDrive/Preprocessed1/train/abnormal\n",
            "Copied b0070.wav to /content/drive/MyDrive/Preprocessed1/train/abnormal\n",
            "Copied e01169.wav to /content/drive/MyDrive/Preprocessed1/train/abnormal\n",
            "Copied e01632.wav to /content/drive/MyDrive/Preprocessed1/train/abnormal\n",
            "Copied e01633.wav to /content/drive/MyDrive/Preprocessed1/train/abnormal\n",
            "Copied e00511.wav to /content/drive/MyDrive/Preprocessed1/train/abnormal\n",
            "Copied e01141.wav to /content/drive/MyDrive/Preprocessed1/train/abnormal\n",
            "Copied b0065.wav to /content/drive/MyDrive/Preprocessed1/train/abnormal\n",
            "Copied b0071.wav to /content/drive/MyDrive/Preprocessed1/train/abnormal\n",
            "Copied e01829.wav to /content/drive/MyDrive/Preprocessed1/train/abnormal\n",
            "Copied b0059.wav to /content/drive/MyDrive/Preprocessed1/train/abnormal\n",
            "Copied e01356.wav to /content/drive/MyDrive/Preprocessed1/train/abnormal\n",
            "Copied e01430.wav to /content/drive/MyDrive/Preprocessed1/train/abnormal\n",
            "Copied e01801.wav to /content/drive/MyDrive/Preprocessed1/train/abnormal\n",
            "Copied e01183.wav to /content/drive/MyDrive/Preprocessed1/train/abnormal\n",
            "Copied e01140.wav to /content/drive/MyDrive/Preprocessed1/train/abnormal\n",
            "Copied e01197.wav to /content/drive/MyDrive/Preprocessed1/train/abnormal\n",
            "Copied a0401.wav to /content/drive/MyDrive/Preprocessed1/train/abnormal\n",
            "Copied e01418.wav to /content/drive/MyDrive/Preprocessed1/train/abnormal\n",
            "Copied e01544.wav to /content/drive/MyDrive/Preprocessed1/train/abnormal\n",
            "Copied e00128.wav to /content/drive/MyDrive/Preprocessed1/train/abnormal\n",
            "Copied e02105.wav to /content/drive/MyDrive/Preprocessed1/train/abnormal\n",
            "Copied e00909.wav to /content/drive/MyDrive/Preprocessed1/train/abnormal\n",
            "Copied e00060.wav to /content/drive/MyDrive/Preprocessed1/train/abnormal\n",
            "Copied e02111.wav to /content/drive/MyDrive/Preprocessed1/train/abnormal\n",
            "Copied e01395.wav to /content/drive/MyDrive/Preprocessed1/train/abnormal\n",
            "Copied e00706.wav to /content/drive/MyDrive/Preprocessed1/train/abnormal\n",
            "Copied e00074.wav to /content/drive/MyDrive/Preprocessed1/train/abnormal\n",
            "Copied b0461.wav to /content/drive/MyDrive/Preprocessed1/train/abnormal\n",
            "Copied e01587.wav to /content/drive/MyDrive/Preprocessed1/train/abnormal\n",
            "Copied e00896.wav to /content/drive/MyDrive/Preprocessed1/train/abnormal\n",
            "Copied e01752.wav to /content/drive/MyDrive/Preprocessed1/train/abnormal\n",
            "Copied e00869.wav to /content/drive/MyDrive/Preprocessed1/train/abnormal\n",
            "Copied e01020.wav to /content/drive/MyDrive/Preprocessed1/train/abnormal\n",
            "Copied e01578.wav to /content/drive/MyDrive/Preprocessed1/train/abnormal\n",
            "Copied e00855.wav to /content/drive/MyDrive/Preprocessed1/train/abnormal\n",
            "Copied e00100.wav to /content/drive/MyDrive/Preprocessed1/train/abnormal\n",
            "Copied e02059.wav to /content/drive/MyDrive/Preprocessed1/train/abnormal\n",
            "Copied e01008.wav to /content/drive/MyDrive/Preprocessed1/train/abnormal\n",
            "Copied e00499.wav to /content/drive/MyDrive/Preprocessed1/train/abnormal\n",
            "Copied e01963.wav to /content/drive/MyDrive/Preprocessed1/train/abnormal\n",
            "Copied e00302.wav to /content/drive/MyDrive/Preprocessed1/train/abnormal\n",
            "Copied b0105.wav to /content/drive/MyDrive/Preprocessed1/train/abnormal\n",
            "Copied b0139.wav to /content/drive/MyDrive/Preprocessed1/train/abnormal\n",
            "Copied a0011.wav to /content/drive/MyDrive/Preprocessed1/train/abnormal\n",
            "Copied e00316.wav to /content/drive/MyDrive/Preprocessed1/train/abnormal\n",
            "Copied e01785.wav to /content/drive/MyDrive/Preprocessed1/train/abnormal\n",
            "Copied e01961.wav to /content/drive/MyDrive/Preprocessed1/train/abnormal\n",
            "Copied e00300.wav to /content/drive/MyDrive/Preprocessed1/train/abnormal\n",
            "Copied e01744.wav to /content/drive/MyDrive/Preprocessed1/train/abnormal\n",
            "Copied a0007.wav to /content/drive/MyDrive/Preprocessed1/train/abnormal\n",
            "Copied e01750.wav to /content/drive/MyDrive/Preprocessed1/train/abnormal\n",
            "Copied b0463.wav to /content/drive/MyDrive/Preprocessed1/train/abnormal\n",
            "Copied e01036.wav to /content/drive/MyDrive/Preprocessed1/train/abnormal\n",
            "Copied e01585.wav to /content/drive/MyDrive/Preprocessed1/train/abnormal\n",
            "Copied e00843.wav to /content/drive/MyDrive/Preprocessed1/train/abnormal\n",
            "Copied e00472.wav to /content/drive/MyDrive/Preprocessed1/train/abnormal\n",
            "Copied b0477.wav to /content/drive/MyDrive/Preprocessed1/train/abnormal\n",
            "Copied b0339.wav to /content/drive/MyDrive/Preprocessed1/train/abnormal\n",
            "Copied e01022.wav to /content/drive/MyDrive/Preprocessed1/train/abnormal\n",
            "Copied e01778.wav to /content/drive/MyDrive/Preprocessed1/train/abnormal\n",
            "Copied e00894.wav to /content/drive/MyDrive/Preprocessed1/train/abnormal\n",
            "Copied e02067.wav to /content/drive/MyDrive/Preprocessed1/train/abnormal\n",
            "Copied b0488.wav to /content/drive/MyDrive/Preprocessed1/train/abnormal\n",
            "Copied e00102.wav to /content/drive/MyDrive/Preprocessed1/train/abnormal\n",
            "Copied e01591.wav to /content/drive/MyDrive/Preprocessed1/train/abnormal\n",
            "Copied e00664.wav to /content/drive/MyDrive/Preprocessed1/train/abnormal\n",
            "Copied a0211.wav to /content/drive/MyDrive/Preprocessed1/train/abnormal\n",
            "Copied e01220.wav to /content/drive/MyDrive/Preprocessed1/train/abnormal\n",
            "Copied e01234.wav to /content/drive/MyDrive/Preprocessed1/train/abnormal\n",
            "Copied e00658.wav to /content/drive/MyDrive/Preprocessed1/train/abnormal\n",
            "Copied b0259.wav to /content/drive/MyDrive/Preprocessed1/train/abnormal\n",
            "Copied b0311.wav to /content/drive/MyDrive/Preprocessed1/train/abnormal\n",
            "Copied e01208.wav to /content/drive/MyDrive/Preprocessed1/train/abnormal\n",
            "Copied e02113.wav to /content/drive/MyDrive/Preprocessed1/train/abnormal\n",
            "Copied e00923.wav to /content/drive/MyDrive/Preprocessed1/train/abnormal\n",
            "Copied e00704.wav to /content/drive/MyDrive/Preprocessed1/train/abnormal\n",
            "Copied e00076.wav to /content/drive/MyDrive/Preprocessed1/train/abnormal\n",
            "Copied e01368.wav to /content/drive/MyDrive/Preprocessed1/train/abnormal\n",
            "Copied e01803.wav to /content/drive/MyDrive/Preprocessed1/train/abnormal\n",
            "Copied e01426.wav to /content/drive/MyDrive/Preprocessed1/train/abnormal\n",
            "Copied e02107.wav to /content/drive/MyDrive/Preprocessed1/train/abnormal\n",
            "Copied e01354.wav to /content/drive/MyDrive/Preprocessed1/train/abnormal\n",
            "Copied e01340.wav to /content/drive/MyDrive/Preprocessed1/train/abnormal\n",
            "Copied e01156.wav to /content/drive/MyDrive/Preprocessed1/train/abnormal\n",
            "Copied e00248.wav to /content/drive/MyDrive/Preprocessed1/train/abnormal\n",
            "Copied e01181.wav to /content/drive/MyDrive/Preprocessed1/train/abnormal\n",
            "Copied e01143.wav to /content/drive/MyDrive/Preprocessed1/train/abnormal\n",
            "Copied e00512.wav to /content/drive/MyDrive/Preprocessed1/train/abnormal\n",
            "Copied e01630.wav to /content/drive/MyDrive/Preprocessed1/train/abnormal\n",
            "Copied b0073.wav to /content/drive/MyDrive/Preprocessed1/train/abnormal\n",
            "Copied e01624.wav to /content/drive/MyDrive/Preprocessed1/train/abnormal\n",
            "Copied b0067.wav to /content/drive/MyDrive/Preprocessed1/train/abnormal\n",
            "Copied d0037.wav to /content/drive/MyDrive/Preprocessed1/train/abnormal\n",
            "Copied e01619.wav to /content/drive/MyDrive/Preprocessed1/train/abnormal\n",
            "Copied d0023.wav to /content/drive/MyDrive/Preprocessed1/train/abnormal\n",
            "Copied b0099.wav to /content/drive/MyDrive/Preprocessed1/train/abnormal\n",
            "Copied e01355.wav to /content/drive/MyDrive/Preprocessed1/train/abnormal\n",
            "Copied a0199.wav to /content/drive/MyDrive/Preprocessed1/train/abnormal\n",
            "Copied e00705.wav to /content/drive/MyDrive/Preprocessed1/train/abnormal\n",
            "Copied e01802.wav to /content/drive/MyDrive/Preprocessed1/train/abnormal\n",
            "Copied e01180.wav to /content/drive/MyDrive/Preprocessed1/train/abnormal\n",
            "Copied b0066.wav to /content/drive/MyDrive/Preprocessed1/train/abnormal\n",
            "Copied e01433.wav to /content/drive/MyDrive/Preprocessed1/train/abnormal\n",
            "Copied e01194.wav to /content/drive/MyDrive/Preprocessed1/train/abnormal\n",
            "Copied e00739.wav to /content/drive/MyDrive/Preprocessed1/train/abnormal\n",
            "Copied e02112.wav to /content/drive/MyDrive/Preprocessed1/train/abnormal\n",
            "Copied b0270.wav to /content/drive/MyDrive/Preprocessed1/train/abnormal\n",
            "Copied e00671.wav to /content/drive/MyDrive/Preprocessed1/train/abnormal\n",
            "Copied a0204.wav to /content/drive/MyDrive/Preprocessed1/train/abnormal\n",
            "Copied b0258.wav to /content/drive/MyDrive/Preprocessed1/train/abnormal\n",
            "Copied e00922.wav to /content/drive/MyDrive/Preprocessed1/train/abnormal\n",
            "Copied e01547.wav to /content/drive/MyDrive/Preprocessed1/train/abnormal\n",
            "Copied e01369.wav to /content/drive/MyDrive/Preprocessed1/train/abnormal\n",
            "Copied e01396.wav to /content/drive/MyDrive/Preprocessed1/train/abnormal\n",
            "Copied e00659.wav to /content/drive/MyDrive/Preprocessed1/train/abnormal\n",
            "Copied a0210.wav to /content/drive/MyDrive/Preprocessed1/train/abnormal\n",
            "Copied e00088.wav to /content/drive/MyDrive/Preprocessed1/train/abnormal\n",
            "Copied e01221.wav to /content/drive/MyDrive/Preprocessed1/train/abnormal\n",
            "Copied e00103.wav to /content/drive/MyDrive/Preprocessed1/train/abnormal\n",
            "Copied e00842.wav to /content/drive/MyDrive/Preprocessed1/train/abnormal\n",
            "Copied b0304.wav to /content/drive/MyDrive/Preprocessed1/train/abnormal\n",
            "Copied e02072.wav to /content/drive/MyDrive/Preprocessed1/train/abnormal\n",
            "Copied e00856.wav to /content/drive/MyDrive/Preprocessed1/train/abnormal\n",
            "Copied b0338.wav to /content/drive/MyDrive/Preprocessed1/train/abnormal\n",
            "Copied a0238.wav to /content/drive/MyDrive/Preprocessed1/train/abnormal\n",
            "Copied e00117.wav to /content/drive/MyDrive/Preprocessed1/train/abnormal\n",
            "Copied e01590.wav to /content/drive/MyDrive/Preprocessed1/train/abnormal\n",
            "Copied e00665.wav to /content/drive/MyDrive/Preprocessed1/train/abnormal\n",
            "Copied e00329.wav to /content/drive/MyDrive/Preprocessed1/train/abnormal\n",
            "Copied e01037.wav to /content/drive/MyDrive/Preprocessed1/train/abnormal\n",
            "Copied e02099.wav to /content/drive/MyDrive/Preprocessed1/train/abnormal\n",
            "Copied e01976.wav to /content/drive/MyDrive/Preprocessed1/train/abnormal\n",
            "Copied b0112.wav to /content/drive/MyDrive/Preprocessed1/train/abnormal\n",
            "Copied e01792.wav to /content/drive/MyDrive/Preprocessed1/train/abnormal\n",
            "Copied e01779.wav to /content/drive/MyDrive/Preprocessed1/train/abnormal\n",
            "Copied e00498.wav to /content/drive/MyDrive/Preprocessed1/train/abnormal\n",
            "Copied e00473.wav to /content/drive/MyDrive/Preprocessed1/train/abnormal\n",
            "Copied e01786.wav to /content/drive/MyDrive/Preprocessed1/train/abnormal\n",
            "Copied e00347.wav to /content/drive/MyDrive/Preprocessed1/train/abnormal\n",
            "Copied e01267.wav to /content/drive/MyDrive/Preprocessed1/train/abnormal\n",
            "Copied e00623.wav to /content/drive/MyDrive/Preprocessed1/train/abnormal\n",
            "Copied e00970.wav to /content/drive/MyDrive/Preprocessed1/train/abnormal\n",
            "Copied e01501.wav to /content/drive/MyDrive/Preprocessed1/train/abnormal\n",
            "Copied b0381.wav to /content/drive/MyDrive/Preprocessed1/train/abnormal\n",
            "Copied e02020.wav to /content/drive/MyDrive/Preprocessed1/train/abnormal\n",
            "Copied e02008.wav to /content/drive/MyDrive/Preprocessed1/train/abnormal\n",
            "Copied e02034.wav to /content/drive/MyDrive/Preprocessed1/train/abnormal\n",
            "Copied e00145.wav to /content/drive/MyDrive/Preprocessed1/train/abnormal\n",
            "Copied e01273.wav to /content/drive/MyDrive/Preprocessed1/train/abnormal\n",
            "Copied b0222.wav to /content/drive/MyDrive/Preprocessed1/train/abnormal\n",
            "Copied e01475.wav to /content/drive/MyDrive/Preprocessed1/train/abnormal\n",
            "Copied e01677.wav to /content/drive/MyDrive/Preprocessed1/train/abnormal\n",
            "Copied e00019.wav to /content/drive/MyDrive/Preprocessed1/train/abnormal\n",
            "Copied e00780.wav to /content/drive/MyDrive/Preprocessed1/train/abnormal\n",
            "Copied e00757.wav to /content/drive/MyDrive/Preprocessed1/train/abnormal\n",
            "Copied b0020.wav to /content/drive/MyDrive/Preprocessed1/train/abnormal\n",
            "Copied a0108.wav to /content/drive/MyDrive/Preprocessed1/train/abnormal\n",
            "Copied e00233.wav to /content/drive/MyDrive/Preprocessed1/train/abnormal\n",
            "Copied e01893.wav to /content/drive/MyDrive/Preprocessed1/train/abnormal\n",
            "Copied e01111.wav to /content/drive/MyDrive/Preprocessed1/train/abnormal\n",
            "Copied e00232.wav to /content/drive/MyDrive/Preprocessed1/train/abnormal\n",
            "Copied e01887.wav to /content/drive/MyDrive/Preprocessed1/train/abnormal\n",
            "Copied e01448.wav to /content/drive/MyDrive/Preprocessed1/train/abnormal\n",
            "Copied e01662.wav to /content/drive/MyDrive/Preprocessed1/train/abnormal\n",
            "Copied e01306.wav to /content/drive/MyDrive/Preprocessed1/train/abnormal\n",
            "Copied a0323.wav to /content/drive/MyDrive/Preprocessed1/train/abnormal\n",
            "Copied e01845.wav to /content/drive/MyDrive/Preprocessed1/train/abnormal\n",
            "Copied e01879.wav to /content/drive/MyDrive/Preprocessed1/train/abnormal\n",
            "Copied e00024.wav to /content/drive/MyDrive/Preprocessed1/train/abnormal\n",
            "Copied e00781.wav to /content/drive/MyDrive/Preprocessed1/train/abnormal\n",
            "Copied a0337.wav to /content/drive/MyDrive/Preprocessed1/train/abnormal\n",
            "Copied b0035.wav to /content/drive/MyDrive/Preprocessed1/train/abnormal\n",
            "Copied e01460.wav to /content/drive/MyDrive/Preprocessed1/train/abnormal\n",
            "Copied e02141.wav to /content/drive/MyDrive/Preprocessed1/train/abnormal\n",
            "Copied e01676.wav to /content/drive/MyDrive/Preprocessed1/train/abnormal\n",
            "Copied e00742.wav to /content/drive/MyDrive/Preprocessed1/train/abnormal\n",
            "Copied e00965.wav to /content/drive/MyDrive/Preprocessed1/train/abnormal\n",
            "Copied e00971.wav to /content/drive/MyDrive/Preprocessed1/train/abnormal\n",
            "Copied e00178.wav to /content/drive/MyDrive/Preprocessed1/train/abnormal\n",
            "Copied e01266.wav to /content/drive/MyDrive/Preprocessed1/train/abnormal\n",
            "Copied e01514.wav to /content/drive/MyDrive/Preprocessed1/train/abnormal\n",
            "Copied e00959.wav to /content/drive/MyDrive/Preprocessed1/train/abnormal\n",
            "Copied a0243.wav to /content/drive/MyDrive/Preprocessed1/train/abnormal\n",
            "Copied e00187.wav to /content/drive/MyDrive/Preprocessed1/train/abnormal\n",
            "Copied b0223.wav to /content/drive/MyDrive/Preprocessed1/train/abnormal\n",
            "Copied b0237.wav to /content/drive/MyDrive/Preprocessed1/train/abnormal\n",
            "Copied e02035.wav to /content/drive/MyDrive/Preprocessed1/train/abnormal\n",
            "Copied e02021.wav to /content/drive/MyDrive/Preprocessed1/train/abnormal\n",
            "Copied b0380.wav to /content/drive/MyDrive/Preprocessed1/train/abnormal\n",
            "Copied e00193.wav to /content/drive/MyDrive/Preprocessed1/train/abnormal\n",
            "Copied e01500.wav to /content/drive/MyDrive/Preprocessed1/train/abnormal\n",
            "Copied e02009.wav to /content/drive/MyDrive/Preprocessed1/train/abnormal\n",
            "Copied e01064.wav to /content/drive/MyDrive/Preprocessed1/train/abnormal\n",
            "Copied e00385.wav to /content/drive/MyDrive/Preprocessed1/train/abnormal\n",
            "Copied e00408.wav to /content/drive/MyDrive/Preprocessed1/train/abnormal\n",
            "Copied e00352.wav to /content/drive/MyDrive/Preprocessed1/train/abnormal\n",
            "Copied b0419.wav to /content/drive/MyDrive/Preprocessed1/train/abnormal\n",
            "Copied e01058.wav to /content/drive/MyDrive/Preprocessed1/train/abnormal\n",
            "Copied a0055.wav to /content/drive/MyDrive/Preprocessed1/train/abnormal\n",
            "Copied e00434.wav to /content/drive/MyDrive/Preprocessed1/train/abnormal\n",
            "Copied e00391.wav to /content/drive/MyDrive/Preprocessed1/train/abnormal\n",
            "Copied e01931.wav to /content/drive/MyDrive/Preprocessed1/train/abnormal\n",
            "Copied a0069.wav to /content/drive/MyDrive/Preprocessed1/train/abnormal\n",
            "Copied e01702.wav to /content/drive/MyDrive/Preprocessed1/train/abnormal\n",
            "Copied b0169.wav to /content/drive/MyDrive/Preprocessed1/train/abnormal\n",
            "Copied e01728.wav to /content/drive/MyDrive/Preprocessed1/train/abnormal\n",
            "Copied e00387.wav to /content/drive/MyDrive/Preprocessed1/train/abnormal\n",
            "Copied e01927.wav to /content/drive/MyDrive/Preprocessed1/train/abnormal\n",
            "Copied e00185.wav to /content/drive/MyDrive/Preprocessed1/train/abnormal\n",
            "Copied e00344.wav to /content/drive/MyDrive/Preprocessed1/train/abnormal\n",
            "Copied e01933.wav to /content/drive/MyDrive/Preprocessed1/train/abnormal\n",
            "Copied e00422.wav to /content/drive/MyDrive/Preprocessed1/train/abnormal\n",
            "Copied e00393.wav to /content/drive/MyDrive/Preprocessed1/train/abnormal\n",
            "Copied b0433.wav to /content/drive/MyDrive/Preprocessed1/train/abnormal\n",
            "Copied e00436.wav to /content/drive/MyDrive/Preprocessed1/train/abnormal\n",
            "Copied b0157.wav to /content/drive/MyDrive/Preprocessed1/train/abnormal\n",
            "Copied e00378.wav to /content/drive/MyDrive/Preprocessed1/train/abnormal\n",
            "Copied e01066.wav to /content/drive/MyDrive/Preprocessed1/train/abnormal\n",
            "Copied e00783.wav to /content/drive/MyDrive/Preprocessed1/train/abnormal\n",
            "Copied e00634.wav to /content/drive/MyDrive/Preprocessed1/train/abnormal\n",
            "Copied e02037.wav to /content/drive/MyDrive/Preprocessed1/train/abnormal\n",
            "Copied e02023.wav to /content/drive/MyDrive/Preprocessed1/train/abnormal\n",
            "Copied e01258.wav to /content/drive/MyDrive/Preprocessed1/train/abnormal\n",
            "Copied e01516.wav to /content/drive/MyDrive/Preprocessed1/train/abnormal\n",
            "Copied e00620.wav to /content/drive/MyDrive/Preprocessed1/train/abnormal\n",
            "Copied e01304.wav to /content/drive/MyDrive/Preprocessed1/train/abnormal\n",
            "Copied e00608.wav to /content/drive/MyDrive/Preprocessed1/train/abnormal\n",
            "Copied e01489.wav to /content/drive/MyDrive/Preprocessed1/train/abnormal\n",
            "Copied e00768.wav to /content/drive/MyDrive/Preprocessed1/train/abnormal\n",
            "Copied e00218.wav to /content/drive/MyDrive/Preprocessed1/train/abnormal\n",
            "Copied e01106.wav to /content/drive/MyDrive/Preprocessed1/train/abnormal\n",
            "Copied e01674.wav to /content/drive/MyDrive/Preprocessed1/train/abnormal\n",
            "Copied e00581.wav to /content/drive/MyDrive/Preprocessed1/train/abnormal\n",
            "Copied e00026.wav to /content/drive/MyDrive/Preprocessed1/train/abnormal\n",
            "Copied e01112.wav to /content/drive/MyDrive/Preprocessed1/train/abnormal\n",
            "Copied e01853.wav to /content/drive/MyDrive/Preprocessed1/train/abnormal\n",
            "Copied a0309.wav to /content/drive/MyDrive/Preprocessed1/train/abnormal\n",
            "Copied e00219.wav to /content/drive/MyDrive/Preprocessed1/train/abnormal\n",
            "Copied e01891.wav to /content/drive/MyDrive/Preprocessed1/train/abnormal\n",
            "Copied e01852.wav to /content/drive/MyDrive/Preprocessed1/train/abnormal\n",
            "Copied a0136.wav to /content/drive/MyDrive/Preprocessed1/train/abnormal\n",
            "Copied e00033.wav to /content/drive/MyDrive/Preprocessed1/train/abnormal\n",
            "Copied e00557.wav to /content/drive/MyDrive/Preprocessed1/train/abnormal\n",
            "Copied e00543.wav to /content/drive/MyDrive/Preprocessed1/train/abnormal\n",
            "Copied e00580.wav to /content/drive/MyDrive/Preprocessed1/train/abnormal\n",
            "Copied e00225.wav to /content/drive/MyDrive/Preprocessed1/train/abnormal\n",
            "Copied e00224.wav to /content/drive/MyDrive/Preprocessed1/train/abnormal\n",
            "Copied e01107.wav to /content/drive/MyDrive/Preprocessed1/train/abnormal\n",
            "Copied e01649.wav to /content/drive/MyDrive/Preprocessed1/train/abnormal\n",
            "Copied e00231.wav to /content/drive/MyDrive/Preprocessed1/train/abnormal\n",
            "Copied e01113.wav to /content/drive/MyDrive/Preprocessed1/train/abnormal\n",
            "Copied e00966.wav to /content/drive/MyDrive/Preprocessed1/train/abnormal\n",
            "Copied e00972.wav to /content/drive/MyDrive/Preprocessed1/train/abnormal\n",
            "Copied e00769.wav to /content/drive/MyDrive/Preprocessed1/train/abnormal\n",
            "Copied e00999.wav to /content/drive/MyDrive/Preprocessed1/train/abnormal\n",
            "Copied e02036.wav to /content/drive/MyDrive/Preprocessed1/train/abnormal\n",
            "Copied e00621.wav to /content/drive/MyDrive/Preprocessed1/train/abnormal\n",
            "Copied e01463.wav to /content/drive/MyDrive/Preprocessed1/train/abnormal\n",
            "Copied e01339.wav to /content/drive/MyDrive/Preprocessed1/train/abnormal\n",
            "Copied e01477.wav to /content/drive/MyDrive/Preprocessed1/train/abnormal\n",
            "Copied e00027.wav to /content/drive/MyDrive/Preprocessed1/train/abnormal\n",
            "Copied e01259.wav to /content/drive/MyDrive/Preprocessed1/train/abnormal\n",
            "Copied b0220.wav to /content/drive/MyDrive/Preprocessed1/train/abnormal\n",
            "Copied e00635.wav to /content/drive/MyDrive/Preprocessed1/train/abnormal\n",
            "Copied b0383.wav to /content/drive/MyDrive/Preprocessed1/train/abnormal\n",
            "Copied a0283.wav to /content/drive/MyDrive/Preprocessed1/train/abnormal\n",
            "Copied e01503.wav to /content/drive/MyDrive/Preprocessed1/train/abnormal\n",
            "Copied e01265.wav to /content/drive/MyDrive/Preprocessed1/train/abnormal\n",
            "Copied e00609.wav to /content/drive/MyDrive/Preprocessed1/train/abnormal\n",
            "Copied e00184.wav to /content/drive/MyDrive/Preprocessed1/train/abnormal\n",
            "Copied e01271.wav to /content/drive/MyDrive/Preprocessed1/train/abnormal\n",
            "Copied e00806.wav to /content/drive/MyDrive/Preprocessed1/train/abnormal\n",
            "Copied b0340.wav to /content/drive/MyDrive/Preprocessed1/train/abnormal\n",
            "Copied e00190.wav to /content/drive/MyDrive/Preprocessed1/train/abnormal\n",
            "Copied a0081.wav to /content/drive/MyDrive/Preprocessed1/train/abnormal\n",
            "Copied e00396.wav to /content/drive/MyDrive/Preprocessed1/train/abnormal\n",
            "Copied e01926.wav to /content/drive/MyDrive/Preprocessed1/train/abnormal\n",
            "Copied e00386.wav to /content/drive/MyDrive/Preprocessed1/train/abnormal\n",
            "Copied e01073.wav to /content/drive/MyDrive/Preprocessed1/train/abnormal\n",
            "Copied e01701.wav to /content/drive/MyDrive/Preprocessed1/train/abnormal\n",
            "Copied e01098.wav to /content/drive/MyDrive/Preprocessed1/train/abnormal\n",
            "Copied e00379.wav to /content/drive/MyDrive/Preprocessed1/train/abnormal\n",
            "Copied e00345.wav to /content/drive/MyDrive/Preprocessed1/train/abnormal\n",
            "Copied b0142.wav to /content/drive/MyDrive/Preprocessed1/train/abnormal\n",
            "Copied b0195.wav to /content/drive/MyDrive/Preprocessed1/train/abnormal\n",
            "Copied e01715.wav to /content/drive/MyDrive/Preprocessed1/train/abnormal\n",
            "Copied b0146.wav to /content/drive/MyDrive/Preprocessed1/train/abnormal\n",
            "Copied e00382.wav to /content/drive/MyDrive/Preprocessed1/train/abnormal\n",
            "Copied e00427.wav to /content/drive/MyDrive/Preprocessed1/train/abnormal\n",
            "Copied e01063.wav to /content/drive/MyDrive/Preprocessed1/train/abnormal\n",
            "Copied e00369.wav to /content/drive/MyDrive/Preprocessed1/train/abnormal\n",
            "Copied e01739.wav to /content/drive/MyDrive/Preprocessed1/train/abnormal\n",
            "Copied e01705.wav to /content/drive/MyDrive/Preprocessed1/train/abnormal\n",
            "Copied e00816.wav to /content/drive/MyDrive/Preprocessed1/train/abnormal\n",
            "Copied b0191.wav to /content/drive/MyDrive/Preprocessed1/train/abnormal\n",
            "Copied e00341.wav to /content/drive/MyDrive/Preprocessed1/train/abnormal\n",
            "Copied b0152.wav to /content/drive/MyDrive/Preprocessed1/train/abnormal\n",
            "Copied a0085.wav to /content/drive/MyDrive/Preprocessed1/train/abnormal\n",
            "Copied b0350.wav to /content/drive/MyDrive/Preprocessed1/train/abnormal\n",
            "Copied e00631.wav to /content/drive/MyDrive/Preprocessed1/train/abnormal\n",
            "Copied a0287.wav to /content/drive/MyDrive/Preprocessed1/train/abnormal\n",
            "Copied e00802.wav to /content/drive/MyDrive/Preprocessed1/train/abnormal\n",
            "Copied b0387.wav to /content/drive/MyDrive/Preprocessed1/train/abnormal\n",
            "Copied e00976.wav to /content/drive/MyDrive/Preprocessed1/train/abnormal\n",
            "Copied b0218.wav to /content/drive/MyDrive/Preprocessed1/train/abnormal\n",
            "Copied e01507.wav to /content/drive/MyDrive/Preprocessed1/train/abnormal\n",
            "Copied e01513.wav to /content/drive/MyDrive/Preprocessed1/train/abnormal\n",
            "Copied e01301.wav to /content/drive/MyDrive/Preprocessed1/train/abnormal\n",
            "Copied e00779.wav to /content/drive/MyDrive/Preprocessed1/train/abnormal\n",
            "Copied e01329.wav to /content/drive/MyDrive/Preprocessed1/train/abnormal\n",
            "Copied e00584.wav to /content/drive/MyDrive/Preprocessed1/train/abnormal\n",
            "Copied e01467.wav to /content/drive/MyDrive/Preprocessed1/train/abnormal\n",
            "Copied e00221.wav to /content/drive/MyDrive/Preprocessed1/train/abnormal\n",
            "Copied e01315.wav to /content/drive/MyDrive/Preprocessed1/train/abnormal\n",
            "Copied e00037.wav to /content/drive/MyDrive/Preprocessed1/train/abnormal\n",
            "Copied e01842.wav to /content/drive/MyDrive/Preprocessed1/train/abnormal\n",
            "Copied e01659.wav to /content/drive/MyDrive/Preprocessed1/train/abnormal\n",
            "Copied e00023.wav to /content/drive/MyDrive/Preprocessed1/train/abnormal\n",
            "Copied e00585.wav to /content/drive/MyDrive/Preprocessed1/train/abnormal\n",
            "Copied e01894.wav to /content/drive/MyDrive/Preprocessed1/train/abnormal\n",
            "Copied e00546.wav to /content/drive/MyDrive/Preprocessed1/train/abnormal\n",
            "Copied e00220.wav to /content/drive/MyDrive/Preprocessed1/train/abnormal\n",
            "Copied b0027.wav to /content/drive/MyDrive/Preprocessed1/train/abnormal\n",
            "Copied e00552.wav to /content/drive/MyDrive/Preprocessed1/train/abnormal\n",
            "Copied e01664.wav to /content/drive/MyDrive/Preprocessed1/train/abnormal\n",
            "Copied e01102.wav to /content/drive/MyDrive/Preprocessed1/train/abnormal\n",
            "Copied e01103.wav to /content/drive/MyDrive/Preprocessed1/train/abnormal\n",
            "Copied e01671.wav to /content/drive/MyDrive/Preprocessed1/train/abnormal\n",
            "Copied e01670.wav to /content/drive/MyDrive/Preprocessed1/train/abnormal\n",
            "Copied e01880.wav to /content/drive/MyDrive/Preprocessed1/train/abnormal\n",
            "Copied e01658.wav to /content/drive/MyDrive/Preprocessed1/train/abnormal\n",
            "Copied a0127.wav to /content/drive/MyDrive/Preprocessed1/train/abnormal\n",
            "Copied e01472.wav to /content/drive/MyDrive/Preprocessed1/train/abnormal\n",
            "Copied e00750.wav to /content/drive/MyDrive/Preprocessed1/train/abnormal\n",
            "Copied e01466.wav to /content/drive/MyDrive/Preprocessed1/train/abnormal\n",
            "Copied c0022.wav to /content/drive/MyDrive/Preprocessed1/train/abnormal\n",
            "Copied e01260.wav to /content/drive/MyDrive/Preprocessed1/train/abnormal\n",
            "Copied e00618.wav to /content/drive/MyDrive/Preprocessed1/train/abnormal\n",
            "Copied e01248.wav to /content/drive/MyDrive/Preprocessed1/train/abnormal\n",
            "Copied e01274.wav to /content/drive/MyDrive/Preprocessed1/train/abnormal\n",
            "Copied e00630.wav to /content/drive/MyDrive/Preprocessed1/train/abnormal\n",
            "Copied e00977.wav to /content/drive/MyDrive/Preprocessed1/train/abnormal\n",
            "Copied e01506.wav to /content/drive/MyDrive/Preprocessed1/train/abnormal\n",
            "Copied e01076.wav to /content/drive/MyDrive/Preprocessed1/train/abnormal\n",
            "Copied e00803.wav to /content/drive/MyDrive/Preprocessed1/train/abnormal\n",
            "Copied b0351.wav to /content/drive/MyDrive/Preprocessed1/train/abnormal\n",
            "Copied e00817.wav to /content/drive/MyDrive/Preprocessed1/train/abnormal\n",
            "Copied e00156.wav to /content/drive/MyDrive/Preprocessed1/train/abnormal\n",
            "Copied b0423.wav to /content/drive/MyDrive/Preprocessed1/train/abnormal\n",
            "Copied b0345.wav to /content/drive/MyDrive/Preprocessed1/train/abnormal\n",
            "Copied e00430.wav to /content/drive/MyDrive/Preprocessed1/train/abnormal\n",
            "Copied e01909.wav to /content/drive/MyDrive/Preprocessed1/train/abnormal\n",
            "Copied e01935.wav to /content/drive/MyDrive/Preprocessed1/train/abnormal\n",
            "Copied b0153.wav to /content/drive/MyDrive/Preprocessed1/train/abnormal\n",
            "Copied e01937.wav to /content/drive/MyDrive/Preprocessed1/train/abnormal\n",
            "Copied e01089.wav to /content/drive/MyDrive/Preprocessed1/train/abnormal\n",
            "Copied b0145.wav to /content/drive/MyDrive/Preprocessed1/train/abnormal\n",
            "Copied e00354.wav to /content/drive/MyDrive/Preprocessed1/train/abnormal\n",
            "Copied e01921.wav to /content/drive/MyDrive/Preprocessed1/train/abnormal\n",
            "Copied e00383.wav to /content/drive/MyDrive/Preprocessed1/train/abnormal\n",
            "Copied e00381.wav to /content/drive/MyDrive/Preprocessed1/train/abnormal\n",
            "Copied b0151.wav to /content/drive/MyDrive/Preprocessed1/train/abnormal\n",
            "Copied b0186.wav to /content/drive/MyDrive/Preprocessed1/train/abnormal\n",
            "Copied b0192.wav to /content/drive/MyDrive/Preprocessed1/train/abnormal\n",
            "Copied e01538.wav to /content/drive/MyDrive/Preprocessed1/train/abnormal\n",
            "Copied e00801.wav to /content/drive/MyDrive/Preprocessed1/train/abnormal\n",
            "Copied e00829.wav to /content/drive/MyDrive/Preprocessed1/train/abnormal\n",
            "Copied e00154.wav to /content/drive/MyDrive/Preprocessed1/train/abnormal\n",
            "Copied e00626.wav to /content/drive/MyDrive/Preprocessed1/train/abnormal\n",
            "Copied b0435.wav to /content/drive/MyDrive/Preprocessed1/train/abnormal\n",
            "Copied e00356.wav to /content/drive/MyDrive/Preprocessed1/train/abnormal\n",
            "Copied a0290.wav to /content/drive/MyDrive/Preprocessed1/train/abnormal\n",
            "Copied e01706.wav to /content/drive/MyDrive/Preprocessed1/train/abnormal\n",
            "Copied e02031.wav to /content/drive/MyDrive/Preprocessed1/train/abnormal\n",
            "Copied e00183.wav to /content/drive/MyDrive/Preprocessed1/train/abnormal\n",
            "Copied e00815.wav to /content/drive/MyDrive/Preprocessed1/train/abnormal\n",
            "Copied e01510.wav to /content/drive/MyDrive/Preprocessed1/train/abnormal\n",
            "Copied e00975.wav to /content/drive/MyDrive/Preprocessed1/train/abnormal\n",
            "Copied e02019.wav to /content/drive/MyDrive/Preprocessed1/train/abnormal\n",
            "Copied e00632.wav to /content/drive/MyDrive/Preprocessed1/train/abnormal\n",
            "Copied e02025.wav to /content/drive/MyDrive/Preprocessed1/train/abnormal\n",
            "Copied e00168.wav to /content/drive/MyDrive/Preprocessed1/train/abnormal\n",
            "Copied e00791.wav to /content/drive/MyDrive/Preprocessed1/train/abnormal\n",
            "Copied b0019.wav to /content/drive/MyDrive/Preprocessed1/train/abnormal\n",
            "Copied e01699.wav to /content/drive/MyDrive/Preprocessed1/train/abnormal\n",
            "Copied e00593.wav to /content/drive/MyDrive/Preprocessed1/train/abnormal\n",
            "Copied e01302.wav to /content/drive/MyDrive/Preprocessed1/train/abnormal\n",
            "Copied b0025.wav to /content/drive/MyDrive/Preprocessed1/train/abnormal\n",
            "Copied e00587.wav to /content/drive/MyDrive/Preprocessed1/train/abnormal\n",
            "Copied e00746.wav to /content/drive/MyDrive/Preprocessed1/train/abnormal\n",
            "Copied e01464.wav to /content/drive/MyDrive/Preprocessed1/train/abnormal\n",
            "Copied b0031.wav to /content/drive/MyDrive/Preprocessed1/train/abnormal\n",
            "Copied e00008.wav to /content/drive/MyDrive/Preprocessed1/train/abnormal\n",
            "Copied d0048.wav to /content/drive/MyDrive/Preprocessed1/train/abnormal\n",
            "Copied e01672.wav to /content/drive/MyDrive/Preprocessed1/train/abnormal\n",
            "Copied e00222.wav to /content/drive/MyDrive/Preprocessed1/train/abnormal\n",
            "Copied e00550.wav to /content/drive/MyDrive/Preprocessed1/train/abnormal\n",
            "Copied e01128.wav to /content/drive/MyDrive/Preprocessed1/train/abnormal\n",
            "Copied e01114.wav to /content/drive/MyDrive/Preprocessed1/train/abnormal\n",
            "Copied e01667.wav to /content/drive/MyDrive/Preprocessed1/train/abnormal\n",
            "Copied a0125.wav to /content/drive/MyDrive/Preprocessed1/train/abnormal\n",
            "Copied e00223.wav to /content/drive/MyDrive/Preprocessed1/train/abnormal\n",
            "Copied e00586.wav to /content/drive/MyDrive/Preprocessed1/train/abnormal\n",
            "Copied e00592.wav to /content/drive/MyDrive/Preprocessed1/train/abnormal\n",
            "Copied e01129.wav to /content/drive/MyDrive/Preprocessed1/train/abnormal\n",
            "Copied e01673.wav to /content/drive/MyDrive/Preprocessed1/train/abnormal\n",
            "Copied e01883.wav to /content/drive/MyDrive/Preprocessed1/train/abnormal\n",
            "Copied e00545.wav to /content/drive/MyDrive/Preprocessed1/train/abnormal\n",
            "Copied e00237.wav to /content/drive/MyDrive/Preprocessed1/train/abnormal\n",
            "Copied e02018.wav to /content/drive/MyDrive/Preprocessed1/train/abnormal\n",
            "Copied e00960.wav to /content/drive/MyDrive/Preprocessed1/train/abnormal\n",
            "Copied b0391.wav to /content/drive/MyDrive/Preprocessed1/train/abnormal\n",
            "Copied e01277.wav to /content/drive/MyDrive/Preprocessed1/train/abnormal\n",
            "Copied e00747.wav to /content/drive/MyDrive/Preprocessed1/train/abnormal\n",
            "Copied e00169.wav to /content/drive/MyDrive/Preprocessed1/train/abnormal\n",
            "Copied a0332.wav to /content/drive/MyDrive/Preprocessed1/train/abnormal\n",
            "Copied e00009.wav to /content/drive/MyDrive/Preprocessed1/train/abnormal\n",
            "Copied e00784.wav to /content/drive/MyDrive/Preprocessed1/train/abnormal\n",
            "Copied e01465.wav to /content/drive/MyDrive/Preprocessed1/train/abnormal\n",
            "Copied e00753.wav to /content/drive/MyDrive/Preprocessed1/train/abnormal\n",
            "Copied e00196.wav to /content/drive/MyDrive/Preprocessed1/train/abnormal\n",
            "Copied e00155.wav to /content/drive/MyDrive/Preprocessed1/train/abnormal\n",
            "Copied b0434.wav to /content/drive/MyDrive/Preprocessed1/train/abnormal\n",
            "Copied e00633.wav to /content/drive/MyDrive/Preprocessed1/train/abnormal\n",
            "Copied b0352.wav to /content/drive/MyDrive/Preprocessed1/train/abnormal\n",
            "Copied e01505.wav to /content/drive/MyDrive/Preprocessed1/train/abnormal\n",
            "Copied e00800.wav to /content/drive/MyDrive/Preprocessed1/train/abnormal\n",
            "Copied e00141.wav to /content/drive/MyDrive/Preprocessed1/train/abnormal\n",
            "Copied e01075.wav to /content/drive/MyDrive/Preprocessed1/train/abnormal\n",
            "Copied e01061.wav to /content/drive/MyDrive/Preprocessed1/train/abnormal\n",
            "Copied e00343.wav to /content/drive/MyDrive/Preprocessed1/train/abnormal\n",
            "Copied e00357.wav to /content/drive/MyDrive/Preprocessed1/train/abnormal\n",
            "Copied b0193.wav to /content/drive/MyDrive/Preprocessed1/train/abnormal\n",
            "Copied e00828.wav to /content/drive/MyDrive/Preprocessed1/train/abnormal\n",
            "Copied a0050.wav to /content/drive/MyDrive/Preprocessed1/train/abnormal\n",
            "Copied e00431.wav to /content/drive/MyDrive/Preprocessed1/train/abnormal\n",
            "Copied e01707.wav to /content/drive/MyDrive/Preprocessed1/train/abnormal\n",
            "Copied e00182.wav to /content/drive/MyDrive/Preprocessed1/train/abnormal\n",
            "Copied e00419.wav to /content/drive/MyDrive/Preprocessed1/train/abnormal\n",
            "Copied b0187.wav to /content/drive/MyDrive/Preprocessed1/train/abnormal\n",
            "Copied e01049.wav to /content/drive/MyDrive/Preprocessed1/train/abnormal\n",
            "Copied e01713.wav to /content/drive/MyDrive/Preprocessed1/train/abnormal\n",
            "Copied e01093.wav to /content/drive/MyDrive/Preprocessed1/train/abnormal\n",
            "Copied e00399.wav to /content/drive/MyDrive/Preprocessed1/train/abnormal\n",
            "Copied e01939.wav to /content/drive/MyDrive/Preprocessed1/train/abnormal\n",
            "Copied e01908.wav to /content/drive/MyDrive/Preprocessed1/train/abnormal\n",
            "Copied b0161.wav to /content/drive/MyDrive/Preprocessed1/train/abnormal\n",
            "Copied e01934.wav to /content/drive/MyDrive/Preprocessed1/train/abnormal\n",
            "Copied e00425.wav to /content/drive/MyDrive/Preprocessed1/train/abnormal\n",
            "Copied a0093.wav to /content/drive/MyDrive/Preprocessed1/train/abnormal\n",
            "Copied e00825.wav to /content/drive/MyDrive/Preprocessed1/train/abnormal\n",
            "Copied e01050.wav to /content/drive/MyDrive/Preprocessed1/train/abnormal\n",
            "Copied e01044.wav to /content/drive/MyDrive/Preprocessed1/train/abnormal\n",
            "Copied e01911.wav to /content/drive/MyDrive/Preprocessed1/train/abnormal\n",
            "Copied e00400.wav to /content/drive/MyDrive/Preprocessed1/train/abnormal\n",
            "Copied e01736.wav to /content/drive/MyDrive/Preprocessed1/train/abnormal\n",
            "Copied e00414.wav to /content/drive/MyDrive/Preprocessed1/train/abnormal\n",
            "Copied e02001.wav to /content/drive/MyDrive/Preprocessed1/train/abnormal\n",
            "Copied e00164.wav to /content/drive/MyDrive/Preprocessed1/train/abnormal\n",
            "Copied e00170.wav to /content/drive/MyDrive/Preprocessed1/train/abnormal\n",
            "Copied e01291.wav to /content/drive/MyDrive/Preprocessed1/train/abnormal\n",
            "Copied e00819.wav to /content/drive/MyDrive/Preprocessed1/train/abnormal\n",
            "Copied e01252.wav to /content/drive/MyDrive/Preprocessed1/train/abnormal\n",
            "Copied e02029.wav to /content/drive/MyDrive/Preprocessed1/train/abnormal\n",
            "Copied e01520.wav to /content/drive/MyDrive/Preprocessed1/train/abnormal\n",
            "Copied e00616.wav to /content/drive/MyDrive/Preprocessed1/train/abnormal\n",
            "Copied e00951.wav to /content/drive/MyDrive/Preprocessed1/train/abnormal\n",
            "Copied e01454.wav to /content/drive/MyDrive/Preprocessed1/train/abnormal\n",
            "Copied e01332.wav to /content/drive/MyDrive/Preprocessed1/train/abnormal\n",
            "Copied e00992.wav to /content/drive/MyDrive/Preprocessed1/train/abnormal\n",
            "Copied e00986.wav to /content/drive/MyDrive/Preprocessed1/train/abnormal\n",
            "Copied e00010.wav to /content/drive/MyDrive/Preprocessed1/train/abnormal\n",
            "Copied e01468.wav to /content/drive/MyDrive/Preprocessed1/train/abnormal\n",
            "Copied e01440.wav to /content/drive/MyDrive/Preprocessed1/train/abnormal\n",
            "Copied e01695.wav to /content/drive/MyDrive/Preprocessed1/train/abnormal\n",
            "Copied e01681.wav to /content/drive/MyDrive/Preprocessed1/train/abnormal\n",
            "Copied b0001.wav to /content/drive/MyDrive/Preprocessed1/train/abnormal\n",
            "Copied b0015.wav to /content/drive/MyDrive/Preprocessed1/train/abnormal\n",
            "Copied e01656.wav to /content/drive/MyDrive/Preprocessed1/train/abnormal\n",
            "Copied a0129.wav to /content/drive/MyDrive/Preprocessed1/train/abnormal\n",
            "Copied e00206.wav to /content/drive/MyDrive/Preprocessed1/train/abnormal\n",
            "Copied e01642.wav to /content/drive/MyDrive/Preprocessed1/train/abnormal\n",
            "Copied e00574.wav to /content/drive/MyDrive/Preprocessed1/train/abnormal\n",
            "Copied e00212.wav to /content/drive/MyDrive/Preprocessed1/train/abnormal\n",
            "Copied e01130.wav to /content/drive/MyDrive/Preprocessed1/train/abnormal\n",
            "Copied e01125.wav to /content/drive/MyDrive/Preprocessed1/train/abnormal\n",
            "Copied e00549.wav to /content/drive/MyDrive/Preprocessed1/train/abnormal\n",
            "Copied e00575.wav to /content/drive/MyDrive/Preprocessed1/train/abnormal\n",
            "Copied e01119.wav to /content/drive/MyDrive/Preprocessed1/train/abnormal\n",
            "Copied e01643.wav to /content/drive/MyDrive/Preprocessed1/train/abnormal\n",
            "Copied e00207.wav to /content/drive/MyDrive/Preprocessed1/train/abnormal\n",
            "Copied e01118.wav to /content/drive/MyDrive/Preprocessed1/train/abnormal\n",
            "Copied e01694.wav to /content/drive/MyDrive/Preprocessed1/train/abnormal\n",
            "Copied e01870.wav to /content/drive/MyDrive/Preprocessed1/train/abnormal\n",
            "Copied b0014.wav to /content/drive/MyDrive/Preprocessed1/train/abnormal\n",
            "Copied e00763.wav to /content/drive/MyDrive/Preprocessed1/train/abnormal\n",
            "Copied e01327.wav to /content/drive/MyDrive/Preprocessed1/train/abnormal\n",
            "Copied e00005.wav to /content/drive/MyDrive/Preprocessed1/train/abnormal\n",
            "Copied e01469.wav to /content/drive/MyDrive/Preprocessed1/train/abnormal\n",
            "Copied e00011.wav to /content/drive/MyDrive/Preprocessed1/train/abnormal\n",
            "Copied a0302.wav to /content/drive/MyDrive/Preprocessed1/train/abnormal\n",
            "Copied b0202.wav to /content/drive/MyDrive/Preprocessed1/train/abnormal\n",
            "Copied b0216.wav to /content/drive/MyDrive/Preprocessed1/train/abnormal\n",
            "Copied e02014.wav to /content/drive/MyDrive/Preprocessed1/train/abnormal\n",
            "Copied e02000.wav to /content/drive/MyDrive/Preprocessed1/train/abnormal\n",
            "Copied e01509.wav to /content/drive/MyDrive/Preprocessed1/train/abnormal\n",
            "Copied e00950.wav to /content/drive/MyDrive/Preprocessed1/train/abnormal\n",
            "Copied e01455.wav to /content/drive/MyDrive/Preprocessed1/train/abnormal\n",
            "Copied e00617.wav to /content/drive/MyDrive/Preprocessed1/train/abnormal\n",
            "Copied e01496.wav to /content/drive/MyDrive/Preprocessed1/train/abnormal\n",
            "Copied e00944.wav to /content/drive/MyDrive/Preprocessed1/train/abnormal\n",
            "Copied b0389.wav to /content/drive/MyDrive/Preprocessed1/train/abnormal\n",
            "Copied e00165.wav to /content/drive/MyDrive/Preprocessed1/train/abnormal\n",
            "Copied e00788.wav to /content/drive/MyDrive/Preprocessed1/train/abnormal\n",
            "Copied a0289.wav to /content/drive/MyDrive/Preprocessed1/train/abnormal\n",
            "Copied e00159.wav to /content/drive/MyDrive/Preprocessed1/train/abnormal\n",
            "Copied e02028.wav to /content/drive/MyDrive/Preprocessed1/train/abnormal\n",
            "Copied e01253.wav to /content/drive/MyDrive/Preprocessed1/train/abnormal\n",
            "Copied e01723.wav to /content/drive/MyDrive/Preprocessed1/train/abnormal\n",
            "Copied e01910.wav to /content/drive/MyDrive/Preprocessed1/train/abnormal\n",
            "Copied e01737.wav to /content/drive/MyDrive/Preprocessed1/train/abnormal\n",
            "Copied e01092.wav to /content/drive/MyDrive/Preprocessed1/train/abnormal\n",
            "Copied e01904.wav to /content/drive/MyDrive/Preprocessed1/train/abnormal\n",
            "Copied e00367.wav to /content/drive/MyDrive/Preprocessed1/train/abnormal\n",
            "Copied e00398.wav to /content/drive/MyDrive/Preprocessed1/train/abnormal\n",
            "Copied e01735.wav to /content/drive/MyDrive/Preprocessed1/train/abnormal\n",
            "Copied b0162.wav to /content/drive/MyDrive/Preprocessed1/train/abnormal\n",
            "Copied e00417.wav to /content/drive/MyDrive/Preprocessed1/train/abnormal\n",
            "Copied e01053.wav to /content/drive/MyDrive/Preprocessed1/train/abnormal\n",
            "Copied e01709.wav to /content/drive/MyDrive/Preprocessed1/train/abnormal\n",
            "Copied e01047.wav to /content/drive/MyDrive/Preprocessed1/train/abnormal\n",
            "Copied a0274.wav to /content/drive/MyDrive/Preprocessed1/train/abnormal\n",
            "Copied e01292.wav to /content/drive/MyDrive/Preprocessed1/train/abnormal\n",
            "Copied e00198.wav to /content/drive/MyDrive/Preprocessed1/train/abnormal\n",
            "Copied b0406.wav to /content/drive/MyDrive/Preprocessed1/train/abnormal\n",
            "Copied e01286.wav to /content/drive/MyDrive/Preprocessed1/train/abnormal\n",
            "Copied e00403.wav to /content/drive/MyDrive/Preprocessed1/train/abnormal\n",
            "Copied e00629.wav to /content/drive/MyDrive/Preprocessed1/train/abnormal\n",
            "Copied e00826.wav to /content/drive/MyDrive/Preprocessed1/train/abnormal\n",
            "Copied e00832.wav to /content/drive/MyDrive/Preprocessed1/train/abnormal\n",
            "Copied e00615.wav to /content/drive/MyDrive/Preprocessed1/train/abnormal\n",
            "Copied e01523.wav to /content/drive/MyDrive/Preprocessed1/train/abnormal\n",
            "Copied e02002.wav to /content/drive/MyDrive/Preprocessed1/train/abnormal\n",
            "Copied e00173.wav to /content/drive/MyDrive/Preprocessed1/train/abnormal\n",
            "Copied e00749.wav to /content/drive/MyDrive/Preprocessed1/train/abnormal\n",
            "Copied e00946.wav to /content/drive/MyDrive/Preprocessed1/train/abnormal\n",
            "Copied c0007.wav to /content/drive/MyDrive/Preprocessed1/train/abnormal\n",
            "Copied e01325.wav to /content/drive/MyDrive/Preprocessed1/train/abnormal\n",
            "Copied e01480.wav to /content/drive/MyDrive/Preprocessed1/train/abnormal\n",
            "Copied e00985.wav to /content/drive/MyDrive/Preprocessed1/train/abnormal\n",
            "Copied e00991.wav to /content/drive/MyDrive/Preprocessed1/train/abnormal\n",
            "Copied b0200.wav to /content/drive/MyDrive/Preprocessed1/train/abnormal\n",
            "Copied e01319.wav to /content/drive/MyDrive/Preprocessed1/train/abnormal\n",
            "Copied e00239.wav to /content/drive/MyDrive/Preprocessed1/train/abnormal\n",
            "Copied e00761.wav to /content/drive/MyDrive/Preprocessed1/train/abnormal\n",
            "Copied d0053.wav to /content/drive/MyDrive/Preprocessed1/train/abnormal\n",
            "Copied e00013.wav to /content/drive/MyDrive/Preprocessed1/train/abnormal\n",
            "Copied a0328.wav to /content/drive/MyDrive/Preprocessed1/train/abnormal\n",
            "Copied e01682.wav to /content/drive/MyDrive/Preprocessed1/train/abnormal\n",
            "Copied e01127.wav to /content/drive/MyDrive/Preprocessed1/train/abnormal\n",
            "Copied a0102.wav to /content/drive/MyDrive/Preprocessed1/train/abnormal\n",
            "Copied e00204.wav to /content/drive/MyDrive/Preprocessed1/train/abnormal\n",
            "Copied e00577.wav to /content/drive/MyDrive/Preprocessed1/train/abnormal\n",
            "Copied e00576.wav to /content/drive/MyDrive/Preprocessed1/train/abnormal\n",
            "Copied e01655.wav to /content/drive/MyDrive/Preprocessed1/train/abnormal\n",
            "Copied e01654.wav to /content/drive/MyDrive/Preprocessed1/train/abnormal\n",
            "Copied d0047.wav to /content/drive/MyDrive/Preprocessed1/train/abnormal\n",
            "Copied e00760.wav to /content/drive/MyDrive/Preprocessed1/train/abnormal\n",
            "Copied e01640.wav to /content/drive/MyDrive/Preprocessed1/train/abnormal\n",
            "Copied e01898.wav to /content/drive/MyDrive/Preprocessed1/train/abnormal\n",
            "Copied a0329.wav to /content/drive/MyDrive/Preprocessed1/train/abnormal\n",
            "Copied e00012.wav to /content/drive/MyDrive/Preprocessed1/train/abnormal\n",
            "Copied b0017.wav to /content/drive/MyDrive/Preprocessed1/train/abnormal\n",
            "Copied e01683.wav to /content/drive/MyDrive/Preprocessed1/train/abnormal\n",
            "Copied e01873.wav to /content/drive/MyDrive/Preprocessed1/train/abnormal\n",
            "Copied b0003.wav to /content/drive/MyDrive/Preprocessed1/train/abnormal\n",
            "Copied e00774.wav to /content/drive/MyDrive/Preprocessed1/train/abnormal\n",
            "Copied a0301.wav to /content/drive/MyDrive/Preprocessed1/train/abnormal\n",
            "Copied e01244.wav to /content/drive/MyDrive/Preprocessed1/train/abnormal\n",
            "Copied e00600.wav to /content/drive/MyDrive/Preprocessed1/train/abnormal\n",
            "Copied e00628.wav to /content/drive/MyDrive/Preprocessed1/train/abnormal\n",
            "Copied e01250.wav to /content/drive/MyDrive/Preprocessed1/train/abnormal\n",
            "Copied e00166.wav to /content/drive/MyDrive/Preprocessed1/train/abnormal\n",
            "Copied e00748.wav to /content/drive/MyDrive/Preprocessed1/train/abnormal\n",
            "Copied e00947.wav to /content/drive/MyDrive/Preprocessed1/train/abnormal\n",
            "Copied e01522.wav to /content/drive/MyDrive/Preprocessed1/train/abnormal\n",
            "Copied e01330.wav to /content/drive/MyDrive/Preprocessed1/train/abnormal\n",
            "Copied e01481.wav to /content/drive/MyDrive/Preprocessed1/train/abnormal\n",
            "Copied e00614.wav to /content/drive/MyDrive/Preprocessed1/train/abnormal\n",
            "Copied e01734.wav to /content/drive/MyDrive/Preprocessed1/train/abnormal\n",
            "Copied e00402.wav to /content/drive/MyDrive/Preprocessed1/train/abnormal\n",
            "Copied b0188.wav to /content/drive/MyDrive/Preprocessed1/train/abnormal\n",
            "Copied e00416.wav to /content/drive/MyDrive/Preprocessed1/train/abnormal\n",
            "Copied e01085.wav to /content/drive/MyDrive/Preprocessed1/train/abnormal\n",
            "Copied e01046.wav to /content/drive/MyDrive/Preprocessed1/train/abnormal\n",
            "Copied e00827.wav to /content/drive/MyDrive/Preprocessed1/train/abnormal\n",
            "Copied e00358.wav to /content/drive/MyDrive/Preprocessed1/train/abnormal\n",
            "Copied e01293.wav to /content/drive/MyDrive/Preprocessed1/train/abnormal\n",
            "Copied a0088.wav to /content/drive/MyDrive/Preprocessed1/train/abnormal\n",
            "Copied b0375.wav to /content/drive/MyDrive/Preprocessed1/train/abnormal\n",
            "Copied e01720.wav to /content/drive/MyDrive/Preprocessed1/train/abnormal\n",
            "Copied e01913.wav to /content/drive/MyDrive/Preprocessed1/train/abnormal\n",
            "Copied e01903.wav to /content/drive/MyDrive/Preprocessed1/train/abnormal\n",
            "Copied b0359.wav to /content/drive/MyDrive/Preprocessed1/train/abnormal\n",
            "Copied e00837.wav to /content/drive/MyDrive/Preprocessed1/train/abnormal\n",
            "Copied b0198.wav to /content/drive/MyDrive/Preprocessed1/train/abnormal\n",
            "Copied b0163.wav to /content/drive/MyDrive/Preprocessed1/train/abnormal\n",
            "Copied e01056.wav to /content/drive/MyDrive/Preprocessed1/train/abnormal\n",
            "Copied e01042.wav to /content/drive/MyDrive/Preprocessed1/train/abnormal\n",
            "Copied b0123.wav to /content/drive/MyDrive/Preprocessed1/train/abnormal\n",
            "Copied e00495.wav to /content/drive/MyDrive/Preprocessed1/train/abnormal\n",
            "Copied e01947.wav to /content/drive/MyDrive/Preprocessed1/train/abnormal\n",
            "Copied e01990.wav to /content/drive/MyDrive/Preprocessed1/train/abnormal\n",
            "Copied e00442.wav to /content/drive/MyDrive/Preprocessed1/train/abnormal\n",
            "Copied b0453.wav to /content/drive/MyDrive/Preprocessed1/train/abnormal\n",
            "Copied e01012.wav to /content/drive/MyDrive/Preprocessed1/train/abnormal\n",
            "Copied e01748.wav to /content/drive/MyDrive/Preprocessed1/train/abnormal\n",
            "Copied e01774.wav to /content/drive/MyDrive/Preprocessed1/train/abnormal\n",
            "Copied e00324.wav to /content/drive/MyDrive/Preprocessed1/train/abnormal\n",
            "Copied e00697.wav to /content/drive/MyDrive/Preprocessed1/train/abnormal\n",
            "Copied e02080.wav to /content/drive/MyDrive/Preprocessed1/train/abnormal\n",
            "Copied e00683.wav to /content/drive/MyDrive/Preprocessed1/train/abnormal\n",
            "Copied e01562.wav to /content/drive/MyDrive/Preprocessed1/train/abnormal\n",
            "Copied e01576.wav to /content/drive/MyDrive/Preprocessed1/train/abnormal\n",
            "Copied e00654.wav to /content/drive/MyDrive/Preprocessed1/train/abnormal\n",
            "Copied e00126.wav to /content/drive/MyDrive/Preprocessed1/train/abnormal\n",
            "Copied e00132.wav to /content/drive/MyDrive/Preprocessed1/train/abnormal\n",
            "Copied e01238.wav to /content/drive/MyDrive/Preprocessed1/train/abnormal\n",
            "Copied a0235.wav to /content/drive/MyDrive/Preprocessed1/train/abnormal\n",
            "Copied e00668.wav to /content/drive/MyDrive/Preprocessed1/train/abnormal\n",
            "Copied e02057.wav to /content/drive/MyDrive/Preprocessed1/train/abnormal\n",
            "Copied b0296.wav to /content/drive/MyDrive/Preprocessed1/train/abnormal\n",
            "Copied e00734.wav to /content/drive/MyDrive/Preprocessed1/train/abnormal\n",
            "Copied e00046.wav to /content/drive/MyDrive/Preprocessed1/train/abnormal\n",
            "Copied e00913.wav to /content/drive/MyDrive/Preprocessed1/train/abnormal\n",
            "Copied a0355.wav to /content/drive/MyDrive/Preprocessed1/train/abnormal\n",
            "Copied e00708.wav to /content/drive/MyDrive/Preprocessed1/train/abnormal\n",
            "Copied b0269.wav to /content/drive/MyDrive/Preprocessed1/train/abnormal\n",
            "Copied e00720.wav to /content/drive/MyDrive/Preprocessed1/train/abnormal\n",
            "Copied e00907.wav to /content/drive/MyDrive/Preprocessed1/train/abnormal\n",
            "Copied e00052.wav to /content/drive/MyDrive/Preprocessed1/train/abnormal\n",
            "Copied e01358.wav to /content/drive/MyDrive/Preprocessed1/train/abnormal\n",
            "Copied e01370.wav to /content/drive/MyDrive/Preprocessed1/train/abnormal\n",
            "Copied e01364.wav to /content/drive/MyDrive/Preprocessed1/train/abnormal\n",
            "Copied e00085.wav to /content/drive/MyDrive/Preprocessed1/train/abnormal\n",
            "Copied e01416.wav to /content/drive/MyDrive/Preprocessed1/train/abnormal\n",
            "Copied e00522.wav to /content/drive/MyDrive/Preprocessed1/train/abnormal\n",
            "Copied e01199.wav to /content/drive/MyDrive/Preprocessed1/train/abnormal\n",
            "Copied e01827.wav to /content/drive/MyDrive/Preprocessed1/train/abnormal\n",
            "Copied e01833.wav to /content/drive/MyDrive/Preprocessed1/train/abnormal\n",
            "Copied e01614.wav to /content/drive/MyDrive/Preprocessed1/train/abnormal\n",
            "Copied e00250.wav to /content/drive/MyDrive/Preprocessed1/train/abnormal\n",
            "Copied e00278.wav to /content/drive/MyDrive/Preprocessed1/train/abnormal\n",
            "Copied e00047.wav to /content/drive/MyDrive/Preprocessed1/train/abnormal\n",
            "Copied e01359.wav to /content/drive/MyDrive/Preprocessed1/train/abnormal\n",
            "Copied d0007.wav to /content/drive/MyDrive/Preprocessed1/train/abnormal\n",
            "Copied e01826.wav to /content/drive/MyDrive/Preprocessed1/train/abnormal\n",
            "Copied e00279.wav to /content/drive/MyDrive/Preprocessed1/train/abnormal\n",
            "Copied b0095.wav to /content/drive/MyDrive/Preprocessed1/train/abnormal\n",
            "Copied e00244.wav to /content/drive/MyDrive/Preprocessed1/train/abnormal\n",
            "Copied e00251.wav to /content/drive/MyDrive/Preprocessed1/train/abnormal\n",
            "Copied e00245.wav to /content/drive/MyDrive/Preprocessed1/train/abnormal\n",
            "Copied e00906.wav to /content/drive/MyDrive/Preprocessed1/train/abnormal\n",
            "Copied e00735.wav to /content/drive/MyDrive/Preprocessed1/train/abnormal\n",
            "Copied e01417.wav to /content/drive/MyDrive/Preprocessed1/train/abnormal\n",
            "Copied e00084.wav to /content/drive/MyDrive/Preprocessed1/train/abnormal\n",
            "Copied e00090.wav to /content/drive/MyDrive/Preprocessed1/train/abnormal\n",
            "Copied e00721.wav to /content/drive/MyDrive/Preprocessed1/train/abnormal\n",
            "Copied e01371.wav to /content/drive/MyDrive/Preprocessed1/train/abnormal\n",
            "Copied b0283.wav to /content/drive/MyDrive/Preprocessed1/train/abnormal\n",
            "Copied e01403.wav to /content/drive/MyDrive/Preprocessed1/train/abnormal\n",
            "Copied b0240.wav to /content/drive/MyDrive/Preprocessed1/train/abnormal\n",
            "Copied e02136.wav to /content/drive/MyDrive/Preprocessed1/train/abnormal\n",
            "Copied e00709.wav to /content/drive/MyDrive/Preprocessed1/train/abnormal\n",
            "Copied e01211.wav to /content/drive/MyDrive/Preprocessed1/train/abnormal\n",
            "Copied e00655.wav to /content/drive/MyDrive/Preprocessed1/train/abnormal\n",
            "Copied e02095.wav to /content/drive/MyDrive/Preprocessed1/train/abnormal\n",
            "Copied e00899.wav to /content/drive/MyDrive/Preprocessed1/train/abnormal\n",
            "Copied e00641.wav to /content/drive/MyDrive/Preprocessed1/train/abnormal\n",
            "Copied b0320.wav to /content/drive/MyDrive/Preprocessed1/train/abnormal\n",
            "Copied e00696.wav to /content/drive/MyDrive/Preprocessed1/train/abnormal\n",
            "Copied e02081.wav to /content/drive/MyDrive/Preprocessed1/train/abnormal\n",
            "Copied e02042.wav to /content/drive/MyDrive/Preprocessed1/train/abnormal\n",
            "Copied e01563.wav to /content/drive/MyDrive/Preprocessed1/train/abnormal\n",
            "Copied e00494.wav to /content/drive/MyDrive/Preprocessed1/train/abnormal\n",
            "Copied e00496.wav to /content/drive/MyDrive/Preprocessed1/train/abnormal\n",
            "Copied e01946.wav to /content/drive/MyDrive/Preprocessed1/train/abnormal\n",
            "Copied b0134.wav to /content/drive/MyDrive/Preprocessed1/train/abnormal\n",
            "Copied e01950.wav to /content/drive/MyDrive/Preprocessed1/train/abnormal\n",
            "Copied e00480.wav to /content/drive/MyDrive/Preprocessed1/train/abnormal\n",
            "Copied e01007.wav to /content/drive/MyDrive/Preprocessed1/train/abnormal\n",
            "Copied e01952.wav to /content/drive/MyDrive/Preprocessed1/train/abnormal\n",
            "Copied e00482.wav to /content/drive/MyDrive/Preprocessed1/train/abnormal\n",
            "Copied e01944.wav to /content/drive/MyDrive/Preprocessed1/train/abnormal\n",
            "Copied e01761.wav to /content/drive/MyDrive/Preprocessed1/train/abnormal\n",
            "Copied e00469.wav to /content/drive/MyDrive/Preprocessed1/train/abnormal\n",
            "Copied e01987.wav to /content/drive/MyDrive/Preprocessed1/train/abnormal\n",
            "Copied b0336.wav to /content/drive/MyDrive/Preprocessed1/train/abnormal\n",
            "Copied e01763.wav to /content/drive/MyDrive/Preprocessed1/train/abnormal\n",
            "Copied e00333.wav to /content/drive/MyDrive/Preprocessed1/train/abnormal\n",
            "Copied e01005.wav to /content/drive/MyDrive/Preprocessed1/train/abnormal\n",
            "Copied e01039.wav to /content/drive/MyDrive/Preprocessed1/train/abnormal\n",
            "Copied e00441.wav to /content/drive/MyDrive/Preprocessed1/train/abnormal\n",
            "Copied e00858.wav to /content/drive/MyDrive/Preprocessed1/train/abnormal\n",
            "Copied e00694.wav to /content/drive/MyDrive/Preprocessed1/train/abnormal\n",
            "Copied e00131.wav to /content/drive/MyDrive/Preprocessed1/train/abnormal\n",
            "Copied e01207.wav to /content/drive/MyDrive/Preprocessed1/train/abnormal\n",
            "Copied b0478.wav to /content/drive/MyDrive/Preprocessed1/train/abnormal\n",
            "Copied e02040.wav to /content/drive/MyDrive/Preprocessed1/train/abnormal\n",
            "Copied e00938.wav to /content/drive/MyDrive/Preprocessed1/train/abnormal\n",
            "Copied e01213.wav to /content/drive/MyDrive/Preprocessed1/train/abnormal\n",
            "Copied e00904.wav to /content/drive/MyDrive/Preprocessed1/train/abnormal\n",
            "Copied e01575.wav to /content/drive/MyDrive/Preprocessed1/train/abnormal\n",
            "Copied b0256.wav to /content/drive/MyDrive/Preprocessed1/train/abnormal\n",
            "Copied e00910.wav to /content/drive/MyDrive/Preprocessed1/train/abnormal\n",
            "Copied e00643.wav to /content/drive/MyDrive/Preprocessed1/train/abnormal\n",
            "Copied e00086.wav to /content/drive/MyDrive/Preprocessed1/train/abnormal\n",
            "Copied e01401.wav to /content/drive/MyDrive/Preprocessed1/train/abnormal\n",
            "Copied e02134.wav to /content/drive/MyDrive/Preprocessed1/train/abnormal\n",
            "Copied e01429.wav to /content/drive/MyDrive/Preprocessed1/train/abnormal\n",
            "Copied e00051.wav to /content/drive/MyDrive/Preprocessed1/train/abnormal\n",
            "Copied e02120.wav to /content/drive/MyDrive/Preprocessed1/train/abnormal\n",
            "Copied e01415.wav to /content/drive/MyDrive/Preprocessed1/train/abnormal\n",
            "Copied e01171.wav to /content/drive/MyDrive/Preprocessed1/train/abnormal\n",
            "Copied e00290.wav to /content/drive/MyDrive/Preprocessed1/train/abnormal\n",
            "Copied e00521.wav to /content/drive/MyDrive/Preprocessed1/train/abnormal\n",
            "Copied b0083.wav to /content/drive/MyDrive/Preprocessed1/train/abnormal\n",
            "Copied e01617.wav to /content/drive/MyDrive/Preprocessed1/train/abnormal\n",
            "Copied e00284.wav to /content/drive/MyDrive/Preprocessed1/train/abnormal\n",
            "Copied b0097.wav to /content/drive/MyDrive/Preprocessed1/train/abnormal\n",
            "Copied e00509.wav to /content/drive/MyDrive/Preprocessed1/train/abnormal\n",
            "Copied e01428.wav to /content/drive/MyDrive/Preprocessed1/train/abnormal\n",
            "Copied e01170.wav to /content/drive/MyDrive/Preprocessed1/train/abnormal\n",
            "Copied e00736.wav to /content/drive/MyDrive/Preprocessed1/train/abnormal\n",
            "Copied e01616.wav to /content/drive/MyDrive/Preprocessed1/train/abnormal\n",
            "Copied e01831.wav to /content/drive/MyDrive/Preprocessed1/train/abnormal\n",
            "Copied e00252.wav to /content/drive/MyDrive/Preprocessed1/train/abnormal\n",
            "Copied a0141.wav to /content/drive/MyDrive/Preprocessed1/train/abnormal\n",
            "Copied e01819.wav to /content/drive/MyDrive/Preprocessed1/train/abnormal\n",
            "Copied b0082.wav to /content/drive/MyDrive/Preprocessed1/train/abnormal\n",
            "Copied e01825.wav to /content/drive/MyDrive/Preprocessed1/train/abnormal\n",
            "Copied e02055.wav to /content/drive/MyDrive/Preprocessed1/train/abnormal\n",
            "Copied e00905.wav to /content/drive/MyDrive/Preprocessed1/train/abnormal\n",
            "Copied e00911.wav to /content/drive/MyDrive/Preprocessed1/train/abnormal\n",
            "Copied e00093.wav to /content/drive/MyDrive/Preprocessed1/train/abnormal\n",
            "Copied e01366.wav to /content/drive/MyDrive/Preprocessed1/train/abnormal\n",
            "Copied e00124.wav to /content/drive/MyDrive/Preprocessed1/train/abnormal\n",
            "Copied e00642.wav to /content/drive/MyDrive/Preprocessed1/train/abnormal\n",
            "Copied e00722.wav to /content/drive/MyDrive/Preprocessed1/train/abnormal\n",
            "Copied b0294.wav to /content/drive/MyDrive/Preprocessed1/train/abnormal\n",
            "Copied e02109.wav to /content/drive/MyDrive/Preprocessed1/train/abnormal\n",
            "Copied e01206.wav to /content/drive/MyDrive/Preprocessed1/train/abnormal\n",
            "Copied e01986.wav to /content/drive/MyDrive/Preprocessed1/train/abnormal\n",
            "Copied e00118.wav to /content/drive/MyDrive/Preprocessed1/train/abnormal\n",
            "Copied e00681.wav to /content/drive/MyDrive/Preprocessed1/train/abnormal\n",
            "Copied e02082.wav to /content/drive/MyDrive/Preprocessed1/train/abnormal\n",
            "Copied b0445.wav to /content/drive/MyDrive/Preprocessed1/train/abnormal\n",
            "Copied e01212.wav to /content/drive/MyDrive/Preprocessed1/train/abnormal\n",
            "Copied b0486.wav to /content/drive/MyDrive/Preprocessed1/train/abnormal\n",
            "Copied e00695.wav to /content/drive/MyDrive/Preprocessed1/train/abnormal\n",
            "Copied a0009.wav to /content/drive/MyDrive/Preprocessed1/train/abnormal\n",
            "Copied e00440.wav to /content/drive/MyDrive/Preprocessed1/train/abnormal\n",
            "Copied e01560.wav to /content/drive/MyDrive/Preprocessed1/train/abnormal\n",
            "Copied e02096.wav to /content/drive/MyDrive/Preprocessed1/train/abnormal\n",
            "Copied b0337.wav to /content/drive/MyDrive/Preprocessed1/train/abnormal\n",
            "Copied e01996.wav to /content/drive/MyDrive/Preprocessed1/train/abnormal\n",
            "Copied e00322.wav to /content/drive/MyDrive/Preprocessed1/train/abnormal\n",
            "Copied e01951.wav to /content/drive/MyDrive/Preprocessed1/train/abnormal\n",
            "Copied e00497.wav to /content/drive/MyDrive/Preprocessed1/train/abnormal\n",
            "Copied e00493.wav to /content/drive/MyDrive/Preprocessed1/train/abnormal\n",
            "Copied e01010.wav to /content/drive/MyDrive/Preprocessed1/train/abnormal\n",
            "Copied e01762.wav to /content/drive/MyDrive/Preprocessed1/train/abnormal\n",
            "Copied e00468.wav to /content/drive/MyDrive/Preprocessed1/train/abnormal\n",
            "Copied a0035.wav to /content/drive/MyDrive/Preprocessed1/train/abnormal\n",
            "Copied e01955.wav to /content/drive/MyDrive/Preprocessed1/train/abnormal\n",
            "Copied e01776.wav to /content/drive/MyDrive/Preprocessed1/train/abnormal\n",
            "Copied a0019.wav to /content/drive/MyDrive/Preprocessed1/train/abnormal\n",
            "Copied e00875.wav to /content/drive/MyDrive/Preprocessed1/train/abnormal\n",
            "Copied b0333.wav to /content/drive/MyDrive/Preprocessed1/train/abnormal\n",
            "Copied b0441.wav to /content/drive/MyDrive/Preprocessed1/train/abnormal\n",
            "Copied e02092.wav to /content/drive/MyDrive/Preprocessed1/train/abnormal\n",
            "Copied e00652.wav to /content/drive/MyDrive/Preprocessed1/train/abnormal\n",
            "Copied e01000.wav to /content/drive/MyDrive/Preprocessed1/train/abnormal\n",
            "Copied e00646.wav to /content/drive/MyDrive/Preprocessed1/train/abnormal\n",
            "Copied e00478.wav to /content/drive/MyDrive/Preprocessed1/train/abnormal\n",
            "Copied e02045.wav to /content/drive/MyDrive/Preprocessed1/train/abnormal\n",
            "Copied e01216.wav to /content/drive/MyDrive/Preprocessed1/train/abnormal\n",
            "Copied e01982.wav to /content/drive/MyDrive/Preprocessed1/train/abnormal\n",
            "Copied e01558.wav to /content/drive/MyDrive/Preprocessed1/train/abnormal\n",
            "Copied e02086.wav to /content/drive/MyDrive/Preprocessed1/train/abnormal\n",
            "Copied e01362.wav to /content/drive/MyDrive/Preprocessed1/train/abnormal\n",
            "Copied b0482.wav to /content/drive/MyDrive/Preprocessed1/train/abnormal\n",
            "Copied e00726.wav to /content/drive/MyDrive/Preprocessed1/train/abnormal\n",
            "Copied e01202.wav to /content/drive/MyDrive/Preprocessed1/train/abnormal\n",
            "Copied e01564.wav to /content/drive/MyDrive/Preprocessed1/train/abnormal\n",
            "Copied a0227.wav to /content/drive/MyDrive/Preprocessed1/train/abnormal\n",
            "Copied e00054.wav to /content/drive/MyDrive/Preprocessed1/train/abnormal\n",
            "Copied e02131.wav to /content/drive/MyDrive/Preprocessed1/train/abnormal\n",
            "Copied e02079.wav to /content/drive/MyDrive/Preprocessed1/train/abnormal\n",
            "Copied e01438.wav to /content/drive/MyDrive/Preprocessed1/train/abnormal\n",
            "Copied e01570.wav to /content/drive/MyDrive/Preprocessed1/train/abnormal\n",
            "Copied e00083.wav to /content/drive/MyDrive/Preprocessed1/train/abnormal\n",
            "Copied e02125.wav to /content/drive/MyDrive/Preprocessed1/train/abnormal\n",
            "Copied b0079.wav to /content/drive/MyDrive/Preprocessed1/train/abnormal\n",
            "Copied e01835.wav to /content/drive/MyDrive/Preprocessed1/train/abnormal\n",
            "Copied e01821.wav to /content/drive/MyDrive/Preprocessed1/train/abnormal\n",
            "Copied b0290.wav to /content/drive/MyDrive/Preprocessed1/train/abnormal\n",
            "Copied a0179.wav to /content/drive/MyDrive/Preprocessed1/train/abnormal\n",
            "Copied e00530.wav to /content/drive/MyDrive/Preprocessed1/train/abnormal\n",
            "Copied e01809.wav to /content/drive/MyDrive/Preprocessed1/train/abnormal\n",
            "Copied e00242.wav to /content/drive/MyDrive/Preprocessed1/train/abnormal\n",
            "Copied b0051.wav to /content/drive/MyDrive/Preprocessed1/train/abnormal\n",
            "Copied b0093.wav to /content/drive/MyDrive/Preprocessed1/train/abnormal\n",
            "Copied d0015.wav to /content/drive/MyDrive/Preprocessed1/train/abnormal\n",
            "Copied d0001.wav to /content/drive/MyDrive/Preprocessed1/train/abnormal\n",
            "Copied e01612.wav to /content/drive/MyDrive/Preprocessed1/train/abnormal\n",
            "Copied e01175.wav to /content/drive/MyDrive/Preprocessed1/train/abnormal\n",
            "Copied e01613.wav to /content/drive/MyDrive/Preprocessed1/train/abnormal\n",
            "Copied e01174.wav to /content/drive/MyDrive/Preprocessed1/train/abnormal\n",
            "Copied e00257.wav to /content/drive/MyDrive/Preprocessed1/train/abnormal\n",
            "Copied b0044.wav to /content/drive/MyDrive/Preprocessed1/train/abnormal\n",
            "Copied e00243.wav to /content/drive/MyDrive/Preprocessed1/train/abnormal\n",
            "Copied e02118.wav to /content/drive/MyDrive/Preprocessed1/train/abnormal\n",
            "Copied e01808.wav to /content/drive/MyDrive/Preprocessed1/train/abnormal\n",
            "Copied b0078.wav to /content/drive/MyDrive/Preprocessed1/train/abnormal\n",
            "Copied e00525.wav to /content/drive/MyDrive/Preprocessed1/train/abnormal\n",
            "Copied a0408.wav to /content/drive/MyDrive/Preprocessed1/train/abnormal\n",
            "Copied e00733.wav to /content/drive/MyDrive/Preprocessed1/train/abnormal\n",
            "Copied e01405.wav to /content/drive/MyDrive/Preprocessed1/train/abnormal\n",
            "Copied b0291.wav to /content/drive/MyDrive/Preprocessed1/train/abnormal\n",
            "Copied e01377.wav to /content/drive/MyDrive/Preprocessed1/train/abnormal\n",
            "Copied e02130.wav to /content/drive/MyDrive/Preprocessed1/train/abnormal\n",
            "Copied e01411.wav to /content/drive/MyDrive/Preprocessed1/train/abnormal\n",
            "Copied a0352.wav to /content/drive/MyDrive/Preprocessed1/train/abnormal\n",
            "Copied e00041.wav to /content/drive/MyDrive/Preprocessed1/train/abnormal\n",
            "Copied e00727.wav to /content/drive/MyDrive/Preprocessed1/train/abnormal\n",
            "Copied e00055.wav to /content/drive/MyDrive/Preprocessed1/train/abnormal\n",
            "Copied e01363.wav to /content/drive/MyDrive/Preprocessed1/train/abnormal\n",
            "Copied b0246.wav to /content/drive/MyDrive/Preprocessed1/train/abnormal\n",
            "Copied e00928.wav to /content/drive/MyDrive/Preprocessed1/train/abnormal\n",
            "Copied e00914.wav to /content/drive/MyDrive/Preprocessed1/train/abnormal\n",
            "Copied e02078.wav to /content/drive/MyDrive/Preprocessed1/train/abnormal\n",
            "Copied e01217.wav to /content/drive/MyDrive/Preprocessed1/train/abnormal\n",
            "Copied e00082.wav to /content/drive/MyDrive/Preprocessed1/train/abnormal\n",
            "Copied e00900.wav to /content/drive/MyDrive/Preprocessed1/train/abnormal\n",
            "Copied e00109.wav to /content/drive/MyDrive/Preprocessed1/train/abnormal\n",
            "Copied a0385.wav to /content/drive/MyDrive/Preprocessed1/train/abnormal\n",
            "Copied e00684.wav to /content/drive/MyDrive/Preprocessed1/train/abnormal\n",
            "Copied b0326.wav to /content/drive/MyDrive/Preprocessed1/train/abnormal\n",
            "Copied b0332.wav to /content/drive/MyDrive/Preprocessed1/train/abnormal\n",
            "Copied e02087.wav to /content/drive/MyDrive/Preprocessed1/train/abnormal\n",
            "Copied e00848.wav to /content/drive/MyDrive/Preprocessed1/train/abnormal\n",
            "Copied e00874.wav to /content/drive/MyDrive/Preprocessed1/train/abnormal\n",
            "Copied e01015.wav to /content/drive/MyDrive/Preprocessed1/train/abnormal\n",
            "Copied e00479.wav to /content/drive/MyDrive/Preprocessed1/train/abnormal\n",
            "Copied e00121.wav to /content/drive/MyDrive/Preprocessed1/train/abnormal\n",
            "Copied e02093.wav to /content/drive/MyDrive/Preprocessed1/train/abnormal\n",
            "Copied e00690.wav to /content/drive/MyDrive/Preprocessed1/train/abnormal\n",
            "Copied e00492.wav to /content/drive/MyDrive/Preprocessed1/train/abnormal\n",
            "Copied e00337.wav to /content/drive/MyDrive/Preprocessed1/train/abnormal\n",
            "Copied e01954.wav to /content/drive/MyDrive/Preprocessed1/train/abnormal\n",
            "Copied e00484.wav to /content/drive/MyDrive/Preprocessed1/train/abnormal\n",
            "Copied e00451.wav to /content/drive/MyDrive/Preprocessed1/train/abnormal\n",
            "Copied e01759.wav to /content/drive/MyDrive/Preprocessed1/train/abnormal\n",
            "Copied b0132.wav to /content/drive/MyDrive/Preprocessed1/train/abnormal\n",
            "Copied b0118.wav to /content/drive/MyDrive/Preprocessed1/train/abnormal\n",
            "Copied e01798.wav to /content/drive/MyDrive/Preprocessed1/train/abnormal\n",
            "Copied e01942.wav to /content/drive/MyDrive/Preprocessed1/train/abnormal\n",
            "Copied e00447.wav to /content/drive/MyDrive/Preprocessed1/train/abnormal\n",
            "Copied e00692.wav to /content/drive/MyDrive/Preprocessed1/train/abnormal\n",
            "Copied e00453.wav to /content/drive/MyDrive/Preprocessed1/train/abnormal\n",
            "Copied e00309.wav to /content/drive/MyDrive/Preprocessed1/train/abnormal\n",
            "Copied e01003.wav to /content/drive/MyDrive/Preprocessed1/train/abnormal\n",
            "Copied e00876.wav to /content/drive/MyDrive/Preprocessed1/train/abnormal\n",
            "Copied e00335.wav to /content/drive/MyDrive/Preprocessed1/train/abnormal\n",
            "Copied e01771.wav to /content/drive/MyDrive/Preprocessed1/train/abnormal\n",
            "Copied b0330.wav to /content/drive/MyDrive/Preprocessed1/train/abnormal\n",
            "Copied e00123.wav to /content/drive/MyDrive/Preprocessed1/train/abnormal\n",
            "Copied e01598.wav to /content/drive/MyDrive/Preprocessed1/train/abnormal\n",
            "Copied a0032.wav to /content/drive/MyDrive/Preprocessed1/train/abnormal\n",
            "Copied e00916.wav to /content/drive/MyDrive/Preprocessed1/train/abnormal\n",
            "Copied e00137.wav to /content/drive/MyDrive/Preprocessed1/train/abnormal\n",
            "Copied e01229.wav to /content/drive/MyDrive/Preprocessed1/train/abnormal\n",
            "Copied e01201.wav to /content/drive/MyDrive/Preprocessed1/train/abnormal\n",
            "Copied b0481.wav to /content/drive/MyDrive/Preprocessed1/train/abnormal\n",
            "Copied b0250.wav to /content/drive/MyDrive/Preprocessed1/train/abnormal\n",
            "Copied e00902.wav to /content/drive/MyDrive/Preprocessed1/train/abnormal\n",
            "Copied e02052.wav to /content/drive/MyDrive/Preprocessed1/train/abnormal\n",
            "Copied a0393.wav to /content/drive/MyDrive/Preprocessed1/train/abnormal\n",
            "Copied e01413.wav to /content/drive/MyDrive/Preprocessed1/train/abnormal\n",
            "Copied e01407.wav to /content/drive/MyDrive/Preprocessed1/train/abnormal\n",
            "Copied e00296.wav to /content/drive/MyDrive/Preprocessed1/train/abnormal\n",
            "Copied b0244.wav to /content/drive/MyDrive/Preprocessed1/train/abnormal\n",
            "Copied e02132.wav to /content/drive/MyDrive/Preprocessed1/train/abnormal\n",
            "Copied e00725.wav to /content/drive/MyDrive/Preprocessed1/train/abnormal\n",
            "Copied e00043.wav to /content/drive/MyDrive/Preprocessed1/train/abnormal\n",
            "Copied e01361.wav to /content/drive/MyDrive/Preprocessed1/train/abnormal\n",
            "Copied e01836.wav to /content/drive/MyDrive/Preprocessed1/train/abnormal\n",
            "Copied e00282.wav to /content/drive/MyDrive/Preprocessed1/train/abnormal\n",
            "Copied e01604.wav to /content/drive/MyDrive/Preprocessed1/train/abnormal\n",
            "Copied b0085.wav to /content/drive/MyDrive/Preprocessed1/train/abnormal\n",
            "Copied b0084.wav to /content/drive/MyDrive/Preprocessed1/train/abnormal\n",
            "Copied b0091.wav to /content/drive/MyDrive/Preprocessed1/train/abnormal\n",
            "Copied b0052.wav to /content/drive/MyDrive/Preprocessed1/train/abnormal\n",
            "Copied e01611.wav to /content/drive/MyDrive/Preprocessed1/train/abnormal\n",
            "Copied e00241.wav to /content/drive/MyDrive/Preprocessed1/train/abnormal\n",
            "Copied e01610.wav to /content/drive/MyDrive/Preprocessed1/train/abnormal\n",
            "Copied e01163.wav to /content/drive/MyDrive/Preprocessed1/train/abnormal\n",
            "Copied e01162.wav to /content/drive/MyDrive/Preprocessed1/train/abnormal\n",
            "Copied e01639.wav to /content/drive/MyDrive/Preprocessed1/train/abnormal\n",
            "Copied d0016.wav to /content/drive/MyDrive/Preprocessed1/train/abnormal\n",
            "Copied e01837.wav to /content/drive/MyDrive/Preprocessed1/train/abnormal\n",
            "Copied b0053.wav to /content/drive/MyDrive/Preprocessed1/train/abnormal\n",
            "Copied e01823.wav to /content/drive/MyDrive/Preprocessed1/train/abnormal\n",
            "Copied e01189.wav to /content/drive/MyDrive/Preprocessed1/train/abnormal\n",
            "Copied a0153.wav to /content/drive/MyDrive/Preprocessed1/train/abnormal\n",
            "Copied e01360.wav to /content/drive/MyDrive/Preprocessed1/train/abnormal\n",
            "Copied e00268.wav to /content/drive/MyDrive/Preprocessed1/train/abnormal\n",
            "Copied e00254.wav to /content/drive/MyDrive/Preprocessed1/train/abnormal\n",
            "Copied b0090.wav to /content/drive/MyDrive/Preprocessed1/train/abnormal\n",
            "Copied b0047.wav to /content/drive/MyDrive/Preprocessed1/train/abnormal\n",
            "Copied e00240.wav to /content/drive/MyDrive/Preprocessed1/train/abnormal\n",
            "Copied e01200.wav to /content/drive/MyDrive/Preprocessed1/train/abnormal\n",
            "Copied a0231.wav to /content/drive/MyDrive/Preprocessed1/train/abnormal\n",
            "Copied e00903.wav to /content/drive/MyDrive/Preprocessed1/train/abnormal\n",
            "Copied e00730.wav to /content/drive/MyDrive/Preprocessed1/train/abnormal\n",
            "Copied e01348.wav to /content/drive/MyDrive/Preprocessed1/train/abnormal\n",
            "Copied e00095.wav to /content/drive/MyDrive/Preprocessed1/train/abnormal\n",
            "Copied a0386.wav to /content/drive/MyDrive/Preprocessed1/train/abnormal\n",
            "Copied e01214.wav to /content/drive/MyDrive/Preprocessed1/train/abnormal\n",
            "Copied b0245.wav to /content/drive/MyDrive/Preprocessed1/train/abnormal\n",
            "Copied a0351.wav to /content/drive/MyDrive/Preprocessed1/train/abnormal\n",
            "Copied e02090.wav to /content/drive/MyDrive/Preprocessed1/train/abnormal\n",
            "Copied e01228.wav to /content/drive/MyDrive/Preprocessed1/train/abnormal\n",
            "Copied e00863.wav to /content/drive/MyDrive/Preprocessed1/train/abnormal\n",
            "Copied e01599.wav to /content/drive/MyDrive/Preprocessed1/train/abnormal\n",
            "Copied b0325.wav to /content/drive/MyDrive/Preprocessed1/train/abnormal\n",
            "Copied b0331.wav to /content/drive/MyDrive/Preprocessed1/train/abnormal\n",
            "Copied e00136.wav to /content/drive/MyDrive/Preprocessed1/train/abnormal\n",
            "Copied e02084.wav to /content/drive/MyDrive/Preprocessed1/train/abnormal\n",
            "Copied e02047.wav to /content/drive/MyDrive/Preprocessed1/train/abnormal\n",
            "Copied b0457.wav to /content/drive/MyDrive/Preprocessed1/train/abnormal\n",
            "Copied e02053.wav to /content/drive/MyDrive/Preprocessed1/train/abnormal\n",
            "Copied e00308.wav to /content/drive/MyDrive/Preprocessed1/train/abnormal\n",
            "Copied e00644.wav to /content/drive/MyDrive/Preprocessed1/train/abnormal\n",
            "Copied e01770.wav to /content/drive/MyDrive/Preprocessed1/train/abnormal\n",
            "Copied e01994.wav to /content/drive/MyDrive/Preprocessed1/train/abnormal\n",
            "Copied a0027.wav to /content/drive/MyDrive/Preprocessed1/train/abnormal\n",
            "Copied e00452.wav to /content/drive/MyDrive/Preprocessed1/train/abnormal\n",
            "Copied b0133.wav to /content/drive/MyDrive/Preprocessed1/train/abnormal\n",
            "Copied e00446.wav to /content/drive/MyDrive/Preprocessed1/train/abnormal\n",
            "Copied e01002.wav to /content/drive/MyDrive/Preprocessed1/train/abnormal\n",
            "Copied e00334.wav to /content/drive/MyDrive/Preprocessed1/train/abnormal\n",
            "Copied e01957.wav to /content/drive/MyDrive/Preprocessed1/train/abnormal\n",
            "Copied e01924.wav to /content/drive/MyDrive/Preprocessed1/train/abnormal\n",
            "Copied e00384.wav to /content/drive/MyDrive/Preprocessed1/train/abnormal\n",
            "Copied e01918.wav to /content/drive/MyDrive/Preprocessed1/train/abnormal\n",
            "Copied b0168.wav to /content/drive/MyDrive/Preprocessed1/train/abnormal\n",
            "Copied e01065.wav to /content/drive/MyDrive/Preprocessed1/train/abnormal\n",
            "Copied e01717.wav to /content/drive/MyDrive/Preprocessed1/train/abnormal\n",
            "Copied e01071.wav to /content/drive/MyDrive/Preprocessed1/train/abnormal\n",
            "Copied e00192.wav to /content/drive/MyDrive/Preprocessed1/train/abnormal\n",
            "Copied b0356.wav to /content/drive/MyDrive/Preprocessed1/train/abnormal\n"
          ]
        }
      ],
      "source": [
        "import pandas as pd\n",
        "import os\n",
        "import shutil\n",
        "\n",
        "# Load the CSV file\n",
        "df = pd.read_csv('/content/sample_data/outcome_0.csv')\n",
        "\n",
        "# Extract the recording IDs from the CSV file\n",
        "recording_ids_in_csv = set(df['recording_id'])\n",
        "\n",
        "# Define the source folder\n",
        "source_folder = '/content/drive/MyDrive/preprocessed_recordings_10s'\n",
        "\n",
        "# Define the destination folder where abnormal .wav files will be saved\n",
        "destination_folder = '/content/drive/MyDrive/Preprocessed1/train/abnormal'\n",
        "\n",
        "# Create the destination folder if it doesn't exist\n",
        "os.makedirs(destination_folder, exist_ok=True)\n",
        "\n",
        "# Loop through the files in the source folder\n",
        "for filename in os.listdir(source_folder):\n",
        "    if filename.endswith(\".wav\"):\n",
        "        recording_id = os.path.splitext(filename)[0]  # Extract recording ID from the filename\n",
        "\n",
        "        # Check if the recording ID is in the CSV file\n",
        "        if recording_id in recording_ids_in_csv:\n",
        "            source_path = os.path.join(source_folder, filename)\n",
        "            destination_path = os.path.join(destination_folder, filename)\n",
        "\n",
        "            # Copy the .wav file to the destination folder\n",
        "            shutil.copyfile(source_path, destination_path)\n",
        "            print(f'Copied {filename} to {destination_folder}')"
      ]
    },
    {
      "cell_type": "code",
      "source": [
        "import pandas as pd\n",
        "import os\n",
        "import shutil\n",
        "\n",
        "# Load the CSV file\n",
        "df = pd.read_csv('/content/sample_data/outcome_1_val.csv')\n",
        "\n",
        "# Extract the recording IDs from the CSV file\n",
        "recording_ids_in_csv = set(df['recording_id'])\n",
        "\n",
        "# Define the source folder\n",
        "source_folder = '/content/drive/MyDrive/preprocessed_recordings_10s'\n",
        "\n",
        "# Define the destination folder where normal .wav files will be saved\n",
        "destination_folder = '/content/drive/MyDrive/Preprocessed1/Validation/normal'\n",
        "\n",
        "# Create the destination folder if it doesn't exist\n",
        "os.makedirs(destination_folder, exist_ok=True)\n",
        "\n",
        "# Loop through the files in the source folder\n",
        "for filename in os.listdir(source_folder):\n",
        "    if filename.endswith(\".wav\"):\n",
        "        recording_id = os.path.splitext(filename)[0]  # Extract recording ID from the filename\n",
        "\n",
        "        # Check if the recording ID is in the CSV file\n",
        "        if recording_id in recording_ids_in_csv:\n",
        "            source_path = os.path.join(source_folder, filename)\n",
        "            destination_path = os.path.join(destination_folder, filename)\n",
        "\n",
        "            # Copy the .wav file to the destination folder\n",
        "            shutil.copyfile(source_path, destination_path)\n",
        "            print(f'Copied {filename} to {destination_folder}')"
      ],
      "metadata": {
        "colab": {
          "base_uri": "https://localhost:8080/"
        },
        "id": "W2bkYMlePTmm",
        "outputId": "6c53140d-12d5-4b01-ae09-4d8895bd0974"
      },
      "execution_count": null,
      "outputs": [
        {
          "output_type": "stream",
          "name": "stdout",
          "text": [
            "Copied c0002.wav to /content/drive/MyDrive/Preprocessed1/Validation/normal\n",
            "Copied a0112.wav to /content/drive/MyDrive/Preprocessed1/Validation/normal\n",
            "Copied b0164.wav to /content/drive/MyDrive/Preprocessed1/Validation/normal\n",
            "Copied b0428.wav to /content/drive/MyDrive/Preprocessed1/Validation/normal\n",
            "Copied e01848.wav to /content/drive/MyDrive/Preprocessed1/Validation/normal\n",
            "Copied e01479.wav to /content/drive/MyDrive/Preprocessed1/Validation/normal\n",
            "Copied c0014.wav to /content/drive/MyDrive/Preprocessed1/Validation/normal\n",
            "Copied a0065.wav to /content/drive/MyDrive/Preprocessed1/Validation/normal\n",
            "Copied a0059.wav to /content/drive/MyDrive/Preprocessed1/Validation/normal\n",
            "Copied b0171.wav to /content/drive/MyDrive/Preprocessed1/Validation/normal\n",
            "Copied a0002.wav to /content/drive/MyDrive/Preprocessed1/Validation/normal\n",
            "Copied a0214.wav to /content/drive/MyDrive/Preprocessed1/Validation/normal\n",
            "Copied a0374.wav to /content/drive/MyDrive/Preprocessed1/Validation/normal\n",
            "Copied d0033.wav to /content/drive/MyDrive/Preprocessed1/Validation/normal\n",
            "Copied a0162.wav to /content/drive/MyDrive/Preprocessed1/Validation/normal\n",
            "Copied a0163.wav to /content/drive/MyDrive/Preprocessed1/Validation/normal\n",
            "Copied a0375.wav to /content/drive/MyDrive/Preprocessed1/Validation/normal\n",
            "Copied a0377.wav to /content/drive/MyDrive/Preprocessed1/Validation/normal\n",
            "Copied a0363.wav to /content/drive/MyDrive/Preprocessed1/Validation/normal\n",
            "Copied e00266.wav to /content/drive/MyDrive/Preprocessed1/Validation/normal\n",
            "Copied d0019.wav to /content/drive/MyDrive/Preprocessed1/Validation/normal\n",
            "Copied e01623.wav to /content/drive/MyDrive/Preprocessed1/Validation/normal\n",
            "Copied e00059.wav to /content/drive/MyDrive/Preprocessed1/Validation/normal\n",
            "Copied a0014.wav to /content/drive/MyDrive/Preprocessed1/Validation/normal\n",
            "Copied e00461.wav to /content/drive/MyDrive/Preprocessed1/Validation/normal\n",
            "Copied a0399.wav to /content/drive/MyDrive/Preprocessed1/Validation/normal\n",
            "Copied a0400.wav to /content/drive/MyDrive/Preprocessed1/Validation/normal\n",
            "Copied a0159.wav to /content/drive/MyDrive/Preprocessed1/Validation/normal\n",
            "Copied e00114.wav to /content/drive/MyDrive/Preprocessed1/Validation/normal\n",
            "Copied e00841.wav to /content/drive/MyDrive/Preprocessed1/Validation/normal\n",
            "Copied e00880.wav to /content/drive/MyDrive/Preprocessed1/Validation/normal\n",
            "Copied a0371.wav to /content/drive/MyDrive/Preprocessed1/Validation/normal\n",
            "Copied e01383.wav to /content/drive/MyDrive/Preprocessed1/Validation/normal\n",
            "Copied a0370.wav to /content/drive/MyDrive/Preprocessed1/Validation/normal\n",
            "Copied b0106.wav to /content/drive/MyDrive/Preprocessed1/Validation/normal\n",
            "Copied e01105.wav to /content/drive/MyDrive/Preprocessed1/Validation/normal\n",
            "Copied a0121.wav to /content/drive/MyDrive/Preprocessed1/Validation/normal\n",
            "Copied a0135.wav to /content/drive/MyDrive/Preprocessed1/Validation/normal\n",
            "Copied e01689.wav to /content/drive/MyDrive/Preprocessed1/Validation/normal\n",
            "Copied c0024.wav to /content/drive/MyDrive/Preprocessed1/Validation/normal\n",
            "Copied a0043.wav to /content/drive/MyDrive/Preprocessed1/Validation/normal\n",
            "Copied a0057.wav to /content/drive/MyDrive/Preprocessed1/Validation/normal\n",
            "Copied a0255.wav to /content/drive/MyDrive/Preprocessed1/Validation/normal\n",
            "Copied e00152.wav to /content/drive/MyDrive/Preprocessed1/Validation/normal\n",
            "Copied e00967.wav to /content/drive/MyDrive/Preprocessed1/Validation/normal\n",
            "Copied b0221.wav to /content/drive/MyDrive/Preprocessed1/Validation/normal\n",
            "Copied b0023.wav to /content/drive/MyDrive/Preprocessed1/Validation/normal\n",
            "Copied e01846.wav to /content/drive/MyDrive/Preprocessed1/Validation/normal\n",
            "Copied a0308.wav to /content/drive/MyDrive/Preprocessed1/Validation/normal\n",
            "Copied a0320.wav to /content/drive/MyDrive/Preprocessed1/Validation/normal\n",
            "Copied a0268.wav to /content/drive/MyDrive/Preprocessed1/Validation/normal\n",
            "Copied a0240.wav to /content/drive/MyDrive/Preprocessed1/Validation/normal\n",
            "Copied a0042.wav to /content/drive/MyDrive/Preprocessed1/Validation/normal\n",
            "Copied e01711.wav to /content/drive/MyDrive/Preprocessed1/Validation/normal\n",
            "Copied b0422.wav to /content/drive/MyDrive/Preprocessed1/Validation/normal\n",
            "Copied a0278.wav to /content/drive/MyDrive/Preprocessed1/Validation/normal\n",
            "Copied e01665.wav to /content/drive/MyDrive/Preprocessed1/Validation/normal\n",
            "Copied a0279.wav to /content/drive/MyDrive/Preprocessed1/Validation/normal\n",
            "Copied a0286.wav to /content/drive/MyDrive/Preprocessed1/Validation/normal\n",
            "Copied b0437.wav to /content/drive/MyDrive/Preprocessed1/Validation/normal\n",
            "Copied a0291.wav to /content/drive/MyDrive/Preprocessed1/Validation/normal\n",
            "Copied a0087.wav to /content/drive/MyDrive/Preprocessed1/Validation/normal\n",
            "Copied c0010.wav to /content/drive/MyDrive/Preprocessed1/Validation/normal\n",
            "Copied a0115.wav to /content/drive/MyDrive/Preprocessed1/Validation/normal\n",
            "Copied e00824.wav to /content/drive/MyDrive/Preprocessed1/Validation/normal\n",
            "Copied a0262.wav to /content/drive/MyDrive/Preprocessed1/Validation/normal\n",
            "Copied e01084.wav to /content/drive/MyDrive/Preprocessed1/Validation/normal\n",
            "Copied e01457.wav to /content/drive/MyDrive/Preprocessed1/Validation/normal\n",
            "Copied b0016.wav to /content/drive/MyDrive/Preprocessed1/Validation/normal\n",
            "Copied a0116.wav to /content/drive/MyDrive/Preprocessed1/Validation/normal\n",
            "Copied d0046.wav to /content/drive/MyDrive/Preprocessed1/Validation/normal\n",
            "Copied a0261.wav to /content/drive/MyDrive/Preprocessed1/Validation/normal\n",
            "Copied a0098.wav to /content/drive/MyDrive/Preprocessed1/Validation/normal\n",
            "Copied a0023.wav to /content/drive/MyDrive/Preprocessed1/Validation/normal\n",
            "Copied a0369.wav to /content/drive/MyDrive/Preprocessed1/Validation/normal\n",
            "Copied e02137.wav to /content/drive/MyDrive/Preprocessed1/Validation/normal\n",
            "Copied a0397.wav to /content/drive/MyDrive/Preprocessed1/Validation/normal\n",
            "Copied b0446.wav to /content/drive/MyDrive/Preprocessed1/Validation/normal\n",
            "Copied a0234.wav to /content/drive/MyDrive/Preprocessed1/Validation/normal\n",
            "Copied b0450.wav to /content/drive/MyDrive/Preprocessed1/Validation/normal\n",
            "Copied a0020.wav to /content/drive/MyDrive/Preprocessed1/Validation/normal\n",
            "Copied e02097.wav to /content/drive/MyDrive/Preprocessed1/Validation/normal\n",
            "Copied b0242.wav to /content/drive/MyDrive/Preprocessed1/Validation/normal\n",
            "Copied a0381.wav to /content/drive/MyDrive/Preprocessed1/Validation/normal\n",
            "Copied b0054.wav to /content/drive/MyDrive/Preprocessed1/Validation/normal\n",
            "Copied d0039.wav to /content/drive/MyDrive/Preprocessed1/Validation/normal\n",
            "Copied d0004.wav to /content/drive/MyDrive/Preprocessed1/Validation/normal\n",
            "Copied e02135.wav to /content/drive/MyDrive/Preprocessed1/Validation/normal\n",
            "Copied a0169.wav to /content/drive/MyDrive/Preprocessed1/Validation/normal\n",
            "Copied b0257.wav to /content/drive/MyDrive/Preprocessed1/Validation/normal\n",
            "Copied a0223.wav to /content/drive/MyDrive/Preprocessed1/Validation/normal\n",
            "Copied e00929.wav to /content/drive/MyDrive/Preprocessed1/Validation/normal\n",
            "Copied a0192.wav to /content/drive/MyDrive/Preprocessed1/Validation/normal\n",
            "Copied a0151.wav to /content/drive/MyDrive/Preprocessed1/Validation/normal\n",
            "Copied a0187.wav to /content/drive/MyDrive/Preprocessed1/Validation/normal\n",
            "Copied a0391.wav to /content/drive/MyDrive/Preprocessed1/Validation/normal\n",
            "Copied e01559.wav to /content/drive/MyDrive/Preprocessed1/Validation/normal\n",
            "Copied e00135.wav to /content/drive/MyDrive/Preprocessed1/Validation/normal\n",
            "Copied a0026.wav to /content/drive/MyDrive/Preprocessed1/Validation/normal\n",
            "Copied a0224.wav to /content/drive/MyDrive/Preprocessed1/Validation/normal\n",
            "Copied a0344.wav to /content/drive/MyDrive/Preprocessed1/Validation/normal\n",
            "Copied a0378.wav to /content/drive/MyDrive/Preprocessed1/Validation/normal\n",
            "Copied e00526.wav to /content/drive/MyDrive/Preprocessed1/Validation/normal\n",
            "Copied a0392.wav to /content/drive/MyDrive/Preprocessed1/Validation/normal\n",
            "Copied e02133.wav to /content/drive/MyDrive/Preprocessed1/Validation/normal\n",
            "Copied b0319.wav to /content/drive/MyDrive/Preprocessed1/Validation/normal\n",
            "Copied a0033.wav to /content/drive/MyDrive/Preprocessed1/Validation/normal\n",
            "Copied a0040.wav to /content/drive/MyDrive/Preprocessed1/Validation/normal\n"
          ]
        }
      ]
    },
    {
      "cell_type": "code",
      "source": [
        "import pandas as pd\n",
        "import os\n",
        "import shutil\n",
        "\n",
        "# Load the CSV file\n",
        "df = pd.read_csv('/content/sample_data/outcome_0_val.csv')\n",
        "\n",
        "# Extract the recording IDs from the CSV file\n",
        "recording_ids_in_csv = set(df['recording_id'])\n",
        "\n",
        "# Define the source folder\n",
        "source_folder = '/content/drive/MyDrive/preprocessed_recordings_10s'\n",
        "\n",
        "# Define the destination folder where abnormal .wav files will be saved\n",
        "destination_folder = '/content/drive/MyDrive/Preprocessed1/Validation/abnormal'\n",
        "\n",
        "# Create the destination folder if it doesn't exist\n",
        "os.makedirs(destination_folder, exist_ok=True)\n",
        "\n",
        "# Loop through the files in the source folder\n",
        "for filename in os.listdir(source_folder):\n",
        "    if filename.endswith(\".wav\"):\n",
        "        recording_id = os.path.splitext(filename)[0]  # Extract recording ID from the filename\n",
        "\n",
        "        # Check if the recording ID is in the CSV file\n",
        "        if recording_id in recording_ids_in_csv:\n",
        "            source_path = os.path.join(source_folder, filename)\n",
        "            destination_path = os.path.join(destination_folder, filename)\n",
        "\n",
        "            # Copy the .wav file to the destination folder\n",
        "            shutil.copyfile(source_path, destination_path)\n",
        "            print(f'Copied {filename} to {destination_folder}')"
      ],
      "metadata": {
        "colab": {
          "base_uri": "https://localhost:8080/"
        },
        "id": "0dl36OYCPUKG",
        "outputId": "633ee3f3-58b8-4c32-a365-989a89a15896"
      },
      "execution_count": null,
      "outputs": [
        {
          "output_type": "stream",
          "name": "stdout",
          "text": [
            "Copied e00604.wav to /content/drive/MyDrive/Preprocessed1/Validation/abnormal\n",
            "Copied b0403.wav to /content/drive/MyDrive/Preprocessed1/Validation/abnormal\n",
            "Copied e02013.wav to /content/drive/MyDrive/Preprocessed1/Validation/abnormal\n",
            "Copied e00943.wav to /content/drive/MyDrive/Preprocessed1/Validation/abnormal\n",
            "Copied e00638.wav to /content/drive/MyDrive/Preprocessed1/Validation/abnormal\n",
            "Copied e00770.wav to /content/drive/MyDrive/Preprocessed1/Validation/abnormal\n",
            "Copied e00002.wav to /content/drive/MyDrive/Preprocessed1/Validation/abnormal\n",
            "Copied e00957.wav to /content/drive/MyDrive/Preprocessed1/Validation/abnormal\n",
            "Copied e01888.wav to /content/drive/MyDrive/Preprocessed1/Validation/abnormal\n",
            "Copied e00994.wav to /content/drive/MyDrive/Preprocessed1/Validation/abnormal\n",
            "Copied e00214.wav to /content/drive/MyDrive/Preprocessed1/Validation/abnormal\n",
            "Copied e00566.wav to /content/drive/MyDrive/Preprocessed1/Validation/abnormal\n",
            "Copied e01693.wav to /content/drive/MyDrive/Preprocessed1/Validation/abnormal\n",
            "Copied e01452.wav to /content/drive/MyDrive/Preprocessed1/Validation/abnormal\n",
            "Copied e00229.wav to /content/drive/MyDrive/Preprocessed1/Validation/abnormal\n",
            "Copied b0012.wav to /content/drive/MyDrive/Preprocessed1/Validation/abnormal\n",
            "Copied e01241.wav to /content/drive/MyDrive/Preprocessed1/Validation/abnormal\n",
            "Copied e01321.wav to /content/drive/MyDrive/Preprocessed1/Validation/abnormal\n",
            "Copied e01447.wav to /content/drive/MyDrive/Preprocessed1/Validation/abnormal\n",
            "Copied e01041.wav to /content/drive/MyDrive/Preprocessed1/Validation/abnormal\n",
            "Copied e01900.wav to /content/drive/MyDrive/Preprocessed1/Validation/abnormal\n",
            "Copied e00613.wav to /content/drive/MyDrive/Preprocessed1/Validation/abnormal\n",
            "Copied e00149.wav to /content/drive/MyDrive/Preprocessed1/Validation/abnormal\n",
            "Copied e02010.wav to /content/drive/MyDrive/Preprocessed1/Validation/abnormal\n",
            "Copied a0299.wav to /content/drive/MyDrive/Preprocessed1/Validation/abnormal\n",
            "Copied e00175.wav to /content/drive/MyDrive/Preprocessed1/Validation/abnormal\n",
            "Copied e01525.wav to /content/drive/MyDrive/Preprocessed1/Validation/abnormal\n",
            "Copied e01860.wav to /content/drive/MyDrive/Preprocessed1/Validation/abnormal\n",
            "Copied e00997.wav to /content/drive/MyDrive/Preprocessed1/Validation/abnormal\n",
            "Copied e01445.wav to /content/drive/MyDrive/Preprocessed1/Validation/abnormal\n",
            "Copied e01109.wav to /content/drive/MyDrive/Preprocessed1/Validation/abnormal\n",
            "Copied e01134.wav to /content/drive/MyDrive/Preprocessed1/Validation/abnormal\n",
            "Copied e00565.wav to /content/drive/MyDrive/Preprocessed1/Validation/abnormal\n",
            "Copied e01646.wav to /content/drive/MyDrive/Preprocessed1/Validation/abnormal\n",
            "Copied e01875.wav to /content/drive/MyDrive/Preprocessed1/Validation/abnormal\n",
            "Copied e00941.wav to /content/drive/MyDrive/Preprocessed1/Validation/abnormal\n",
            "Copied e00612.wav to /content/drive/MyDrive/Preprocessed1/Validation/abnormal\n",
            "Copied e00148.wav to /content/drive/MyDrive/Preprocessed1/Validation/abnormal\n",
            "Copied b0429.wav to /content/drive/MyDrive/Preprocessed1/Validation/abnormal\n",
            "Copied a0071.wav to /content/drive/MyDrive/Preprocessed1/Validation/abnormal\n",
            "Copied e00404.wav to /content/drive/MyDrive/Preprocessed1/Validation/abnormal\n",
            "Copied b0401.wav to /content/drive/MyDrive/Preprocessed1/Validation/abnormal\n",
            "Copied e01040.wav to /content/drive/MyDrive/Preprocessed1/Validation/abnormal\n",
            "Copied e01281.wav to /content/drive/MyDrive/Preprocessed1/Validation/abnormal\n",
            "Copied e00852.wav to /content/drive/MyDrive/Preprocessed1/Validation/abnormal\n",
            "Copied e01966.wav to /content/drive/MyDrive/Preprocessed1/Validation/abnormal\n",
            "Copied e01755.wav to /content/drive/MyDrive/Preprocessed1/Validation/abnormal\n",
            "Copied e00389.wav to /content/drive/MyDrive/Preprocessed1/Validation/abnormal\n",
            "Copied e01999.wav to /content/drive/MyDrive/Preprocessed1/Validation/abnormal\n",
            "Copied e00661.wav to /content/drive/MyDrive/Preprocessed1/Validation/abnormal\n",
            "Copied e01594.wav to /content/drive/MyDrive/Preprocessed1/Validation/abnormal\n",
            "Copied e01225.wav to /content/drive/MyDrive/Preprocessed1/Validation/abnormal\n",
            "Copied e00891.wav to /content/drive/MyDrive/Preprocessed1/Validation/abnormal\n",
            "Copied e00926.wav to /content/drive/MyDrive/Preprocessed1/Validation/abnormal\n",
            "Copied e00098.wav to /content/drive/MyDrive/Preprocessed1/Validation/abnormal\n",
            "Copied e01392.wav to /content/drive/MyDrive/Preprocessed1/Validation/abnormal\n",
            "Copied e00259.wav to /content/drive/MyDrive/Preprocessed1/Validation/abnormal\n",
            "Copied e01621.wav to /content/drive/MyDrive/Preprocessed1/Validation/abnormal\n",
            "Copied e00264.wav to /content/drive/MyDrive/Preprocessed1/Validation/abnormal\n",
            "Copied d0027.wav to /content/drive/MyDrive/Preprocessed1/Validation/abnormal\n",
            "Copied e01146.wav to /content/drive/MyDrive/Preprocessed1/Validation/abnormal\n",
            "Copied e01608.wav to /content/drive/MyDrive/Preprocessed1/Validation/abnormal\n",
            "Copied e01634.wav to /content/drive/MyDrive/Preprocessed1/Validation/abnormal\n",
            "Copied e00714.wav to /content/drive/MyDrive/Preprocessed1/Validation/abnormal\n",
            "Copied a0229.wav to /content/drive/MyDrive/Preprocessed1/Validation/abnormal\n",
            "Copied b0275.wav to /content/drive/MyDrive/Preprocessed1/Validation/abnormal\n",
            "Copied e00728.wav to /content/drive/MyDrive/Preprocessed1/Validation/abnormal\n",
            "Copied e00884.wav to /content/drive/MyDrive/Preprocessed1/Validation/abnormal\n",
            "Copied b0329.wav to /content/drive/MyDrive/Preprocessed1/Validation/abnormal\n",
            "Copied e01556.wav to /content/drive/MyDrive/Preprocessed1/Validation/abnormal\n",
            "Copied b0473.wav to /content/drive/MyDrive/Preprocessed1/Validation/abnormal\n",
            "Copied b0101.wav to /content/drive/MyDrive/Preprocessed1/Validation/abnormal\n",
            "Copied e00448.wav to /content/drive/MyDrive/Preprocessed1/Validation/abnormal\n",
            "Copied b0129.wav to /content/drive/MyDrive/Preprocessed1/Validation/abnormal\n",
            "Copied e01742.wav to /content/drive/MyDrive/Preprocessed1/Validation/abnormal\n",
            "Copied e00845.wav to /content/drive/MyDrive/Preprocessed1/Validation/abnormal\n",
            "Copied e02049.wav to /content/drive/MyDrive/Preprocessed1/Validation/abnormal\n",
            "Copied e00886.wav to /content/drive/MyDrive/Preprocessed1/Validation/abnormal\n",
            "Copied e01408.wav to /content/drive/MyDrive/Preprocessed1/Validation/abnormal\n",
            "Copied e00058.wav to /content/drive/MyDrive/Preprocessed1/Validation/abnormal\n",
            "Copied e01420.wav to /content/drive/MyDrive/Preprocessed1/Validation/abnormal\n",
            "Copied d0024.wav to /content/drive/MyDrive/Preprocessed1/Validation/abnormal\n",
            "Copied b0075.wav to /content/drive/MyDrive/Preprocessed1/Validation/abnormal\n",
            "Copied a0161.wav to /content/drive/MyDrive/Preprocessed1/Validation/abnormal\n",
            "Copied e01810.wav to /content/drive/MyDrive/Preprocessed1/Validation/abnormal\n",
            "Copied e01804.wav to /content/drive/MyDrive/Preprocessed1/Validation/abnormal\n",
            "Copied b0074.wav to /content/drive/MyDrive/Preprocessed1/Validation/abnormal\n",
            "Copied b0060.wav to /content/drive/MyDrive/Preprocessed1/Validation/abnormal\n",
            "Copied e01353.wav to /content/drive/MyDrive/Preprocessed1/Validation/abnormal\n",
            "Copied e00893.wav to /content/drive/MyDrive/Preprocessed1/Validation/abnormal\n",
            "Copied e01743.wav to /content/drive/MyDrive/Preprocessed1/Validation/abnormal\n",
            "Copied e01948.wav to /content/drive/MyDrive/Preprocessed1/Validation/abnormal\n",
            "Copied b0104.wav to /content/drive/MyDrive/Preprocessed1/Validation/abnormal\n",
            "Copied a0038.wav to /content/drive/MyDrive/Preprocessed1/Validation/abnormal\n",
            "Copied b0114.wav to /content/drive/MyDrive/Preprocessed1/Validation/abnormal\n",
            "Copied e00465.wav to /content/drive/MyDrive/Preprocessed1/Validation/abnormal\n",
            "Copied e01586.wav to /content/drive/MyDrive/Preprocessed1/Validation/abnormal\n",
            "Copied e00459.wav to /content/drive/MyDrive/Preprocessed1/Validation/abnormal\n",
            "Copied e01579.wav to /content/drive/MyDrive/Preprocessed1/Validation/abnormal\n",
            "Copied e01592.wav to /content/drive/MyDrive/Preprocessed1/Validation/abnormal\n",
            "Copied b0460.wav to /content/drive/MyDrive/Preprocessed1/Validation/abnormal\n",
            "Copied e01394.wav to /content/drive/MyDrive/Preprocessed1/Validation/abnormal\n",
            "Copied e00897.wav to /content/drive/MyDrive/Preprocessed1/Validation/abnormal\n",
            "Copied e00263.wav to /content/drive/MyDrive/Preprocessed1/Validation/abnormal\n",
            "Copied a0171.wav to /content/drive/MyDrive/Preprocessed1/Validation/abnormal\n",
            "Copied e00277.wav to /content/drive/MyDrive/Preprocessed1/Validation/abnormal\n",
            "Copied e01815.wav to /content/drive/MyDrive/Preprocessed1/Validation/abnormal\n",
            "Copied e01342.wav to /content/drive/MyDrive/Preprocessed1/Validation/abnormal\n",
            "Copied e00510.wav to /content/drive/MyDrive/Preprocessed1/Validation/abnormal\n",
            "Copied e01381.wav to /content/drive/MyDrive/Preprocessed1/Validation/abnormal\n",
            "Copied e01222.wav to /content/drive/MyDrive/Preprocessed1/Validation/abnormal\n",
            "Copied b0298.wav to /content/drive/MyDrive/Preprocessed1/Validation/abnormal\n",
            "Copied e01236.wav to /content/drive/MyDrive/Preprocessed1/Validation/abnormal\n",
            "Copied e00666.wav to /content/drive/MyDrive/Preprocessed1/Validation/abnormal\n",
            "Copied e01746.wav to /content/drive/MyDrive/Preprocessed1/Validation/abnormal\n",
            "Copied e02071.wav to /content/drive/MyDrive/Preprocessed1/Validation/abnormal\n",
            "Copied b0475.wav to /content/drive/MyDrive/Preprocessed1/Validation/abnormal\n",
            "Copied b0449.wav to /content/drive/MyDrive/Preprocessed1/Validation/abnormal\n",
            "Copied e01949.wav to /content/drive/MyDrive/Preprocessed1/Validation/abnormal\n",
            "Copied e02098.wav to /content/drive/MyDrive/Preprocessed1/Validation/abnormal\n",
            "Copied e01793.wav to /content/drive/MyDrive/Preprocessed1/Validation/abnormal\n",
            "Copied e01988.wav to /content/drive/MyDrive/Preprocessed1/Validation/abnormal\n",
            "Copied e01552.wav to /content/drive/MyDrive/Preprocessed1/Validation/abnormal\n",
            "Copied e01546.wav to /content/drive/MyDrive/Preprocessed1/Validation/abnormal\n",
            "Copied e02073.wav to /content/drive/MyDrive/Preprocessed1/Validation/abnormal\n",
            "Copied e01397.wav to /content/drive/MyDrive/Preprocessed1/Validation/abnormal\n",
            "Copied e00062.wav to /content/drive/MyDrive/Preprocessed1/Validation/abnormal\n",
            "Copied e00710.wav to /content/drive/MyDrive/Preprocessed1/Validation/abnormal\n",
            "Copied e01817.wav to /content/drive/MyDrive/Preprocessed1/Validation/abnormal\n",
            "Copied e00937.wav to /content/drive/MyDrive/Preprocessed1/Validation/abnormal\n",
            "Copied e00260.wav to /content/drive/MyDrive/Preprocessed1/Validation/abnormal\n",
            "Copied e01618.wav to /content/drive/MyDrive/Preprocessed1/Validation/abnormal\n",
            "Copied e01195.wav to /content/drive/MyDrive/Preprocessed1/Validation/abnormal\n",
            "Copied e00274.wav to /content/drive/MyDrive/Preprocessed1/Validation/abnormal\n",
            "Copied d0036.wav to /content/drive/MyDrive/Preprocessed1/Validation/abnormal\n",
            "Copied e00506.wav to /content/drive/MyDrive/Preprocessed1/Validation/abnormal\n",
            "Copied e00249.wav to /content/drive/MyDrive/Preprocessed1/Validation/abnormal\n",
            "Copied e00507.wav to /content/drive/MyDrive/Preprocessed1/Validation/abnormal\n",
            "Copied e01631.wav to /content/drive/MyDrive/Preprocessed1/Validation/abnormal\n",
            "Copied e00261.wav to /content/drive/MyDrive/Preprocessed1/Validation/abnormal\n",
            "Copied e01157.wav to /content/drive/MyDrive/Preprocessed1/Validation/abnormal\n",
            "Copied e01816.wav to /content/drive/MyDrive/Preprocessed1/Validation/abnormal\n",
            "Copied b0264.wav to /content/drive/MyDrive/Preprocessed1/Validation/abnormal\n",
            "Copied b0489.wav to /content/drive/MyDrive/Preprocessed1/Validation/abnormal\n",
            "Copied e02066.wav to /content/drive/MyDrive/Preprocessed1/Validation/abnormal\n",
            "Copied e01751.wav to /content/drive/MyDrive/Preprocessed1/Validation/abnormal\n",
            "Copied e01989.wav to /content/drive/MyDrive/Preprocessed1/Validation/abnormal\n",
            "Copied e01584.wav to /content/drive/MyDrive/Preprocessed1/Validation/abnormal\n",
            "Copied e01023.wav to /content/drive/MyDrive/Preprocessed1/Validation/abnormal\n",
            "Copied e00301.wav to /content/drive/MyDrive/Preprocessed1/Validation/abnormal\n",
            "Copied e00179.wav to /content/drive/MyDrive/Preprocessed1/Validation/abnormal\n",
            "Copied e00964.wav to /content/drive/MyDrive/Preprocessed1/Validation/abnormal\n",
            "Copied e01515.wav to /content/drive/MyDrive/Preprocessed1/Validation/abnormal\n",
            "Copied e00637.wav to /content/drive/MyDrive/Preprocessed1/Validation/abnormal\n",
            "Copied e00794.wav to /content/drive/MyDrive/Preprocessed1/Validation/abnormal\n",
            "Copied e01844.wav to /content/drive/MyDrive/Preprocessed1/Validation/abnormal\n",
            "Copied e00743.wav to /content/drive/MyDrive/Preprocessed1/Validation/abnormal\n",
            "Copied e01878.wav to /content/drive/MyDrive/Preprocessed1/Validation/abnormal\n",
            "Copied e01449.wav to /content/drive/MyDrive/Preprocessed1/Validation/abnormal\n",
            "Copied e01850.wav to /content/drive/MyDrive/Preprocessed1/Validation/abnormal\n",
            "Copied e00227.wav to /content/drive/MyDrive/Preprocessed1/Validation/abnormal\n",
            "Copied a0109.wav to /content/drive/MyDrive/Preprocessed1/Validation/abnormal\n",
            "Copied e01663.wav to /content/drive/MyDrive/Preprocessed1/Validation/abnormal\n",
            "Copied e01138.wav to /content/drive/MyDrive/Preprocessed1/Validation/abnormal\n",
            "Copied e01139.wav to /content/drive/MyDrive/Preprocessed1/Validation/abnormal\n",
            "Copied e01851.wav to /content/drive/MyDrive/Preprocessed1/Validation/abnormal\n",
            "Copied e00568.wav to /content/drive/MyDrive/Preprocessed1/Validation/abnormal\n",
            "Copied e01312.wav to /content/drive/MyDrive/Preprocessed1/Validation/abnormal\n",
            "Copied e01110.wav to /content/drive/MyDrive/Preprocessed1/Validation/abnormal\n",
            "Copied e00756.wav to /content/drive/MyDrive/Preprocessed1/Validation/abnormal\n",
            "Copied e00030.wav to /content/drive/MyDrive/Preprocessed1/Validation/abnormal\n",
            "Copied c0030.wav to /content/drive/MyDrive/Preprocessed1/Validation/abnormal\n",
            "Copied e00150.wav to /content/drive/MyDrive/Preprocessed1/Validation/abnormal\n",
            "Copied e00144.wav to /content/drive/MyDrive/Preprocessed1/Validation/abnormal\n",
            "Copied e00839.wav to /content/drive/MyDrive/Preprocessed1/Validation/abnormal\n",
            "Copied e01528.wav to /content/drive/MyDrive/Preprocessed1/Validation/abnormal\n",
            "Copied e01716.wav to /content/drive/MyDrive/Preprocessed1/Validation/abnormal\n",
            "Copied b0357.wav to /content/drive/MyDrive/Preprocessed1/Validation/abnormal\n",
            "Copied b0196.wav to /content/drive/MyDrive/Preprocessed1/Validation/abnormal\n",
            "Copied a0294.wav to /content/drive/MyDrive/Preprocessed1/Validation/abnormal\n",
            "Copied e00420.wav to /content/drive/MyDrive/Preprocessed1/Validation/abnormal\n",
            "Copied e01925.wav to /content/drive/MyDrive/Preprocessed1/Validation/abnormal\n",
            "Copied e01072.wav to /content/drive/MyDrive/Preprocessed1/Validation/abnormal\n",
            "Copied e01714.wav to /content/drive/MyDrive/Preprocessed1/Validation/abnormal\n",
            "Copied a0080.wav to /content/drive/MyDrive/Preprocessed1/Validation/abnormal\n",
            "Copied a0241.wav to /content/drive/MyDrive/Preprocessed1/Validation/abnormal\n",
            "Copied e00146.wav to /content/drive/MyDrive/Preprocessed1/Validation/abnormal\n",
            "Copied e01270.wav to /content/drive/MyDrive/Preprocessed1/Validation/abnormal\n",
            "Copied e00797.wav to /content/drive/MyDrive/Preprocessed1/Validation/abnormal\n",
            "Copied e01660.wav to /content/drive/MyDrive/Preprocessed1/Validation/abnormal\n",
            "Copied e00595.wav to /content/drive/MyDrive/Preprocessed1/Validation/abnormal\n",
            "Copied e01847.wav to /content/drive/MyDrive/Preprocessed1/Validation/abnormal\n",
            "Copied e01462.wav to /content/drive/MyDrive/Preprocessed1/Validation/abnormal\n",
            "Copied e01890.wav to /content/drive/MyDrive/Preprocessed1/Validation/abnormal\n",
            "Copied b0036.wav to /content/drive/MyDrive/Preprocessed1/Validation/abnormal\n",
            "Copied e00594.wav to /content/drive/MyDrive/Preprocessed1/Validation/abnormal\n",
            "Copied e00741.wav to /content/drive/MyDrive/Preprocessed1/Validation/abnormal\n",
            "Copied e02022.wav to /content/drive/MyDrive/Preprocessed1/Validation/abnormal\n",
            "Copied e01488.wav to /content/drive/MyDrive/Preprocessed1/Validation/abnormal\n",
            "Copied e00147.wav to /content/drive/MyDrive/Preprocessed1/Validation/abnormal\n",
            "Copied e01305.wav to /content/drive/MyDrive/Preprocessed1/Validation/abnormal\n",
            "Copied e01311.wav to /content/drive/MyDrive/Preprocessed1/Validation/abnormal\n",
            "Copied b0368.wav to /content/drive/MyDrive/Preprocessed1/Validation/abnormal\n",
            "Copied e01517.wav to /content/drive/MyDrive/Preprocessed1/Validation/abnormal\n",
            "Copied e01729.wav to /content/drive/MyDrive/Preprocessed1/Validation/abnormal\n",
            "Copied b0156.wav to /content/drive/MyDrive/Preprocessed1/Validation/abnormal\n",
            "Copied e00351.wav to /content/drive/MyDrive/Preprocessed1/Validation/abnormal\n",
            "Copied e00392.wav to /content/drive/MyDrive/Preprocessed1/Validation/abnormal\n",
            "Copied e01077.wav to /content/drive/MyDrive/Preprocessed1/Validation/abnormal\n",
            "Copied e01936.wav to /content/drive/MyDrive/Preprocessed1/Validation/abnormal\n",
            "Copied e00355.wav to /content/drive/MyDrive/Preprocessed1/Validation/abnormal\n",
            "Copied e00180.wav to /content/drive/MyDrive/Preprocessed1/Validation/abnormal\n",
            "Copied a0293.wav to /content/drive/MyDrive/Preprocessed1/Validation/abnormal\n",
            "Copied e00143.wav to /content/drive/MyDrive/Preprocessed1/Validation/abnormal\n",
            "Copied e00786.wav to /content/drive/MyDrive/Preprocessed1/Validation/abnormal\n",
            "Copied e00745.wav to /content/drive/MyDrive/Preprocessed1/Validation/abnormal\n",
            "Copied b0230.wav to /content/drive/MyDrive/Preprocessed1/Validation/abnormal\n",
            "Copied a0250.wav to /content/drive/MyDrive/Preprocessed1/Validation/abnormal\n",
            "Copied e01275.wav to /content/drive/MyDrive/Preprocessed1/Validation/abnormal\n",
            "Copied b0026.wav to /content/drive/MyDrive/Preprocessed1/Validation/abnormal\n",
            "Copied e00751.wav to /content/drive/MyDrive/Preprocessed1/Validation/abnormal\n",
            "Copied e00590.wav to /content/drive/MyDrive/Preprocessed1/Validation/abnormal\n",
            "Copied e00235.wav to /content/drive/MyDrive/Preprocessed1/Validation/abnormal\n",
            "Copied e01117.wav to /content/drive/MyDrive/Preprocessed1/Validation/abnormal\n",
            "Copied e01116.wav to /content/drive/MyDrive/Preprocessed1/Validation/abnormal\n",
            "Copied e00234.wav to /content/drive/MyDrive/Preprocessed1/Validation/abnormal\n",
            "Copied e01843.wav to /content/drive/MyDrive/Preprocessed1/Validation/abnormal\n",
            "Copied e01328.wav to /content/drive/MyDrive/Preprocessed1/Validation/abnormal\n",
            "Copied a0325.wav to /content/drive/MyDrive/Preprocessed1/Validation/abnormal\n",
            "Copied e00022.wav to /content/drive/MyDrive/Preprocessed1/Validation/abnormal\n",
            "Copied e02033.wav to /content/drive/MyDrive/Preprocessed1/Validation/abnormal\n",
            "Copied e01512.wav to /content/drive/MyDrive/Preprocessed1/Validation/abnormal\n",
            "Copied b0392.wav to /content/drive/MyDrive/Preprocessed1/Validation/abnormal\n",
            "Copied b0225.wav to /content/drive/MyDrive/Preprocessed1/Validation/abnormal\n",
            "Copied e00624.wav to /content/drive/MyDrive/Preprocessed1/Validation/abnormal\n",
            "Copied e01704.wav to /content/drive/MyDrive/Preprocessed1/Validation/abnormal\n",
            "Copied e01738.wav to /content/drive/MyDrive/Preprocessed1/Validation/abnormal\n",
            "Copied e00432.wav to /content/drive/MyDrive/Preprocessed1/Validation/abnormal\n",
            "Copied e00395.wav to /content/drive/MyDrive/Preprocessed1/Validation/abnormal\n",
            "Copied a0086.wav to /content/drive/MyDrive/Preprocessed1/Validation/abnormal\n",
            "Copied e00197.wav to /content/drive/MyDrive/Preprocessed1/Validation/abnormal\n",
            "Copied e01048.wav to /content/drive/MyDrive/Preprocessed1/Validation/abnormal\n",
            "Copied e01276.wav to /content/drive/MyDrive/Preprocessed1/Validation/abnormal\n",
            "Copied e01841.wav to /content/drive/MyDrive/Preprocessed1/Validation/abnormal\n",
            "Copied e00034.wav to /content/drive/MyDrive/Preprocessed1/Validation/abnormal\n",
            "Copied e01316.wav to /content/drive/MyDrive/Preprocessed1/Validation/abnormal\n",
            "Copied e00752.wav to /content/drive/MyDrive/Preprocessed1/Validation/abnormal\n",
            "Copied e01458.wav to /content/drive/MyDrive/Preprocessed1/Validation/abnormal\n",
            "Copied e01882.wav to /content/drive/MyDrive/Preprocessed1/Validation/abnormal\n",
            "Copied b0024.wav to /content/drive/MyDrive/Preprocessed1/Validation/abnormal\n",
            "Copied e01840.wav to /content/drive/MyDrive/Preprocessed1/Validation/abnormal\n",
            "Copied d0049.wav to /content/drive/MyDrive/Preprocessed1/Validation/abnormal\n",
            "Copied e01897.wav to /content/drive/MyDrive/Preprocessed1/Validation/abnormal\n",
            "Copied e01459.wav to /content/drive/MyDrive/Preprocessed1/Validation/abnormal\n",
            "Copied e00035.wav to /content/drive/MyDrive/Preprocessed1/Validation/abnormal\n",
            "Copied e00974.wav to /content/drive/MyDrive/Preprocessed1/Validation/abnormal\n",
            "Copied e01317.wav to /content/drive/MyDrive/Preprocessed1/Validation/abnormal\n",
            "Copied e00790.wav to /content/drive/MyDrive/Preprocessed1/Validation/abnormal\n",
            "Copied e01905.wav to /content/drive/MyDrive/Preprocessed1/Validation/abnormal\n",
            "Copied b0144.wav to /content/drive/MyDrive/Preprocessed1/Validation/abnormal\n",
            "Copied e01920.wav to /content/drive/MyDrive/Preprocessed1/Validation/abnormal\n",
            "Copied b0149.wav to /content/drive/MyDrive/Preprocessed1/Validation/abnormal\n",
            "Copied e01722.wav to /content/drive/MyDrive/Preprocessed1/Validation/abnormal\n",
            "Copied e00428.wav to /content/drive/MyDrive/Preprocessed1/Validation/abnormal\n",
            "Copied a0049.wav to /content/drive/MyDrive/Preprocessed1/Validation/abnormal\n",
            "Copied e00602.wav to /content/drive/MyDrive/Preprocessed1/Validation/abnormal\n",
            "Copied b0388.wav to /content/drive/MyDrive/Preprocessed1/Validation/abnormal\n",
            "Copied e01508.wav to /content/drive/MyDrive/Preprocessed1/Validation/abnormal\n",
            "Copied b0217.wav to /content/drive/MyDrive/Preprocessed1/Validation/abnormal\n",
            "Copied e01534.wav to /content/drive/MyDrive/Preprocessed1/Validation/abnormal\n",
            "Copied e01497.wav to /content/drive/MyDrive/Preprocessed1/Validation/abnormal\n",
            "Copied e00762.wav to /content/drive/MyDrive/Preprocessed1/Validation/abnormal\n",
            "Copied e01871.wav to /content/drive/MyDrive/Preprocessed1/Validation/abnormal\n",
            "Copied e01859.wav to /content/drive/MyDrive/Preprocessed1/Validation/abnormal\n",
            "Copied e01865.wav to /content/drive/MyDrive/Preprocessed1/Validation/abnormal\n",
            "Copied e00004.wav to /content/drive/MyDrive/Preprocessed1/Validation/abnormal\n",
            "Copied e00548.wav to /content/drive/MyDrive/Preprocessed1/Validation/abnormal\n",
            "Copied e00560.wav to /content/drive/MyDrive/Preprocessed1/Validation/abnormal\n",
            "Copied d0045.wav to /content/drive/MyDrive/Preprocessed1/Validation/abnormal\n",
            "Copied e01864.wav to /content/drive/MyDrive/Preprocessed1/Validation/abnormal\n",
            "Copied e01858.wav to /content/drive/MyDrive/Preprocessed1/Validation/abnormal\n",
            "Copied e01680.wav to /content/drive/MyDrive/Preprocessed1/Validation/abnormal\n",
            "Copied e00978.wav to /content/drive/MyDrive/Preprocessed1/Validation/abnormal\n",
            "Copied e00818.wav to /content/drive/MyDrive/Preprocessed1/Validation/abnormal\n",
            "Copied e01535.wav to /content/drive/MyDrive/Preprocessed1/Validation/abnormal\n",
            "Copied e01247.wav to /content/drive/MyDrive/Preprocessed1/Validation/abnormal\n",
            "Copied e01045.wav to /content/drive/MyDrive/Preprocessed1/Validation/abnormal\n",
            "Copied e01086.wav to /content/drive/MyDrive/Preprocessed1/Validation/abnormal\n",
            "Copied b0174.wav to /content/drive/MyDrive/Preprocessed1/Validation/abnormal\n",
            "Copied b0160.wav to /content/drive/MyDrive/Preprocessed1/Validation/abnormal\n",
            "Copied e00365.wav to /content/drive/MyDrive/Preprocessed1/Validation/abnormal\n",
            "Copied e00371.wav to /content/drive/MyDrive/Preprocessed1/Validation/abnormal\n",
            "Copied b0412.wav to /content/drive/MyDrive/Preprocessed1/Validation/abnormal\n",
            "Copied b0348.wav to /content/drive/MyDrive/Preprocessed1/Validation/abnormal\n",
            "Copied e01537.wav to /content/drive/MyDrive/Preprocessed1/Validation/abnormal\n",
            "Copied b0374.wav to /content/drive/MyDrive/Preprocessed1/Validation/abnormal\n",
            "Copied b0360.wav to /content/drive/MyDrive/Preprocessed1/Validation/abnormal\n",
            "Copied e00167.wav to /content/drive/MyDrive/Preprocessed1/Validation/abnormal\n",
            "Copied e01245.wav to /content/drive/MyDrive/Preprocessed1/Validation/abnormal\n",
            "Copied b0214.wav to /content/drive/MyDrive/Preprocessed1/Validation/abnormal\n",
            "Copied e01872.wav to /content/drive/MyDrive/Preprocessed1/Validation/abnormal\n",
            "Copied e01696.wav to /content/drive/MyDrive/Preprocessed1/Validation/abnormal\n",
            "Copied e00588.wav to /content/drive/MyDrive/Preprocessed1/Validation/abnormal\n",
            "Copied e00205.wav to /content/drive/MyDrive/Preprocessed1/Validation/abnormal\n",
            "Copied e01133.wav to /content/drive/MyDrive/Preprocessed1/Validation/abnormal\n",
            "Copied e01669.wav to /content/drive/MyDrive/Preprocessed1/Validation/abnormal\n",
            "Copied e00238.wav to /content/drive/MyDrive/Preprocessed1/Validation/abnormal\n",
            "Copied e00006.wav to /content/drive/MyDrive/Preprocessed1/Validation/abnormal\n",
            "Copied e02003.wav to /content/drive/MyDrive/Preprocessed1/Validation/abnormal\n",
            "Copied c0006.wav to /content/drive/MyDrive/Preprocessed1/Validation/abnormal\n",
            "Copied b0215.wav to /content/drive/MyDrive/Preprocessed1/Validation/abnormal\n",
            "Copied e02017.wav to /content/drive/MyDrive/Preprocessed1/Validation/abnormal\n",
            "Copied e00953.wav to /content/drive/MyDrive/Preprocessed1/Validation/abnormal\n",
            "Copied b0201.wav to /content/drive/MyDrive/Preprocessed1/Validation/abnormal\n",
            "Copied e01907.wav to /content/drive/MyDrive/Preprocessed1/Validation/abnormal\n",
            "Copied b0407.wav to /content/drive/MyDrive/Preprocessed1/Validation/abnormal\n",
            "Copied e00370.wav to /content/drive/MyDrive/Preprocessed1/Validation/abnormal\n",
            "Copied e01708.wav to /content/drive/MyDrive/Preprocessed1/Validation/abnormal\n",
            "Copied e01724.wav to /content/drive/MyDrive/Preprocessed1/Validation/abnormal\n",
            "Copied e01095.wav to /content/drive/MyDrive/Preprocessed1/Validation/abnormal\n",
            "Copied e00360.wav to /content/drive/MyDrive/Preprocessed1/Validation/abnormal\n",
            "Copied b0173.wav to /content/drive/MyDrive/Preprocessed1/Validation/abnormal\n",
            "Copied e01984.wav to /content/drive/MyDrive/Preprocessed1/Validation/abnormal\n",
            "Copied e00873.wav to /content/drive/MyDrive/Preprocessed1/Validation/abnormal\n",
            "Copied e01589.wav to /content/drive/MyDrive/Preprocessed1/Validation/abnormal\n",
            "Copied b0309.wav to /content/drive/MyDrive/Preprocessed1/Validation/abnormal\n",
            "Copied e00640.wav to /content/drive/MyDrive/Preprocessed1/Validation/abnormal\n",
            "Copied e00898.wav to /content/drive/MyDrive/Preprocessed1/Validation/abnormal\n",
            "Copied e01210.wav to /content/drive/MyDrive/Preprocessed1/Validation/abnormal\n",
            "Copied e00287.wav to /content/drive/MyDrive/Preprocessed1/Validation/abnormal\n",
            "Copied e00293.wav to /content/drive/MyDrive/Preprocessed1/Validation/abnormal\n",
            "Copied b0094.wav to /content/drive/MyDrive/Preprocessed1/Validation/abnormal\n",
            "Copied e01166.wav to /content/drive/MyDrive/Preprocessed1/Validation/abnormal\n",
            "Copied e01172.wav to /content/drive/MyDrive/Preprocessed1/Validation/abnormal\n",
            "Copied e01600.wav to /content/drive/MyDrive/Preprocessed1/Validation/abnormal\n",
            "Copied a0195.wav to /content/drive/MyDrive/Preprocessed1/Validation/abnormal\n",
            "Copied a0181.wav to /content/drive/MyDrive/Preprocessed1/Validation/abnormal\n",
            "Copied e01615.wav to /content/drive/MyDrive/Preprocessed1/Validation/abnormal\n",
            "Copied e00292.wav to /content/drive/MyDrive/Preprocessed1/Validation/abnormal\n",
            "Copied e01167.wav to /content/drive/MyDrive/Preprocessed1/Validation/abnormal\n",
            "Copied e00133.wav to /content/drive/MyDrive/Preprocessed1/Validation/abnormal\n",
            "Copied e00912.wav to /content/drive/MyDrive/Preprocessed1/Validation/abnormal\n",
            "Copied b0452.wav to /content/drive/MyDrive/Preprocessed1/Validation/abnormal\n",
            "Copied e00872.wav to /content/drive/MyDrive/Preprocessed1/Validation/abnormal\n",
            "Copied e01239.wav to /content/drive/MyDrive/Preprocessed1/Validation/abnormal\n",
            "Copied e00866.wav to /content/drive/MyDrive/Preprocessed1/Validation/abnormal\n",
            "Copied e01577.wav to /content/drive/MyDrive/Preprocessed1/Validation/abnormal\n",
            "Copied e01588.wav to /content/drive/MyDrive/Preprocessed1/Validation/abnormal\n",
            "Copied e00682.wav to /content/drive/MyDrive/Preprocessed1/Validation/abnormal\n",
            "Copied e01749.wav to /content/drive/MyDrive/Preprocessed1/Validation/abnormal\n",
            "Copied b0108.wav to /content/drive/MyDrive/Preprocessed1/Validation/abnormal\n",
            "Copied e00443.wav to /content/drive/MyDrive/Preprocessed1/Validation/abnormal\n",
            "Copied e00319.wav to /content/drive/MyDrive/Preprocessed1/Validation/abnormal\n",
            "Copied e00864.wav to /content/drive/MyDrive/Preprocessed1/Validation/abnormal\n",
            "Copied e01993.wav to /content/drive/MyDrive/Preprocessed1/Validation/abnormal\n",
            "Copied e00455.wav to /content/drive/MyDrive/Preprocessed1/Validation/abnormal\n",
            "Copied e01011.wav to /content/drive/MyDrive/Preprocessed1/Validation/abnormal\n",
            "Copied e00870.wav to /content/drive/MyDrive/Preprocessed1/Validation/abnormal\n",
            "Copied e01777.wav to /content/drive/MyDrive/Preprocessed1/Validation/abnormal\n",
            "Copied e01561.wav to /content/drive/MyDrive/Preprocessed1/Validation/abnormal\n",
            "Copied e02068.wav to /content/drive/MyDrive/Preprocessed1/Validation/abnormal\n",
            "Copied e00079.wav to /content/drive/MyDrive/Preprocessed1/Validation/abnormal\n",
            "Copied a0342.wav to /content/drive/MyDrive/Preprocessed1/Validation/abnormal\n",
            "Copied e00723.wav to /content/drive/MyDrive/Preprocessed1/Validation/abnormal\n",
            "Copied e01603.wav to /content/drive/MyDrive/Preprocessed1/Validation/abnormal\n",
            "Copied e00247.wav to /content/drive/MyDrive/Preprocessed1/Validation/abnormal\n",
            "Copied d0005.wav to /content/drive/MyDrive/Preprocessed1/Validation/abnormal\n",
            "Copied a0140.wav to /content/drive/MyDrive/Preprocessed1/Validation/abnormal\n",
            "Copied e00535.wav to /content/drive/MyDrive/Preprocessed1/Validation/abnormal\n",
            "Copied e00534.wav to /content/drive/MyDrive/Preprocessed1/Validation/abnormal\n",
            "Copied e01830.wav to /content/drive/MyDrive/Preprocessed1/Validation/abnormal\n",
            "Copied a0155.wav to /content/drive/MyDrive/Preprocessed1/Validation/abnormal\n",
            "Copied a0196.wav to /content/drive/MyDrive/Preprocessed1/Validation/abnormal\n",
            "Copied b0055.wav to /content/drive/MyDrive/Preprocessed1/Validation/abnormal\n",
            "Copied e01164.wav to /content/drive/MyDrive/Preprocessed1/Validation/abnormal\n",
            "Copied e00508.wav to /content/drive/MyDrive/Preprocessed1/Validation/abnormal\n",
            "Copied e00285.wav to /content/drive/MyDrive/Preprocessed1/Validation/abnormal\n",
            "Copied e00939.wav to /content/drive/MyDrive/Preprocessed1/Validation/abnormal\n",
            "Copied e02041.wav to /content/drive/MyDrive/Preprocessed1/Validation/abnormal\n",
            "Copied e01548.wav to /content/drive/MyDrive/Preprocessed1/Validation/abnormal\n",
            "Copied e00656.wav to /content/drive/MyDrive/Preprocessed1/Validation/abnormal\n",
            "Copied e00078.wav to /content/drive/MyDrive/Preprocessed1/Validation/abnormal\n",
            "Copied e00326.wav to /content/drive/MyDrive/Preprocessed1/Validation/abnormal\n",
            "Copied e00859.wav to /content/drive/MyDrive/Preprocessed1/Validation/abnormal\n",
            "Copied e01038.wav to /content/drive/MyDrive/Preprocessed1/Validation/abnormal\n",
            "Copied e00487.wav to /content/drive/MyDrive/Preprocessed1/Validation/abnormal\n",
            "Copied b0125.wav to /content/drive/MyDrive/Preprocessed1/Validation/abnormal\n",
            "Copied b0135.wav to /content/drive/MyDrive/Preprocessed1/Validation/abnormal\n",
            "Copied e01941.wav to /content/drive/MyDrive/Preprocessed1/Validation/abnormal\n",
            "Copied e01799.wav to /content/drive/MyDrive/Preprocessed1/Validation/abnormal\n",
            "Copied e01969.wav to /content/drive/MyDrive/Preprocessed1/Validation/abnormal\n",
            "Copied e01789.wav to /content/drive/MyDrive/Preprocessed1/Validation/abnormal\n",
            "Copied e00691.wav to /content/drive/MyDrive/Preprocessed1/Validation/abnormal\n",
            "Copied e01772.wav to /content/drive/MyDrive/Preprocessed1/Validation/abnormal\n",
            "Copied e02119.wav to /content/drive/MyDrive/Preprocessed1/Validation/abnormal\n",
            "Copied e01410.wav to /content/drive/MyDrive/Preprocessed1/Validation/abnormal\n",
            "Copied e01404.wav to /content/drive/MyDrive/Preprocessed1/Validation/abnormal\n",
            "Copied e00068.wav to /content/drive/MyDrive/Preprocessed1/Validation/abnormal\n",
            "Copied e01607.wav to /content/drive/MyDrive/Preprocessed1/Validation/abnormal\n",
            "Copied e01161.wav to /content/drive/MyDrive/Preprocessed1/Validation/abnormal\n",
            "Copied e01820.wav to /content/drive/MyDrive/Preprocessed1/Validation/abnormal\n",
            "Copied a0193.wav to /content/drive/MyDrive/Preprocessed1/Validation/abnormal\n",
            "Copied e00280.wav to /content/drive/MyDrive/Preprocessed1/Validation/abnormal\n",
            "Copied e01149.wav to /content/drive/MyDrive/Preprocessed1/Validation/abnormal\n",
            "Copied b0087.wav to /content/drive/MyDrive/Preprocessed1/Validation/abnormal\n",
            "Copied e01439.wav to /content/drive/MyDrive/Preprocessed1/Validation/abnormal\n",
            "Copied e02050.wav to /content/drive/MyDrive/Preprocessed1/Validation/abnormal\n",
            "Copied e01773.wav to /content/drive/MyDrive/Preprocessed1/Validation/abnormal\n",
            "Copied b0454.wav to /content/drive/MyDrive/Preprocessed1/Validation/abnormal\n",
            "Copied e00486.wav to /content/drive/MyDrive/Preprocessed1/Validation/abnormal\n",
            "Copied e01997.wav to /content/drive/MyDrive/Preprocessed1/Validation/abnormal\n",
            "Copied e01981.wav to /content/drive/MyDrive/Preprocessed1/Validation/abnormal\n",
            "Copied e00445.wav to /content/drive/MyDrive/Preprocessed1/Validation/abnormal\n",
            "Copied e01956.wav to /content/drive/MyDrive/Preprocessed1/Validation/abnormal\n",
            "Copied e00490.wav to /content/drive/MyDrive/Preprocessed1/Validation/abnormal\n",
            "Copied e01968.wav to /content/drive/MyDrive/Preprocessed1/Validation/abnormal\n",
            "Copied e00862.wav to /content/drive/MyDrive/Preprocessed1/Validation/abnormal\n",
            "Copied e01765.wav to /content/drive/MyDrive/Preprocessed1/Validation/abnormal\n",
            "Copied e00686.wav to /content/drive/MyDrive/Preprocessed1/Validation/abnormal\n",
            "Copied e01017.wav to /content/drive/MyDrive/Preprocessed1/Validation/abnormal\n",
            "Copied e00645.wav to /content/drive/MyDrive/Preprocessed1/Validation/abnormal\n",
            "Copied e01573.wav to /content/drive/MyDrive/Preprocessed1/Validation/abnormal\n",
            "Copied e00651.wav to /content/drive/MyDrive/Preprocessed1/Validation/abnormal\n",
            "Copied e02046.wav to /content/drive/MyDrive/Preprocessed1/Validation/abnormal\n",
            "Copied e00889.wav to /content/drive/MyDrive/Preprocessed1/Validation/abnormal\n",
            "Copied e01188.wav to /content/drive/MyDrive/Preprocessed1/Validation/abnormal\n",
            "Copied b0293.wav to /content/drive/MyDrive/Preprocessed1/Validation/abnormal\n",
            "Copied e01822.wav to /content/drive/MyDrive/Preprocessed1/Validation/abnormal\n",
            "Copied e01177.wav to /content/drive/MyDrive/Preprocessed1/Validation/abnormal\n",
            "Copied e00533.wav to /content/drive/MyDrive/Preprocessed1/Validation/abnormal\n",
            "Copied e00269.wav to /content/drive/MyDrive/Preprocessed1/Validation/abnormal\n",
            "Copied e00527.wav to /content/drive/MyDrive/Preprocessed1/Validation/abnormal\n",
            "Copied a0184.wav to /content/drive/MyDrive/Preprocessed1/Validation/abnormal\n",
            "Copied e01412.wav to /content/drive/MyDrive/Preprocessed1/Validation/abnormal\n",
            "Copied e00081.wav to /content/drive/MyDrive/Preprocessed1/Validation/abnormal\n",
            "Copied e02127.wav to /content/drive/MyDrive/Preprocessed1/Validation/abnormal\n",
            "Copied e00877.wav to /content/drive/MyDrive/Preprocessed1/Validation/abnormal\n",
            "Copied b0443.wav to /content/drive/MyDrive/Preprocessed1/Validation/abnormal\n",
            "Copied b0127.wav to /content/drive/MyDrive/Preprocessed1/Validation/abnormal\n",
            "Copied e01980.wav to /content/drive/MyDrive/Preprocessed1/Validation/abnormal\n",
            "Copied e00491.wav to /content/drive/MyDrive/Preprocessed1/Validation/abnormal\n",
            "Copied b0183.wav to /content/drive/MyDrive/Preprocessed1/Validation/abnormal\n",
            "Copied e01930.wav to /content/drive/MyDrive/Preprocessed1/Validation/abnormal\n",
            "Copied a0068.wav to /content/drive/MyDrive/Preprocessed1/Validation/abnormal\n",
            "Copied e00421.wav to /content/drive/MyDrive/Preprocessed1/Validation/abnormal\n",
            "Copied e00804.wav to /content/drive/MyDrive/Preprocessed1/Validation/abnormal\n",
            "Copied e00186.wav to /content/drive/MyDrive/Preprocessed1/Validation/abnormal\n",
            "Copied b0424.wav to /content/drive/MyDrive/Preprocessed1/Validation/abnormal\n",
            "Copied b0430.wav to /content/drive/MyDrive/Preprocessed1/Validation/abnormal\n"
          ]
        }
      ]
    },
    {
      "cell_type": "markdown",
      "source": [
        "Converting the audio signals into Spectogram images"
      ],
      "metadata": {
        "id": "ocJOu-vRcVrX"
      }
    },
    {
      "cell_type": "markdown",
      "source": [
        "LINK FOR THE PAPER: https://www.researchgate.net/publication/341084031_A_Semi-Supervised_Approach_For_Identifying_Abnormal_Heart_Sounds_Using_Variational_Autoencoder"
      ],
      "metadata": {
        "id": "bcLdeUOZZY3e"
      }
    },
    {
      "cell_type": "markdown",
      "source": [
        "Load the images into two empty folders (normal and abnormal)"
      ],
      "metadata": {
        "id": "gbXwZtlVc9YY"
      }
    },
    {
      "cell_type": "code",
      "source": [
        "import scipy\n",
        "from scipy import signal\n",
        "from scipy.io import wavfile\n",
        "from scipy.signal import spectrogram\n",
        "from scipy.signal import resample\n",
        "\n",
        "labels = 'normal abnormal'.split()\n",
        "for l in labels:\n",
        "    pathlib.Path(f'/content/drive/MyDrive/SPECIMAGES/train/{l}').mkdir(parents=True, exist_ok=True)\n",
        "    for filename in os.listdir(f'/content/drive/MyDrive/Preprocessed1/train/{l}'):\n",
        "        audio_file = f'/content/drive/MyDrive/Preprocessed1/train/{l}/{filename}'\n",
        "        # load the .wav file\n",
        "        sample_rate, signal_data = wavfile.read(audio_file)\n",
        "\n",
        "        # downsample to 1000 Hz\n",
        "        resampled_signal = resample(signal_data, int(len(signal_data) * (1000/sample_rate)))\n",
        "\n",
        "        # Calculate spectrogram using Tukey window\n",
        "        f, t, spec = spectrogram(resampled_signal, fs=1000, window='tukey', nperseg=128, noverlap=64)\n",
        "\n",
        "        # Discard the first frequency bin\n",
        "        spec = spec[1:, :]\n",
        "\n",
        "        # Convert spectrogram values to logarithmic scale\n",
        "        log_spec = np.log10(spec)\n",
        "\n",
        "        # Normalize between 0 and 1 using min-max normalization\n",
        "        Sxx = (log_spec - log_spec.min()) / (log_spec.max() - log_spec.min())\n",
        "\n",
        "        # truncate or pad spectrogram to desired dimensions\n",
        "        n_time_bins = 64\n",
        "        n_freq_bins = 128\n",
        "\n",
        "        if Sxx.shape[1] < n_freq_bins:\n",
        "            padding = np.zeros((Sxx.shape[0], n_freq_bins - Sxx.shape[1]))\n",
        "            Sxx = np.hstack((Sxx, padding))\n",
        "        else:\n",
        "            Sxx = Sxx[:, :n_freq_bins]\n",
        "\n",
        "        if Sxx.shape[1] < n_time_bins:\n",
        "            padding = np.zeros((n_time_bins - Sxx.shape[1], Sxx.shape[1]))\n",
        "            Sxx = np.vstack((Sxx, padding))\n",
        "        else:\n",
        "            Sxx = Sxx[:n_time_bins, :]\n",
        "\n",
        "        # reshape spectrogram to desired dimensions\n",
        "        Sxx = np.reshape(Sxx, (n_time_bins, n_freq_bins, 1))\n",
        "\n",
        "        # Plot the spectrogram\n",
        "        plt.figure(figsize=(10, 5))\n",
        "        plt.imshow(Sxx, cmap='jet', aspect='auto', origin='lower',\n",
        "                  extent=[t.min(), t.max(), f.min(), f.max()])\n",
        "\n",
        "        plt.axis('off');\n",
        "        plt.savefig(f'/content/drive/MyDrive/SPECIMAGES/train/{l}/{filename[:-3].replace(\".\", \"\")}.png')\n",
        "        plt.clf()"
      ],
      "metadata": {
        "colab": {
          "base_uri": "https://localhost:8080/",
          "height": 1000
        },
        "id": "4veSLMunw1FU",
        "outputId": "914e3aa3-a64f-473f-efe9-693a94de3c04"
      },
      "execution_count": null,
      "outputs": [
        {
          "output_type": "display_data",
          "data": {
            "text/plain": [
              "<Figure size 1000x500 with 0 Axes>"
            ]
          },
          "metadata": {}
        },
        {
          "output_type": "display_data",
          "data": {
            "text/plain": [
              "<Figure size 1000x500 with 0 Axes>"
            ]
          },
          "metadata": {}
        },
        {
          "output_type": "display_data",
          "data": {
            "text/plain": [
              "<Figure size 1000x500 with 0 Axes>"
            ]
          },
          "metadata": {}
        },
        {
          "output_type": "display_data",
          "data": {
            "text/plain": [
              "<Figure size 1000x500 with 0 Axes>"
            ]
          },
          "metadata": {}
        },
        {
          "output_type": "display_data",
          "data": {
            "text/plain": [
              "<Figure size 1000x500 with 0 Axes>"
            ]
          },
          "metadata": {}
        },
        {
          "output_type": "display_data",
          "data": {
            "text/plain": [
              "<Figure size 1000x500 with 0 Axes>"
            ]
          },
          "metadata": {}
        },
        {
          "output_type": "display_data",
          "data": {
            "text/plain": [
              "<Figure size 1000x500 with 0 Axes>"
            ]
          },
          "metadata": {}
        },
        {
          "output_type": "display_data",
          "data": {
            "text/plain": [
              "<Figure size 1000x500 with 0 Axes>"
            ]
          },
          "metadata": {}
        },
        {
          "output_type": "display_data",
          "data": {
            "text/plain": [
              "<Figure size 1000x500 with 0 Axes>"
            ]
          },
          "metadata": {}
        },
        {
          "output_type": "display_data",
          "data": {
            "text/plain": [
              "<Figure size 1000x500 with 0 Axes>"
            ]
          },
          "metadata": {}
        },
        {
          "output_type": "display_data",
          "data": {
            "text/plain": [
              "<Figure size 1000x500 with 0 Axes>"
            ]
          },
          "metadata": {}
        },
        {
          "output_type": "display_data",
          "data": {
            "text/plain": [
              "<Figure size 1000x500 with 0 Axes>"
            ]
          },
          "metadata": {}
        },
        {
          "output_type": "display_data",
          "data": {
            "text/plain": [
              "<Figure size 1000x500 with 0 Axes>"
            ]
          },
          "metadata": {}
        },
        {
          "output_type": "display_data",
          "data": {
            "text/plain": [
              "<Figure size 1000x500 with 0 Axes>"
            ]
          },
          "metadata": {}
        },
        {
          "output_type": "display_data",
          "data": {
            "text/plain": [
              "<Figure size 1000x500 with 0 Axes>"
            ]
          },
          "metadata": {}
        },
        {
          "output_type": "display_data",
          "data": {
            "text/plain": [
              "<Figure size 1000x500 with 0 Axes>"
            ]
          },
          "metadata": {}
        },
        {
          "output_type": "display_data",
          "data": {
            "text/plain": [
              "<Figure size 1000x500 with 0 Axes>"
            ]
          },
          "metadata": {}
        },
        {
          "output_type": "display_data",
          "data": {
            "text/plain": [
              "<Figure size 1000x500 with 0 Axes>"
            ]
          },
          "metadata": {}
        },
        {
          "output_type": "display_data",
          "data": {
            "text/plain": [
              "<Figure size 1000x500 with 0 Axes>"
            ]
          },
          "metadata": {}
        },
        {
          "output_type": "display_data",
          "data": {
            "text/plain": [
              "<Figure size 1000x500 with 0 Axes>"
            ]
          },
          "metadata": {}
        },
        {
          "output_type": "display_data",
          "data": {
            "text/plain": [
              "<Figure size 1000x500 with 0 Axes>"
            ]
          },
          "metadata": {}
        },
        {
          "output_type": "display_data",
          "data": {
            "text/plain": [
              "<Figure size 1000x500 with 0 Axes>"
            ]
          },
          "metadata": {}
        },
        {
          "output_type": "display_data",
          "data": {
            "text/plain": [
              "<Figure size 1000x500 with 0 Axes>"
            ]
          },
          "metadata": {}
        },
        {
          "output_type": "display_data",
          "data": {
            "text/plain": [
              "<Figure size 1000x500 with 0 Axes>"
            ]
          },
          "metadata": {}
        },
        {
          "output_type": "display_data",
          "data": {
            "text/plain": [
              "<Figure size 1000x500 with 0 Axes>"
            ]
          },
          "metadata": {}
        },
        {
          "output_type": "display_data",
          "data": {
            "text/plain": [
              "<Figure size 1000x500 with 0 Axes>"
            ]
          },
          "metadata": {}
        },
        {
          "output_type": "display_data",
          "data": {
            "text/plain": [
              "<Figure size 1000x500 with 0 Axes>"
            ]
          },
          "metadata": {}
        },
        {
          "output_type": "display_data",
          "data": {
            "text/plain": [
              "<Figure size 1000x500 with 0 Axes>"
            ]
          },
          "metadata": {}
        },
        {
          "output_type": "display_data",
          "data": {
            "text/plain": [
              "<Figure size 1000x500 with 0 Axes>"
            ]
          },
          "metadata": {}
        },
        {
          "output_type": "display_data",
          "data": {
            "text/plain": [
              "<Figure size 1000x500 with 0 Axes>"
            ]
          },
          "metadata": {}
        },
        {
          "output_type": "display_data",
          "data": {
            "text/plain": [
              "<Figure size 1000x500 with 0 Axes>"
            ]
          },
          "metadata": {}
        },
        {
          "output_type": "display_data",
          "data": {
            "text/plain": [
              "<Figure size 1000x500 with 0 Axes>"
            ]
          },
          "metadata": {}
        },
        {
          "output_type": "display_data",
          "data": {
            "text/plain": [
              "<Figure size 1000x500 with 0 Axes>"
            ]
          },
          "metadata": {}
        },
        {
          "output_type": "display_data",
          "data": {
            "text/plain": [
              "<Figure size 1000x500 with 0 Axes>"
            ]
          },
          "metadata": {}
        },
        {
          "output_type": "display_data",
          "data": {
            "text/plain": [
              "<Figure size 1000x500 with 0 Axes>"
            ]
          },
          "metadata": {}
        },
        {
          "output_type": "display_data",
          "data": {
            "text/plain": [
              "<Figure size 1000x500 with 0 Axes>"
            ]
          },
          "metadata": {}
        },
        {
          "output_type": "display_data",
          "data": {
            "text/plain": [
              "<Figure size 1000x500 with 0 Axes>"
            ]
          },
          "metadata": {}
        },
        {
          "output_type": "display_data",
          "data": {
            "text/plain": [
              "<Figure size 1000x500 with 0 Axes>"
            ]
          },
          "metadata": {}
        },
        {
          "output_type": "display_data",
          "data": {
            "text/plain": [
              "<Figure size 1000x500 with 0 Axes>"
            ]
          },
          "metadata": {}
        },
        {
          "output_type": "display_data",
          "data": {
            "text/plain": [
              "<Figure size 1000x500 with 0 Axes>"
            ]
          },
          "metadata": {}
        },
        {
          "output_type": "display_data",
          "data": {
            "text/plain": [
              "<Figure size 1000x500 with 0 Axes>"
            ]
          },
          "metadata": {}
        },
        {
          "output_type": "display_data",
          "data": {
            "text/plain": [
              "<Figure size 1000x500 with 0 Axes>"
            ]
          },
          "metadata": {}
        },
        {
          "output_type": "display_data",
          "data": {
            "text/plain": [
              "<Figure size 1000x500 with 0 Axes>"
            ]
          },
          "metadata": {}
        },
        {
          "output_type": "display_data",
          "data": {
            "text/plain": [
              "<Figure size 1000x500 with 0 Axes>"
            ]
          },
          "metadata": {}
        },
        {
          "output_type": "display_data",
          "data": {
            "text/plain": [
              "<Figure size 1000x500 with 0 Axes>"
            ]
          },
          "metadata": {}
        },
        {
          "output_type": "display_data",
          "data": {
            "text/plain": [
              "<Figure size 1000x500 with 0 Axes>"
            ]
          },
          "metadata": {}
        },
        {
          "output_type": "display_data",
          "data": {
            "text/plain": [
              "<Figure size 1000x500 with 0 Axes>"
            ]
          },
          "metadata": {}
        },
        {
          "output_type": "display_data",
          "data": {
            "text/plain": [
              "<Figure size 1000x500 with 0 Axes>"
            ]
          },
          "metadata": {}
        },
        {
          "output_type": "display_data",
          "data": {
            "text/plain": [
              "<Figure size 1000x500 with 0 Axes>"
            ]
          },
          "metadata": {}
        },
        {
          "output_type": "display_data",
          "data": {
            "text/plain": [
              "<Figure size 1000x500 with 0 Axes>"
            ]
          },
          "metadata": {}
        },
        {
          "output_type": "display_data",
          "data": {
            "text/plain": [
              "<Figure size 1000x500 with 0 Axes>"
            ]
          },
          "metadata": {}
        },
        {
          "output_type": "display_data",
          "data": {
            "text/plain": [
              "<Figure size 1000x500 with 0 Axes>"
            ]
          },
          "metadata": {}
        },
        {
          "output_type": "display_data",
          "data": {
            "text/plain": [
              "<Figure size 1000x500 with 0 Axes>"
            ]
          },
          "metadata": {}
        },
        {
          "output_type": "display_data",
          "data": {
            "text/plain": [
              "<Figure size 1000x500 with 0 Axes>"
            ]
          },
          "metadata": {}
        },
        {
          "output_type": "display_data",
          "data": {
            "text/plain": [
              "<Figure size 1000x500 with 0 Axes>"
            ]
          },
          "metadata": {}
        },
        {
          "output_type": "display_data",
          "data": {
            "text/plain": [
              "<Figure size 1000x500 with 0 Axes>"
            ]
          },
          "metadata": {}
        },
        {
          "output_type": "display_data",
          "data": {
            "text/plain": [
              "<Figure size 1000x500 with 0 Axes>"
            ]
          },
          "metadata": {}
        },
        {
          "output_type": "display_data",
          "data": {
            "text/plain": [
              "<Figure size 1000x500 with 0 Axes>"
            ]
          },
          "metadata": {}
        },
        {
          "output_type": "display_data",
          "data": {
            "text/plain": [
              "<Figure size 1000x500 with 0 Axes>"
            ]
          },
          "metadata": {}
        },
        {
          "output_type": "display_data",
          "data": {
            "text/plain": [
              "<Figure size 1000x500 with 0 Axes>"
            ]
          },
          "metadata": {}
        },
        {
          "output_type": "display_data",
          "data": {
            "text/plain": [
              "<Figure size 1000x500 with 0 Axes>"
            ]
          },
          "metadata": {}
        },
        {
          "output_type": "display_data",
          "data": {
            "text/plain": [
              "<Figure size 1000x500 with 0 Axes>"
            ]
          },
          "metadata": {}
        },
        {
          "output_type": "display_data",
          "data": {
            "text/plain": [
              "<Figure size 1000x500 with 0 Axes>"
            ]
          },
          "metadata": {}
        },
        {
          "output_type": "display_data",
          "data": {
            "text/plain": [
              "<Figure size 1000x500 with 0 Axes>"
            ]
          },
          "metadata": {}
        },
        {
          "output_type": "display_data",
          "data": {
            "text/plain": [
              "<Figure size 1000x500 with 0 Axes>"
            ]
          },
          "metadata": {}
        },
        {
          "output_type": "display_data",
          "data": {
            "text/plain": [
              "<Figure size 1000x500 with 0 Axes>"
            ]
          },
          "metadata": {}
        },
        {
          "output_type": "display_data",
          "data": {
            "text/plain": [
              "<Figure size 1000x500 with 0 Axes>"
            ]
          },
          "metadata": {}
        },
        {
          "output_type": "display_data",
          "data": {
            "text/plain": [
              "<Figure size 1000x500 with 0 Axes>"
            ]
          },
          "metadata": {}
        },
        {
          "output_type": "display_data",
          "data": {
            "text/plain": [
              "<Figure size 1000x500 with 0 Axes>"
            ]
          },
          "metadata": {}
        },
        {
          "output_type": "display_data",
          "data": {
            "text/plain": [
              "<Figure size 1000x500 with 0 Axes>"
            ]
          },
          "metadata": {}
        },
        {
          "output_type": "display_data",
          "data": {
            "text/plain": [
              "<Figure size 1000x500 with 0 Axes>"
            ]
          },
          "metadata": {}
        },
        {
          "output_type": "display_data",
          "data": {
            "text/plain": [
              "<Figure size 1000x500 with 0 Axes>"
            ]
          },
          "metadata": {}
        },
        {
          "output_type": "display_data",
          "data": {
            "text/plain": [
              "<Figure size 1000x500 with 0 Axes>"
            ]
          },
          "metadata": {}
        },
        {
          "output_type": "display_data",
          "data": {
            "text/plain": [
              "<Figure size 1000x500 with 0 Axes>"
            ]
          },
          "metadata": {}
        },
        {
          "output_type": "display_data",
          "data": {
            "text/plain": [
              "<Figure size 1000x500 with 0 Axes>"
            ]
          },
          "metadata": {}
        },
        {
          "output_type": "display_data",
          "data": {
            "text/plain": [
              "<Figure size 1000x500 with 0 Axes>"
            ]
          },
          "metadata": {}
        },
        {
          "output_type": "display_data",
          "data": {
            "text/plain": [
              "<Figure size 1000x500 with 0 Axes>"
            ]
          },
          "metadata": {}
        },
        {
          "output_type": "display_data",
          "data": {
            "text/plain": [
              "<Figure size 1000x500 with 0 Axes>"
            ]
          },
          "metadata": {}
        },
        {
          "output_type": "display_data",
          "data": {
            "text/plain": [
              "<Figure size 1000x500 with 0 Axes>"
            ]
          },
          "metadata": {}
        },
        {
          "output_type": "display_data",
          "data": {
            "text/plain": [
              "<Figure size 1000x500 with 0 Axes>"
            ]
          },
          "metadata": {}
        },
        {
          "output_type": "display_data",
          "data": {
            "text/plain": [
              "<Figure size 1000x500 with 0 Axes>"
            ]
          },
          "metadata": {}
        },
        {
          "output_type": "display_data",
          "data": {
            "text/plain": [
              "<Figure size 1000x500 with 0 Axes>"
            ]
          },
          "metadata": {}
        },
        {
          "output_type": "display_data",
          "data": {
            "text/plain": [
              "<Figure size 1000x500 with 0 Axes>"
            ]
          },
          "metadata": {}
        },
        {
          "output_type": "display_data",
          "data": {
            "text/plain": [
              "<Figure size 1000x500 with 0 Axes>"
            ]
          },
          "metadata": {}
        },
        {
          "output_type": "display_data",
          "data": {
            "text/plain": [
              "<Figure size 1000x500 with 0 Axes>"
            ]
          },
          "metadata": {}
        },
        {
          "output_type": "display_data",
          "data": {
            "text/plain": [
              "<Figure size 1000x500 with 0 Axes>"
            ]
          },
          "metadata": {}
        },
        {
          "output_type": "display_data",
          "data": {
            "text/plain": [
              "<Figure size 1000x500 with 0 Axes>"
            ]
          },
          "metadata": {}
        },
        {
          "output_type": "display_data",
          "data": {
            "text/plain": [
              "<Figure size 1000x500 with 0 Axes>"
            ]
          },
          "metadata": {}
        },
        {
          "output_type": "display_data",
          "data": {
            "text/plain": [
              "<Figure size 1000x500 with 0 Axes>"
            ]
          },
          "metadata": {}
        },
        {
          "output_type": "display_data",
          "data": {
            "text/plain": [
              "<Figure size 1000x500 with 0 Axes>"
            ]
          },
          "metadata": {}
        },
        {
          "output_type": "display_data",
          "data": {
            "text/plain": [
              "<Figure size 1000x500 with 0 Axes>"
            ]
          },
          "metadata": {}
        },
        {
          "output_type": "display_data",
          "data": {
            "text/plain": [
              "<Figure size 1000x500 with 0 Axes>"
            ]
          },
          "metadata": {}
        },
        {
          "output_type": "display_data",
          "data": {
            "text/plain": [
              "<Figure size 1000x500 with 0 Axes>"
            ]
          },
          "metadata": {}
        },
        {
          "output_type": "display_data",
          "data": {
            "text/plain": [
              "<Figure size 1000x500 with 0 Axes>"
            ]
          },
          "metadata": {}
        },
        {
          "output_type": "display_data",
          "data": {
            "text/plain": [
              "<Figure size 1000x500 with 0 Axes>"
            ]
          },
          "metadata": {}
        },
        {
          "output_type": "display_data",
          "data": {
            "text/plain": [
              "<Figure size 1000x500 with 0 Axes>"
            ]
          },
          "metadata": {}
        },
        {
          "output_type": "display_data",
          "data": {
            "text/plain": [
              "<Figure size 1000x500 with 0 Axes>"
            ]
          },
          "metadata": {}
        },
        {
          "output_type": "display_data",
          "data": {
            "text/plain": [
              "<Figure size 1000x500 with 0 Axes>"
            ]
          },
          "metadata": {}
        },
        {
          "output_type": "display_data",
          "data": {
            "text/plain": [
              "<Figure size 1000x500 with 0 Axes>"
            ]
          },
          "metadata": {}
        },
        {
          "output_type": "display_data",
          "data": {
            "text/plain": [
              "<Figure size 1000x500 with 0 Axes>"
            ]
          },
          "metadata": {}
        },
        {
          "output_type": "display_data",
          "data": {
            "text/plain": [
              "<Figure size 1000x500 with 0 Axes>"
            ]
          },
          "metadata": {}
        },
        {
          "output_type": "display_data",
          "data": {
            "text/plain": [
              "<Figure size 1000x500 with 0 Axes>"
            ]
          },
          "metadata": {}
        },
        {
          "output_type": "display_data",
          "data": {
            "text/plain": [
              "<Figure size 1000x500 with 0 Axes>"
            ]
          },
          "metadata": {}
        },
        {
          "output_type": "display_data",
          "data": {
            "text/plain": [
              "<Figure size 1000x500 with 0 Axes>"
            ]
          },
          "metadata": {}
        },
        {
          "output_type": "display_data",
          "data": {
            "text/plain": [
              "<Figure size 1000x500 with 0 Axes>"
            ]
          },
          "metadata": {}
        },
        {
          "output_type": "display_data",
          "data": {
            "text/plain": [
              "<Figure size 1000x500 with 0 Axes>"
            ]
          },
          "metadata": {}
        },
        {
          "output_type": "display_data",
          "data": {
            "text/plain": [
              "<Figure size 1000x500 with 0 Axes>"
            ]
          },
          "metadata": {}
        },
        {
          "output_type": "display_data",
          "data": {
            "text/plain": [
              "<Figure size 1000x500 with 0 Axes>"
            ]
          },
          "metadata": {}
        },
        {
          "output_type": "display_data",
          "data": {
            "text/plain": [
              "<Figure size 1000x500 with 0 Axes>"
            ]
          },
          "metadata": {}
        },
        {
          "output_type": "display_data",
          "data": {
            "text/plain": [
              "<Figure size 1000x500 with 0 Axes>"
            ]
          },
          "metadata": {}
        },
        {
          "output_type": "display_data",
          "data": {
            "text/plain": [
              "<Figure size 1000x500 with 0 Axes>"
            ]
          },
          "metadata": {}
        },
        {
          "output_type": "display_data",
          "data": {
            "text/plain": [
              "<Figure size 1000x500 with 0 Axes>"
            ]
          },
          "metadata": {}
        },
        {
          "output_type": "display_data",
          "data": {
            "text/plain": [
              "<Figure size 1000x500 with 0 Axes>"
            ]
          },
          "metadata": {}
        },
        {
          "output_type": "display_data",
          "data": {
            "text/plain": [
              "<Figure size 1000x500 with 0 Axes>"
            ]
          },
          "metadata": {}
        },
        {
          "output_type": "display_data",
          "data": {
            "text/plain": [
              "<Figure size 1000x500 with 0 Axes>"
            ]
          },
          "metadata": {}
        },
        {
          "output_type": "display_data",
          "data": {
            "text/plain": [
              "<Figure size 1000x500 with 0 Axes>"
            ]
          },
          "metadata": {}
        },
        {
          "output_type": "display_data",
          "data": {
            "text/plain": [
              "<Figure size 1000x500 with 0 Axes>"
            ]
          },
          "metadata": {}
        },
        {
          "output_type": "display_data",
          "data": {
            "text/plain": [
              "<Figure size 1000x500 with 0 Axes>"
            ]
          },
          "metadata": {}
        },
        {
          "output_type": "display_data",
          "data": {
            "text/plain": [
              "<Figure size 1000x500 with 0 Axes>"
            ]
          },
          "metadata": {}
        },
        {
          "output_type": "display_data",
          "data": {
            "text/plain": [
              "<Figure size 1000x500 with 0 Axes>"
            ]
          },
          "metadata": {}
        },
        {
          "output_type": "display_data",
          "data": {
            "text/plain": [
              "<Figure size 1000x500 with 0 Axes>"
            ]
          },
          "metadata": {}
        },
        {
          "output_type": "display_data",
          "data": {
            "text/plain": [
              "<Figure size 1000x500 with 0 Axes>"
            ]
          },
          "metadata": {}
        },
        {
          "output_type": "display_data",
          "data": {
            "text/plain": [
              "<Figure size 1000x500 with 0 Axes>"
            ]
          },
          "metadata": {}
        },
        {
          "output_type": "display_data",
          "data": {
            "text/plain": [
              "<Figure size 1000x500 with 0 Axes>"
            ]
          },
          "metadata": {}
        },
        {
          "output_type": "display_data",
          "data": {
            "text/plain": [
              "<Figure size 1000x500 with 0 Axes>"
            ]
          },
          "metadata": {}
        },
        {
          "output_type": "display_data",
          "data": {
            "text/plain": [
              "<Figure size 1000x500 with 0 Axes>"
            ]
          },
          "metadata": {}
        },
        {
          "output_type": "display_data",
          "data": {
            "text/plain": [
              "<Figure size 1000x500 with 0 Axes>"
            ]
          },
          "metadata": {}
        },
        {
          "output_type": "display_data",
          "data": {
            "text/plain": [
              "<Figure size 1000x500 with 0 Axes>"
            ]
          },
          "metadata": {}
        },
        {
          "output_type": "display_data",
          "data": {
            "text/plain": [
              "<Figure size 1000x500 with 0 Axes>"
            ]
          },
          "metadata": {}
        },
        {
          "output_type": "display_data",
          "data": {
            "text/plain": [
              "<Figure size 1000x500 with 0 Axes>"
            ]
          },
          "metadata": {}
        },
        {
          "output_type": "display_data",
          "data": {
            "text/plain": [
              "<Figure size 1000x500 with 0 Axes>"
            ]
          },
          "metadata": {}
        },
        {
          "output_type": "display_data",
          "data": {
            "text/plain": [
              "<Figure size 1000x500 with 0 Axes>"
            ]
          },
          "metadata": {}
        },
        {
          "output_type": "display_data",
          "data": {
            "text/plain": [
              "<Figure size 1000x500 with 0 Axes>"
            ]
          },
          "metadata": {}
        },
        {
          "output_type": "display_data",
          "data": {
            "text/plain": [
              "<Figure size 1000x500 with 0 Axes>"
            ]
          },
          "metadata": {}
        },
        {
          "output_type": "display_data",
          "data": {
            "text/plain": [
              "<Figure size 1000x500 with 0 Axes>"
            ]
          },
          "metadata": {}
        },
        {
          "output_type": "display_data",
          "data": {
            "text/plain": [
              "<Figure size 1000x500 with 0 Axes>"
            ]
          },
          "metadata": {}
        },
        {
          "output_type": "display_data",
          "data": {
            "text/plain": [
              "<Figure size 1000x500 with 0 Axes>"
            ]
          },
          "metadata": {}
        },
        {
          "output_type": "display_data",
          "data": {
            "text/plain": [
              "<Figure size 1000x500 with 0 Axes>"
            ]
          },
          "metadata": {}
        },
        {
          "output_type": "display_data",
          "data": {
            "text/plain": [
              "<Figure size 1000x500 with 0 Axes>"
            ]
          },
          "metadata": {}
        },
        {
          "output_type": "display_data",
          "data": {
            "text/plain": [
              "<Figure size 1000x500 with 0 Axes>"
            ]
          },
          "metadata": {}
        },
        {
          "output_type": "display_data",
          "data": {
            "text/plain": [
              "<Figure size 1000x500 with 0 Axes>"
            ]
          },
          "metadata": {}
        },
        {
          "output_type": "display_data",
          "data": {
            "text/plain": [
              "<Figure size 1000x500 with 0 Axes>"
            ]
          },
          "metadata": {}
        },
        {
          "output_type": "display_data",
          "data": {
            "text/plain": [
              "<Figure size 1000x500 with 0 Axes>"
            ]
          },
          "metadata": {}
        },
        {
          "output_type": "display_data",
          "data": {
            "text/plain": [
              "<Figure size 1000x500 with 0 Axes>"
            ]
          },
          "metadata": {}
        },
        {
          "output_type": "display_data",
          "data": {
            "text/plain": [
              "<Figure size 1000x500 with 0 Axes>"
            ]
          },
          "metadata": {}
        },
        {
          "output_type": "display_data",
          "data": {
            "text/plain": [
              "<Figure size 1000x500 with 0 Axes>"
            ]
          },
          "metadata": {}
        },
        {
          "output_type": "display_data",
          "data": {
            "text/plain": [
              "<Figure size 1000x500 with 0 Axes>"
            ]
          },
          "metadata": {}
        },
        {
          "output_type": "display_data",
          "data": {
            "text/plain": [
              "<Figure size 1000x500 with 0 Axes>"
            ]
          },
          "metadata": {}
        },
        {
          "output_type": "display_data",
          "data": {
            "text/plain": [
              "<Figure size 1000x500 with 0 Axes>"
            ]
          },
          "metadata": {}
        },
        {
          "output_type": "display_data",
          "data": {
            "text/plain": [
              "<Figure size 1000x500 with 0 Axes>"
            ]
          },
          "metadata": {}
        },
        {
          "output_type": "display_data",
          "data": {
            "text/plain": [
              "<Figure size 1000x500 with 0 Axes>"
            ]
          },
          "metadata": {}
        },
        {
          "output_type": "display_data",
          "data": {
            "text/plain": [
              "<Figure size 1000x500 with 0 Axes>"
            ]
          },
          "metadata": {}
        },
        {
          "output_type": "display_data",
          "data": {
            "text/plain": [
              "<Figure size 1000x500 with 0 Axes>"
            ]
          },
          "metadata": {}
        },
        {
          "output_type": "display_data",
          "data": {
            "text/plain": [
              "<Figure size 1000x500 with 0 Axes>"
            ]
          },
          "metadata": {}
        },
        {
          "output_type": "display_data",
          "data": {
            "text/plain": [
              "<Figure size 1000x500 with 0 Axes>"
            ]
          },
          "metadata": {}
        },
        {
          "output_type": "display_data",
          "data": {
            "text/plain": [
              "<Figure size 1000x500 with 0 Axes>"
            ]
          },
          "metadata": {}
        },
        {
          "output_type": "display_data",
          "data": {
            "text/plain": [
              "<Figure size 1000x500 with 0 Axes>"
            ]
          },
          "metadata": {}
        },
        {
          "output_type": "display_data",
          "data": {
            "text/plain": [
              "<Figure size 1000x500 with 0 Axes>"
            ]
          },
          "metadata": {}
        },
        {
          "output_type": "display_data",
          "data": {
            "text/plain": [
              "<Figure size 1000x500 with 0 Axes>"
            ]
          },
          "metadata": {}
        },
        {
          "output_type": "display_data",
          "data": {
            "text/plain": [
              "<Figure size 1000x500 with 0 Axes>"
            ]
          },
          "metadata": {}
        },
        {
          "output_type": "display_data",
          "data": {
            "text/plain": [
              "<Figure size 1000x500 with 0 Axes>"
            ]
          },
          "metadata": {}
        },
        {
          "output_type": "display_data",
          "data": {
            "text/plain": [
              "<Figure size 1000x500 with 0 Axes>"
            ]
          },
          "metadata": {}
        },
        {
          "output_type": "display_data",
          "data": {
            "text/plain": [
              "<Figure size 1000x500 with 0 Axes>"
            ]
          },
          "metadata": {}
        },
        {
          "output_type": "display_data",
          "data": {
            "text/plain": [
              "<Figure size 1000x500 with 0 Axes>"
            ]
          },
          "metadata": {}
        },
        {
          "output_type": "display_data",
          "data": {
            "text/plain": [
              "<Figure size 1000x500 with 0 Axes>"
            ]
          },
          "metadata": {}
        },
        {
          "output_type": "display_data",
          "data": {
            "text/plain": [
              "<Figure size 1000x500 with 0 Axes>"
            ]
          },
          "metadata": {}
        },
        {
          "output_type": "display_data",
          "data": {
            "text/plain": [
              "<Figure size 1000x500 with 0 Axes>"
            ]
          },
          "metadata": {}
        },
        {
          "output_type": "display_data",
          "data": {
            "text/plain": [
              "<Figure size 1000x500 with 0 Axes>"
            ]
          },
          "metadata": {}
        },
        {
          "output_type": "display_data",
          "data": {
            "text/plain": [
              "<Figure size 1000x500 with 0 Axes>"
            ]
          },
          "metadata": {}
        },
        {
          "output_type": "display_data",
          "data": {
            "text/plain": [
              "<Figure size 1000x500 with 0 Axes>"
            ]
          },
          "metadata": {}
        },
        {
          "output_type": "display_data",
          "data": {
            "text/plain": [
              "<Figure size 1000x500 with 0 Axes>"
            ]
          },
          "metadata": {}
        },
        {
          "output_type": "display_data",
          "data": {
            "text/plain": [
              "<Figure size 1000x500 with 0 Axes>"
            ]
          },
          "metadata": {}
        },
        {
          "output_type": "display_data",
          "data": {
            "text/plain": [
              "<Figure size 1000x500 with 0 Axes>"
            ]
          },
          "metadata": {}
        },
        {
          "output_type": "display_data",
          "data": {
            "text/plain": [
              "<Figure size 1000x500 with 0 Axes>"
            ]
          },
          "metadata": {}
        },
        {
          "output_type": "display_data",
          "data": {
            "text/plain": [
              "<Figure size 1000x500 with 0 Axes>"
            ]
          },
          "metadata": {}
        },
        {
          "output_type": "display_data",
          "data": {
            "text/plain": [
              "<Figure size 1000x500 with 0 Axes>"
            ]
          },
          "metadata": {}
        },
        {
          "output_type": "display_data",
          "data": {
            "text/plain": [
              "<Figure size 1000x500 with 0 Axes>"
            ]
          },
          "metadata": {}
        },
        {
          "output_type": "display_data",
          "data": {
            "text/plain": [
              "<Figure size 1000x500 with 0 Axes>"
            ]
          },
          "metadata": {}
        },
        {
          "output_type": "display_data",
          "data": {
            "text/plain": [
              "<Figure size 1000x500 with 0 Axes>"
            ]
          },
          "metadata": {}
        },
        {
          "output_type": "display_data",
          "data": {
            "text/plain": [
              "<Figure size 1000x500 with 0 Axes>"
            ]
          },
          "metadata": {}
        },
        {
          "output_type": "display_data",
          "data": {
            "text/plain": [
              "<Figure size 1000x500 with 0 Axes>"
            ]
          },
          "metadata": {}
        },
        {
          "output_type": "display_data",
          "data": {
            "text/plain": [
              "<Figure size 1000x500 with 0 Axes>"
            ]
          },
          "metadata": {}
        },
        {
          "output_type": "display_data",
          "data": {
            "text/plain": [
              "<Figure size 1000x500 with 0 Axes>"
            ]
          },
          "metadata": {}
        },
        {
          "output_type": "display_data",
          "data": {
            "text/plain": [
              "<Figure size 1000x500 with 0 Axes>"
            ]
          },
          "metadata": {}
        },
        {
          "output_type": "display_data",
          "data": {
            "text/plain": [
              "<Figure size 1000x500 with 0 Axes>"
            ]
          },
          "metadata": {}
        },
        {
          "output_type": "display_data",
          "data": {
            "text/plain": [
              "<Figure size 1000x500 with 0 Axes>"
            ]
          },
          "metadata": {}
        },
        {
          "output_type": "display_data",
          "data": {
            "text/plain": [
              "<Figure size 1000x500 with 0 Axes>"
            ]
          },
          "metadata": {}
        },
        {
          "output_type": "display_data",
          "data": {
            "text/plain": [
              "<Figure size 1000x500 with 0 Axes>"
            ]
          },
          "metadata": {}
        },
        {
          "output_type": "display_data",
          "data": {
            "text/plain": [
              "<Figure size 1000x500 with 0 Axes>"
            ]
          },
          "metadata": {}
        },
        {
          "output_type": "display_data",
          "data": {
            "text/plain": [
              "<Figure size 1000x500 with 0 Axes>"
            ]
          },
          "metadata": {}
        },
        {
          "output_type": "display_data",
          "data": {
            "text/plain": [
              "<Figure size 1000x500 with 0 Axes>"
            ]
          },
          "metadata": {}
        },
        {
          "output_type": "display_data",
          "data": {
            "text/plain": [
              "<Figure size 1000x500 with 0 Axes>"
            ]
          },
          "metadata": {}
        },
        {
          "output_type": "display_data",
          "data": {
            "text/plain": [
              "<Figure size 1000x500 with 0 Axes>"
            ]
          },
          "metadata": {}
        },
        {
          "output_type": "display_data",
          "data": {
            "text/plain": [
              "<Figure size 1000x500 with 0 Axes>"
            ]
          },
          "metadata": {}
        },
        {
          "output_type": "display_data",
          "data": {
            "text/plain": [
              "<Figure size 1000x500 with 0 Axes>"
            ]
          },
          "metadata": {}
        },
        {
          "output_type": "display_data",
          "data": {
            "text/plain": [
              "<Figure size 1000x500 with 0 Axes>"
            ]
          },
          "metadata": {}
        },
        {
          "output_type": "display_data",
          "data": {
            "text/plain": [
              "<Figure size 1000x500 with 0 Axes>"
            ]
          },
          "metadata": {}
        },
        {
          "output_type": "display_data",
          "data": {
            "text/plain": [
              "<Figure size 1000x500 with 0 Axes>"
            ]
          },
          "metadata": {}
        },
        {
          "output_type": "display_data",
          "data": {
            "text/plain": [
              "<Figure size 1000x500 with 0 Axes>"
            ]
          },
          "metadata": {}
        },
        {
          "output_type": "display_data",
          "data": {
            "text/plain": [
              "<Figure size 1000x500 with 0 Axes>"
            ]
          },
          "metadata": {}
        },
        {
          "output_type": "display_data",
          "data": {
            "text/plain": [
              "<Figure size 1000x500 with 0 Axes>"
            ]
          },
          "metadata": {}
        },
        {
          "output_type": "display_data",
          "data": {
            "text/plain": [
              "<Figure size 1000x500 with 0 Axes>"
            ]
          },
          "metadata": {}
        },
        {
          "output_type": "display_data",
          "data": {
            "text/plain": [
              "<Figure size 1000x500 with 0 Axes>"
            ]
          },
          "metadata": {}
        },
        {
          "output_type": "display_data",
          "data": {
            "text/plain": [
              "<Figure size 1000x500 with 0 Axes>"
            ]
          },
          "metadata": {}
        },
        {
          "output_type": "display_data",
          "data": {
            "text/plain": [
              "<Figure size 1000x500 with 0 Axes>"
            ]
          },
          "metadata": {}
        },
        {
          "output_type": "display_data",
          "data": {
            "text/plain": [
              "<Figure size 1000x500 with 0 Axes>"
            ]
          },
          "metadata": {}
        },
        {
          "output_type": "display_data",
          "data": {
            "text/plain": [
              "<Figure size 1000x500 with 0 Axes>"
            ]
          },
          "metadata": {}
        },
        {
          "output_type": "display_data",
          "data": {
            "text/plain": [
              "<Figure size 1000x500 with 0 Axes>"
            ]
          },
          "metadata": {}
        },
        {
          "output_type": "display_data",
          "data": {
            "text/plain": [
              "<Figure size 1000x500 with 0 Axes>"
            ]
          },
          "metadata": {}
        },
        {
          "output_type": "display_data",
          "data": {
            "text/plain": [
              "<Figure size 1000x500 with 0 Axes>"
            ]
          },
          "metadata": {}
        },
        {
          "output_type": "display_data",
          "data": {
            "text/plain": [
              "<Figure size 1000x500 with 0 Axes>"
            ]
          },
          "metadata": {}
        },
        {
          "output_type": "display_data",
          "data": {
            "text/plain": [
              "<Figure size 1000x500 with 0 Axes>"
            ]
          },
          "metadata": {}
        },
        {
          "output_type": "display_data",
          "data": {
            "text/plain": [
              "<Figure size 1000x500 with 0 Axes>"
            ]
          },
          "metadata": {}
        },
        {
          "output_type": "display_data",
          "data": {
            "text/plain": [
              "<Figure size 1000x500 with 0 Axes>"
            ]
          },
          "metadata": {}
        },
        {
          "output_type": "display_data",
          "data": {
            "text/plain": [
              "<Figure size 1000x500 with 0 Axes>"
            ]
          },
          "metadata": {}
        },
        {
          "output_type": "display_data",
          "data": {
            "text/plain": [
              "<Figure size 1000x500 with 0 Axes>"
            ]
          },
          "metadata": {}
        },
        {
          "output_type": "display_data",
          "data": {
            "text/plain": [
              "<Figure size 1000x500 with 0 Axes>"
            ]
          },
          "metadata": {}
        },
        {
          "output_type": "display_data",
          "data": {
            "text/plain": [
              "<Figure size 1000x500 with 0 Axes>"
            ]
          },
          "metadata": {}
        },
        {
          "output_type": "display_data",
          "data": {
            "text/plain": [
              "<Figure size 1000x500 with 0 Axes>"
            ]
          },
          "metadata": {}
        },
        {
          "output_type": "display_data",
          "data": {
            "text/plain": [
              "<Figure size 1000x500 with 0 Axes>"
            ]
          },
          "metadata": {}
        },
        {
          "output_type": "display_data",
          "data": {
            "text/plain": [
              "<Figure size 1000x500 with 0 Axes>"
            ]
          },
          "metadata": {}
        },
        {
          "output_type": "display_data",
          "data": {
            "text/plain": [
              "<Figure size 1000x500 with 0 Axes>"
            ]
          },
          "metadata": {}
        },
        {
          "output_type": "display_data",
          "data": {
            "text/plain": [
              "<Figure size 1000x500 with 0 Axes>"
            ]
          },
          "metadata": {}
        },
        {
          "output_type": "display_data",
          "data": {
            "text/plain": [
              "<Figure size 1000x500 with 0 Axes>"
            ]
          },
          "metadata": {}
        },
        {
          "output_type": "display_data",
          "data": {
            "text/plain": [
              "<Figure size 1000x500 with 0 Axes>"
            ]
          },
          "metadata": {}
        },
        {
          "output_type": "display_data",
          "data": {
            "text/plain": [
              "<Figure size 1000x500 with 0 Axes>"
            ]
          },
          "metadata": {}
        },
        {
          "output_type": "display_data",
          "data": {
            "text/plain": [
              "<Figure size 1000x500 with 0 Axes>"
            ]
          },
          "metadata": {}
        },
        {
          "output_type": "display_data",
          "data": {
            "text/plain": [
              "<Figure size 1000x500 with 0 Axes>"
            ]
          },
          "metadata": {}
        },
        {
          "output_type": "display_data",
          "data": {
            "text/plain": [
              "<Figure size 1000x500 with 0 Axes>"
            ]
          },
          "metadata": {}
        },
        {
          "output_type": "display_data",
          "data": {
            "text/plain": [
              "<Figure size 1000x500 with 0 Axes>"
            ]
          },
          "metadata": {}
        },
        {
          "output_type": "display_data",
          "data": {
            "text/plain": [
              "<Figure size 1000x500 with 0 Axes>"
            ]
          },
          "metadata": {}
        },
        {
          "output_type": "display_data",
          "data": {
            "text/plain": [
              "<Figure size 1000x500 with 0 Axes>"
            ]
          },
          "metadata": {}
        },
        {
          "output_type": "display_data",
          "data": {
            "text/plain": [
              "<Figure size 1000x500 with 0 Axes>"
            ]
          },
          "metadata": {}
        },
        {
          "output_type": "display_data",
          "data": {
            "text/plain": [
              "<Figure size 1000x500 with 0 Axes>"
            ]
          },
          "metadata": {}
        },
        {
          "output_type": "display_data",
          "data": {
            "text/plain": [
              "<Figure size 1000x500 with 0 Axes>"
            ]
          },
          "metadata": {}
        },
        {
          "output_type": "display_data",
          "data": {
            "text/plain": [
              "<Figure size 1000x500 with 0 Axes>"
            ]
          },
          "metadata": {}
        },
        {
          "output_type": "display_data",
          "data": {
            "text/plain": [
              "<Figure size 1000x500 with 0 Axes>"
            ]
          },
          "metadata": {}
        },
        {
          "output_type": "display_data",
          "data": {
            "text/plain": [
              "<Figure size 1000x500 with 0 Axes>"
            ]
          },
          "metadata": {}
        },
        {
          "output_type": "display_data",
          "data": {
            "text/plain": [
              "<Figure size 1000x500 with 0 Axes>"
            ]
          },
          "metadata": {}
        },
        {
          "output_type": "display_data",
          "data": {
            "text/plain": [
              "<Figure size 1000x500 with 0 Axes>"
            ]
          },
          "metadata": {}
        },
        {
          "output_type": "display_data",
          "data": {
            "text/plain": [
              "<Figure size 1000x500 with 0 Axes>"
            ]
          },
          "metadata": {}
        },
        {
          "output_type": "display_data",
          "data": {
            "text/plain": [
              "<Figure size 1000x500 with 0 Axes>"
            ]
          },
          "metadata": {}
        },
        {
          "output_type": "display_data",
          "data": {
            "text/plain": [
              "<Figure size 1000x500 with 0 Axes>"
            ]
          },
          "metadata": {}
        },
        {
          "output_type": "display_data",
          "data": {
            "text/plain": [
              "<Figure size 1000x500 with 0 Axes>"
            ]
          },
          "metadata": {}
        },
        {
          "output_type": "display_data",
          "data": {
            "text/plain": [
              "<Figure size 1000x500 with 0 Axes>"
            ]
          },
          "metadata": {}
        },
        {
          "output_type": "display_data",
          "data": {
            "text/plain": [
              "<Figure size 1000x500 with 0 Axes>"
            ]
          },
          "metadata": {}
        },
        {
          "output_type": "display_data",
          "data": {
            "text/plain": [
              "<Figure size 1000x500 with 0 Axes>"
            ]
          },
          "metadata": {}
        },
        {
          "output_type": "display_data",
          "data": {
            "text/plain": [
              "<Figure size 1000x500 with 0 Axes>"
            ]
          },
          "metadata": {}
        },
        {
          "output_type": "display_data",
          "data": {
            "text/plain": [
              "<Figure size 1000x500 with 0 Axes>"
            ]
          },
          "metadata": {}
        },
        {
          "output_type": "display_data",
          "data": {
            "text/plain": [
              "<Figure size 1000x500 with 0 Axes>"
            ]
          },
          "metadata": {}
        },
        {
          "output_type": "display_data",
          "data": {
            "text/plain": [
              "<Figure size 1000x500 with 0 Axes>"
            ]
          },
          "metadata": {}
        },
        {
          "output_type": "display_data",
          "data": {
            "text/plain": [
              "<Figure size 1000x500 with 0 Axes>"
            ]
          },
          "metadata": {}
        },
        {
          "output_type": "display_data",
          "data": {
            "text/plain": [
              "<Figure size 1000x500 with 0 Axes>"
            ]
          },
          "metadata": {}
        },
        {
          "output_type": "display_data",
          "data": {
            "text/plain": [
              "<Figure size 1000x500 with 0 Axes>"
            ]
          },
          "metadata": {}
        },
        {
          "output_type": "display_data",
          "data": {
            "text/plain": [
              "<Figure size 1000x500 with 0 Axes>"
            ]
          },
          "metadata": {}
        },
        {
          "output_type": "display_data",
          "data": {
            "text/plain": [
              "<Figure size 1000x500 with 0 Axes>"
            ]
          },
          "metadata": {}
        },
        {
          "output_type": "display_data",
          "data": {
            "text/plain": [
              "<Figure size 1000x500 with 0 Axes>"
            ]
          },
          "metadata": {}
        },
        {
          "output_type": "display_data",
          "data": {
            "text/plain": [
              "<Figure size 1000x500 with 0 Axes>"
            ]
          },
          "metadata": {}
        },
        {
          "output_type": "display_data",
          "data": {
            "text/plain": [
              "<Figure size 1000x500 with 0 Axes>"
            ]
          },
          "metadata": {}
        },
        {
          "output_type": "display_data",
          "data": {
            "text/plain": [
              "<Figure size 1000x500 with 0 Axes>"
            ]
          },
          "metadata": {}
        },
        {
          "output_type": "display_data",
          "data": {
            "text/plain": [
              "<Figure size 1000x500 with 0 Axes>"
            ]
          },
          "metadata": {}
        },
        {
          "output_type": "display_data",
          "data": {
            "text/plain": [
              "<Figure size 1000x500 with 0 Axes>"
            ]
          },
          "metadata": {}
        },
        {
          "output_type": "display_data",
          "data": {
            "text/plain": [
              "<Figure size 1000x500 with 0 Axes>"
            ]
          },
          "metadata": {}
        },
        {
          "output_type": "display_data",
          "data": {
            "text/plain": [
              "<Figure size 1000x500 with 0 Axes>"
            ]
          },
          "metadata": {}
        },
        {
          "output_type": "display_data",
          "data": {
            "text/plain": [
              "<Figure size 1000x500 with 0 Axes>"
            ]
          },
          "metadata": {}
        },
        {
          "output_type": "display_data",
          "data": {
            "text/plain": [
              "<Figure size 1000x500 with 0 Axes>"
            ]
          },
          "metadata": {}
        },
        {
          "output_type": "display_data",
          "data": {
            "text/plain": [
              "<Figure size 1000x500 with 0 Axes>"
            ]
          },
          "metadata": {}
        },
        {
          "output_type": "display_data",
          "data": {
            "text/plain": [
              "<Figure size 1000x500 with 0 Axes>"
            ]
          },
          "metadata": {}
        },
        {
          "output_type": "display_data",
          "data": {
            "text/plain": [
              "<Figure size 1000x500 with 0 Axes>"
            ]
          },
          "metadata": {}
        },
        {
          "output_type": "display_data",
          "data": {
            "text/plain": [
              "<Figure size 1000x500 with 0 Axes>"
            ]
          },
          "metadata": {}
        },
        {
          "output_type": "display_data",
          "data": {
            "text/plain": [
              "<Figure size 1000x500 with 0 Axes>"
            ]
          },
          "metadata": {}
        },
        {
          "output_type": "display_data",
          "data": {
            "text/plain": [
              "<Figure size 1000x500 with 0 Axes>"
            ]
          },
          "metadata": {}
        },
        {
          "output_type": "display_data",
          "data": {
            "text/plain": [
              "<Figure size 1000x500 with 0 Axes>"
            ]
          },
          "metadata": {}
        },
        {
          "output_type": "display_data",
          "data": {
            "text/plain": [
              "<Figure size 1000x500 with 0 Axes>"
            ]
          },
          "metadata": {}
        },
        {
          "output_type": "display_data",
          "data": {
            "text/plain": [
              "<Figure size 1000x500 with 0 Axes>"
            ]
          },
          "metadata": {}
        },
        {
          "output_type": "display_data",
          "data": {
            "text/plain": [
              "<Figure size 1000x500 with 0 Axes>"
            ]
          },
          "metadata": {}
        },
        {
          "output_type": "display_data",
          "data": {
            "text/plain": [
              "<Figure size 1000x500 with 0 Axes>"
            ]
          },
          "metadata": {}
        },
        {
          "output_type": "display_data",
          "data": {
            "text/plain": [
              "<Figure size 1000x500 with 0 Axes>"
            ]
          },
          "metadata": {}
        },
        {
          "output_type": "display_data",
          "data": {
            "text/plain": [
              "<Figure size 1000x500 with 0 Axes>"
            ]
          },
          "metadata": {}
        },
        {
          "output_type": "display_data",
          "data": {
            "text/plain": [
              "<Figure size 1000x500 with 0 Axes>"
            ]
          },
          "metadata": {}
        },
        {
          "output_type": "display_data",
          "data": {
            "text/plain": [
              "<Figure size 1000x500 with 0 Axes>"
            ]
          },
          "metadata": {}
        },
        {
          "output_type": "display_data",
          "data": {
            "text/plain": [
              "<Figure size 1000x500 with 0 Axes>"
            ]
          },
          "metadata": {}
        },
        {
          "output_type": "display_data",
          "data": {
            "text/plain": [
              "<Figure size 1000x500 with 0 Axes>"
            ]
          },
          "metadata": {}
        },
        {
          "output_type": "display_data",
          "data": {
            "text/plain": [
              "<Figure size 1000x500 with 0 Axes>"
            ]
          },
          "metadata": {}
        },
        {
          "output_type": "display_data",
          "data": {
            "text/plain": [
              "<Figure size 1000x500 with 0 Axes>"
            ]
          },
          "metadata": {}
        },
        {
          "output_type": "display_data",
          "data": {
            "text/plain": [
              "<Figure size 1000x500 with 0 Axes>"
            ]
          },
          "metadata": {}
        },
        {
          "output_type": "display_data",
          "data": {
            "text/plain": [
              "<Figure size 1000x500 with 0 Axes>"
            ]
          },
          "metadata": {}
        },
        {
          "output_type": "display_data",
          "data": {
            "text/plain": [
              "<Figure size 1000x500 with 0 Axes>"
            ]
          },
          "metadata": {}
        },
        {
          "output_type": "display_data",
          "data": {
            "text/plain": [
              "<Figure size 1000x500 with 0 Axes>"
            ]
          },
          "metadata": {}
        },
        {
          "output_type": "display_data",
          "data": {
            "text/plain": [
              "<Figure size 1000x500 with 0 Axes>"
            ]
          },
          "metadata": {}
        },
        {
          "output_type": "display_data",
          "data": {
            "text/plain": [
              "<Figure size 1000x500 with 0 Axes>"
            ]
          },
          "metadata": {}
        },
        {
          "output_type": "display_data",
          "data": {
            "text/plain": [
              "<Figure size 1000x500 with 0 Axes>"
            ]
          },
          "metadata": {}
        },
        {
          "output_type": "display_data",
          "data": {
            "text/plain": [
              "<Figure size 1000x500 with 0 Axes>"
            ]
          },
          "metadata": {}
        },
        {
          "output_type": "display_data",
          "data": {
            "text/plain": [
              "<Figure size 1000x500 with 0 Axes>"
            ]
          },
          "metadata": {}
        },
        {
          "output_type": "display_data",
          "data": {
            "text/plain": [
              "<Figure size 1000x500 with 0 Axes>"
            ]
          },
          "metadata": {}
        },
        {
          "output_type": "display_data",
          "data": {
            "text/plain": [
              "<Figure size 1000x500 with 0 Axes>"
            ]
          },
          "metadata": {}
        },
        {
          "output_type": "display_data",
          "data": {
            "text/plain": [
              "<Figure size 1000x500 with 0 Axes>"
            ]
          },
          "metadata": {}
        },
        {
          "output_type": "display_data",
          "data": {
            "text/plain": [
              "<Figure size 1000x500 with 0 Axes>"
            ]
          },
          "metadata": {}
        },
        {
          "output_type": "display_data",
          "data": {
            "text/plain": [
              "<Figure size 1000x500 with 0 Axes>"
            ]
          },
          "metadata": {}
        },
        {
          "output_type": "display_data",
          "data": {
            "text/plain": [
              "<Figure size 1000x500 with 0 Axes>"
            ]
          },
          "metadata": {}
        },
        {
          "output_type": "display_data",
          "data": {
            "text/plain": [
              "<Figure size 1000x500 with 0 Axes>"
            ]
          },
          "metadata": {}
        },
        {
          "output_type": "display_data",
          "data": {
            "text/plain": [
              "<Figure size 1000x500 with 0 Axes>"
            ]
          },
          "metadata": {}
        },
        {
          "output_type": "display_data",
          "data": {
            "text/plain": [
              "<Figure size 1000x500 with 0 Axes>"
            ]
          },
          "metadata": {}
        },
        {
          "output_type": "display_data",
          "data": {
            "text/plain": [
              "<Figure size 1000x500 with 0 Axes>"
            ]
          },
          "metadata": {}
        },
        {
          "output_type": "display_data",
          "data": {
            "text/plain": [
              "<Figure size 1000x500 with 0 Axes>"
            ]
          },
          "metadata": {}
        },
        {
          "output_type": "display_data",
          "data": {
            "text/plain": [
              "<Figure size 1000x500 with 0 Axes>"
            ]
          },
          "metadata": {}
        },
        {
          "output_type": "display_data",
          "data": {
            "text/plain": [
              "<Figure size 1000x500 with 0 Axes>"
            ]
          },
          "metadata": {}
        },
        {
          "output_type": "display_data",
          "data": {
            "text/plain": [
              "<Figure size 1000x500 with 0 Axes>"
            ]
          },
          "metadata": {}
        },
        {
          "output_type": "display_data",
          "data": {
            "text/plain": [
              "<Figure size 1000x500 with 0 Axes>"
            ]
          },
          "metadata": {}
        },
        {
          "output_type": "display_data",
          "data": {
            "text/plain": [
              "<Figure size 1000x500 with 0 Axes>"
            ]
          },
          "metadata": {}
        },
        {
          "output_type": "display_data",
          "data": {
            "text/plain": [
              "<Figure size 1000x500 with 0 Axes>"
            ]
          },
          "metadata": {}
        },
        {
          "output_type": "display_data",
          "data": {
            "text/plain": [
              "<Figure size 1000x500 with 0 Axes>"
            ]
          },
          "metadata": {}
        },
        {
          "output_type": "display_data",
          "data": {
            "text/plain": [
              "<Figure size 1000x500 with 0 Axes>"
            ]
          },
          "metadata": {}
        },
        {
          "output_type": "display_data",
          "data": {
            "text/plain": [
              "<Figure size 1000x500 with 0 Axes>"
            ]
          },
          "metadata": {}
        },
        {
          "output_type": "display_data",
          "data": {
            "text/plain": [
              "<Figure size 1000x500 with 0 Axes>"
            ]
          },
          "metadata": {}
        },
        {
          "output_type": "display_data",
          "data": {
            "text/plain": [
              "<Figure size 1000x500 with 0 Axes>"
            ]
          },
          "metadata": {}
        },
        {
          "output_type": "display_data",
          "data": {
            "text/plain": [
              "<Figure size 1000x500 with 0 Axes>"
            ]
          },
          "metadata": {}
        },
        {
          "output_type": "display_data",
          "data": {
            "text/plain": [
              "<Figure size 1000x500 with 0 Axes>"
            ]
          },
          "metadata": {}
        },
        {
          "output_type": "display_data",
          "data": {
            "text/plain": [
              "<Figure size 1000x500 with 0 Axes>"
            ]
          },
          "metadata": {}
        },
        {
          "output_type": "display_data",
          "data": {
            "text/plain": [
              "<Figure size 1000x500 with 0 Axes>"
            ]
          },
          "metadata": {}
        },
        {
          "output_type": "display_data",
          "data": {
            "text/plain": [
              "<Figure size 1000x500 with 0 Axes>"
            ]
          },
          "metadata": {}
        },
        {
          "output_type": "display_data",
          "data": {
            "text/plain": [
              "<Figure size 1000x500 with 0 Axes>"
            ]
          },
          "metadata": {}
        },
        {
          "output_type": "display_data",
          "data": {
            "text/plain": [
              "<Figure size 1000x500 with 0 Axes>"
            ]
          },
          "metadata": {}
        },
        {
          "output_type": "display_data",
          "data": {
            "text/plain": [
              "<Figure size 1000x500 with 0 Axes>"
            ]
          },
          "metadata": {}
        },
        {
          "output_type": "display_data",
          "data": {
            "text/plain": [
              "<Figure size 1000x500 with 0 Axes>"
            ]
          },
          "metadata": {}
        },
        {
          "output_type": "display_data",
          "data": {
            "text/plain": [
              "<Figure size 1000x500 with 0 Axes>"
            ]
          },
          "metadata": {}
        },
        {
          "output_type": "display_data",
          "data": {
            "text/plain": [
              "<Figure size 1000x500 with 0 Axes>"
            ]
          },
          "metadata": {}
        },
        {
          "output_type": "display_data",
          "data": {
            "text/plain": [
              "<Figure size 1000x500 with 0 Axes>"
            ]
          },
          "metadata": {}
        },
        {
          "output_type": "display_data",
          "data": {
            "text/plain": [
              "<Figure size 1000x500 with 0 Axes>"
            ]
          },
          "metadata": {}
        },
        {
          "output_type": "display_data",
          "data": {
            "text/plain": [
              "<Figure size 1000x500 with 0 Axes>"
            ]
          },
          "metadata": {}
        },
        {
          "output_type": "display_data",
          "data": {
            "text/plain": [
              "<Figure size 1000x500 with 0 Axes>"
            ]
          },
          "metadata": {}
        },
        {
          "output_type": "display_data",
          "data": {
            "text/plain": [
              "<Figure size 1000x500 with 0 Axes>"
            ]
          },
          "metadata": {}
        },
        {
          "output_type": "display_data",
          "data": {
            "text/plain": [
              "<Figure size 1000x500 with 0 Axes>"
            ]
          },
          "metadata": {}
        },
        {
          "output_type": "display_data",
          "data": {
            "text/plain": [
              "<Figure size 1000x500 with 0 Axes>"
            ]
          },
          "metadata": {}
        },
        {
          "output_type": "display_data",
          "data": {
            "text/plain": [
              "<Figure size 1000x500 with 0 Axes>"
            ]
          },
          "metadata": {}
        },
        {
          "output_type": "display_data",
          "data": {
            "text/plain": [
              "<Figure size 1000x500 with 0 Axes>"
            ]
          },
          "metadata": {}
        },
        {
          "output_type": "display_data",
          "data": {
            "text/plain": [
              "<Figure size 1000x500 with 0 Axes>"
            ]
          },
          "metadata": {}
        },
        {
          "output_type": "display_data",
          "data": {
            "text/plain": [
              "<Figure size 1000x500 with 0 Axes>"
            ]
          },
          "metadata": {}
        },
        {
          "output_type": "display_data",
          "data": {
            "text/plain": [
              "<Figure size 1000x500 with 0 Axes>"
            ]
          },
          "metadata": {}
        },
        {
          "output_type": "display_data",
          "data": {
            "text/plain": [
              "<Figure size 1000x500 with 0 Axes>"
            ]
          },
          "metadata": {}
        },
        {
          "output_type": "display_data",
          "data": {
            "text/plain": [
              "<Figure size 1000x500 with 0 Axes>"
            ]
          },
          "metadata": {}
        },
        {
          "output_type": "display_data",
          "data": {
            "text/plain": [
              "<Figure size 1000x500 with 0 Axes>"
            ]
          },
          "metadata": {}
        },
        {
          "output_type": "display_data",
          "data": {
            "text/plain": [
              "<Figure size 1000x500 with 0 Axes>"
            ]
          },
          "metadata": {}
        },
        {
          "output_type": "display_data",
          "data": {
            "text/plain": [
              "<Figure size 1000x500 with 0 Axes>"
            ]
          },
          "metadata": {}
        },
        {
          "output_type": "display_data",
          "data": {
            "text/plain": [
              "<Figure size 1000x500 with 0 Axes>"
            ]
          },
          "metadata": {}
        },
        {
          "output_type": "display_data",
          "data": {
            "text/plain": [
              "<Figure size 1000x500 with 0 Axes>"
            ]
          },
          "metadata": {}
        },
        {
          "output_type": "display_data",
          "data": {
            "text/plain": [
              "<Figure size 1000x500 with 0 Axes>"
            ]
          },
          "metadata": {}
        },
        {
          "output_type": "display_data",
          "data": {
            "text/plain": [
              "<Figure size 1000x500 with 0 Axes>"
            ]
          },
          "metadata": {}
        },
        {
          "output_type": "display_data",
          "data": {
            "text/plain": [
              "<Figure size 1000x500 with 0 Axes>"
            ]
          },
          "metadata": {}
        },
        {
          "output_type": "display_data",
          "data": {
            "text/plain": [
              "<Figure size 1000x500 with 0 Axes>"
            ]
          },
          "metadata": {}
        },
        {
          "output_type": "display_data",
          "data": {
            "text/plain": [
              "<Figure size 1000x500 with 0 Axes>"
            ]
          },
          "metadata": {}
        },
        {
          "output_type": "display_data",
          "data": {
            "text/plain": [
              "<Figure size 1000x500 with 0 Axes>"
            ]
          },
          "metadata": {}
        },
        {
          "output_type": "display_data",
          "data": {
            "text/plain": [
              "<Figure size 1000x500 with 0 Axes>"
            ]
          },
          "metadata": {}
        },
        {
          "output_type": "display_data",
          "data": {
            "text/plain": [
              "<Figure size 1000x500 with 0 Axes>"
            ]
          },
          "metadata": {}
        },
        {
          "output_type": "display_data",
          "data": {
            "text/plain": [
              "<Figure size 1000x500 with 0 Axes>"
            ]
          },
          "metadata": {}
        },
        {
          "output_type": "display_data",
          "data": {
            "text/plain": [
              "<Figure size 1000x500 with 0 Axes>"
            ]
          },
          "metadata": {}
        },
        {
          "output_type": "display_data",
          "data": {
            "text/plain": [
              "<Figure size 1000x500 with 0 Axes>"
            ]
          },
          "metadata": {}
        },
        {
          "output_type": "display_data",
          "data": {
            "text/plain": [
              "<Figure size 1000x500 with 0 Axes>"
            ]
          },
          "metadata": {}
        },
        {
          "output_type": "display_data",
          "data": {
            "text/plain": [
              "<Figure size 1000x500 with 0 Axes>"
            ]
          },
          "metadata": {}
        },
        {
          "output_type": "display_data",
          "data": {
            "text/plain": [
              "<Figure size 1000x500 with 0 Axes>"
            ]
          },
          "metadata": {}
        },
        {
          "output_type": "display_data",
          "data": {
            "text/plain": [
              "<Figure size 1000x500 with 0 Axes>"
            ]
          },
          "metadata": {}
        },
        {
          "output_type": "display_data",
          "data": {
            "text/plain": [
              "<Figure size 1000x500 with 0 Axes>"
            ]
          },
          "metadata": {}
        },
        {
          "output_type": "display_data",
          "data": {
            "text/plain": [
              "<Figure size 1000x500 with 0 Axes>"
            ]
          },
          "metadata": {}
        },
        {
          "output_type": "display_data",
          "data": {
            "text/plain": [
              "<Figure size 1000x500 with 0 Axes>"
            ]
          },
          "metadata": {}
        },
        {
          "output_type": "display_data",
          "data": {
            "text/plain": [
              "<Figure size 1000x500 with 0 Axes>"
            ]
          },
          "metadata": {}
        },
        {
          "output_type": "display_data",
          "data": {
            "text/plain": [
              "<Figure size 1000x500 with 0 Axes>"
            ]
          },
          "metadata": {}
        },
        {
          "output_type": "display_data",
          "data": {
            "text/plain": [
              "<Figure size 1000x500 with 0 Axes>"
            ]
          },
          "metadata": {}
        },
        {
          "output_type": "display_data",
          "data": {
            "text/plain": [
              "<Figure size 1000x500 with 0 Axes>"
            ]
          },
          "metadata": {}
        },
        {
          "output_type": "display_data",
          "data": {
            "text/plain": [
              "<Figure size 1000x500 with 0 Axes>"
            ]
          },
          "metadata": {}
        },
        {
          "output_type": "display_data",
          "data": {
            "text/plain": [
              "<Figure size 1000x500 with 0 Axes>"
            ]
          },
          "metadata": {}
        },
        {
          "output_type": "display_data",
          "data": {
            "text/plain": [
              "<Figure size 1000x500 with 0 Axes>"
            ]
          },
          "metadata": {}
        },
        {
          "output_type": "display_data",
          "data": {
            "text/plain": [
              "<Figure size 1000x500 with 0 Axes>"
            ]
          },
          "metadata": {}
        },
        {
          "output_type": "display_data",
          "data": {
            "text/plain": [
              "<Figure size 1000x500 with 0 Axes>"
            ]
          },
          "metadata": {}
        },
        {
          "output_type": "display_data",
          "data": {
            "text/plain": [
              "<Figure size 1000x500 with 0 Axes>"
            ]
          },
          "metadata": {}
        },
        {
          "output_type": "display_data",
          "data": {
            "text/plain": [
              "<Figure size 1000x500 with 0 Axes>"
            ]
          },
          "metadata": {}
        },
        {
          "output_type": "display_data",
          "data": {
            "text/plain": [
              "<Figure size 1000x500 with 0 Axes>"
            ]
          },
          "metadata": {}
        },
        {
          "output_type": "display_data",
          "data": {
            "text/plain": [
              "<Figure size 1000x500 with 0 Axes>"
            ]
          },
          "metadata": {}
        },
        {
          "output_type": "display_data",
          "data": {
            "text/plain": [
              "<Figure size 1000x500 with 0 Axes>"
            ]
          },
          "metadata": {}
        },
        {
          "output_type": "display_data",
          "data": {
            "text/plain": [
              "<Figure size 1000x500 with 0 Axes>"
            ]
          },
          "metadata": {}
        },
        {
          "output_type": "display_data",
          "data": {
            "text/plain": [
              "<Figure size 1000x500 with 0 Axes>"
            ]
          },
          "metadata": {}
        },
        {
          "output_type": "display_data",
          "data": {
            "text/plain": [
              "<Figure size 1000x500 with 0 Axes>"
            ]
          },
          "metadata": {}
        },
        {
          "output_type": "display_data",
          "data": {
            "text/plain": [
              "<Figure size 1000x500 with 0 Axes>"
            ]
          },
          "metadata": {}
        },
        {
          "output_type": "display_data",
          "data": {
            "text/plain": [
              "<Figure size 1000x500 with 0 Axes>"
            ]
          },
          "metadata": {}
        },
        {
          "output_type": "display_data",
          "data": {
            "text/plain": [
              "<Figure size 1000x500 with 0 Axes>"
            ]
          },
          "metadata": {}
        },
        {
          "output_type": "display_data",
          "data": {
            "text/plain": [
              "<Figure size 1000x500 with 0 Axes>"
            ]
          },
          "metadata": {}
        },
        {
          "output_type": "display_data",
          "data": {
            "text/plain": [
              "<Figure size 1000x500 with 0 Axes>"
            ]
          },
          "metadata": {}
        },
        {
          "output_type": "display_data",
          "data": {
            "text/plain": [
              "<Figure size 1000x500 with 0 Axes>"
            ]
          },
          "metadata": {}
        },
        {
          "output_type": "display_data",
          "data": {
            "text/plain": [
              "<Figure size 1000x500 with 0 Axes>"
            ]
          },
          "metadata": {}
        },
        {
          "output_type": "display_data",
          "data": {
            "text/plain": [
              "<Figure size 1000x500 with 0 Axes>"
            ]
          },
          "metadata": {}
        },
        {
          "output_type": "display_data",
          "data": {
            "text/plain": [
              "<Figure size 1000x500 with 0 Axes>"
            ]
          },
          "metadata": {}
        },
        {
          "output_type": "display_data",
          "data": {
            "text/plain": [
              "<Figure size 1000x500 with 0 Axes>"
            ]
          },
          "metadata": {}
        },
        {
          "output_type": "display_data",
          "data": {
            "text/plain": [
              "<Figure size 1000x500 with 0 Axes>"
            ]
          },
          "metadata": {}
        },
        {
          "output_type": "display_data",
          "data": {
            "text/plain": [
              "<Figure size 1000x500 with 0 Axes>"
            ]
          },
          "metadata": {}
        },
        {
          "output_type": "display_data",
          "data": {
            "text/plain": [
              "<Figure size 1000x500 with 0 Axes>"
            ]
          },
          "metadata": {}
        },
        {
          "output_type": "display_data",
          "data": {
            "text/plain": [
              "<Figure size 1000x500 with 0 Axes>"
            ]
          },
          "metadata": {}
        },
        {
          "output_type": "display_data",
          "data": {
            "text/plain": [
              "<Figure size 1000x500 with 0 Axes>"
            ]
          },
          "metadata": {}
        },
        {
          "output_type": "display_data",
          "data": {
            "text/plain": [
              "<Figure size 1000x500 with 0 Axes>"
            ]
          },
          "metadata": {}
        },
        {
          "output_type": "display_data",
          "data": {
            "text/plain": [
              "<Figure size 1000x500 with 0 Axes>"
            ]
          },
          "metadata": {}
        },
        {
          "output_type": "display_data",
          "data": {
            "text/plain": [
              "<Figure size 1000x500 with 0 Axes>"
            ]
          },
          "metadata": {}
        },
        {
          "output_type": "display_data",
          "data": {
            "text/plain": [
              "<Figure size 1000x500 with 0 Axes>"
            ]
          },
          "metadata": {}
        },
        {
          "output_type": "display_data",
          "data": {
            "text/plain": [
              "<Figure size 1000x500 with 0 Axes>"
            ]
          },
          "metadata": {}
        },
        {
          "output_type": "display_data",
          "data": {
            "text/plain": [
              "<Figure size 1000x500 with 0 Axes>"
            ]
          },
          "metadata": {}
        },
        {
          "output_type": "display_data",
          "data": {
            "text/plain": [
              "<Figure size 1000x500 with 0 Axes>"
            ]
          },
          "metadata": {}
        },
        {
          "output_type": "display_data",
          "data": {
            "text/plain": [
              "<Figure size 1000x500 with 0 Axes>"
            ]
          },
          "metadata": {}
        },
        {
          "output_type": "display_data",
          "data": {
            "text/plain": [
              "<Figure size 1000x500 with 0 Axes>"
            ]
          },
          "metadata": {}
        },
        {
          "output_type": "display_data",
          "data": {
            "text/plain": [
              "<Figure size 1000x500 with 0 Axes>"
            ]
          },
          "metadata": {}
        },
        {
          "output_type": "display_data",
          "data": {
            "text/plain": [
              "<Figure size 1000x500 with 0 Axes>"
            ]
          },
          "metadata": {}
        },
        {
          "output_type": "display_data",
          "data": {
            "text/plain": [
              "<Figure size 1000x500 with 0 Axes>"
            ]
          },
          "metadata": {}
        },
        {
          "output_type": "display_data",
          "data": {
            "text/plain": [
              "<Figure size 1000x500 with 0 Axes>"
            ]
          },
          "metadata": {}
        },
        {
          "output_type": "display_data",
          "data": {
            "text/plain": [
              "<Figure size 1000x500 with 0 Axes>"
            ]
          },
          "metadata": {}
        },
        {
          "output_type": "display_data",
          "data": {
            "text/plain": [
              "<Figure size 1000x500 with 0 Axes>"
            ]
          },
          "metadata": {}
        },
        {
          "output_type": "display_data",
          "data": {
            "text/plain": [
              "<Figure size 1000x500 with 0 Axes>"
            ]
          },
          "metadata": {}
        },
        {
          "output_type": "display_data",
          "data": {
            "text/plain": [
              "<Figure size 1000x500 with 0 Axes>"
            ]
          },
          "metadata": {}
        },
        {
          "output_type": "display_data",
          "data": {
            "text/plain": [
              "<Figure size 1000x500 with 0 Axes>"
            ]
          },
          "metadata": {}
        },
        {
          "output_type": "display_data",
          "data": {
            "text/plain": [
              "<Figure size 1000x500 with 0 Axes>"
            ]
          },
          "metadata": {}
        },
        {
          "output_type": "display_data",
          "data": {
            "text/plain": [
              "<Figure size 1000x500 with 0 Axes>"
            ]
          },
          "metadata": {}
        },
        {
          "output_type": "display_data",
          "data": {
            "text/plain": [
              "<Figure size 1000x500 with 0 Axes>"
            ]
          },
          "metadata": {}
        },
        {
          "output_type": "display_data",
          "data": {
            "text/plain": [
              "<Figure size 1000x500 with 0 Axes>"
            ]
          },
          "metadata": {}
        },
        {
          "output_type": "display_data",
          "data": {
            "text/plain": [
              "<Figure size 1000x500 with 0 Axes>"
            ]
          },
          "metadata": {}
        },
        {
          "output_type": "display_data",
          "data": {
            "text/plain": [
              "<Figure size 1000x500 with 0 Axes>"
            ]
          },
          "metadata": {}
        },
        {
          "output_type": "display_data",
          "data": {
            "text/plain": [
              "<Figure size 1000x500 with 0 Axes>"
            ]
          },
          "metadata": {}
        },
        {
          "output_type": "display_data",
          "data": {
            "text/plain": [
              "<Figure size 1000x500 with 0 Axes>"
            ]
          },
          "metadata": {}
        },
        {
          "output_type": "display_data",
          "data": {
            "text/plain": [
              "<Figure size 1000x500 with 0 Axes>"
            ]
          },
          "metadata": {}
        },
        {
          "output_type": "display_data",
          "data": {
            "text/plain": [
              "<Figure size 1000x500 with 0 Axes>"
            ]
          },
          "metadata": {}
        },
        {
          "output_type": "display_data",
          "data": {
            "text/plain": [
              "<Figure size 1000x500 with 0 Axes>"
            ]
          },
          "metadata": {}
        },
        {
          "output_type": "display_data",
          "data": {
            "text/plain": [
              "<Figure size 1000x500 with 0 Axes>"
            ]
          },
          "metadata": {}
        },
        {
          "output_type": "display_data",
          "data": {
            "text/plain": [
              "<Figure size 1000x500 with 0 Axes>"
            ]
          },
          "metadata": {}
        },
        {
          "output_type": "display_data",
          "data": {
            "text/plain": [
              "<Figure size 1000x500 with 0 Axes>"
            ]
          },
          "metadata": {}
        },
        {
          "output_type": "display_data",
          "data": {
            "text/plain": [
              "<Figure size 1000x500 with 0 Axes>"
            ]
          },
          "metadata": {}
        },
        {
          "output_type": "display_data",
          "data": {
            "text/plain": [
              "<Figure size 1000x500 with 0 Axes>"
            ]
          },
          "metadata": {}
        },
        {
          "output_type": "display_data",
          "data": {
            "text/plain": [
              "<Figure size 1000x500 with 0 Axes>"
            ]
          },
          "metadata": {}
        },
        {
          "output_type": "display_data",
          "data": {
            "text/plain": [
              "<Figure size 1000x500 with 0 Axes>"
            ]
          },
          "metadata": {}
        },
        {
          "output_type": "display_data",
          "data": {
            "text/plain": [
              "<Figure size 1000x500 with 0 Axes>"
            ]
          },
          "metadata": {}
        },
        {
          "output_type": "display_data",
          "data": {
            "text/plain": [
              "<Figure size 1000x500 with 0 Axes>"
            ]
          },
          "metadata": {}
        },
        {
          "output_type": "display_data",
          "data": {
            "text/plain": [
              "<Figure size 1000x500 with 0 Axes>"
            ]
          },
          "metadata": {}
        },
        {
          "output_type": "display_data",
          "data": {
            "text/plain": [
              "<Figure size 1000x500 with 0 Axes>"
            ]
          },
          "metadata": {}
        },
        {
          "output_type": "display_data",
          "data": {
            "text/plain": [
              "<Figure size 1000x500 with 0 Axes>"
            ]
          },
          "metadata": {}
        },
        {
          "output_type": "display_data",
          "data": {
            "text/plain": [
              "<Figure size 1000x500 with 0 Axes>"
            ]
          },
          "metadata": {}
        },
        {
          "output_type": "display_data",
          "data": {
            "text/plain": [
              "<Figure size 1000x500 with 0 Axes>"
            ]
          },
          "metadata": {}
        },
        {
          "output_type": "display_data",
          "data": {
            "text/plain": [
              "<Figure size 1000x500 with 0 Axes>"
            ]
          },
          "metadata": {}
        },
        {
          "output_type": "display_data",
          "data": {
            "text/plain": [
              "<Figure size 1000x500 with 0 Axes>"
            ]
          },
          "metadata": {}
        },
        {
          "output_type": "display_data",
          "data": {
            "text/plain": [
              "<Figure size 1000x500 with 0 Axes>"
            ]
          },
          "metadata": {}
        },
        {
          "output_type": "display_data",
          "data": {
            "text/plain": [
              "<Figure size 1000x500 with 0 Axes>"
            ]
          },
          "metadata": {}
        },
        {
          "output_type": "display_data",
          "data": {
            "text/plain": [
              "<Figure size 1000x500 with 0 Axes>"
            ]
          },
          "metadata": {}
        },
        {
          "output_type": "display_data",
          "data": {
            "text/plain": [
              "<Figure size 1000x500 with 0 Axes>"
            ]
          },
          "metadata": {}
        },
        {
          "output_type": "display_data",
          "data": {
            "text/plain": [
              "<Figure size 1000x500 with 0 Axes>"
            ]
          },
          "metadata": {}
        },
        {
          "output_type": "display_data",
          "data": {
            "text/plain": [
              "<Figure size 1000x500 with 0 Axes>"
            ]
          },
          "metadata": {}
        },
        {
          "output_type": "display_data",
          "data": {
            "text/plain": [
              "<Figure size 1000x500 with 0 Axes>"
            ]
          },
          "metadata": {}
        },
        {
          "output_type": "display_data",
          "data": {
            "text/plain": [
              "<Figure size 1000x500 with 0 Axes>"
            ]
          },
          "metadata": {}
        },
        {
          "output_type": "display_data",
          "data": {
            "text/plain": [
              "<Figure size 1000x500 with 0 Axes>"
            ]
          },
          "metadata": {}
        },
        {
          "output_type": "display_data",
          "data": {
            "text/plain": [
              "<Figure size 1000x500 with 0 Axes>"
            ]
          },
          "metadata": {}
        },
        {
          "output_type": "display_data",
          "data": {
            "text/plain": [
              "<Figure size 1000x500 with 0 Axes>"
            ]
          },
          "metadata": {}
        },
        {
          "output_type": "display_data",
          "data": {
            "text/plain": [
              "<Figure size 1000x500 with 0 Axes>"
            ]
          },
          "metadata": {}
        },
        {
          "output_type": "display_data",
          "data": {
            "text/plain": [
              "<Figure size 1000x500 with 0 Axes>"
            ]
          },
          "metadata": {}
        },
        {
          "output_type": "display_data",
          "data": {
            "text/plain": [
              "<Figure size 1000x500 with 0 Axes>"
            ]
          },
          "metadata": {}
        },
        {
          "output_type": "display_data",
          "data": {
            "text/plain": [
              "<Figure size 1000x500 with 0 Axes>"
            ]
          },
          "metadata": {}
        },
        {
          "output_type": "display_data",
          "data": {
            "text/plain": [
              "<Figure size 1000x500 with 0 Axes>"
            ]
          },
          "metadata": {}
        },
        {
          "output_type": "display_data",
          "data": {
            "text/plain": [
              "<Figure size 1000x500 with 0 Axes>"
            ]
          },
          "metadata": {}
        },
        {
          "output_type": "display_data",
          "data": {
            "text/plain": [
              "<Figure size 1000x500 with 0 Axes>"
            ]
          },
          "metadata": {}
        },
        {
          "output_type": "display_data",
          "data": {
            "text/plain": [
              "<Figure size 1000x500 with 0 Axes>"
            ]
          },
          "metadata": {}
        },
        {
          "output_type": "display_data",
          "data": {
            "text/plain": [
              "<Figure size 1000x500 with 0 Axes>"
            ]
          },
          "metadata": {}
        },
        {
          "output_type": "display_data",
          "data": {
            "text/plain": [
              "<Figure size 1000x500 with 0 Axes>"
            ]
          },
          "metadata": {}
        },
        {
          "output_type": "display_data",
          "data": {
            "text/plain": [
              "<Figure size 1000x500 with 0 Axes>"
            ]
          },
          "metadata": {}
        },
        {
          "output_type": "display_data",
          "data": {
            "text/plain": [
              "<Figure size 1000x500 with 0 Axes>"
            ]
          },
          "metadata": {}
        },
        {
          "output_type": "display_data",
          "data": {
            "text/plain": [
              "<Figure size 1000x500 with 0 Axes>"
            ]
          },
          "metadata": {}
        },
        {
          "output_type": "display_data",
          "data": {
            "text/plain": [
              "<Figure size 1000x500 with 0 Axes>"
            ]
          },
          "metadata": {}
        },
        {
          "output_type": "display_data",
          "data": {
            "text/plain": [
              "<Figure size 1000x500 with 0 Axes>"
            ]
          },
          "metadata": {}
        },
        {
          "output_type": "display_data",
          "data": {
            "text/plain": [
              "<Figure size 1000x500 with 0 Axes>"
            ]
          },
          "metadata": {}
        },
        {
          "output_type": "display_data",
          "data": {
            "text/plain": [
              "<Figure size 1000x500 with 0 Axes>"
            ]
          },
          "metadata": {}
        },
        {
          "output_type": "display_data",
          "data": {
            "text/plain": [
              "<Figure size 1000x500 with 0 Axes>"
            ]
          },
          "metadata": {}
        },
        {
          "output_type": "display_data",
          "data": {
            "text/plain": [
              "<Figure size 1000x500 with 0 Axes>"
            ]
          },
          "metadata": {}
        },
        {
          "output_type": "display_data",
          "data": {
            "text/plain": [
              "<Figure size 1000x500 with 0 Axes>"
            ]
          },
          "metadata": {}
        },
        {
          "output_type": "display_data",
          "data": {
            "text/plain": [
              "<Figure size 1000x500 with 0 Axes>"
            ]
          },
          "metadata": {}
        },
        {
          "output_type": "display_data",
          "data": {
            "text/plain": [
              "<Figure size 1000x500 with 0 Axes>"
            ]
          },
          "metadata": {}
        },
        {
          "output_type": "display_data",
          "data": {
            "text/plain": [
              "<Figure size 1000x500 with 0 Axes>"
            ]
          },
          "metadata": {}
        },
        {
          "output_type": "display_data",
          "data": {
            "text/plain": [
              "<Figure size 1000x500 with 0 Axes>"
            ]
          },
          "metadata": {}
        },
        {
          "output_type": "display_data",
          "data": {
            "text/plain": [
              "<Figure size 1000x500 with 0 Axes>"
            ]
          },
          "metadata": {}
        },
        {
          "output_type": "display_data",
          "data": {
            "text/plain": [
              "<Figure size 1000x500 with 0 Axes>"
            ]
          },
          "metadata": {}
        },
        {
          "output_type": "display_data",
          "data": {
            "text/plain": [
              "<Figure size 1000x500 with 0 Axes>"
            ]
          },
          "metadata": {}
        },
        {
          "output_type": "display_data",
          "data": {
            "text/plain": [
              "<Figure size 1000x500 with 0 Axes>"
            ]
          },
          "metadata": {}
        },
        {
          "output_type": "display_data",
          "data": {
            "text/plain": [
              "<Figure size 1000x500 with 0 Axes>"
            ]
          },
          "metadata": {}
        },
        {
          "output_type": "display_data",
          "data": {
            "text/plain": [
              "<Figure size 1000x500 with 0 Axes>"
            ]
          },
          "metadata": {}
        },
        {
          "output_type": "display_data",
          "data": {
            "text/plain": [
              "<Figure size 1000x500 with 0 Axes>"
            ]
          },
          "metadata": {}
        },
        {
          "output_type": "display_data",
          "data": {
            "text/plain": [
              "<Figure size 1000x500 with 0 Axes>"
            ]
          },
          "metadata": {}
        },
        {
          "output_type": "display_data",
          "data": {
            "text/plain": [
              "<Figure size 1000x500 with 0 Axes>"
            ]
          },
          "metadata": {}
        },
        {
          "output_type": "display_data",
          "data": {
            "text/plain": [
              "<Figure size 1000x500 with 0 Axes>"
            ]
          },
          "metadata": {}
        },
        {
          "output_type": "display_data",
          "data": {
            "text/plain": [
              "<Figure size 1000x500 with 0 Axes>"
            ]
          },
          "metadata": {}
        },
        {
          "output_type": "display_data",
          "data": {
            "text/plain": [
              "<Figure size 1000x500 with 0 Axes>"
            ]
          },
          "metadata": {}
        },
        {
          "output_type": "display_data",
          "data": {
            "text/plain": [
              "<Figure size 1000x500 with 0 Axes>"
            ]
          },
          "metadata": {}
        },
        {
          "output_type": "display_data",
          "data": {
            "text/plain": [
              "<Figure size 1000x500 with 0 Axes>"
            ]
          },
          "metadata": {}
        },
        {
          "output_type": "display_data",
          "data": {
            "text/plain": [
              "<Figure size 1000x500 with 0 Axes>"
            ]
          },
          "metadata": {}
        },
        {
          "output_type": "display_data",
          "data": {
            "text/plain": [
              "<Figure size 1000x500 with 0 Axes>"
            ]
          },
          "metadata": {}
        },
        {
          "output_type": "display_data",
          "data": {
            "text/plain": [
              "<Figure size 1000x500 with 0 Axes>"
            ]
          },
          "metadata": {}
        },
        {
          "output_type": "display_data",
          "data": {
            "text/plain": [
              "<Figure size 1000x500 with 0 Axes>"
            ]
          },
          "metadata": {}
        },
        {
          "output_type": "display_data",
          "data": {
            "text/plain": [
              "<Figure size 1000x500 with 0 Axes>"
            ]
          },
          "metadata": {}
        },
        {
          "output_type": "display_data",
          "data": {
            "text/plain": [
              "<Figure size 1000x500 with 0 Axes>"
            ]
          },
          "metadata": {}
        },
        {
          "output_type": "display_data",
          "data": {
            "text/plain": [
              "<Figure size 1000x500 with 0 Axes>"
            ]
          },
          "metadata": {}
        },
        {
          "output_type": "display_data",
          "data": {
            "text/plain": [
              "<Figure size 1000x500 with 0 Axes>"
            ]
          },
          "metadata": {}
        },
        {
          "output_type": "display_data",
          "data": {
            "text/plain": [
              "<Figure size 1000x500 with 0 Axes>"
            ]
          },
          "metadata": {}
        },
        {
          "output_type": "display_data",
          "data": {
            "text/plain": [
              "<Figure size 1000x500 with 0 Axes>"
            ]
          },
          "metadata": {}
        },
        {
          "output_type": "display_data",
          "data": {
            "text/plain": [
              "<Figure size 1000x500 with 0 Axes>"
            ]
          },
          "metadata": {}
        },
        {
          "output_type": "display_data",
          "data": {
            "text/plain": [
              "<Figure size 1000x500 with 0 Axes>"
            ]
          },
          "metadata": {}
        },
        {
          "output_type": "display_data",
          "data": {
            "text/plain": [
              "<Figure size 1000x500 with 0 Axes>"
            ]
          },
          "metadata": {}
        },
        {
          "output_type": "display_data",
          "data": {
            "text/plain": [
              "<Figure size 1000x500 with 0 Axes>"
            ]
          },
          "metadata": {}
        },
        {
          "output_type": "display_data",
          "data": {
            "text/plain": [
              "<Figure size 1000x500 with 0 Axes>"
            ]
          },
          "metadata": {}
        },
        {
          "output_type": "display_data",
          "data": {
            "text/plain": [
              "<Figure size 1000x500 with 0 Axes>"
            ]
          },
          "metadata": {}
        },
        {
          "output_type": "display_data",
          "data": {
            "text/plain": [
              "<Figure size 1000x500 with 0 Axes>"
            ]
          },
          "metadata": {}
        },
        {
          "output_type": "display_data",
          "data": {
            "text/plain": [
              "<Figure size 1000x500 with 0 Axes>"
            ]
          },
          "metadata": {}
        },
        {
          "output_type": "display_data",
          "data": {
            "text/plain": [
              "<Figure size 1000x500 with 0 Axes>"
            ]
          },
          "metadata": {}
        },
        {
          "output_type": "display_data",
          "data": {
            "text/plain": [
              "<Figure size 1000x500 with 0 Axes>"
            ]
          },
          "metadata": {}
        },
        {
          "output_type": "display_data",
          "data": {
            "text/plain": [
              "<Figure size 1000x500 with 0 Axes>"
            ]
          },
          "metadata": {}
        },
        {
          "output_type": "display_data",
          "data": {
            "text/plain": [
              "<Figure size 1000x500 with 0 Axes>"
            ]
          },
          "metadata": {}
        },
        {
          "output_type": "display_data",
          "data": {
            "text/plain": [
              "<Figure size 1000x500 with 0 Axes>"
            ]
          },
          "metadata": {}
        },
        {
          "output_type": "display_data",
          "data": {
            "text/plain": [
              "<Figure size 1000x500 with 0 Axes>"
            ]
          },
          "metadata": {}
        },
        {
          "output_type": "display_data",
          "data": {
            "text/plain": [
              "<Figure size 1000x500 with 0 Axes>"
            ]
          },
          "metadata": {}
        },
        {
          "output_type": "display_data",
          "data": {
            "text/plain": [
              "<Figure size 1000x500 with 0 Axes>"
            ]
          },
          "metadata": {}
        },
        {
          "output_type": "display_data",
          "data": {
            "text/plain": [
              "<Figure size 1000x500 with 0 Axes>"
            ]
          },
          "metadata": {}
        },
        {
          "output_type": "display_data",
          "data": {
            "text/plain": [
              "<Figure size 1000x500 with 0 Axes>"
            ]
          },
          "metadata": {}
        },
        {
          "output_type": "display_data",
          "data": {
            "text/plain": [
              "<Figure size 1000x500 with 0 Axes>"
            ]
          },
          "metadata": {}
        },
        {
          "output_type": "display_data",
          "data": {
            "text/plain": [
              "<Figure size 1000x500 with 0 Axes>"
            ]
          },
          "metadata": {}
        },
        {
          "output_type": "display_data",
          "data": {
            "text/plain": [
              "<Figure size 1000x500 with 0 Axes>"
            ]
          },
          "metadata": {}
        },
        {
          "output_type": "display_data",
          "data": {
            "text/plain": [
              "<Figure size 1000x500 with 0 Axes>"
            ]
          },
          "metadata": {}
        },
        {
          "output_type": "display_data",
          "data": {
            "text/plain": [
              "<Figure size 1000x500 with 0 Axes>"
            ]
          },
          "metadata": {}
        },
        {
          "output_type": "display_data",
          "data": {
            "text/plain": [
              "<Figure size 1000x500 with 0 Axes>"
            ]
          },
          "metadata": {}
        },
        {
          "output_type": "display_data",
          "data": {
            "text/plain": [
              "<Figure size 1000x500 with 0 Axes>"
            ]
          },
          "metadata": {}
        },
        {
          "output_type": "display_data",
          "data": {
            "text/plain": [
              "<Figure size 1000x500 with 0 Axes>"
            ]
          },
          "metadata": {}
        },
        {
          "output_type": "display_data",
          "data": {
            "text/plain": [
              "<Figure size 1000x500 with 0 Axes>"
            ]
          },
          "metadata": {}
        },
        {
          "output_type": "display_data",
          "data": {
            "text/plain": [
              "<Figure size 1000x500 with 0 Axes>"
            ]
          },
          "metadata": {}
        },
        {
          "output_type": "display_data",
          "data": {
            "text/plain": [
              "<Figure size 1000x500 with 0 Axes>"
            ]
          },
          "metadata": {}
        },
        {
          "output_type": "display_data",
          "data": {
            "text/plain": [
              "<Figure size 1000x500 with 0 Axes>"
            ]
          },
          "metadata": {}
        },
        {
          "output_type": "display_data",
          "data": {
            "text/plain": [
              "<Figure size 1000x500 with 0 Axes>"
            ]
          },
          "metadata": {}
        },
        {
          "output_type": "display_data",
          "data": {
            "text/plain": [
              "<Figure size 1000x500 with 0 Axes>"
            ]
          },
          "metadata": {}
        },
        {
          "output_type": "display_data",
          "data": {
            "text/plain": [
              "<Figure size 1000x500 with 0 Axes>"
            ]
          },
          "metadata": {}
        },
        {
          "output_type": "display_data",
          "data": {
            "text/plain": [
              "<Figure size 1000x500 with 0 Axes>"
            ]
          },
          "metadata": {}
        },
        {
          "output_type": "display_data",
          "data": {
            "text/plain": [
              "<Figure size 1000x500 with 0 Axes>"
            ]
          },
          "metadata": {}
        },
        {
          "output_type": "display_data",
          "data": {
            "text/plain": [
              "<Figure size 1000x500 with 0 Axes>"
            ]
          },
          "metadata": {}
        },
        {
          "output_type": "display_data",
          "data": {
            "text/plain": [
              "<Figure size 1000x500 with 0 Axes>"
            ]
          },
          "metadata": {}
        },
        {
          "output_type": "display_data",
          "data": {
            "text/plain": [
              "<Figure size 1000x500 with 0 Axes>"
            ]
          },
          "metadata": {}
        },
        {
          "output_type": "display_data",
          "data": {
            "text/plain": [
              "<Figure size 1000x500 with 0 Axes>"
            ]
          },
          "metadata": {}
        },
        {
          "output_type": "display_data",
          "data": {
            "text/plain": [
              "<Figure size 1000x500 with 0 Axes>"
            ]
          },
          "metadata": {}
        },
        {
          "output_type": "display_data",
          "data": {
            "text/plain": [
              "<Figure size 1000x500 with 0 Axes>"
            ]
          },
          "metadata": {}
        },
        {
          "output_type": "display_data",
          "data": {
            "text/plain": [
              "<Figure size 1000x500 with 0 Axes>"
            ]
          },
          "metadata": {}
        },
        {
          "output_type": "display_data",
          "data": {
            "text/plain": [
              "<Figure size 1000x500 with 0 Axes>"
            ]
          },
          "metadata": {}
        },
        {
          "output_type": "display_data",
          "data": {
            "text/plain": [
              "<Figure size 1000x500 with 0 Axes>"
            ]
          },
          "metadata": {}
        },
        {
          "output_type": "display_data",
          "data": {
            "text/plain": [
              "<Figure size 1000x500 with 0 Axes>"
            ]
          },
          "metadata": {}
        },
        {
          "output_type": "display_data",
          "data": {
            "text/plain": [
              "<Figure size 1000x500 with 0 Axes>"
            ]
          },
          "metadata": {}
        },
        {
          "output_type": "display_data",
          "data": {
            "text/plain": [
              "<Figure size 1000x500 with 0 Axes>"
            ]
          },
          "metadata": {}
        },
        {
          "output_type": "display_data",
          "data": {
            "text/plain": [
              "<Figure size 1000x500 with 0 Axes>"
            ]
          },
          "metadata": {}
        },
        {
          "output_type": "display_data",
          "data": {
            "text/plain": [
              "<Figure size 1000x500 with 0 Axes>"
            ]
          },
          "metadata": {}
        },
        {
          "output_type": "display_data",
          "data": {
            "text/plain": [
              "<Figure size 1000x500 with 0 Axes>"
            ]
          },
          "metadata": {}
        },
        {
          "output_type": "display_data",
          "data": {
            "text/plain": [
              "<Figure size 1000x500 with 0 Axes>"
            ]
          },
          "metadata": {}
        },
        {
          "output_type": "display_data",
          "data": {
            "text/plain": [
              "<Figure size 1000x500 with 0 Axes>"
            ]
          },
          "metadata": {}
        },
        {
          "output_type": "display_data",
          "data": {
            "text/plain": [
              "<Figure size 1000x500 with 0 Axes>"
            ]
          },
          "metadata": {}
        },
        {
          "output_type": "display_data",
          "data": {
            "text/plain": [
              "<Figure size 1000x500 with 0 Axes>"
            ]
          },
          "metadata": {}
        },
        {
          "output_type": "display_data",
          "data": {
            "text/plain": [
              "<Figure size 1000x500 with 0 Axes>"
            ]
          },
          "metadata": {}
        },
        {
          "output_type": "display_data",
          "data": {
            "text/plain": [
              "<Figure size 1000x500 with 0 Axes>"
            ]
          },
          "metadata": {}
        },
        {
          "output_type": "display_data",
          "data": {
            "text/plain": [
              "<Figure size 1000x500 with 0 Axes>"
            ]
          },
          "metadata": {}
        },
        {
          "output_type": "display_data",
          "data": {
            "text/plain": [
              "<Figure size 1000x500 with 0 Axes>"
            ]
          },
          "metadata": {}
        },
        {
          "output_type": "display_data",
          "data": {
            "text/plain": [
              "<Figure size 1000x500 with 0 Axes>"
            ]
          },
          "metadata": {}
        },
        {
          "output_type": "display_data",
          "data": {
            "text/plain": [
              "<Figure size 1000x500 with 0 Axes>"
            ]
          },
          "metadata": {}
        },
        {
          "output_type": "display_data",
          "data": {
            "text/plain": [
              "<Figure size 1000x500 with 0 Axes>"
            ]
          },
          "metadata": {}
        },
        {
          "output_type": "display_data",
          "data": {
            "text/plain": [
              "<Figure size 1000x500 with 0 Axes>"
            ]
          },
          "metadata": {}
        },
        {
          "output_type": "display_data",
          "data": {
            "text/plain": [
              "<Figure size 1000x500 with 0 Axes>"
            ]
          },
          "metadata": {}
        },
        {
          "output_type": "display_data",
          "data": {
            "text/plain": [
              "<Figure size 1000x500 with 0 Axes>"
            ]
          },
          "metadata": {}
        },
        {
          "output_type": "display_data",
          "data": {
            "text/plain": [
              "<Figure size 1000x500 with 0 Axes>"
            ]
          },
          "metadata": {}
        },
        {
          "output_type": "display_data",
          "data": {
            "text/plain": [
              "<Figure size 1000x500 with 0 Axes>"
            ]
          },
          "metadata": {}
        },
        {
          "output_type": "display_data",
          "data": {
            "text/plain": [
              "<Figure size 1000x500 with 0 Axes>"
            ]
          },
          "metadata": {}
        },
        {
          "output_type": "display_data",
          "data": {
            "text/plain": [
              "<Figure size 1000x500 with 0 Axes>"
            ]
          },
          "metadata": {}
        },
        {
          "output_type": "display_data",
          "data": {
            "text/plain": [
              "<Figure size 1000x500 with 0 Axes>"
            ]
          },
          "metadata": {}
        },
        {
          "output_type": "display_data",
          "data": {
            "text/plain": [
              "<Figure size 1000x500 with 0 Axes>"
            ]
          },
          "metadata": {}
        },
        {
          "output_type": "display_data",
          "data": {
            "text/plain": [
              "<Figure size 1000x500 with 0 Axes>"
            ]
          },
          "metadata": {}
        },
        {
          "output_type": "display_data",
          "data": {
            "text/plain": [
              "<Figure size 1000x500 with 0 Axes>"
            ]
          },
          "metadata": {}
        },
        {
          "output_type": "display_data",
          "data": {
            "text/plain": [
              "<Figure size 1000x500 with 0 Axes>"
            ]
          },
          "metadata": {}
        },
        {
          "output_type": "display_data",
          "data": {
            "text/plain": [
              "<Figure size 1000x500 with 0 Axes>"
            ]
          },
          "metadata": {}
        },
        {
          "output_type": "display_data",
          "data": {
            "text/plain": [
              "<Figure size 1000x500 with 0 Axes>"
            ]
          },
          "metadata": {}
        },
        {
          "output_type": "display_data",
          "data": {
            "text/plain": [
              "<Figure size 1000x500 with 0 Axes>"
            ]
          },
          "metadata": {}
        },
        {
          "output_type": "display_data",
          "data": {
            "text/plain": [
              "<Figure size 1000x500 with 0 Axes>"
            ]
          },
          "metadata": {}
        },
        {
          "output_type": "display_data",
          "data": {
            "text/plain": [
              "<Figure size 1000x500 with 0 Axes>"
            ]
          },
          "metadata": {}
        },
        {
          "output_type": "display_data",
          "data": {
            "text/plain": [
              "<Figure size 1000x500 with 0 Axes>"
            ]
          },
          "metadata": {}
        },
        {
          "output_type": "display_data",
          "data": {
            "text/plain": [
              "<Figure size 1000x500 with 0 Axes>"
            ]
          },
          "metadata": {}
        },
        {
          "output_type": "display_data",
          "data": {
            "text/plain": [
              "<Figure size 1000x500 with 0 Axes>"
            ]
          },
          "metadata": {}
        },
        {
          "output_type": "display_data",
          "data": {
            "text/plain": [
              "<Figure size 1000x500 with 0 Axes>"
            ]
          },
          "metadata": {}
        },
        {
          "output_type": "display_data",
          "data": {
            "text/plain": [
              "<Figure size 1000x500 with 0 Axes>"
            ]
          },
          "metadata": {}
        },
        {
          "output_type": "display_data",
          "data": {
            "text/plain": [
              "<Figure size 1000x500 with 0 Axes>"
            ]
          },
          "metadata": {}
        },
        {
          "output_type": "display_data",
          "data": {
            "text/plain": [
              "<Figure size 1000x500 with 0 Axes>"
            ]
          },
          "metadata": {}
        },
        {
          "output_type": "display_data",
          "data": {
            "text/plain": [
              "<Figure size 1000x500 with 0 Axes>"
            ]
          },
          "metadata": {}
        },
        {
          "output_type": "display_data",
          "data": {
            "text/plain": [
              "<Figure size 1000x500 with 0 Axes>"
            ]
          },
          "metadata": {}
        },
        {
          "output_type": "display_data",
          "data": {
            "text/plain": [
              "<Figure size 1000x500 with 0 Axes>"
            ]
          },
          "metadata": {}
        },
        {
          "output_type": "display_data",
          "data": {
            "text/plain": [
              "<Figure size 1000x500 with 0 Axes>"
            ]
          },
          "metadata": {}
        },
        {
          "output_type": "display_data",
          "data": {
            "text/plain": [
              "<Figure size 1000x500 with 0 Axes>"
            ]
          },
          "metadata": {}
        },
        {
          "output_type": "display_data",
          "data": {
            "text/plain": [
              "<Figure size 1000x500 with 0 Axes>"
            ]
          },
          "metadata": {}
        },
        {
          "output_type": "display_data",
          "data": {
            "text/plain": [
              "<Figure size 1000x500 with 0 Axes>"
            ]
          },
          "metadata": {}
        },
        {
          "output_type": "display_data",
          "data": {
            "text/plain": [
              "<Figure size 1000x500 with 0 Axes>"
            ]
          },
          "metadata": {}
        },
        {
          "output_type": "display_data",
          "data": {
            "text/plain": [
              "<Figure size 1000x500 with 0 Axes>"
            ]
          },
          "metadata": {}
        },
        {
          "output_type": "display_data",
          "data": {
            "text/plain": [
              "<Figure size 1000x500 with 0 Axes>"
            ]
          },
          "metadata": {}
        },
        {
          "output_type": "display_data",
          "data": {
            "text/plain": [
              "<Figure size 1000x500 with 0 Axes>"
            ]
          },
          "metadata": {}
        },
        {
          "output_type": "display_data",
          "data": {
            "text/plain": [
              "<Figure size 1000x500 with 0 Axes>"
            ]
          },
          "metadata": {}
        },
        {
          "output_type": "display_data",
          "data": {
            "text/plain": [
              "<Figure size 1000x500 with 0 Axes>"
            ]
          },
          "metadata": {}
        },
        {
          "output_type": "display_data",
          "data": {
            "text/plain": [
              "<Figure size 1000x500 with 0 Axes>"
            ]
          },
          "metadata": {}
        },
        {
          "output_type": "display_data",
          "data": {
            "text/plain": [
              "<Figure size 1000x500 with 0 Axes>"
            ]
          },
          "metadata": {}
        },
        {
          "output_type": "display_data",
          "data": {
            "text/plain": [
              "<Figure size 1000x500 with 0 Axes>"
            ]
          },
          "metadata": {}
        },
        {
          "output_type": "display_data",
          "data": {
            "text/plain": [
              "<Figure size 1000x500 with 0 Axes>"
            ]
          },
          "metadata": {}
        },
        {
          "output_type": "display_data",
          "data": {
            "text/plain": [
              "<Figure size 1000x500 with 0 Axes>"
            ]
          },
          "metadata": {}
        },
        {
          "output_type": "display_data",
          "data": {
            "text/plain": [
              "<Figure size 1000x500 with 0 Axes>"
            ]
          },
          "metadata": {}
        },
        {
          "output_type": "display_data",
          "data": {
            "text/plain": [
              "<Figure size 1000x500 with 0 Axes>"
            ]
          },
          "metadata": {}
        },
        {
          "output_type": "display_data",
          "data": {
            "text/plain": [
              "<Figure size 1000x500 with 0 Axes>"
            ]
          },
          "metadata": {}
        },
        {
          "output_type": "display_data",
          "data": {
            "text/plain": [
              "<Figure size 1000x500 with 0 Axes>"
            ]
          },
          "metadata": {}
        },
        {
          "output_type": "display_data",
          "data": {
            "text/plain": [
              "<Figure size 1000x500 with 0 Axes>"
            ]
          },
          "metadata": {}
        },
        {
          "output_type": "display_data",
          "data": {
            "text/plain": [
              "<Figure size 1000x500 with 0 Axes>"
            ]
          },
          "metadata": {}
        },
        {
          "output_type": "display_data",
          "data": {
            "text/plain": [
              "<Figure size 1000x500 with 0 Axes>"
            ]
          },
          "metadata": {}
        },
        {
          "output_type": "display_data",
          "data": {
            "text/plain": [
              "<Figure size 1000x500 with 0 Axes>"
            ]
          },
          "metadata": {}
        },
        {
          "output_type": "display_data",
          "data": {
            "text/plain": [
              "<Figure size 1000x500 with 0 Axes>"
            ]
          },
          "metadata": {}
        },
        {
          "output_type": "display_data",
          "data": {
            "text/plain": [
              "<Figure size 1000x500 with 0 Axes>"
            ]
          },
          "metadata": {}
        },
        {
          "output_type": "display_data",
          "data": {
            "text/plain": [
              "<Figure size 1000x500 with 0 Axes>"
            ]
          },
          "metadata": {}
        },
        {
          "output_type": "display_data",
          "data": {
            "text/plain": [
              "<Figure size 1000x500 with 0 Axes>"
            ]
          },
          "metadata": {}
        },
        {
          "output_type": "display_data",
          "data": {
            "text/plain": [
              "<Figure size 1000x500 with 0 Axes>"
            ]
          },
          "metadata": {}
        },
        {
          "output_type": "display_data",
          "data": {
            "text/plain": [
              "<Figure size 1000x500 with 0 Axes>"
            ]
          },
          "metadata": {}
        },
        {
          "output_type": "display_data",
          "data": {
            "text/plain": [
              "<Figure size 1000x500 with 0 Axes>"
            ]
          },
          "metadata": {}
        },
        {
          "output_type": "display_data",
          "data": {
            "text/plain": [
              "<Figure size 1000x500 with 0 Axes>"
            ]
          },
          "metadata": {}
        },
        {
          "output_type": "display_data",
          "data": {
            "text/plain": [
              "<Figure size 1000x500 with 0 Axes>"
            ]
          },
          "metadata": {}
        },
        {
          "output_type": "display_data",
          "data": {
            "text/plain": [
              "<Figure size 1000x500 with 0 Axes>"
            ]
          },
          "metadata": {}
        },
        {
          "output_type": "display_data",
          "data": {
            "text/plain": [
              "<Figure size 1000x500 with 0 Axes>"
            ]
          },
          "metadata": {}
        },
        {
          "output_type": "display_data",
          "data": {
            "text/plain": [
              "<Figure size 1000x500 with 0 Axes>"
            ]
          },
          "metadata": {}
        },
        {
          "output_type": "display_data",
          "data": {
            "text/plain": [
              "<Figure size 1000x500 with 0 Axes>"
            ]
          },
          "metadata": {}
        },
        {
          "output_type": "display_data",
          "data": {
            "text/plain": [
              "<Figure size 1000x500 with 0 Axes>"
            ]
          },
          "metadata": {}
        },
        {
          "output_type": "display_data",
          "data": {
            "text/plain": [
              "<Figure size 1000x500 with 0 Axes>"
            ]
          },
          "metadata": {}
        },
        {
          "output_type": "display_data",
          "data": {
            "text/plain": [
              "<Figure size 1000x500 with 0 Axes>"
            ]
          },
          "metadata": {}
        },
        {
          "output_type": "display_data",
          "data": {
            "text/plain": [
              "<Figure size 1000x500 with 0 Axes>"
            ]
          },
          "metadata": {}
        },
        {
          "output_type": "display_data",
          "data": {
            "text/plain": [
              "<Figure size 1000x500 with 0 Axes>"
            ]
          },
          "metadata": {}
        },
        {
          "output_type": "display_data",
          "data": {
            "text/plain": [
              "<Figure size 1000x500 with 0 Axes>"
            ]
          },
          "metadata": {}
        },
        {
          "output_type": "display_data",
          "data": {
            "text/plain": [
              "<Figure size 1000x500 with 0 Axes>"
            ]
          },
          "metadata": {}
        },
        {
          "output_type": "display_data",
          "data": {
            "text/plain": [
              "<Figure size 1000x500 with 0 Axes>"
            ]
          },
          "metadata": {}
        },
        {
          "output_type": "display_data",
          "data": {
            "text/plain": [
              "<Figure size 1000x500 with 0 Axes>"
            ]
          },
          "metadata": {}
        },
        {
          "output_type": "display_data",
          "data": {
            "text/plain": [
              "<Figure size 1000x500 with 0 Axes>"
            ]
          },
          "metadata": {}
        },
        {
          "output_type": "display_data",
          "data": {
            "text/plain": [
              "<Figure size 1000x500 with 0 Axes>"
            ]
          },
          "metadata": {}
        },
        {
          "output_type": "display_data",
          "data": {
            "text/plain": [
              "<Figure size 1000x500 with 0 Axes>"
            ]
          },
          "metadata": {}
        },
        {
          "output_type": "display_data",
          "data": {
            "text/plain": [
              "<Figure size 1000x500 with 0 Axes>"
            ]
          },
          "metadata": {}
        },
        {
          "output_type": "display_data",
          "data": {
            "text/plain": [
              "<Figure size 1000x500 with 0 Axes>"
            ]
          },
          "metadata": {}
        },
        {
          "output_type": "display_data",
          "data": {
            "text/plain": [
              "<Figure size 1000x500 with 0 Axes>"
            ]
          },
          "metadata": {}
        },
        {
          "output_type": "display_data",
          "data": {
            "text/plain": [
              "<Figure size 1000x500 with 0 Axes>"
            ]
          },
          "metadata": {}
        },
        {
          "output_type": "display_data",
          "data": {
            "text/plain": [
              "<Figure size 1000x500 with 0 Axes>"
            ]
          },
          "metadata": {}
        },
        {
          "output_type": "display_data",
          "data": {
            "text/plain": [
              "<Figure size 1000x500 with 0 Axes>"
            ]
          },
          "metadata": {}
        },
        {
          "output_type": "display_data",
          "data": {
            "text/plain": [
              "<Figure size 1000x500 with 0 Axes>"
            ]
          },
          "metadata": {}
        },
        {
          "output_type": "display_data",
          "data": {
            "text/plain": [
              "<Figure size 1000x500 with 0 Axes>"
            ]
          },
          "metadata": {}
        },
        {
          "output_type": "display_data",
          "data": {
            "text/plain": [
              "<Figure size 1000x500 with 0 Axes>"
            ]
          },
          "metadata": {}
        },
        {
          "output_type": "display_data",
          "data": {
            "text/plain": [
              "<Figure size 1000x500 with 0 Axes>"
            ]
          },
          "metadata": {}
        },
        {
          "output_type": "display_data",
          "data": {
            "text/plain": [
              "<Figure size 1000x500 with 0 Axes>"
            ]
          },
          "metadata": {}
        },
        {
          "output_type": "display_data",
          "data": {
            "text/plain": [
              "<Figure size 1000x500 with 0 Axes>"
            ]
          },
          "metadata": {}
        },
        {
          "output_type": "display_data",
          "data": {
            "text/plain": [
              "<Figure size 1000x500 with 0 Axes>"
            ]
          },
          "metadata": {}
        },
        {
          "output_type": "display_data",
          "data": {
            "text/plain": [
              "<Figure size 1000x500 with 0 Axes>"
            ]
          },
          "metadata": {}
        },
        {
          "output_type": "display_data",
          "data": {
            "text/plain": [
              "<Figure size 1000x500 with 0 Axes>"
            ]
          },
          "metadata": {}
        },
        {
          "output_type": "display_data",
          "data": {
            "text/plain": [
              "<Figure size 1000x500 with 0 Axes>"
            ]
          },
          "metadata": {}
        },
        {
          "output_type": "display_data",
          "data": {
            "text/plain": [
              "<Figure size 1000x500 with 0 Axes>"
            ]
          },
          "metadata": {}
        },
        {
          "output_type": "display_data",
          "data": {
            "text/plain": [
              "<Figure size 1000x500 with 0 Axes>"
            ]
          },
          "metadata": {}
        },
        {
          "output_type": "display_data",
          "data": {
            "text/plain": [
              "<Figure size 1000x500 with 0 Axes>"
            ]
          },
          "metadata": {}
        },
        {
          "output_type": "display_data",
          "data": {
            "text/plain": [
              "<Figure size 1000x500 with 0 Axes>"
            ]
          },
          "metadata": {}
        },
        {
          "output_type": "display_data",
          "data": {
            "text/plain": [
              "<Figure size 1000x500 with 0 Axes>"
            ]
          },
          "metadata": {}
        },
        {
          "output_type": "display_data",
          "data": {
            "text/plain": [
              "<Figure size 1000x500 with 0 Axes>"
            ]
          },
          "metadata": {}
        },
        {
          "output_type": "display_data",
          "data": {
            "text/plain": [
              "<Figure size 1000x500 with 0 Axes>"
            ]
          },
          "metadata": {}
        },
        {
          "output_type": "display_data",
          "data": {
            "text/plain": [
              "<Figure size 1000x500 with 0 Axes>"
            ]
          },
          "metadata": {}
        },
        {
          "output_type": "display_data",
          "data": {
            "text/plain": [
              "<Figure size 1000x500 with 0 Axes>"
            ]
          },
          "metadata": {}
        },
        {
          "output_type": "display_data",
          "data": {
            "text/plain": [
              "<Figure size 1000x500 with 0 Axes>"
            ]
          },
          "metadata": {}
        },
        {
          "output_type": "display_data",
          "data": {
            "text/plain": [
              "<Figure size 1000x500 with 0 Axes>"
            ]
          },
          "metadata": {}
        },
        {
          "output_type": "display_data",
          "data": {
            "text/plain": [
              "<Figure size 1000x500 with 0 Axes>"
            ]
          },
          "metadata": {}
        },
        {
          "output_type": "display_data",
          "data": {
            "text/plain": [
              "<Figure size 1000x500 with 0 Axes>"
            ]
          },
          "metadata": {}
        },
        {
          "output_type": "display_data",
          "data": {
            "text/plain": [
              "<Figure size 1000x500 with 0 Axes>"
            ]
          },
          "metadata": {}
        },
        {
          "output_type": "display_data",
          "data": {
            "text/plain": [
              "<Figure size 1000x500 with 0 Axes>"
            ]
          },
          "metadata": {}
        },
        {
          "output_type": "display_data",
          "data": {
            "text/plain": [
              "<Figure size 1000x500 with 0 Axes>"
            ]
          },
          "metadata": {}
        },
        {
          "output_type": "display_data",
          "data": {
            "text/plain": [
              "<Figure size 1000x500 with 0 Axes>"
            ]
          },
          "metadata": {}
        },
        {
          "output_type": "display_data",
          "data": {
            "text/plain": [
              "<Figure size 1000x500 with 0 Axes>"
            ]
          },
          "metadata": {}
        },
        {
          "output_type": "display_data",
          "data": {
            "text/plain": [
              "<Figure size 1000x500 with 0 Axes>"
            ]
          },
          "metadata": {}
        },
        {
          "output_type": "display_data",
          "data": {
            "text/plain": [
              "<Figure size 1000x500 with 0 Axes>"
            ]
          },
          "metadata": {}
        },
        {
          "output_type": "display_data",
          "data": {
            "text/plain": [
              "<Figure size 1000x500 with 0 Axes>"
            ]
          },
          "metadata": {}
        },
        {
          "output_type": "display_data",
          "data": {
            "text/plain": [
              "<Figure size 1000x500 with 0 Axes>"
            ]
          },
          "metadata": {}
        },
        {
          "output_type": "display_data",
          "data": {
            "text/plain": [
              "<Figure size 1000x500 with 0 Axes>"
            ]
          },
          "metadata": {}
        },
        {
          "output_type": "display_data",
          "data": {
            "text/plain": [
              "<Figure size 1000x500 with 0 Axes>"
            ]
          },
          "metadata": {}
        },
        {
          "output_type": "display_data",
          "data": {
            "text/plain": [
              "<Figure size 1000x500 with 0 Axes>"
            ]
          },
          "metadata": {}
        },
        {
          "output_type": "display_data",
          "data": {
            "text/plain": [
              "<Figure size 1000x500 with 0 Axes>"
            ]
          },
          "metadata": {}
        },
        {
          "output_type": "display_data",
          "data": {
            "text/plain": [
              "<Figure size 1000x500 with 0 Axes>"
            ]
          },
          "metadata": {}
        },
        {
          "output_type": "display_data",
          "data": {
            "text/plain": [
              "<Figure size 1000x500 with 0 Axes>"
            ]
          },
          "metadata": {}
        },
        {
          "output_type": "display_data",
          "data": {
            "text/plain": [
              "<Figure size 1000x500 with 0 Axes>"
            ]
          },
          "metadata": {}
        },
        {
          "output_type": "display_data",
          "data": {
            "text/plain": [
              "<Figure size 1000x500 with 0 Axes>"
            ]
          },
          "metadata": {}
        },
        {
          "output_type": "display_data",
          "data": {
            "text/plain": [
              "<Figure size 1000x500 with 0 Axes>"
            ]
          },
          "metadata": {}
        },
        {
          "output_type": "display_data",
          "data": {
            "text/plain": [
              "<Figure size 1000x500 with 0 Axes>"
            ]
          },
          "metadata": {}
        },
        {
          "output_type": "display_data",
          "data": {
            "text/plain": [
              "<Figure size 1000x500 with 0 Axes>"
            ]
          },
          "metadata": {}
        },
        {
          "output_type": "display_data",
          "data": {
            "text/plain": [
              "<Figure size 1000x500 with 0 Axes>"
            ]
          },
          "metadata": {}
        },
        {
          "output_type": "display_data",
          "data": {
            "text/plain": [
              "<Figure size 1000x500 with 0 Axes>"
            ]
          },
          "metadata": {}
        },
        {
          "output_type": "display_data",
          "data": {
            "text/plain": [
              "<Figure size 1000x500 with 0 Axes>"
            ]
          },
          "metadata": {}
        },
        {
          "output_type": "display_data",
          "data": {
            "text/plain": [
              "<Figure size 1000x500 with 0 Axes>"
            ]
          },
          "metadata": {}
        },
        {
          "output_type": "display_data",
          "data": {
            "text/plain": [
              "<Figure size 1000x500 with 0 Axes>"
            ]
          },
          "metadata": {}
        },
        {
          "output_type": "display_data",
          "data": {
            "text/plain": [
              "<Figure size 1000x500 with 0 Axes>"
            ]
          },
          "metadata": {}
        },
        {
          "output_type": "display_data",
          "data": {
            "text/plain": [
              "<Figure size 1000x500 with 0 Axes>"
            ]
          },
          "metadata": {}
        },
        {
          "output_type": "display_data",
          "data": {
            "text/plain": [
              "<Figure size 1000x500 with 0 Axes>"
            ]
          },
          "metadata": {}
        },
        {
          "output_type": "display_data",
          "data": {
            "text/plain": [
              "<Figure size 1000x500 with 0 Axes>"
            ]
          },
          "metadata": {}
        },
        {
          "output_type": "display_data",
          "data": {
            "text/plain": [
              "<Figure size 1000x500 with 0 Axes>"
            ]
          },
          "metadata": {}
        },
        {
          "output_type": "display_data",
          "data": {
            "text/plain": [
              "<Figure size 1000x500 with 0 Axes>"
            ]
          },
          "metadata": {}
        },
        {
          "output_type": "display_data",
          "data": {
            "text/plain": [
              "<Figure size 1000x500 with 0 Axes>"
            ]
          },
          "metadata": {}
        },
        {
          "output_type": "display_data",
          "data": {
            "text/plain": [
              "<Figure size 1000x500 with 0 Axes>"
            ]
          },
          "metadata": {}
        },
        {
          "output_type": "display_data",
          "data": {
            "text/plain": [
              "<Figure size 1000x500 with 0 Axes>"
            ]
          },
          "metadata": {}
        },
        {
          "output_type": "display_data",
          "data": {
            "text/plain": [
              "<Figure size 1000x500 with 0 Axes>"
            ]
          },
          "metadata": {}
        },
        {
          "output_type": "display_data",
          "data": {
            "text/plain": [
              "<Figure size 1000x500 with 0 Axes>"
            ]
          },
          "metadata": {}
        },
        {
          "output_type": "display_data",
          "data": {
            "text/plain": [
              "<Figure size 1000x500 with 0 Axes>"
            ]
          },
          "metadata": {}
        },
        {
          "output_type": "display_data",
          "data": {
            "text/plain": [
              "<Figure size 1000x500 with 0 Axes>"
            ]
          },
          "metadata": {}
        },
        {
          "output_type": "display_data",
          "data": {
            "text/plain": [
              "<Figure size 1000x500 with 0 Axes>"
            ]
          },
          "metadata": {}
        },
        {
          "output_type": "display_data",
          "data": {
            "text/plain": [
              "<Figure size 1000x500 with 0 Axes>"
            ]
          },
          "metadata": {}
        },
        {
          "output_type": "display_data",
          "data": {
            "text/plain": [
              "<Figure size 1000x500 with 0 Axes>"
            ]
          },
          "metadata": {}
        },
        {
          "output_type": "display_data",
          "data": {
            "text/plain": [
              "<Figure size 1000x500 with 0 Axes>"
            ]
          },
          "metadata": {}
        },
        {
          "output_type": "display_data",
          "data": {
            "text/plain": [
              "<Figure size 1000x500 with 0 Axes>"
            ]
          },
          "metadata": {}
        },
        {
          "output_type": "display_data",
          "data": {
            "text/plain": [
              "<Figure size 1000x500 with 0 Axes>"
            ]
          },
          "metadata": {}
        },
        {
          "output_type": "display_data",
          "data": {
            "text/plain": [
              "<Figure size 1000x500 with 0 Axes>"
            ]
          },
          "metadata": {}
        },
        {
          "output_type": "display_data",
          "data": {
            "text/plain": [
              "<Figure size 1000x500 with 0 Axes>"
            ]
          },
          "metadata": {}
        },
        {
          "output_type": "display_data",
          "data": {
            "text/plain": [
              "<Figure size 1000x500 with 0 Axes>"
            ]
          },
          "metadata": {}
        },
        {
          "output_type": "display_data",
          "data": {
            "text/plain": [
              "<Figure size 1000x500 with 0 Axes>"
            ]
          },
          "metadata": {}
        },
        {
          "output_type": "display_data",
          "data": {
            "text/plain": [
              "<Figure size 1000x500 with 0 Axes>"
            ]
          },
          "metadata": {}
        },
        {
          "output_type": "display_data",
          "data": {
            "text/plain": [
              "<Figure size 1000x500 with 0 Axes>"
            ]
          },
          "metadata": {}
        },
        {
          "output_type": "display_data",
          "data": {
            "text/plain": [
              "<Figure size 1000x500 with 0 Axes>"
            ]
          },
          "metadata": {}
        },
        {
          "output_type": "display_data",
          "data": {
            "text/plain": [
              "<Figure size 1000x500 with 0 Axes>"
            ]
          },
          "metadata": {}
        },
        {
          "output_type": "display_data",
          "data": {
            "text/plain": [
              "<Figure size 1000x500 with 0 Axes>"
            ]
          },
          "metadata": {}
        },
        {
          "output_type": "display_data",
          "data": {
            "text/plain": [
              "<Figure size 1000x500 with 0 Axes>"
            ]
          },
          "metadata": {}
        },
        {
          "output_type": "display_data",
          "data": {
            "text/plain": [
              "<Figure size 1000x500 with 0 Axes>"
            ]
          },
          "metadata": {}
        },
        {
          "output_type": "display_data",
          "data": {
            "text/plain": [
              "<Figure size 1000x500 with 0 Axes>"
            ]
          },
          "metadata": {}
        },
        {
          "output_type": "display_data",
          "data": {
            "text/plain": [
              "<Figure size 1000x500 with 0 Axes>"
            ]
          },
          "metadata": {}
        },
        {
          "output_type": "display_data",
          "data": {
            "text/plain": [
              "<Figure size 1000x500 with 0 Axes>"
            ]
          },
          "metadata": {}
        },
        {
          "output_type": "display_data",
          "data": {
            "text/plain": [
              "<Figure size 1000x500 with 0 Axes>"
            ]
          },
          "metadata": {}
        },
        {
          "output_type": "display_data",
          "data": {
            "text/plain": [
              "<Figure size 1000x500 with 0 Axes>"
            ]
          },
          "metadata": {}
        },
        {
          "output_type": "display_data",
          "data": {
            "text/plain": [
              "<Figure size 1000x500 with 0 Axes>"
            ]
          },
          "metadata": {}
        },
        {
          "output_type": "display_data",
          "data": {
            "text/plain": [
              "<Figure size 1000x500 with 0 Axes>"
            ]
          },
          "metadata": {}
        },
        {
          "output_type": "display_data",
          "data": {
            "text/plain": [
              "<Figure size 1000x500 with 0 Axes>"
            ]
          },
          "metadata": {}
        },
        {
          "output_type": "display_data",
          "data": {
            "text/plain": [
              "<Figure size 1000x500 with 0 Axes>"
            ]
          },
          "metadata": {}
        },
        {
          "output_type": "display_data",
          "data": {
            "text/plain": [
              "<Figure size 1000x500 with 0 Axes>"
            ]
          },
          "metadata": {}
        },
        {
          "output_type": "display_data",
          "data": {
            "text/plain": [
              "<Figure size 1000x500 with 0 Axes>"
            ]
          },
          "metadata": {}
        },
        {
          "output_type": "display_data",
          "data": {
            "text/plain": [
              "<Figure size 1000x500 with 0 Axes>"
            ]
          },
          "metadata": {}
        },
        {
          "output_type": "display_data",
          "data": {
            "text/plain": [
              "<Figure size 1000x500 with 0 Axes>"
            ]
          },
          "metadata": {}
        },
        {
          "output_type": "display_data",
          "data": {
            "text/plain": [
              "<Figure size 1000x500 with 0 Axes>"
            ]
          },
          "metadata": {}
        },
        {
          "output_type": "display_data",
          "data": {
            "text/plain": [
              "<Figure size 1000x500 with 0 Axes>"
            ]
          },
          "metadata": {}
        },
        {
          "output_type": "display_data",
          "data": {
            "text/plain": [
              "<Figure size 1000x500 with 0 Axes>"
            ]
          },
          "metadata": {}
        },
        {
          "output_type": "display_data",
          "data": {
            "text/plain": [
              "<Figure size 1000x500 with 0 Axes>"
            ]
          },
          "metadata": {}
        },
        {
          "output_type": "display_data",
          "data": {
            "text/plain": [
              "<Figure size 1000x500 with 0 Axes>"
            ]
          },
          "metadata": {}
        },
        {
          "output_type": "display_data",
          "data": {
            "text/plain": [
              "<Figure size 1000x500 with 0 Axes>"
            ]
          },
          "metadata": {}
        },
        {
          "output_type": "display_data",
          "data": {
            "text/plain": [
              "<Figure size 1000x500 with 0 Axes>"
            ]
          },
          "metadata": {}
        },
        {
          "output_type": "display_data",
          "data": {
            "text/plain": [
              "<Figure size 1000x500 with 0 Axes>"
            ]
          },
          "metadata": {}
        },
        {
          "output_type": "display_data",
          "data": {
            "text/plain": [
              "<Figure size 1000x500 with 0 Axes>"
            ]
          },
          "metadata": {}
        },
        {
          "output_type": "display_data",
          "data": {
            "text/plain": [
              "<Figure size 1000x500 with 0 Axes>"
            ]
          },
          "metadata": {}
        },
        {
          "output_type": "display_data",
          "data": {
            "text/plain": [
              "<Figure size 1000x500 with 0 Axes>"
            ]
          },
          "metadata": {}
        },
        {
          "output_type": "display_data",
          "data": {
            "text/plain": [
              "<Figure size 1000x500 with 0 Axes>"
            ]
          },
          "metadata": {}
        },
        {
          "output_type": "display_data",
          "data": {
            "text/plain": [
              "<Figure size 1000x500 with 0 Axes>"
            ]
          },
          "metadata": {}
        },
        {
          "output_type": "display_data",
          "data": {
            "text/plain": [
              "<Figure size 1000x500 with 0 Axes>"
            ]
          },
          "metadata": {}
        },
        {
          "output_type": "display_data",
          "data": {
            "text/plain": [
              "<Figure size 1000x500 with 0 Axes>"
            ]
          },
          "metadata": {}
        },
        {
          "output_type": "display_data",
          "data": {
            "text/plain": [
              "<Figure size 1000x500 with 0 Axes>"
            ]
          },
          "metadata": {}
        },
        {
          "output_type": "display_data",
          "data": {
            "text/plain": [
              "<Figure size 1000x500 with 0 Axes>"
            ]
          },
          "metadata": {}
        },
        {
          "output_type": "display_data",
          "data": {
            "text/plain": [
              "<Figure size 1000x500 with 0 Axes>"
            ]
          },
          "metadata": {}
        },
        {
          "output_type": "display_data",
          "data": {
            "text/plain": [
              "<Figure size 1000x500 with 0 Axes>"
            ]
          },
          "metadata": {}
        },
        {
          "output_type": "display_data",
          "data": {
            "text/plain": [
              "<Figure size 1000x500 with 0 Axes>"
            ]
          },
          "metadata": {}
        },
        {
          "output_type": "display_data",
          "data": {
            "text/plain": [
              "<Figure size 1000x500 with 0 Axes>"
            ]
          },
          "metadata": {}
        },
        {
          "output_type": "display_data",
          "data": {
            "text/plain": [
              "<Figure size 1000x500 with 0 Axes>"
            ]
          },
          "metadata": {}
        },
        {
          "output_type": "display_data",
          "data": {
            "text/plain": [
              "<Figure size 1000x500 with 0 Axes>"
            ]
          },
          "metadata": {}
        },
        {
          "output_type": "display_data",
          "data": {
            "text/plain": [
              "<Figure size 1000x500 with 0 Axes>"
            ]
          },
          "metadata": {}
        },
        {
          "output_type": "display_data",
          "data": {
            "text/plain": [
              "<Figure size 1000x500 with 0 Axes>"
            ]
          },
          "metadata": {}
        },
        {
          "output_type": "display_data",
          "data": {
            "text/plain": [
              "<Figure size 1000x500 with 0 Axes>"
            ]
          },
          "metadata": {}
        },
        {
          "output_type": "display_data",
          "data": {
            "text/plain": [
              "<Figure size 1000x500 with 0 Axes>"
            ]
          },
          "metadata": {}
        },
        {
          "output_type": "display_data",
          "data": {
            "text/plain": [
              "<Figure size 1000x500 with 0 Axes>"
            ]
          },
          "metadata": {}
        },
        {
          "output_type": "display_data",
          "data": {
            "text/plain": [
              "<Figure size 1000x500 with 0 Axes>"
            ]
          },
          "metadata": {}
        },
        {
          "output_type": "display_data",
          "data": {
            "text/plain": [
              "<Figure size 1000x500 with 0 Axes>"
            ]
          },
          "metadata": {}
        },
        {
          "output_type": "display_data",
          "data": {
            "text/plain": [
              "<Figure size 1000x500 with 0 Axes>"
            ]
          },
          "metadata": {}
        },
        {
          "output_type": "display_data",
          "data": {
            "text/plain": [
              "<Figure size 1000x500 with 0 Axes>"
            ]
          },
          "metadata": {}
        },
        {
          "output_type": "display_data",
          "data": {
            "text/plain": [
              "<Figure size 1000x500 with 0 Axes>"
            ]
          },
          "metadata": {}
        },
        {
          "output_type": "display_data",
          "data": {
            "text/plain": [
              "<Figure size 1000x500 with 0 Axes>"
            ]
          },
          "metadata": {}
        },
        {
          "output_type": "display_data",
          "data": {
            "text/plain": [
              "<Figure size 1000x500 with 0 Axes>"
            ]
          },
          "metadata": {}
        },
        {
          "output_type": "display_data",
          "data": {
            "text/plain": [
              "<Figure size 1000x500 with 0 Axes>"
            ]
          },
          "metadata": {}
        },
        {
          "output_type": "display_data",
          "data": {
            "text/plain": [
              "<Figure size 1000x500 with 0 Axes>"
            ]
          },
          "metadata": {}
        },
        {
          "output_type": "display_data",
          "data": {
            "text/plain": [
              "<Figure size 1000x500 with 0 Axes>"
            ]
          },
          "metadata": {}
        },
        {
          "output_type": "display_data",
          "data": {
            "text/plain": [
              "<Figure size 1000x500 with 0 Axes>"
            ]
          },
          "metadata": {}
        },
        {
          "output_type": "display_data",
          "data": {
            "text/plain": [
              "<Figure size 1000x500 with 0 Axes>"
            ]
          },
          "metadata": {}
        },
        {
          "output_type": "display_data",
          "data": {
            "text/plain": [
              "<Figure size 1000x500 with 0 Axes>"
            ]
          },
          "metadata": {}
        },
        {
          "output_type": "display_data",
          "data": {
            "text/plain": [
              "<Figure size 1000x500 with 0 Axes>"
            ]
          },
          "metadata": {}
        },
        {
          "output_type": "display_data",
          "data": {
            "text/plain": [
              "<Figure size 1000x500 with 0 Axes>"
            ]
          },
          "metadata": {}
        },
        {
          "output_type": "display_data",
          "data": {
            "text/plain": [
              "<Figure size 1000x500 with 0 Axes>"
            ]
          },
          "metadata": {}
        },
        {
          "output_type": "display_data",
          "data": {
            "text/plain": [
              "<Figure size 1000x500 with 0 Axes>"
            ]
          },
          "metadata": {}
        },
        {
          "output_type": "display_data",
          "data": {
            "text/plain": [
              "<Figure size 1000x500 with 0 Axes>"
            ]
          },
          "metadata": {}
        },
        {
          "output_type": "display_data",
          "data": {
            "text/plain": [
              "<Figure size 1000x500 with 0 Axes>"
            ]
          },
          "metadata": {}
        },
        {
          "output_type": "display_data",
          "data": {
            "text/plain": [
              "<Figure size 1000x500 with 0 Axes>"
            ]
          },
          "metadata": {}
        },
        {
          "output_type": "display_data",
          "data": {
            "text/plain": [
              "<Figure size 1000x500 with 0 Axes>"
            ]
          },
          "metadata": {}
        },
        {
          "output_type": "display_data",
          "data": {
            "text/plain": [
              "<Figure size 1000x500 with 0 Axes>"
            ]
          },
          "metadata": {}
        },
        {
          "output_type": "display_data",
          "data": {
            "text/plain": [
              "<Figure size 1000x500 with 0 Axes>"
            ]
          },
          "metadata": {}
        },
        {
          "output_type": "display_data",
          "data": {
            "text/plain": [
              "<Figure size 1000x500 with 0 Axes>"
            ]
          },
          "metadata": {}
        },
        {
          "output_type": "display_data",
          "data": {
            "text/plain": [
              "<Figure size 1000x500 with 0 Axes>"
            ]
          },
          "metadata": {}
        },
        {
          "output_type": "display_data",
          "data": {
            "text/plain": [
              "<Figure size 1000x500 with 0 Axes>"
            ]
          },
          "metadata": {}
        },
        {
          "output_type": "display_data",
          "data": {
            "text/plain": [
              "<Figure size 1000x500 with 0 Axes>"
            ]
          },
          "metadata": {}
        },
        {
          "output_type": "display_data",
          "data": {
            "text/plain": [
              "<Figure size 1000x500 with 0 Axes>"
            ]
          },
          "metadata": {}
        },
        {
          "output_type": "display_data",
          "data": {
            "text/plain": [
              "<Figure size 1000x500 with 0 Axes>"
            ]
          },
          "metadata": {}
        },
        {
          "output_type": "display_data",
          "data": {
            "text/plain": [
              "<Figure size 1000x500 with 0 Axes>"
            ]
          },
          "metadata": {}
        },
        {
          "output_type": "display_data",
          "data": {
            "text/plain": [
              "<Figure size 1000x500 with 0 Axes>"
            ]
          },
          "metadata": {}
        },
        {
          "output_type": "display_data",
          "data": {
            "text/plain": [
              "<Figure size 1000x500 with 0 Axes>"
            ]
          },
          "metadata": {}
        },
        {
          "output_type": "display_data",
          "data": {
            "text/plain": [
              "<Figure size 1000x500 with 0 Axes>"
            ]
          },
          "metadata": {}
        },
        {
          "output_type": "display_data",
          "data": {
            "text/plain": [
              "<Figure size 1000x500 with 0 Axes>"
            ]
          },
          "metadata": {}
        },
        {
          "output_type": "display_data",
          "data": {
            "text/plain": [
              "<Figure size 1000x500 with 0 Axes>"
            ]
          },
          "metadata": {}
        },
        {
          "output_type": "display_data",
          "data": {
            "text/plain": [
              "<Figure size 1000x500 with 0 Axes>"
            ]
          },
          "metadata": {}
        },
        {
          "output_type": "display_data",
          "data": {
            "text/plain": [
              "<Figure size 1000x500 with 0 Axes>"
            ]
          },
          "metadata": {}
        },
        {
          "output_type": "display_data",
          "data": {
            "text/plain": [
              "<Figure size 1000x500 with 0 Axes>"
            ]
          },
          "metadata": {}
        },
        {
          "output_type": "display_data",
          "data": {
            "text/plain": [
              "<Figure size 1000x500 with 0 Axes>"
            ]
          },
          "metadata": {}
        },
        {
          "output_type": "display_data",
          "data": {
            "text/plain": [
              "<Figure size 1000x500 with 0 Axes>"
            ]
          },
          "metadata": {}
        },
        {
          "output_type": "display_data",
          "data": {
            "text/plain": [
              "<Figure size 1000x500 with 0 Axes>"
            ]
          },
          "metadata": {}
        },
        {
          "output_type": "display_data",
          "data": {
            "text/plain": [
              "<Figure size 1000x500 with 0 Axes>"
            ]
          },
          "metadata": {}
        },
        {
          "output_type": "display_data",
          "data": {
            "text/plain": [
              "<Figure size 1000x500 with 0 Axes>"
            ]
          },
          "metadata": {}
        },
        {
          "output_type": "display_data",
          "data": {
            "text/plain": [
              "<Figure size 1000x500 with 0 Axes>"
            ]
          },
          "metadata": {}
        },
        {
          "output_type": "display_data",
          "data": {
            "text/plain": [
              "<Figure size 1000x500 with 0 Axes>"
            ]
          },
          "metadata": {}
        },
        {
          "output_type": "display_data",
          "data": {
            "text/plain": [
              "<Figure size 1000x500 with 0 Axes>"
            ]
          },
          "metadata": {}
        },
        {
          "output_type": "display_data",
          "data": {
            "text/plain": [
              "<Figure size 1000x500 with 0 Axes>"
            ]
          },
          "metadata": {}
        },
        {
          "output_type": "display_data",
          "data": {
            "text/plain": [
              "<Figure size 1000x500 with 0 Axes>"
            ]
          },
          "metadata": {}
        },
        {
          "output_type": "display_data",
          "data": {
            "text/plain": [
              "<Figure size 1000x500 with 0 Axes>"
            ]
          },
          "metadata": {}
        },
        {
          "output_type": "display_data",
          "data": {
            "text/plain": [
              "<Figure size 1000x500 with 0 Axes>"
            ]
          },
          "metadata": {}
        },
        {
          "output_type": "display_data",
          "data": {
            "text/plain": [
              "<Figure size 1000x500 with 0 Axes>"
            ]
          },
          "metadata": {}
        },
        {
          "output_type": "display_data",
          "data": {
            "text/plain": [
              "<Figure size 1000x500 with 0 Axes>"
            ]
          },
          "metadata": {}
        },
        {
          "output_type": "display_data",
          "data": {
            "text/plain": [
              "<Figure size 1000x500 with 0 Axes>"
            ]
          },
          "metadata": {}
        },
        {
          "output_type": "display_data",
          "data": {
            "text/plain": [
              "<Figure size 1000x500 with 0 Axes>"
            ]
          },
          "metadata": {}
        },
        {
          "output_type": "display_data",
          "data": {
            "text/plain": [
              "<Figure size 1000x500 with 0 Axes>"
            ]
          },
          "metadata": {}
        },
        {
          "output_type": "display_data",
          "data": {
            "text/plain": [
              "<Figure size 1000x500 with 0 Axes>"
            ]
          },
          "metadata": {}
        },
        {
          "output_type": "display_data",
          "data": {
            "text/plain": [
              "<Figure size 1000x500 with 0 Axes>"
            ]
          },
          "metadata": {}
        },
        {
          "output_type": "display_data",
          "data": {
            "text/plain": [
              "<Figure size 1000x500 with 0 Axes>"
            ]
          },
          "metadata": {}
        },
        {
          "output_type": "display_data",
          "data": {
            "text/plain": [
              "<Figure size 1000x500 with 0 Axes>"
            ]
          },
          "metadata": {}
        },
        {
          "output_type": "display_data",
          "data": {
            "text/plain": [
              "<Figure size 1000x500 with 0 Axes>"
            ]
          },
          "metadata": {}
        },
        {
          "output_type": "display_data",
          "data": {
            "text/plain": [
              "<Figure size 1000x500 with 0 Axes>"
            ]
          },
          "metadata": {}
        },
        {
          "output_type": "display_data",
          "data": {
            "text/plain": [
              "<Figure size 1000x500 with 0 Axes>"
            ]
          },
          "metadata": {}
        },
        {
          "output_type": "display_data",
          "data": {
            "text/plain": [
              "<Figure size 1000x500 with 0 Axes>"
            ]
          },
          "metadata": {}
        },
        {
          "output_type": "display_data",
          "data": {
            "text/plain": [
              "<Figure size 1000x500 with 0 Axes>"
            ]
          },
          "metadata": {}
        },
        {
          "output_type": "display_data",
          "data": {
            "text/plain": [
              "<Figure size 1000x500 with 0 Axes>"
            ]
          },
          "metadata": {}
        },
        {
          "output_type": "display_data",
          "data": {
            "text/plain": [
              "<Figure size 1000x500 with 0 Axes>"
            ]
          },
          "metadata": {}
        },
        {
          "output_type": "display_data",
          "data": {
            "text/plain": [
              "<Figure size 1000x500 with 0 Axes>"
            ]
          },
          "metadata": {}
        },
        {
          "output_type": "display_data",
          "data": {
            "text/plain": [
              "<Figure size 1000x500 with 0 Axes>"
            ]
          },
          "metadata": {}
        },
        {
          "output_type": "display_data",
          "data": {
            "text/plain": [
              "<Figure size 1000x500 with 0 Axes>"
            ]
          },
          "metadata": {}
        },
        {
          "output_type": "display_data",
          "data": {
            "text/plain": [
              "<Figure size 1000x500 with 0 Axes>"
            ]
          },
          "metadata": {}
        },
        {
          "output_type": "display_data",
          "data": {
            "text/plain": [
              "<Figure size 1000x500 with 0 Axes>"
            ]
          },
          "metadata": {}
        },
        {
          "output_type": "display_data",
          "data": {
            "text/plain": [
              "<Figure size 1000x500 with 0 Axes>"
            ]
          },
          "metadata": {}
        },
        {
          "output_type": "display_data",
          "data": {
            "text/plain": [
              "<Figure size 1000x500 with 0 Axes>"
            ]
          },
          "metadata": {}
        },
        {
          "output_type": "display_data",
          "data": {
            "text/plain": [
              "<Figure size 1000x500 with 0 Axes>"
            ]
          },
          "metadata": {}
        },
        {
          "output_type": "display_data",
          "data": {
            "text/plain": [
              "<Figure size 1000x500 with 0 Axes>"
            ]
          },
          "metadata": {}
        },
        {
          "output_type": "display_data",
          "data": {
            "text/plain": [
              "<Figure size 1000x500 with 0 Axes>"
            ]
          },
          "metadata": {}
        },
        {
          "output_type": "display_data",
          "data": {
            "text/plain": [
              "<Figure size 1000x500 with 0 Axes>"
            ]
          },
          "metadata": {}
        },
        {
          "output_type": "display_data",
          "data": {
            "text/plain": [
              "<Figure size 1000x500 with 0 Axes>"
            ]
          },
          "metadata": {}
        },
        {
          "output_type": "display_data",
          "data": {
            "text/plain": [
              "<Figure size 1000x500 with 0 Axes>"
            ]
          },
          "metadata": {}
        },
        {
          "output_type": "display_data",
          "data": {
            "text/plain": [
              "<Figure size 1000x500 with 0 Axes>"
            ]
          },
          "metadata": {}
        },
        {
          "output_type": "display_data",
          "data": {
            "text/plain": [
              "<Figure size 1000x500 with 0 Axes>"
            ]
          },
          "metadata": {}
        },
        {
          "output_type": "display_data",
          "data": {
            "text/plain": [
              "<Figure size 1000x500 with 0 Axes>"
            ]
          },
          "metadata": {}
        },
        {
          "output_type": "display_data",
          "data": {
            "text/plain": [
              "<Figure size 1000x500 with 0 Axes>"
            ]
          },
          "metadata": {}
        },
        {
          "output_type": "display_data",
          "data": {
            "text/plain": [
              "<Figure size 1000x500 with 0 Axes>"
            ]
          },
          "metadata": {}
        },
        {
          "output_type": "display_data",
          "data": {
            "text/plain": [
              "<Figure size 1000x500 with 0 Axes>"
            ]
          },
          "metadata": {}
        },
        {
          "output_type": "display_data",
          "data": {
            "text/plain": [
              "<Figure size 1000x500 with 0 Axes>"
            ]
          },
          "metadata": {}
        },
        {
          "output_type": "display_data",
          "data": {
            "text/plain": [
              "<Figure size 1000x500 with 0 Axes>"
            ]
          },
          "metadata": {}
        },
        {
          "output_type": "display_data",
          "data": {
            "text/plain": [
              "<Figure size 1000x500 with 0 Axes>"
            ]
          },
          "metadata": {}
        },
        {
          "output_type": "display_data",
          "data": {
            "text/plain": [
              "<Figure size 1000x500 with 0 Axes>"
            ]
          },
          "metadata": {}
        },
        {
          "output_type": "display_data",
          "data": {
            "text/plain": [
              "<Figure size 1000x500 with 0 Axes>"
            ]
          },
          "metadata": {}
        },
        {
          "output_type": "display_data",
          "data": {
            "text/plain": [
              "<Figure size 1000x500 with 0 Axes>"
            ]
          },
          "metadata": {}
        },
        {
          "output_type": "display_data",
          "data": {
            "text/plain": [
              "<Figure size 1000x500 with 0 Axes>"
            ]
          },
          "metadata": {}
        },
        {
          "output_type": "display_data",
          "data": {
            "text/plain": [
              "<Figure size 1000x500 with 0 Axes>"
            ]
          },
          "metadata": {}
        },
        {
          "output_type": "display_data",
          "data": {
            "text/plain": [
              "<Figure size 1000x500 with 0 Axes>"
            ]
          },
          "metadata": {}
        },
        {
          "output_type": "display_data",
          "data": {
            "text/plain": [
              "<Figure size 1000x500 with 0 Axes>"
            ]
          },
          "metadata": {}
        },
        {
          "output_type": "display_data",
          "data": {
            "text/plain": [
              "<Figure size 1000x500 with 0 Axes>"
            ]
          },
          "metadata": {}
        },
        {
          "output_type": "display_data",
          "data": {
            "text/plain": [
              "<Figure size 1000x500 with 0 Axes>"
            ]
          },
          "metadata": {}
        },
        {
          "output_type": "display_data",
          "data": {
            "text/plain": [
              "<Figure size 1000x500 with 0 Axes>"
            ]
          },
          "metadata": {}
        },
        {
          "output_type": "display_data",
          "data": {
            "text/plain": [
              "<Figure size 1000x500 with 0 Axes>"
            ]
          },
          "metadata": {}
        },
        {
          "output_type": "display_data",
          "data": {
            "text/plain": [
              "<Figure size 1000x500 with 0 Axes>"
            ]
          },
          "metadata": {}
        },
        {
          "output_type": "display_data",
          "data": {
            "text/plain": [
              "<Figure size 1000x500 with 0 Axes>"
            ]
          },
          "metadata": {}
        },
        {
          "output_type": "display_data",
          "data": {
            "text/plain": [
              "<Figure size 1000x500 with 0 Axes>"
            ]
          },
          "metadata": {}
        },
        {
          "output_type": "display_data",
          "data": {
            "text/plain": [
              "<Figure size 1000x500 with 0 Axes>"
            ]
          },
          "metadata": {}
        },
        {
          "output_type": "display_data",
          "data": {
            "text/plain": [
              "<Figure size 1000x500 with 0 Axes>"
            ]
          },
          "metadata": {}
        },
        {
          "output_type": "display_data",
          "data": {
            "text/plain": [
              "<Figure size 1000x500 with 0 Axes>"
            ]
          },
          "metadata": {}
        },
        {
          "output_type": "display_data",
          "data": {
            "text/plain": [
              "<Figure size 1000x500 with 0 Axes>"
            ]
          },
          "metadata": {}
        },
        {
          "output_type": "display_data",
          "data": {
            "text/plain": [
              "<Figure size 1000x500 with 0 Axes>"
            ]
          },
          "metadata": {}
        },
        {
          "output_type": "display_data",
          "data": {
            "text/plain": [
              "<Figure size 1000x500 with 0 Axes>"
            ]
          },
          "metadata": {}
        },
        {
          "output_type": "display_data",
          "data": {
            "text/plain": [
              "<Figure size 1000x500 with 0 Axes>"
            ]
          },
          "metadata": {}
        },
        {
          "output_type": "display_data",
          "data": {
            "text/plain": [
              "<Figure size 1000x500 with 0 Axes>"
            ]
          },
          "metadata": {}
        },
        {
          "output_type": "display_data",
          "data": {
            "text/plain": [
              "<Figure size 1000x500 with 0 Axes>"
            ]
          },
          "metadata": {}
        },
        {
          "output_type": "display_data",
          "data": {
            "text/plain": [
              "<Figure size 1000x500 with 0 Axes>"
            ]
          },
          "metadata": {}
        },
        {
          "output_type": "display_data",
          "data": {
            "text/plain": [
              "<Figure size 1000x500 with 0 Axes>"
            ]
          },
          "metadata": {}
        },
        {
          "output_type": "display_data",
          "data": {
            "text/plain": [
              "<Figure size 1000x500 with 0 Axes>"
            ]
          },
          "metadata": {}
        },
        {
          "output_type": "display_data",
          "data": {
            "text/plain": [
              "<Figure size 1000x500 with 0 Axes>"
            ]
          },
          "metadata": {}
        },
        {
          "output_type": "display_data",
          "data": {
            "text/plain": [
              "<Figure size 1000x500 with 0 Axes>"
            ]
          },
          "metadata": {}
        },
        {
          "output_type": "display_data",
          "data": {
            "text/plain": [
              "<Figure size 1000x500 with 0 Axes>"
            ]
          },
          "metadata": {}
        },
        {
          "output_type": "display_data",
          "data": {
            "text/plain": [
              "<Figure size 1000x500 with 0 Axes>"
            ]
          },
          "metadata": {}
        },
        {
          "output_type": "display_data",
          "data": {
            "text/plain": [
              "<Figure size 1000x500 with 0 Axes>"
            ]
          },
          "metadata": {}
        },
        {
          "output_type": "display_data",
          "data": {
            "text/plain": [
              "<Figure size 1000x500 with 0 Axes>"
            ]
          },
          "metadata": {}
        },
        {
          "output_type": "display_data",
          "data": {
            "text/plain": [
              "<Figure size 1000x500 with 0 Axes>"
            ]
          },
          "metadata": {}
        },
        {
          "output_type": "display_data",
          "data": {
            "text/plain": [
              "<Figure size 1000x500 with 0 Axes>"
            ]
          },
          "metadata": {}
        },
        {
          "output_type": "display_data",
          "data": {
            "text/plain": [
              "<Figure size 1000x500 with 0 Axes>"
            ]
          },
          "metadata": {}
        },
        {
          "output_type": "display_data",
          "data": {
            "text/plain": [
              "<Figure size 1000x500 with 0 Axes>"
            ]
          },
          "metadata": {}
        },
        {
          "output_type": "display_data",
          "data": {
            "text/plain": [
              "<Figure size 1000x500 with 0 Axes>"
            ]
          },
          "metadata": {}
        },
        {
          "output_type": "display_data",
          "data": {
            "text/plain": [
              "<Figure size 1000x500 with 0 Axes>"
            ]
          },
          "metadata": {}
        },
        {
          "output_type": "display_data",
          "data": {
            "text/plain": [
              "<Figure size 1000x500 with 0 Axes>"
            ]
          },
          "metadata": {}
        },
        {
          "output_type": "display_data",
          "data": {
            "text/plain": [
              "<Figure size 1000x500 with 0 Axes>"
            ]
          },
          "metadata": {}
        },
        {
          "output_type": "display_data",
          "data": {
            "text/plain": [
              "<Figure size 1000x500 with 0 Axes>"
            ]
          },
          "metadata": {}
        },
        {
          "output_type": "display_data",
          "data": {
            "text/plain": [
              "<Figure size 1000x500 with 0 Axes>"
            ]
          },
          "metadata": {}
        },
        {
          "output_type": "display_data",
          "data": {
            "text/plain": [
              "<Figure size 1000x500 with 0 Axes>"
            ]
          },
          "metadata": {}
        },
        {
          "output_type": "display_data",
          "data": {
            "text/plain": [
              "<Figure size 1000x500 with 0 Axes>"
            ]
          },
          "metadata": {}
        },
        {
          "output_type": "display_data",
          "data": {
            "text/plain": [
              "<Figure size 1000x500 with 0 Axes>"
            ]
          },
          "metadata": {}
        },
        {
          "output_type": "display_data",
          "data": {
            "text/plain": [
              "<Figure size 1000x500 with 0 Axes>"
            ]
          },
          "metadata": {}
        },
        {
          "output_type": "display_data",
          "data": {
            "text/plain": [
              "<Figure size 1000x500 with 0 Axes>"
            ]
          },
          "metadata": {}
        },
        {
          "output_type": "display_data",
          "data": {
            "text/plain": [
              "<Figure size 1000x500 with 0 Axes>"
            ]
          },
          "metadata": {}
        },
        {
          "output_type": "display_data",
          "data": {
            "text/plain": [
              "<Figure size 1000x500 with 0 Axes>"
            ]
          },
          "metadata": {}
        },
        {
          "output_type": "display_data",
          "data": {
            "text/plain": [
              "<Figure size 1000x500 with 0 Axes>"
            ]
          },
          "metadata": {}
        },
        {
          "output_type": "display_data",
          "data": {
            "text/plain": [
              "<Figure size 1000x500 with 0 Axes>"
            ]
          },
          "metadata": {}
        },
        {
          "output_type": "display_data",
          "data": {
            "text/plain": [
              "<Figure size 1000x500 with 0 Axes>"
            ]
          },
          "metadata": {}
        },
        {
          "output_type": "display_data",
          "data": {
            "text/plain": [
              "<Figure size 1000x500 with 0 Axes>"
            ]
          },
          "metadata": {}
        },
        {
          "output_type": "display_data",
          "data": {
            "text/plain": [
              "<Figure size 1000x500 with 0 Axes>"
            ]
          },
          "metadata": {}
        },
        {
          "output_type": "display_data",
          "data": {
            "text/plain": [
              "<Figure size 1000x500 with 0 Axes>"
            ]
          },
          "metadata": {}
        },
        {
          "output_type": "display_data",
          "data": {
            "text/plain": [
              "<Figure size 1000x500 with 0 Axes>"
            ]
          },
          "metadata": {}
        },
        {
          "output_type": "display_data",
          "data": {
            "text/plain": [
              "<Figure size 1000x500 with 0 Axes>"
            ]
          },
          "metadata": {}
        },
        {
          "output_type": "display_data",
          "data": {
            "text/plain": [
              "<Figure size 1000x500 with 0 Axes>"
            ]
          },
          "metadata": {}
        },
        {
          "output_type": "display_data",
          "data": {
            "text/plain": [
              "<Figure size 1000x500 with 0 Axes>"
            ]
          },
          "metadata": {}
        },
        {
          "output_type": "display_data",
          "data": {
            "text/plain": [
              "<Figure size 1000x500 with 0 Axes>"
            ]
          },
          "metadata": {}
        },
        {
          "output_type": "display_data",
          "data": {
            "text/plain": [
              "<Figure size 1000x500 with 0 Axes>"
            ]
          },
          "metadata": {}
        },
        {
          "output_type": "display_data",
          "data": {
            "text/plain": [
              "<Figure size 1000x500 with 0 Axes>"
            ]
          },
          "metadata": {}
        },
        {
          "output_type": "display_data",
          "data": {
            "text/plain": [
              "<Figure size 1000x500 with 0 Axes>"
            ]
          },
          "metadata": {}
        },
        {
          "output_type": "display_data",
          "data": {
            "text/plain": [
              "<Figure size 1000x500 with 0 Axes>"
            ]
          },
          "metadata": {}
        },
        {
          "output_type": "display_data",
          "data": {
            "text/plain": [
              "<Figure size 1000x500 with 0 Axes>"
            ]
          },
          "metadata": {}
        },
        {
          "output_type": "display_data",
          "data": {
            "text/plain": [
              "<Figure size 1000x500 with 0 Axes>"
            ]
          },
          "metadata": {}
        },
        {
          "output_type": "display_data",
          "data": {
            "text/plain": [
              "<Figure size 1000x500 with 0 Axes>"
            ]
          },
          "metadata": {}
        },
        {
          "output_type": "display_data",
          "data": {
            "text/plain": [
              "<Figure size 1000x500 with 0 Axes>"
            ]
          },
          "metadata": {}
        },
        {
          "output_type": "display_data",
          "data": {
            "text/plain": [
              "<Figure size 1000x500 with 0 Axes>"
            ]
          },
          "metadata": {}
        },
        {
          "output_type": "display_data",
          "data": {
            "text/plain": [
              "<Figure size 1000x500 with 0 Axes>"
            ]
          },
          "metadata": {}
        },
        {
          "output_type": "display_data",
          "data": {
            "text/plain": [
              "<Figure size 1000x500 with 0 Axes>"
            ]
          },
          "metadata": {}
        },
        {
          "output_type": "display_data",
          "data": {
            "text/plain": [
              "<Figure size 1000x500 with 0 Axes>"
            ]
          },
          "metadata": {}
        },
        {
          "output_type": "display_data",
          "data": {
            "text/plain": [
              "<Figure size 1000x500 with 0 Axes>"
            ]
          },
          "metadata": {}
        },
        {
          "output_type": "display_data",
          "data": {
            "text/plain": [
              "<Figure size 1000x500 with 0 Axes>"
            ]
          },
          "metadata": {}
        },
        {
          "output_type": "display_data",
          "data": {
            "text/plain": [
              "<Figure size 1000x500 with 0 Axes>"
            ]
          },
          "metadata": {}
        },
        {
          "output_type": "display_data",
          "data": {
            "text/plain": [
              "<Figure size 1000x500 with 0 Axes>"
            ]
          },
          "metadata": {}
        },
        {
          "output_type": "display_data",
          "data": {
            "text/plain": [
              "<Figure size 1000x500 with 0 Axes>"
            ]
          },
          "metadata": {}
        },
        {
          "output_type": "display_data",
          "data": {
            "text/plain": [
              "<Figure size 1000x500 with 0 Axes>"
            ]
          },
          "metadata": {}
        },
        {
          "output_type": "display_data",
          "data": {
            "text/plain": [
              "<Figure size 1000x500 with 0 Axes>"
            ]
          },
          "metadata": {}
        },
        {
          "output_type": "display_data",
          "data": {
            "text/plain": [
              "<Figure size 1000x500 with 0 Axes>"
            ]
          },
          "metadata": {}
        },
        {
          "output_type": "display_data",
          "data": {
            "text/plain": [
              "<Figure size 1000x500 with 0 Axes>"
            ]
          },
          "metadata": {}
        },
        {
          "output_type": "display_data",
          "data": {
            "text/plain": [
              "<Figure size 1000x500 with 0 Axes>"
            ]
          },
          "metadata": {}
        },
        {
          "output_type": "display_data",
          "data": {
            "text/plain": [
              "<Figure size 1000x500 with 0 Axes>"
            ]
          },
          "metadata": {}
        },
        {
          "output_type": "display_data",
          "data": {
            "text/plain": [
              "<Figure size 1000x500 with 0 Axes>"
            ]
          },
          "metadata": {}
        },
        {
          "output_type": "display_data",
          "data": {
            "text/plain": [
              "<Figure size 1000x500 with 0 Axes>"
            ]
          },
          "metadata": {}
        },
        {
          "output_type": "display_data",
          "data": {
            "text/plain": [
              "<Figure size 1000x500 with 0 Axes>"
            ]
          },
          "metadata": {}
        },
        {
          "output_type": "display_data",
          "data": {
            "text/plain": [
              "<Figure size 1000x500 with 0 Axes>"
            ]
          },
          "metadata": {}
        },
        {
          "output_type": "display_data",
          "data": {
            "text/plain": [
              "<Figure size 1000x500 with 0 Axes>"
            ]
          },
          "metadata": {}
        },
        {
          "output_type": "display_data",
          "data": {
            "text/plain": [
              "<Figure size 1000x500 with 0 Axes>"
            ]
          },
          "metadata": {}
        },
        {
          "output_type": "display_data",
          "data": {
            "text/plain": [
              "<Figure size 1000x500 with 0 Axes>"
            ]
          },
          "metadata": {}
        },
        {
          "output_type": "display_data",
          "data": {
            "text/plain": [
              "<Figure size 1000x500 with 0 Axes>"
            ]
          },
          "metadata": {}
        },
        {
          "output_type": "display_data",
          "data": {
            "text/plain": [
              "<Figure size 1000x500 with 0 Axes>"
            ]
          },
          "metadata": {}
        },
        {
          "output_type": "display_data",
          "data": {
            "text/plain": [
              "<Figure size 1000x500 with 0 Axes>"
            ]
          },
          "metadata": {}
        },
        {
          "output_type": "display_data",
          "data": {
            "text/plain": [
              "<Figure size 1000x500 with 0 Axes>"
            ]
          },
          "metadata": {}
        },
        {
          "output_type": "display_data",
          "data": {
            "text/plain": [
              "<Figure size 1000x500 with 0 Axes>"
            ]
          },
          "metadata": {}
        },
        {
          "output_type": "display_data",
          "data": {
            "text/plain": [
              "<Figure size 1000x500 with 0 Axes>"
            ]
          },
          "metadata": {}
        },
        {
          "output_type": "display_data",
          "data": {
            "text/plain": [
              "<Figure size 1000x500 with 0 Axes>"
            ]
          },
          "metadata": {}
        },
        {
          "output_type": "display_data",
          "data": {
            "text/plain": [
              "<Figure size 1000x500 with 0 Axes>"
            ]
          },
          "metadata": {}
        },
        {
          "output_type": "display_data",
          "data": {
            "text/plain": [
              "<Figure size 1000x500 with 0 Axes>"
            ]
          },
          "metadata": {}
        },
        {
          "output_type": "display_data",
          "data": {
            "text/plain": [
              "<Figure size 1000x500 with 0 Axes>"
            ]
          },
          "metadata": {}
        },
        {
          "output_type": "display_data",
          "data": {
            "text/plain": [
              "<Figure size 1000x500 with 0 Axes>"
            ]
          },
          "metadata": {}
        },
        {
          "output_type": "display_data",
          "data": {
            "text/plain": [
              "<Figure size 1000x500 with 0 Axes>"
            ]
          },
          "metadata": {}
        },
        {
          "output_type": "display_data",
          "data": {
            "text/plain": [
              "<Figure size 1000x500 with 0 Axes>"
            ]
          },
          "metadata": {}
        },
        {
          "output_type": "display_data",
          "data": {
            "text/plain": [
              "<Figure size 1000x500 with 0 Axes>"
            ]
          },
          "metadata": {}
        },
        {
          "output_type": "display_data",
          "data": {
            "text/plain": [
              "<Figure size 1000x500 with 0 Axes>"
            ]
          },
          "metadata": {}
        },
        {
          "output_type": "display_data",
          "data": {
            "text/plain": [
              "<Figure size 1000x500 with 0 Axes>"
            ]
          },
          "metadata": {}
        },
        {
          "output_type": "display_data",
          "data": {
            "text/plain": [
              "<Figure size 1000x500 with 0 Axes>"
            ]
          },
          "metadata": {}
        },
        {
          "output_type": "display_data",
          "data": {
            "text/plain": [
              "<Figure size 1000x500 with 0 Axes>"
            ]
          },
          "metadata": {}
        },
        {
          "output_type": "display_data",
          "data": {
            "text/plain": [
              "<Figure size 1000x500 with 0 Axes>"
            ]
          },
          "metadata": {}
        },
        {
          "output_type": "display_data",
          "data": {
            "text/plain": [
              "<Figure size 1000x500 with 0 Axes>"
            ]
          },
          "metadata": {}
        },
        {
          "output_type": "display_data",
          "data": {
            "text/plain": [
              "<Figure size 1000x500 with 0 Axes>"
            ]
          },
          "metadata": {}
        },
        {
          "output_type": "display_data",
          "data": {
            "text/plain": [
              "<Figure size 1000x500 with 0 Axes>"
            ]
          },
          "metadata": {}
        },
        {
          "output_type": "display_data",
          "data": {
            "text/plain": [
              "<Figure size 1000x500 with 0 Axes>"
            ]
          },
          "metadata": {}
        },
        {
          "output_type": "display_data",
          "data": {
            "text/plain": [
              "<Figure size 1000x500 with 0 Axes>"
            ]
          },
          "metadata": {}
        },
        {
          "output_type": "display_data",
          "data": {
            "text/plain": [
              "<Figure size 1000x500 with 0 Axes>"
            ]
          },
          "metadata": {}
        },
        {
          "output_type": "display_data",
          "data": {
            "text/plain": [
              "<Figure size 1000x500 with 0 Axes>"
            ]
          },
          "metadata": {}
        },
        {
          "output_type": "display_data",
          "data": {
            "text/plain": [
              "<Figure size 1000x500 with 0 Axes>"
            ]
          },
          "metadata": {}
        },
        {
          "output_type": "display_data",
          "data": {
            "text/plain": [
              "<Figure size 1000x500 with 0 Axes>"
            ]
          },
          "metadata": {}
        },
        {
          "output_type": "display_data",
          "data": {
            "text/plain": [
              "<Figure size 1000x500 with 0 Axes>"
            ]
          },
          "metadata": {}
        },
        {
          "output_type": "display_data",
          "data": {
            "text/plain": [
              "<Figure size 1000x500 with 0 Axes>"
            ]
          },
          "metadata": {}
        },
        {
          "output_type": "display_data",
          "data": {
            "text/plain": [
              "<Figure size 1000x500 with 0 Axes>"
            ]
          },
          "metadata": {}
        },
        {
          "output_type": "display_data",
          "data": {
            "text/plain": [
              "<Figure size 1000x500 with 0 Axes>"
            ]
          },
          "metadata": {}
        },
        {
          "output_type": "display_data",
          "data": {
            "text/plain": [
              "<Figure size 1000x500 with 0 Axes>"
            ]
          },
          "metadata": {}
        },
        {
          "output_type": "display_data",
          "data": {
            "text/plain": [
              "<Figure size 1000x500 with 0 Axes>"
            ]
          },
          "metadata": {}
        },
        {
          "output_type": "display_data",
          "data": {
            "text/plain": [
              "<Figure size 1000x500 with 0 Axes>"
            ]
          },
          "metadata": {}
        },
        {
          "output_type": "display_data",
          "data": {
            "text/plain": [
              "<Figure size 1000x500 with 0 Axes>"
            ]
          },
          "metadata": {}
        },
        {
          "output_type": "display_data",
          "data": {
            "text/plain": [
              "<Figure size 1000x500 with 0 Axes>"
            ]
          },
          "metadata": {}
        },
        {
          "output_type": "display_data",
          "data": {
            "text/plain": [
              "<Figure size 1000x500 with 0 Axes>"
            ]
          },
          "metadata": {}
        },
        {
          "output_type": "display_data",
          "data": {
            "text/plain": [
              "<Figure size 1000x500 with 0 Axes>"
            ]
          },
          "metadata": {}
        },
        {
          "output_type": "display_data",
          "data": {
            "text/plain": [
              "<Figure size 1000x500 with 0 Axes>"
            ]
          },
          "metadata": {}
        },
        {
          "output_type": "display_data",
          "data": {
            "text/plain": [
              "<Figure size 1000x500 with 0 Axes>"
            ]
          },
          "metadata": {}
        },
        {
          "output_type": "display_data",
          "data": {
            "text/plain": [
              "<Figure size 1000x500 with 0 Axes>"
            ]
          },
          "metadata": {}
        },
        {
          "output_type": "display_data",
          "data": {
            "text/plain": [
              "<Figure size 1000x500 with 0 Axes>"
            ]
          },
          "metadata": {}
        },
        {
          "output_type": "display_data",
          "data": {
            "text/plain": [
              "<Figure size 1000x500 with 0 Axes>"
            ]
          },
          "metadata": {}
        },
        {
          "output_type": "display_data",
          "data": {
            "text/plain": [
              "<Figure size 1000x500 with 0 Axes>"
            ]
          },
          "metadata": {}
        },
        {
          "output_type": "display_data",
          "data": {
            "text/plain": [
              "<Figure size 1000x500 with 0 Axes>"
            ]
          },
          "metadata": {}
        },
        {
          "output_type": "display_data",
          "data": {
            "text/plain": [
              "<Figure size 1000x500 with 0 Axes>"
            ]
          },
          "metadata": {}
        },
        {
          "output_type": "display_data",
          "data": {
            "text/plain": [
              "<Figure size 1000x500 with 0 Axes>"
            ]
          },
          "metadata": {}
        },
        {
          "output_type": "display_data",
          "data": {
            "text/plain": [
              "<Figure size 1000x500 with 0 Axes>"
            ]
          },
          "metadata": {}
        },
        {
          "output_type": "display_data",
          "data": {
            "text/plain": [
              "<Figure size 1000x500 with 0 Axes>"
            ]
          },
          "metadata": {}
        },
        {
          "output_type": "display_data",
          "data": {
            "text/plain": [
              "<Figure size 1000x500 with 0 Axes>"
            ]
          },
          "metadata": {}
        },
        {
          "output_type": "display_data",
          "data": {
            "text/plain": [
              "<Figure size 1000x500 with 0 Axes>"
            ]
          },
          "metadata": {}
        },
        {
          "output_type": "display_data",
          "data": {
            "text/plain": [
              "<Figure size 1000x500 with 0 Axes>"
            ]
          },
          "metadata": {}
        },
        {
          "output_type": "display_data",
          "data": {
            "text/plain": [
              "<Figure size 1000x500 with 0 Axes>"
            ]
          },
          "metadata": {}
        },
        {
          "output_type": "display_data",
          "data": {
            "text/plain": [
              "<Figure size 1000x500 with 0 Axes>"
            ]
          },
          "metadata": {}
        },
        {
          "output_type": "display_data",
          "data": {
            "text/plain": [
              "<Figure size 1000x500 with 0 Axes>"
            ]
          },
          "metadata": {}
        },
        {
          "output_type": "display_data",
          "data": {
            "text/plain": [
              "<Figure size 1000x500 with 0 Axes>"
            ]
          },
          "metadata": {}
        },
        {
          "output_type": "display_data",
          "data": {
            "text/plain": [
              "<Figure size 1000x500 with 0 Axes>"
            ]
          },
          "metadata": {}
        },
        {
          "output_type": "display_data",
          "data": {
            "text/plain": [
              "<Figure size 1000x500 with 0 Axes>"
            ]
          },
          "metadata": {}
        },
        {
          "output_type": "display_data",
          "data": {
            "text/plain": [
              "<Figure size 1000x500 with 0 Axes>"
            ]
          },
          "metadata": {}
        },
        {
          "output_type": "display_data",
          "data": {
            "text/plain": [
              "<Figure size 1000x500 with 0 Axes>"
            ]
          },
          "metadata": {}
        },
        {
          "output_type": "display_data",
          "data": {
            "text/plain": [
              "<Figure size 1000x500 with 0 Axes>"
            ]
          },
          "metadata": {}
        },
        {
          "output_type": "display_data",
          "data": {
            "text/plain": [
              "<Figure size 1000x500 with 0 Axes>"
            ]
          },
          "metadata": {}
        },
        {
          "output_type": "display_data",
          "data": {
            "text/plain": [
              "<Figure size 1000x500 with 0 Axes>"
            ]
          },
          "metadata": {}
        },
        {
          "output_type": "display_data",
          "data": {
            "text/plain": [
              "<Figure size 1000x500 with 0 Axes>"
            ]
          },
          "metadata": {}
        },
        {
          "output_type": "display_data",
          "data": {
            "text/plain": [
              "<Figure size 1000x500 with 0 Axes>"
            ]
          },
          "metadata": {}
        },
        {
          "output_type": "display_data",
          "data": {
            "text/plain": [
              "<Figure size 1000x500 with 0 Axes>"
            ]
          },
          "metadata": {}
        },
        {
          "output_type": "display_data",
          "data": {
            "text/plain": [
              "<Figure size 1000x500 with 0 Axes>"
            ]
          },
          "metadata": {}
        },
        {
          "output_type": "display_data",
          "data": {
            "text/plain": [
              "<Figure size 1000x500 with 0 Axes>"
            ]
          },
          "metadata": {}
        },
        {
          "output_type": "display_data",
          "data": {
            "text/plain": [
              "<Figure size 1000x500 with 0 Axes>"
            ]
          },
          "metadata": {}
        },
        {
          "output_type": "display_data",
          "data": {
            "text/plain": [
              "<Figure size 1000x500 with 0 Axes>"
            ]
          },
          "metadata": {}
        },
        {
          "output_type": "display_data",
          "data": {
            "text/plain": [
              "<Figure size 1000x500 with 0 Axes>"
            ]
          },
          "metadata": {}
        },
        {
          "output_type": "display_data",
          "data": {
            "text/plain": [
              "<Figure size 1000x500 with 0 Axes>"
            ]
          },
          "metadata": {}
        },
        {
          "output_type": "display_data",
          "data": {
            "text/plain": [
              "<Figure size 1000x500 with 0 Axes>"
            ]
          },
          "metadata": {}
        },
        {
          "output_type": "display_data",
          "data": {
            "text/plain": [
              "<Figure size 1000x500 with 0 Axes>"
            ]
          },
          "metadata": {}
        },
        {
          "output_type": "display_data",
          "data": {
            "text/plain": [
              "<Figure size 1000x500 with 0 Axes>"
            ]
          },
          "metadata": {}
        },
        {
          "output_type": "display_data",
          "data": {
            "text/plain": [
              "<Figure size 1000x500 with 0 Axes>"
            ]
          },
          "metadata": {}
        },
        {
          "output_type": "display_data",
          "data": {
            "text/plain": [
              "<Figure size 1000x500 with 0 Axes>"
            ]
          },
          "metadata": {}
        },
        {
          "output_type": "display_data",
          "data": {
            "text/plain": [
              "<Figure size 1000x500 with 0 Axes>"
            ]
          },
          "metadata": {}
        },
        {
          "output_type": "display_data",
          "data": {
            "text/plain": [
              "<Figure size 1000x500 with 0 Axes>"
            ]
          },
          "metadata": {}
        },
        {
          "output_type": "display_data",
          "data": {
            "text/plain": [
              "<Figure size 1000x500 with 0 Axes>"
            ]
          },
          "metadata": {}
        },
        {
          "output_type": "display_data",
          "data": {
            "text/plain": [
              "<Figure size 1000x500 with 0 Axes>"
            ]
          },
          "metadata": {}
        },
        {
          "output_type": "display_data",
          "data": {
            "text/plain": [
              "<Figure size 1000x500 with 0 Axes>"
            ]
          },
          "metadata": {}
        },
        {
          "output_type": "display_data",
          "data": {
            "text/plain": [
              "<Figure size 1000x500 with 0 Axes>"
            ]
          },
          "metadata": {}
        },
        {
          "output_type": "display_data",
          "data": {
            "text/plain": [
              "<Figure size 1000x500 with 0 Axes>"
            ]
          },
          "metadata": {}
        },
        {
          "output_type": "display_data",
          "data": {
            "text/plain": [
              "<Figure size 1000x500 with 0 Axes>"
            ]
          },
          "metadata": {}
        },
        {
          "output_type": "display_data",
          "data": {
            "text/plain": [
              "<Figure size 1000x500 with 0 Axes>"
            ]
          },
          "metadata": {}
        },
        {
          "output_type": "display_data",
          "data": {
            "text/plain": [
              "<Figure size 1000x500 with 0 Axes>"
            ]
          },
          "metadata": {}
        },
        {
          "output_type": "display_data",
          "data": {
            "text/plain": [
              "<Figure size 1000x500 with 0 Axes>"
            ]
          },
          "metadata": {}
        },
        {
          "output_type": "display_data",
          "data": {
            "text/plain": [
              "<Figure size 1000x500 with 0 Axes>"
            ]
          },
          "metadata": {}
        },
        {
          "output_type": "display_data",
          "data": {
            "text/plain": [
              "<Figure size 1000x500 with 0 Axes>"
            ]
          },
          "metadata": {}
        },
        {
          "output_type": "display_data",
          "data": {
            "text/plain": [
              "<Figure size 1000x500 with 0 Axes>"
            ]
          },
          "metadata": {}
        },
        {
          "output_type": "display_data",
          "data": {
            "text/plain": [
              "<Figure size 1000x500 with 0 Axes>"
            ]
          },
          "metadata": {}
        },
        {
          "output_type": "display_data",
          "data": {
            "text/plain": [
              "<Figure size 1000x500 with 0 Axes>"
            ]
          },
          "metadata": {}
        },
        {
          "output_type": "display_data",
          "data": {
            "text/plain": [
              "<Figure size 1000x500 with 0 Axes>"
            ]
          },
          "metadata": {}
        },
        {
          "output_type": "display_data",
          "data": {
            "text/plain": [
              "<Figure size 1000x500 with 0 Axes>"
            ]
          },
          "metadata": {}
        },
        {
          "output_type": "display_data",
          "data": {
            "text/plain": [
              "<Figure size 1000x500 with 0 Axes>"
            ]
          },
          "metadata": {}
        },
        {
          "output_type": "display_data",
          "data": {
            "text/plain": [
              "<Figure size 1000x500 with 0 Axes>"
            ]
          },
          "metadata": {}
        },
        {
          "output_type": "display_data",
          "data": {
            "text/plain": [
              "<Figure size 1000x500 with 0 Axes>"
            ]
          },
          "metadata": {}
        },
        {
          "output_type": "display_data",
          "data": {
            "text/plain": [
              "<Figure size 1000x500 with 0 Axes>"
            ]
          },
          "metadata": {}
        },
        {
          "output_type": "display_data",
          "data": {
            "text/plain": [
              "<Figure size 1000x500 with 0 Axes>"
            ]
          },
          "metadata": {}
        },
        {
          "output_type": "display_data",
          "data": {
            "text/plain": [
              "<Figure size 1000x500 with 0 Axes>"
            ]
          },
          "metadata": {}
        },
        {
          "output_type": "display_data",
          "data": {
            "text/plain": [
              "<Figure size 1000x500 with 0 Axes>"
            ]
          },
          "metadata": {}
        },
        {
          "output_type": "display_data",
          "data": {
            "text/plain": [
              "<Figure size 1000x500 with 0 Axes>"
            ]
          },
          "metadata": {}
        },
        {
          "output_type": "display_data",
          "data": {
            "text/plain": [
              "<Figure size 1000x500 with 0 Axes>"
            ]
          },
          "metadata": {}
        },
        {
          "output_type": "display_data",
          "data": {
            "text/plain": [
              "<Figure size 1000x500 with 0 Axes>"
            ]
          },
          "metadata": {}
        },
        {
          "output_type": "display_data",
          "data": {
            "text/plain": [
              "<Figure size 1000x500 with 0 Axes>"
            ]
          },
          "metadata": {}
        },
        {
          "output_type": "display_data",
          "data": {
            "text/plain": [
              "<Figure size 1000x500 with 0 Axes>"
            ]
          },
          "metadata": {}
        },
        {
          "output_type": "display_data",
          "data": {
            "text/plain": [
              "<Figure size 1000x500 with 0 Axes>"
            ]
          },
          "metadata": {}
        },
        {
          "output_type": "display_data",
          "data": {
            "text/plain": [
              "<Figure size 1000x500 with 0 Axes>"
            ]
          },
          "metadata": {}
        },
        {
          "output_type": "display_data",
          "data": {
            "text/plain": [
              "<Figure size 1000x500 with 0 Axes>"
            ]
          },
          "metadata": {}
        },
        {
          "output_type": "display_data",
          "data": {
            "text/plain": [
              "<Figure size 1000x500 with 0 Axes>"
            ]
          },
          "metadata": {}
        },
        {
          "output_type": "display_data",
          "data": {
            "text/plain": [
              "<Figure size 1000x500 with 0 Axes>"
            ]
          },
          "metadata": {}
        },
        {
          "output_type": "display_data",
          "data": {
            "text/plain": [
              "<Figure size 1000x500 with 0 Axes>"
            ]
          },
          "metadata": {}
        },
        {
          "output_type": "display_data",
          "data": {
            "text/plain": [
              "<Figure size 1000x500 with 0 Axes>"
            ]
          },
          "metadata": {}
        },
        {
          "output_type": "display_data",
          "data": {
            "text/plain": [
              "<Figure size 1000x500 with 0 Axes>"
            ]
          },
          "metadata": {}
        },
        {
          "output_type": "display_data",
          "data": {
            "text/plain": [
              "<Figure size 1000x500 with 0 Axes>"
            ]
          },
          "metadata": {}
        },
        {
          "output_type": "display_data",
          "data": {
            "text/plain": [
              "<Figure size 1000x500 with 0 Axes>"
            ]
          },
          "metadata": {}
        },
        {
          "output_type": "display_data",
          "data": {
            "text/plain": [
              "<Figure size 1000x500 with 0 Axes>"
            ]
          },
          "metadata": {}
        },
        {
          "output_type": "display_data",
          "data": {
            "text/plain": [
              "<Figure size 1000x500 with 0 Axes>"
            ]
          },
          "metadata": {}
        },
        {
          "output_type": "display_data",
          "data": {
            "text/plain": [
              "<Figure size 1000x500 with 0 Axes>"
            ]
          },
          "metadata": {}
        },
        {
          "output_type": "display_data",
          "data": {
            "text/plain": [
              "<Figure size 1000x500 with 0 Axes>"
            ]
          },
          "metadata": {}
        },
        {
          "output_type": "display_data",
          "data": {
            "text/plain": [
              "<Figure size 1000x500 with 0 Axes>"
            ]
          },
          "metadata": {}
        },
        {
          "output_type": "display_data",
          "data": {
            "text/plain": [
              "<Figure size 1000x500 with 0 Axes>"
            ]
          },
          "metadata": {}
        },
        {
          "output_type": "display_data",
          "data": {
            "text/plain": [
              "<Figure size 1000x500 with 0 Axes>"
            ]
          },
          "metadata": {}
        },
        {
          "output_type": "display_data",
          "data": {
            "text/plain": [
              "<Figure size 1000x500 with 0 Axes>"
            ]
          },
          "metadata": {}
        },
        {
          "output_type": "display_data",
          "data": {
            "text/plain": [
              "<Figure size 1000x500 with 0 Axes>"
            ]
          },
          "metadata": {}
        },
        {
          "output_type": "display_data",
          "data": {
            "text/plain": [
              "<Figure size 1000x500 with 0 Axes>"
            ]
          },
          "metadata": {}
        },
        {
          "output_type": "display_data",
          "data": {
            "text/plain": [
              "<Figure size 1000x500 with 0 Axes>"
            ]
          },
          "metadata": {}
        },
        {
          "output_type": "display_data",
          "data": {
            "text/plain": [
              "<Figure size 1000x500 with 0 Axes>"
            ]
          },
          "metadata": {}
        },
        {
          "output_type": "display_data",
          "data": {
            "text/plain": [
              "<Figure size 1000x500 with 0 Axes>"
            ]
          },
          "metadata": {}
        },
        {
          "output_type": "display_data",
          "data": {
            "text/plain": [
              "<Figure size 1000x500 with 0 Axes>"
            ]
          },
          "metadata": {}
        },
        {
          "output_type": "display_data",
          "data": {
            "text/plain": [
              "<Figure size 1000x500 with 0 Axes>"
            ]
          },
          "metadata": {}
        },
        {
          "output_type": "display_data",
          "data": {
            "text/plain": [
              "<Figure size 1000x500 with 0 Axes>"
            ]
          },
          "metadata": {}
        },
        {
          "output_type": "display_data",
          "data": {
            "text/plain": [
              "<Figure size 1000x500 with 0 Axes>"
            ]
          },
          "metadata": {}
        },
        {
          "output_type": "display_data",
          "data": {
            "text/plain": [
              "<Figure size 1000x500 with 0 Axes>"
            ]
          },
          "metadata": {}
        },
        {
          "output_type": "display_data",
          "data": {
            "text/plain": [
              "<Figure size 1000x500 with 0 Axes>"
            ]
          },
          "metadata": {}
        },
        {
          "output_type": "display_data",
          "data": {
            "text/plain": [
              "<Figure size 1000x500 with 0 Axes>"
            ]
          },
          "metadata": {}
        },
        {
          "output_type": "display_data",
          "data": {
            "text/plain": [
              "<Figure size 1000x500 with 0 Axes>"
            ]
          },
          "metadata": {}
        },
        {
          "output_type": "display_data",
          "data": {
            "text/plain": [
              "<Figure size 1000x500 with 0 Axes>"
            ]
          },
          "metadata": {}
        },
        {
          "output_type": "display_data",
          "data": {
            "text/plain": [
              "<Figure size 1000x500 with 0 Axes>"
            ]
          },
          "metadata": {}
        },
        {
          "output_type": "display_data",
          "data": {
            "text/plain": [
              "<Figure size 1000x500 with 0 Axes>"
            ]
          },
          "metadata": {}
        },
        {
          "output_type": "display_data",
          "data": {
            "text/plain": [
              "<Figure size 1000x500 with 0 Axes>"
            ]
          },
          "metadata": {}
        },
        {
          "output_type": "display_data",
          "data": {
            "text/plain": [
              "<Figure size 1000x500 with 0 Axes>"
            ]
          },
          "metadata": {}
        },
        {
          "output_type": "display_data",
          "data": {
            "text/plain": [
              "<Figure size 1000x500 with 0 Axes>"
            ]
          },
          "metadata": {}
        },
        {
          "output_type": "display_data",
          "data": {
            "text/plain": [
              "<Figure size 1000x500 with 0 Axes>"
            ]
          },
          "metadata": {}
        },
        {
          "output_type": "display_data",
          "data": {
            "text/plain": [
              "<Figure size 1000x500 with 0 Axes>"
            ]
          },
          "metadata": {}
        },
        {
          "output_type": "display_data",
          "data": {
            "text/plain": [
              "<Figure size 1000x500 with 0 Axes>"
            ]
          },
          "metadata": {}
        },
        {
          "output_type": "display_data",
          "data": {
            "text/plain": [
              "<Figure size 1000x500 with 0 Axes>"
            ]
          },
          "metadata": {}
        },
        {
          "output_type": "display_data",
          "data": {
            "text/plain": [
              "<Figure size 1000x500 with 0 Axes>"
            ]
          },
          "metadata": {}
        },
        {
          "output_type": "display_data",
          "data": {
            "text/plain": [
              "<Figure size 1000x500 with 0 Axes>"
            ]
          },
          "metadata": {}
        },
        {
          "output_type": "display_data",
          "data": {
            "text/plain": [
              "<Figure size 1000x500 with 0 Axes>"
            ]
          },
          "metadata": {}
        },
        {
          "output_type": "display_data",
          "data": {
            "text/plain": [
              "<Figure size 1000x500 with 0 Axes>"
            ]
          },
          "metadata": {}
        },
        {
          "output_type": "display_data",
          "data": {
            "text/plain": [
              "<Figure size 1000x500 with 0 Axes>"
            ]
          },
          "metadata": {}
        },
        {
          "output_type": "display_data",
          "data": {
            "text/plain": [
              "<Figure size 1000x500 with 0 Axes>"
            ]
          },
          "metadata": {}
        },
        {
          "output_type": "display_data",
          "data": {
            "text/plain": [
              "<Figure size 1000x500 with 0 Axes>"
            ]
          },
          "metadata": {}
        },
        {
          "output_type": "display_data",
          "data": {
            "text/plain": [
              "<Figure size 1000x500 with 0 Axes>"
            ]
          },
          "metadata": {}
        },
        {
          "output_type": "display_data",
          "data": {
            "text/plain": [
              "<Figure size 1000x500 with 0 Axes>"
            ]
          },
          "metadata": {}
        },
        {
          "output_type": "display_data",
          "data": {
            "text/plain": [
              "<Figure size 1000x500 with 0 Axes>"
            ]
          },
          "metadata": {}
        },
        {
          "output_type": "display_data",
          "data": {
            "text/plain": [
              "<Figure size 1000x500 with 0 Axes>"
            ]
          },
          "metadata": {}
        },
        {
          "output_type": "display_data",
          "data": {
            "text/plain": [
              "<Figure size 1000x500 with 0 Axes>"
            ]
          },
          "metadata": {}
        },
        {
          "output_type": "display_data",
          "data": {
            "text/plain": [
              "<Figure size 1000x500 with 0 Axes>"
            ]
          },
          "metadata": {}
        },
        {
          "output_type": "display_data",
          "data": {
            "text/plain": [
              "<Figure size 1000x500 with 0 Axes>"
            ]
          },
          "metadata": {}
        },
        {
          "output_type": "display_data",
          "data": {
            "text/plain": [
              "<Figure size 1000x500 with 0 Axes>"
            ]
          },
          "metadata": {}
        },
        {
          "output_type": "display_data",
          "data": {
            "text/plain": [
              "<Figure size 1000x500 with 0 Axes>"
            ]
          },
          "metadata": {}
        },
        {
          "output_type": "display_data",
          "data": {
            "text/plain": [
              "<Figure size 1000x500 with 0 Axes>"
            ]
          },
          "metadata": {}
        },
        {
          "output_type": "display_data",
          "data": {
            "text/plain": [
              "<Figure size 1000x500 with 0 Axes>"
            ]
          },
          "metadata": {}
        },
        {
          "output_type": "display_data",
          "data": {
            "text/plain": [
              "<Figure size 1000x500 with 0 Axes>"
            ]
          },
          "metadata": {}
        },
        {
          "output_type": "display_data",
          "data": {
            "text/plain": [
              "<Figure size 1000x500 with 0 Axes>"
            ]
          },
          "metadata": {}
        },
        {
          "output_type": "display_data",
          "data": {
            "text/plain": [
              "<Figure size 1000x500 with 0 Axes>"
            ]
          },
          "metadata": {}
        },
        {
          "output_type": "display_data",
          "data": {
            "text/plain": [
              "<Figure size 1000x500 with 0 Axes>"
            ]
          },
          "metadata": {}
        },
        {
          "output_type": "display_data",
          "data": {
            "text/plain": [
              "<Figure size 1000x500 with 0 Axes>"
            ]
          },
          "metadata": {}
        },
        {
          "output_type": "display_data",
          "data": {
            "text/plain": [
              "<Figure size 1000x500 with 0 Axes>"
            ]
          },
          "metadata": {}
        },
        {
          "output_type": "display_data",
          "data": {
            "text/plain": [
              "<Figure size 1000x500 with 0 Axes>"
            ]
          },
          "metadata": {}
        },
        {
          "output_type": "display_data",
          "data": {
            "text/plain": [
              "<Figure size 1000x500 with 0 Axes>"
            ]
          },
          "metadata": {}
        },
        {
          "output_type": "display_data",
          "data": {
            "text/plain": [
              "<Figure size 1000x500 with 0 Axes>"
            ]
          },
          "metadata": {}
        },
        {
          "output_type": "display_data",
          "data": {
            "text/plain": [
              "<Figure size 1000x500 with 0 Axes>"
            ]
          },
          "metadata": {}
        },
        {
          "output_type": "display_data",
          "data": {
            "text/plain": [
              "<Figure size 1000x500 with 0 Axes>"
            ]
          },
          "metadata": {}
        },
        {
          "output_type": "display_data",
          "data": {
            "text/plain": [
              "<Figure size 1000x500 with 0 Axes>"
            ]
          },
          "metadata": {}
        },
        {
          "output_type": "display_data",
          "data": {
            "text/plain": [
              "<Figure size 1000x500 with 0 Axes>"
            ]
          },
          "metadata": {}
        },
        {
          "output_type": "display_data",
          "data": {
            "text/plain": [
              "<Figure size 1000x500 with 0 Axes>"
            ]
          },
          "metadata": {}
        },
        {
          "output_type": "display_data",
          "data": {
            "text/plain": [
              "<Figure size 1000x500 with 0 Axes>"
            ]
          },
          "metadata": {}
        },
        {
          "output_type": "display_data",
          "data": {
            "text/plain": [
              "<Figure size 1000x500 with 0 Axes>"
            ]
          },
          "metadata": {}
        },
        {
          "output_type": "display_data",
          "data": {
            "text/plain": [
              "<Figure size 1000x500 with 0 Axes>"
            ]
          },
          "metadata": {}
        },
        {
          "output_type": "display_data",
          "data": {
            "text/plain": [
              "<Figure size 1000x500 with 0 Axes>"
            ]
          },
          "metadata": {}
        },
        {
          "output_type": "display_data",
          "data": {
            "text/plain": [
              "<Figure size 1000x500 with 0 Axes>"
            ]
          },
          "metadata": {}
        },
        {
          "output_type": "display_data",
          "data": {
            "text/plain": [
              "<Figure size 1000x500 with 0 Axes>"
            ]
          },
          "metadata": {}
        },
        {
          "output_type": "display_data",
          "data": {
            "text/plain": [
              "<Figure size 1000x500 with 0 Axes>"
            ]
          },
          "metadata": {}
        },
        {
          "output_type": "display_data",
          "data": {
            "text/plain": [
              "<Figure size 1000x500 with 0 Axes>"
            ]
          },
          "metadata": {}
        },
        {
          "output_type": "display_data",
          "data": {
            "text/plain": [
              "<Figure size 1000x500 with 0 Axes>"
            ]
          },
          "metadata": {}
        },
        {
          "output_type": "display_data",
          "data": {
            "text/plain": [
              "<Figure size 1000x500 with 0 Axes>"
            ]
          },
          "metadata": {}
        },
        {
          "output_type": "display_data",
          "data": {
            "text/plain": [
              "<Figure size 1000x500 with 0 Axes>"
            ]
          },
          "metadata": {}
        },
        {
          "output_type": "display_data",
          "data": {
            "text/plain": [
              "<Figure size 1000x500 with 0 Axes>"
            ]
          },
          "metadata": {}
        },
        {
          "output_type": "display_data",
          "data": {
            "text/plain": [
              "<Figure size 1000x500 with 0 Axes>"
            ]
          },
          "metadata": {}
        },
        {
          "output_type": "display_data",
          "data": {
            "text/plain": [
              "<Figure size 1000x500 with 0 Axes>"
            ]
          },
          "metadata": {}
        },
        {
          "output_type": "display_data",
          "data": {
            "text/plain": [
              "<Figure size 1000x500 with 0 Axes>"
            ]
          },
          "metadata": {}
        },
        {
          "output_type": "display_data",
          "data": {
            "text/plain": [
              "<Figure size 1000x500 with 0 Axes>"
            ]
          },
          "metadata": {}
        },
        {
          "output_type": "display_data",
          "data": {
            "text/plain": [
              "<Figure size 1000x500 with 0 Axes>"
            ]
          },
          "metadata": {}
        },
        {
          "output_type": "display_data",
          "data": {
            "text/plain": [
              "<Figure size 1000x500 with 0 Axes>"
            ]
          },
          "metadata": {}
        },
        {
          "output_type": "display_data",
          "data": {
            "text/plain": [
              "<Figure size 1000x500 with 0 Axes>"
            ]
          },
          "metadata": {}
        },
        {
          "output_type": "display_data",
          "data": {
            "text/plain": [
              "<Figure size 1000x500 with 0 Axes>"
            ]
          },
          "metadata": {}
        },
        {
          "output_type": "display_data",
          "data": {
            "text/plain": [
              "<Figure size 1000x500 with 0 Axes>"
            ]
          },
          "metadata": {}
        },
        {
          "output_type": "display_data",
          "data": {
            "text/plain": [
              "<Figure size 1000x500 with 0 Axes>"
            ]
          },
          "metadata": {}
        },
        {
          "output_type": "display_data",
          "data": {
            "text/plain": [
              "<Figure size 1000x500 with 0 Axes>"
            ]
          },
          "metadata": {}
        },
        {
          "output_type": "display_data",
          "data": {
            "text/plain": [
              "<Figure size 1000x500 with 0 Axes>"
            ]
          },
          "metadata": {}
        },
        {
          "output_type": "display_data",
          "data": {
            "text/plain": [
              "<Figure size 1000x500 with 0 Axes>"
            ]
          },
          "metadata": {}
        },
        {
          "output_type": "display_data",
          "data": {
            "text/plain": [
              "<Figure size 1000x500 with 0 Axes>"
            ]
          },
          "metadata": {}
        },
        {
          "output_type": "display_data",
          "data": {
            "text/plain": [
              "<Figure size 1000x500 with 0 Axes>"
            ]
          },
          "metadata": {}
        },
        {
          "output_type": "display_data",
          "data": {
            "text/plain": [
              "<Figure size 1000x500 with 0 Axes>"
            ]
          },
          "metadata": {}
        },
        {
          "output_type": "display_data",
          "data": {
            "text/plain": [
              "<Figure size 1000x500 with 0 Axes>"
            ]
          },
          "metadata": {}
        },
        {
          "output_type": "display_data",
          "data": {
            "text/plain": [
              "<Figure size 1000x500 with 0 Axes>"
            ]
          },
          "metadata": {}
        },
        {
          "output_type": "display_data",
          "data": {
            "text/plain": [
              "<Figure size 1000x500 with 0 Axes>"
            ]
          },
          "metadata": {}
        },
        {
          "output_type": "display_data",
          "data": {
            "text/plain": [
              "<Figure size 1000x500 with 0 Axes>"
            ]
          },
          "metadata": {}
        },
        {
          "output_type": "display_data",
          "data": {
            "text/plain": [
              "<Figure size 1000x500 with 0 Axes>"
            ]
          },
          "metadata": {}
        },
        {
          "output_type": "display_data",
          "data": {
            "text/plain": [
              "<Figure size 1000x500 with 0 Axes>"
            ]
          },
          "metadata": {}
        },
        {
          "output_type": "display_data",
          "data": {
            "text/plain": [
              "<Figure size 1000x500 with 0 Axes>"
            ]
          },
          "metadata": {}
        },
        {
          "output_type": "display_data",
          "data": {
            "text/plain": [
              "<Figure size 1000x500 with 0 Axes>"
            ]
          },
          "metadata": {}
        },
        {
          "output_type": "display_data",
          "data": {
            "text/plain": [
              "<Figure size 1000x500 with 0 Axes>"
            ]
          },
          "metadata": {}
        },
        {
          "output_type": "display_data",
          "data": {
            "text/plain": [
              "<Figure size 1000x500 with 0 Axes>"
            ]
          },
          "metadata": {}
        },
        {
          "output_type": "display_data",
          "data": {
            "text/plain": [
              "<Figure size 1000x500 with 0 Axes>"
            ]
          },
          "metadata": {}
        },
        {
          "output_type": "display_data",
          "data": {
            "text/plain": [
              "<Figure size 1000x500 with 0 Axes>"
            ]
          },
          "metadata": {}
        },
        {
          "output_type": "display_data",
          "data": {
            "text/plain": [
              "<Figure size 1000x500 with 0 Axes>"
            ]
          },
          "metadata": {}
        },
        {
          "output_type": "display_data",
          "data": {
            "text/plain": [
              "<Figure size 1000x500 with 0 Axes>"
            ]
          },
          "metadata": {}
        },
        {
          "output_type": "display_data",
          "data": {
            "text/plain": [
              "<Figure size 1000x500 with 0 Axes>"
            ]
          },
          "metadata": {}
        },
        {
          "output_type": "display_data",
          "data": {
            "text/plain": [
              "<Figure size 1000x500 with 0 Axes>"
            ]
          },
          "metadata": {}
        },
        {
          "output_type": "display_data",
          "data": {
            "text/plain": [
              "<Figure size 1000x500 with 0 Axes>"
            ]
          },
          "metadata": {}
        },
        {
          "output_type": "display_data",
          "data": {
            "text/plain": [
              "<Figure size 1000x500 with 0 Axes>"
            ]
          },
          "metadata": {}
        },
        {
          "output_type": "display_data",
          "data": {
            "text/plain": [
              "<Figure size 1000x500 with 0 Axes>"
            ]
          },
          "metadata": {}
        },
        {
          "output_type": "display_data",
          "data": {
            "text/plain": [
              "<Figure size 1000x500 with 0 Axes>"
            ]
          },
          "metadata": {}
        },
        {
          "output_type": "display_data",
          "data": {
            "text/plain": [
              "<Figure size 1000x500 with 0 Axes>"
            ]
          },
          "metadata": {}
        },
        {
          "output_type": "display_data",
          "data": {
            "text/plain": [
              "<Figure size 1000x500 with 0 Axes>"
            ]
          },
          "metadata": {}
        },
        {
          "output_type": "display_data",
          "data": {
            "text/plain": [
              "<Figure size 1000x500 with 0 Axes>"
            ]
          },
          "metadata": {}
        },
        {
          "output_type": "display_data",
          "data": {
            "text/plain": [
              "<Figure size 1000x500 with 0 Axes>"
            ]
          },
          "metadata": {}
        },
        {
          "output_type": "display_data",
          "data": {
            "text/plain": [
              "<Figure size 1000x500 with 0 Axes>"
            ]
          },
          "metadata": {}
        },
        {
          "output_type": "display_data",
          "data": {
            "text/plain": [
              "<Figure size 1000x500 with 0 Axes>"
            ]
          },
          "metadata": {}
        },
        {
          "output_type": "display_data",
          "data": {
            "text/plain": [
              "<Figure size 1000x500 with 0 Axes>"
            ]
          },
          "metadata": {}
        },
        {
          "output_type": "display_data",
          "data": {
            "text/plain": [
              "<Figure size 1000x500 with 0 Axes>"
            ]
          },
          "metadata": {}
        },
        {
          "output_type": "display_data",
          "data": {
            "text/plain": [
              "<Figure size 1000x500 with 0 Axes>"
            ]
          },
          "metadata": {}
        },
        {
          "output_type": "display_data",
          "data": {
            "text/plain": [
              "<Figure size 1000x500 with 0 Axes>"
            ]
          },
          "metadata": {}
        },
        {
          "output_type": "display_data",
          "data": {
            "text/plain": [
              "<Figure size 1000x500 with 0 Axes>"
            ]
          },
          "metadata": {}
        },
        {
          "output_type": "display_data",
          "data": {
            "text/plain": [
              "<Figure size 1000x500 with 0 Axes>"
            ]
          },
          "metadata": {}
        },
        {
          "output_type": "display_data",
          "data": {
            "text/plain": [
              "<Figure size 1000x500 with 0 Axes>"
            ]
          },
          "metadata": {}
        },
        {
          "output_type": "display_data",
          "data": {
            "text/plain": [
              "<Figure size 1000x500 with 0 Axes>"
            ]
          },
          "metadata": {}
        },
        {
          "output_type": "display_data",
          "data": {
            "text/plain": [
              "<Figure size 1000x500 with 0 Axes>"
            ]
          },
          "metadata": {}
        },
        {
          "output_type": "display_data",
          "data": {
            "text/plain": [
              "<Figure size 1000x500 with 0 Axes>"
            ]
          },
          "metadata": {}
        },
        {
          "output_type": "display_data",
          "data": {
            "text/plain": [
              "<Figure size 1000x500 with 0 Axes>"
            ]
          },
          "metadata": {}
        },
        {
          "output_type": "display_data",
          "data": {
            "text/plain": [
              "<Figure size 1000x500 with 0 Axes>"
            ]
          },
          "metadata": {}
        },
        {
          "output_type": "display_data",
          "data": {
            "text/plain": [
              "<Figure size 1000x500 with 0 Axes>"
            ]
          },
          "metadata": {}
        },
        {
          "output_type": "display_data",
          "data": {
            "text/plain": [
              "<Figure size 1000x500 with 0 Axes>"
            ]
          },
          "metadata": {}
        },
        {
          "output_type": "display_data",
          "data": {
            "text/plain": [
              "<Figure size 1000x500 with 0 Axes>"
            ]
          },
          "metadata": {}
        },
        {
          "output_type": "display_data",
          "data": {
            "text/plain": [
              "<Figure size 1000x500 with 0 Axes>"
            ]
          },
          "metadata": {}
        },
        {
          "output_type": "display_data",
          "data": {
            "text/plain": [
              "<Figure size 1000x500 with 0 Axes>"
            ]
          },
          "metadata": {}
        },
        {
          "output_type": "display_data",
          "data": {
            "text/plain": [
              "<Figure size 1000x500 with 0 Axes>"
            ]
          },
          "metadata": {}
        },
        {
          "output_type": "display_data",
          "data": {
            "text/plain": [
              "<Figure size 1000x500 with 0 Axes>"
            ]
          },
          "metadata": {}
        },
        {
          "output_type": "display_data",
          "data": {
            "text/plain": [
              "<Figure size 1000x500 with 0 Axes>"
            ]
          },
          "metadata": {}
        },
        {
          "output_type": "display_data",
          "data": {
            "text/plain": [
              "<Figure size 1000x500 with 0 Axes>"
            ]
          },
          "metadata": {}
        },
        {
          "output_type": "display_data",
          "data": {
            "text/plain": [
              "<Figure size 1000x500 with 0 Axes>"
            ]
          },
          "metadata": {}
        },
        {
          "output_type": "display_data",
          "data": {
            "text/plain": [
              "<Figure size 1000x500 with 0 Axes>"
            ]
          },
          "metadata": {}
        },
        {
          "output_type": "display_data",
          "data": {
            "text/plain": [
              "<Figure size 1000x500 with 0 Axes>"
            ]
          },
          "metadata": {}
        },
        {
          "output_type": "display_data",
          "data": {
            "text/plain": [
              "<Figure size 1000x500 with 0 Axes>"
            ]
          },
          "metadata": {}
        },
        {
          "output_type": "display_data",
          "data": {
            "text/plain": [
              "<Figure size 1000x500 with 0 Axes>"
            ]
          },
          "metadata": {}
        },
        {
          "output_type": "display_data",
          "data": {
            "text/plain": [
              "<Figure size 1000x500 with 0 Axes>"
            ]
          },
          "metadata": {}
        },
        {
          "output_type": "display_data",
          "data": {
            "text/plain": [
              "<Figure size 1000x500 with 0 Axes>"
            ]
          },
          "metadata": {}
        },
        {
          "output_type": "display_data",
          "data": {
            "text/plain": [
              "<Figure size 1000x500 with 0 Axes>"
            ]
          },
          "metadata": {}
        },
        {
          "output_type": "display_data",
          "data": {
            "text/plain": [
              "<Figure size 1000x500 with 0 Axes>"
            ]
          },
          "metadata": {}
        },
        {
          "output_type": "display_data",
          "data": {
            "text/plain": [
              "<Figure size 1000x500 with 0 Axes>"
            ]
          },
          "metadata": {}
        },
        {
          "output_type": "display_data",
          "data": {
            "text/plain": [
              "<Figure size 1000x500 with 0 Axes>"
            ]
          },
          "metadata": {}
        },
        {
          "output_type": "display_data",
          "data": {
            "text/plain": [
              "<Figure size 1000x500 with 0 Axes>"
            ]
          },
          "metadata": {}
        },
        {
          "output_type": "display_data",
          "data": {
            "text/plain": [
              "<Figure size 1000x500 with 0 Axes>"
            ]
          },
          "metadata": {}
        },
        {
          "output_type": "display_data",
          "data": {
            "text/plain": [
              "<Figure size 1000x500 with 0 Axes>"
            ]
          },
          "metadata": {}
        },
        {
          "output_type": "display_data",
          "data": {
            "text/plain": [
              "<Figure size 1000x500 with 0 Axes>"
            ]
          },
          "metadata": {}
        },
        {
          "output_type": "display_data",
          "data": {
            "text/plain": [
              "<Figure size 1000x500 with 0 Axes>"
            ]
          },
          "metadata": {}
        },
        {
          "output_type": "display_data",
          "data": {
            "text/plain": [
              "<Figure size 1000x500 with 0 Axes>"
            ]
          },
          "metadata": {}
        },
        {
          "output_type": "display_data",
          "data": {
            "text/plain": [
              "<Figure size 1000x500 with 0 Axes>"
            ]
          },
          "metadata": {}
        },
        {
          "output_type": "display_data",
          "data": {
            "text/plain": [
              "<Figure size 1000x500 with 0 Axes>"
            ]
          },
          "metadata": {}
        },
        {
          "output_type": "display_data",
          "data": {
            "text/plain": [
              "<Figure size 1000x500 with 0 Axes>"
            ]
          },
          "metadata": {}
        },
        {
          "output_type": "display_data",
          "data": {
            "text/plain": [
              "<Figure size 1000x500 with 0 Axes>"
            ]
          },
          "metadata": {}
        },
        {
          "output_type": "display_data",
          "data": {
            "text/plain": [
              "<Figure size 1000x500 with 0 Axes>"
            ]
          },
          "metadata": {}
        },
        {
          "output_type": "display_data",
          "data": {
            "text/plain": [
              "<Figure size 1000x500 with 0 Axes>"
            ]
          },
          "metadata": {}
        },
        {
          "output_type": "display_data",
          "data": {
            "text/plain": [
              "<Figure size 1000x500 with 0 Axes>"
            ]
          },
          "metadata": {}
        },
        {
          "output_type": "display_data",
          "data": {
            "text/plain": [
              "<Figure size 1000x500 with 0 Axes>"
            ]
          },
          "metadata": {}
        },
        {
          "output_type": "display_data",
          "data": {
            "text/plain": [
              "<Figure size 1000x500 with 0 Axes>"
            ]
          },
          "metadata": {}
        },
        {
          "output_type": "display_data",
          "data": {
            "text/plain": [
              "<Figure size 1000x500 with 0 Axes>"
            ]
          },
          "metadata": {}
        },
        {
          "output_type": "display_data",
          "data": {
            "text/plain": [
              "<Figure size 1000x500 with 0 Axes>"
            ]
          },
          "metadata": {}
        },
        {
          "output_type": "display_data",
          "data": {
            "text/plain": [
              "<Figure size 1000x500 with 0 Axes>"
            ]
          },
          "metadata": {}
        },
        {
          "output_type": "display_data",
          "data": {
            "text/plain": [
              "<Figure size 1000x500 with 0 Axes>"
            ]
          },
          "metadata": {}
        },
        {
          "output_type": "display_data",
          "data": {
            "text/plain": [
              "<Figure size 1000x500 with 0 Axes>"
            ]
          },
          "metadata": {}
        },
        {
          "output_type": "display_data",
          "data": {
            "text/plain": [
              "<Figure size 1000x500 with 0 Axes>"
            ]
          },
          "metadata": {}
        },
        {
          "output_type": "display_data",
          "data": {
            "text/plain": [
              "<Figure size 1000x500 with 0 Axes>"
            ]
          },
          "metadata": {}
        },
        {
          "output_type": "display_data",
          "data": {
            "text/plain": [
              "<Figure size 1000x500 with 0 Axes>"
            ]
          },
          "metadata": {}
        },
        {
          "output_type": "display_data",
          "data": {
            "text/plain": [
              "<Figure size 1000x500 with 0 Axes>"
            ]
          },
          "metadata": {}
        },
        {
          "output_type": "display_data",
          "data": {
            "text/plain": [
              "<Figure size 1000x500 with 0 Axes>"
            ]
          },
          "metadata": {}
        },
        {
          "output_type": "display_data",
          "data": {
            "text/plain": [
              "<Figure size 1000x500 with 0 Axes>"
            ]
          },
          "metadata": {}
        },
        {
          "output_type": "display_data",
          "data": {
            "text/plain": [
              "<Figure size 1000x500 with 0 Axes>"
            ]
          },
          "metadata": {}
        },
        {
          "output_type": "display_data",
          "data": {
            "text/plain": [
              "<Figure size 1000x500 with 0 Axes>"
            ]
          },
          "metadata": {}
        },
        {
          "output_type": "display_data",
          "data": {
            "text/plain": [
              "<Figure size 1000x500 with 0 Axes>"
            ]
          },
          "metadata": {}
        },
        {
          "output_type": "display_data",
          "data": {
            "text/plain": [
              "<Figure size 1000x500 with 0 Axes>"
            ]
          },
          "metadata": {}
        },
        {
          "output_type": "display_data",
          "data": {
            "text/plain": [
              "<Figure size 1000x500 with 0 Axes>"
            ]
          },
          "metadata": {}
        },
        {
          "output_type": "display_data",
          "data": {
            "text/plain": [
              "<Figure size 1000x500 with 0 Axes>"
            ]
          },
          "metadata": {}
        },
        {
          "output_type": "display_data",
          "data": {
            "text/plain": [
              "<Figure size 1000x500 with 0 Axes>"
            ]
          },
          "metadata": {}
        },
        {
          "output_type": "display_data",
          "data": {
            "text/plain": [
              "<Figure size 1000x500 with 0 Axes>"
            ]
          },
          "metadata": {}
        },
        {
          "output_type": "display_data",
          "data": {
            "text/plain": [
              "<Figure size 1000x500 with 0 Axes>"
            ]
          },
          "metadata": {}
        },
        {
          "output_type": "display_data",
          "data": {
            "text/plain": [
              "<Figure size 1000x500 with 0 Axes>"
            ]
          },
          "metadata": {}
        },
        {
          "output_type": "display_data",
          "data": {
            "text/plain": [
              "<Figure size 1000x500 with 0 Axes>"
            ]
          },
          "metadata": {}
        },
        {
          "output_type": "display_data",
          "data": {
            "text/plain": [
              "<Figure size 1000x500 with 0 Axes>"
            ]
          },
          "metadata": {}
        },
        {
          "output_type": "display_data",
          "data": {
            "text/plain": [
              "<Figure size 1000x500 with 0 Axes>"
            ]
          },
          "metadata": {}
        },
        {
          "output_type": "display_data",
          "data": {
            "text/plain": [
              "<Figure size 1000x500 with 0 Axes>"
            ]
          },
          "metadata": {}
        },
        {
          "output_type": "display_data",
          "data": {
            "text/plain": [
              "<Figure size 1000x500 with 0 Axes>"
            ]
          },
          "metadata": {}
        },
        {
          "output_type": "display_data",
          "data": {
            "text/plain": [
              "<Figure size 1000x500 with 0 Axes>"
            ]
          },
          "metadata": {}
        },
        {
          "output_type": "display_data",
          "data": {
            "text/plain": [
              "<Figure size 1000x500 with 0 Axes>"
            ]
          },
          "metadata": {}
        },
        {
          "output_type": "display_data",
          "data": {
            "text/plain": [
              "<Figure size 1000x500 with 0 Axes>"
            ]
          },
          "metadata": {}
        },
        {
          "output_type": "display_data",
          "data": {
            "text/plain": [
              "<Figure size 1000x500 with 0 Axes>"
            ]
          },
          "metadata": {}
        },
        {
          "output_type": "display_data",
          "data": {
            "text/plain": [
              "<Figure size 1000x500 with 0 Axes>"
            ]
          },
          "metadata": {}
        },
        {
          "output_type": "display_data",
          "data": {
            "text/plain": [
              "<Figure size 1000x500 with 0 Axes>"
            ]
          },
          "metadata": {}
        },
        {
          "output_type": "display_data",
          "data": {
            "text/plain": [
              "<Figure size 1000x500 with 0 Axes>"
            ]
          },
          "metadata": {}
        },
        {
          "output_type": "display_data",
          "data": {
            "text/plain": [
              "<Figure size 1000x500 with 0 Axes>"
            ]
          },
          "metadata": {}
        },
        {
          "output_type": "display_data",
          "data": {
            "text/plain": [
              "<Figure size 1000x500 with 0 Axes>"
            ]
          },
          "metadata": {}
        },
        {
          "output_type": "display_data",
          "data": {
            "text/plain": [
              "<Figure size 1000x500 with 0 Axes>"
            ]
          },
          "metadata": {}
        },
        {
          "output_type": "display_data",
          "data": {
            "text/plain": [
              "<Figure size 1000x500 with 0 Axes>"
            ]
          },
          "metadata": {}
        },
        {
          "output_type": "display_data",
          "data": {
            "text/plain": [
              "<Figure size 1000x500 with 0 Axes>"
            ]
          },
          "metadata": {}
        },
        {
          "output_type": "display_data",
          "data": {
            "text/plain": [
              "<Figure size 1000x500 with 0 Axes>"
            ]
          },
          "metadata": {}
        },
        {
          "output_type": "display_data",
          "data": {
            "text/plain": [
              "<Figure size 1000x500 with 0 Axes>"
            ]
          },
          "metadata": {}
        },
        {
          "output_type": "display_data",
          "data": {
            "text/plain": [
              "<Figure size 1000x500 with 0 Axes>"
            ]
          },
          "metadata": {}
        },
        {
          "output_type": "display_data",
          "data": {
            "text/plain": [
              "<Figure size 1000x500 with 0 Axes>"
            ]
          },
          "metadata": {}
        },
        {
          "output_type": "display_data",
          "data": {
            "text/plain": [
              "<Figure size 1000x500 with 0 Axes>"
            ]
          },
          "metadata": {}
        },
        {
          "output_type": "display_data",
          "data": {
            "text/plain": [
              "<Figure size 1000x500 with 0 Axes>"
            ]
          },
          "metadata": {}
        },
        {
          "output_type": "display_data",
          "data": {
            "text/plain": [
              "<Figure size 1000x500 with 0 Axes>"
            ]
          },
          "metadata": {}
        },
        {
          "output_type": "display_data",
          "data": {
            "text/plain": [
              "<Figure size 1000x500 with 0 Axes>"
            ]
          },
          "metadata": {}
        },
        {
          "output_type": "display_data",
          "data": {
            "text/plain": [
              "<Figure size 1000x500 with 0 Axes>"
            ]
          },
          "metadata": {}
        },
        {
          "output_type": "display_data",
          "data": {
            "text/plain": [
              "<Figure size 1000x500 with 0 Axes>"
            ]
          },
          "metadata": {}
        },
        {
          "output_type": "display_data",
          "data": {
            "text/plain": [
              "<Figure size 1000x500 with 0 Axes>"
            ]
          },
          "metadata": {}
        },
        {
          "output_type": "display_data",
          "data": {
            "text/plain": [
              "<Figure size 1000x500 with 0 Axes>"
            ]
          },
          "metadata": {}
        },
        {
          "output_type": "display_data",
          "data": {
            "text/plain": [
              "<Figure size 1000x500 with 0 Axes>"
            ]
          },
          "metadata": {}
        },
        {
          "output_type": "display_data",
          "data": {
            "text/plain": [
              "<Figure size 1000x500 with 0 Axes>"
            ]
          },
          "metadata": {}
        },
        {
          "output_type": "display_data",
          "data": {
            "text/plain": [
              "<Figure size 1000x500 with 0 Axes>"
            ]
          },
          "metadata": {}
        },
        {
          "output_type": "display_data",
          "data": {
            "text/plain": [
              "<Figure size 1000x500 with 0 Axes>"
            ]
          },
          "metadata": {}
        },
        {
          "output_type": "display_data",
          "data": {
            "text/plain": [
              "<Figure size 1000x500 with 0 Axes>"
            ]
          },
          "metadata": {}
        },
        {
          "output_type": "display_data",
          "data": {
            "text/plain": [
              "<Figure size 1000x500 with 0 Axes>"
            ]
          },
          "metadata": {}
        },
        {
          "output_type": "display_data",
          "data": {
            "text/plain": [
              "<Figure size 1000x500 with 0 Axes>"
            ]
          },
          "metadata": {}
        },
        {
          "output_type": "display_data",
          "data": {
            "text/plain": [
              "<Figure size 1000x500 with 0 Axes>"
            ]
          },
          "metadata": {}
        },
        {
          "output_type": "display_data",
          "data": {
            "text/plain": [
              "<Figure size 1000x500 with 0 Axes>"
            ]
          },
          "metadata": {}
        },
        {
          "output_type": "display_data",
          "data": {
            "text/plain": [
              "<Figure size 1000x500 with 0 Axes>"
            ]
          },
          "metadata": {}
        },
        {
          "output_type": "display_data",
          "data": {
            "text/plain": [
              "<Figure size 1000x500 with 0 Axes>"
            ]
          },
          "metadata": {}
        },
        {
          "output_type": "display_data",
          "data": {
            "text/plain": [
              "<Figure size 1000x500 with 0 Axes>"
            ]
          },
          "metadata": {}
        },
        {
          "output_type": "display_data",
          "data": {
            "text/plain": [
              "<Figure size 1000x500 with 0 Axes>"
            ]
          },
          "metadata": {}
        },
        {
          "output_type": "display_data",
          "data": {
            "text/plain": [
              "<Figure size 1000x500 with 0 Axes>"
            ]
          },
          "metadata": {}
        },
        {
          "output_type": "display_data",
          "data": {
            "text/plain": [
              "<Figure size 1000x500 with 0 Axes>"
            ]
          },
          "metadata": {}
        },
        {
          "output_type": "display_data",
          "data": {
            "text/plain": [
              "<Figure size 1000x500 with 0 Axes>"
            ]
          },
          "metadata": {}
        },
        {
          "output_type": "display_data",
          "data": {
            "text/plain": [
              "<Figure size 1000x500 with 0 Axes>"
            ]
          },
          "metadata": {}
        },
        {
          "output_type": "display_data",
          "data": {
            "text/plain": [
              "<Figure size 1000x500 with 0 Axes>"
            ]
          },
          "metadata": {}
        },
        {
          "output_type": "display_data",
          "data": {
            "text/plain": [
              "<Figure size 1000x500 with 0 Axes>"
            ]
          },
          "metadata": {}
        },
        {
          "output_type": "display_data",
          "data": {
            "text/plain": [
              "<Figure size 1000x500 with 0 Axes>"
            ]
          },
          "metadata": {}
        },
        {
          "output_type": "display_data",
          "data": {
            "text/plain": [
              "<Figure size 1000x500 with 0 Axes>"
            ]
          },
          "metadata": {}
        },
        {
          "output_type": "display_data",
          "data": {
            "text/plain": [
              "<Figure size 1000x500 with 0 Axes>"
            ]
          },
          "metadata": {}
        },
        {
          "output_type": "display_data",
          "data": {
            "text/plain": [
              "<Figure size 1000x500 with 0 Axes>"
            ]
          },
          "metadata": {}
        },
        {
          "output_type": "display_data",
          "data": {
            "text/plain": [
              "<Figure size 1000x500 with 0 Axes>"
            ]
          },
          "metadata": {}
        },
        {
          "output_type": "display_data",
          "data": {
            "text/plain": [
              "<Figure size 1000x500 with 0 Axes>"
            ]
          },
          "metadata": {}
        },
        {
          "output_type": "display_data",
          "data": {
            "text/plain": [
              "<Figure size 1000x500 with 0 Axes>"
            ]
          },
          "metadata": {}
        },
        {
          "output_type": "display_data",
          "data": {
            "text/plain": [
              "<Figure size 1000x500 with 0 Axes>"
            ]
          },
          "metadata": {}
        },
        {
          "output_type": "display_data",
          "data": {
            "text/plain": [
              "<Figure size 1000x500 with 0 Axes>"
            ]
          },
          "metadata": {}
        },
        {
          "output_type": "display_data",
          "data": {
            "text/plain": [
              "<Figure size 1000x500 with 0 Axes>"
            ]
          },
          "metadata": {}
        },
        {
          "output_type": "display_data",
          "data": {
            "text/plain": [
              "<Figure size 1000x500 with 0 Axes>"
            ]
          },
          "metadata": {}
        },
        {
          "output_type": "display_data",
          "data": {
            "text/plain": [
              "<Figure size 1000x500 with 0 Axes>"
            ]
          },
          "metadata": {}
        },
        {
          "output_type": "display_data",
          "data": {
            "text/plain": [
              "<Figure size 1000x500 with 0 Axes>"
            ]
          },
          "metadata": {}
        },
        {
          "output_type": "display_data",
          "data": {
            "text/plain": [
              "<Figure size 1000x500 with 0 Axes>"
            ]
          },
          "metadata": {}
        },
        {
          "output_type": "display_data",
          "data": {
            "text/plain": [
              "<Figure size 1000x500 with 0 Axes>"
            ]
          },
          "metadata": {}
        },
        {
          "output_type": "display_data",
          "data": {
            "text/plain": [
              "<Figure size 1000x500 with 0 Axes>"
            ]
          },
          "metadata": {}
        },
        {
          "output_type": "display_data",
          "data": {
            "text/plain": [
              "<Figure size 1000x500 with 0 Axes>"
            ]
          },
          "metadata": {}
        },
        {
          "output_type": "display_data",
          "data": {
            "text/plain": [
              "<Figure size 1000x500 with 0 Axes>"
            ]
          },
          "metadata": {}
        },
        {
          "output_type": "display_data",
          "data": {
            "text/plain": [
              "<Figure size 1000x500 with 0 Axes>"
            ]
          },
          "metadata": {}
        },
        {
          "output_type": "display_data",
          "data": {
            "text/plain": [
              "<Figure size 1000x500 with 0 Axes>"
            ]
          },
          "metadata": {}
        },
        {
          "output_type": "display_data",
          "data": {
            "text/plain": [
              "<Figure size 1000x500 with 0 Axes>"
            ]
          },
          "metadata": {}
        },
        {
          "output_type": "display_data",
          "data": {
            "text/plain": [
              "<Figure size 1000x500 with 0 Axes>"
            ]
          },
          "metadata": {}
        },
        {
          "output_type": "display_data",
          "data": {
            "text/plain": [
              "<Figure size 1000x500 with 0 Axes>"
            ]
          },
          "metadata": {}
        },
        {
          "output_type": "display_data",
          "data": {
            "text/plain": [
              "<Figure size 1000x500 with 0 Axes>"
            ]
          },
          "metadata": {}
        },
        {
          "output_type": "display_data",
          "data": {
            "text/plain": [
              "<Figure size 1000x500 with 0 Axes>"
            ]
          },
          "metadata": {}
        },
        {
          "output_type": "display_data",
          "data": {
            "text/plain": [
              "<Figure size 1000x500 with 0 Axes>"
            ]
          },
          "metadata": {}
        },
        {
          "output_type": "display_data",
          "data": {
            "text/plain": [
              "<Figure size 1000x500 with 0 Axes>"
            ]
          },
          "metadata": {}
        },
        {
          "output_type": "display_data",
          "data": {
            "text/plain": [
              "<Figure size 1000x500 with 0 Axes>"
            ]
          },
          "metadata": {}
        },
        {
          "output_type": "display_data",
          "data": {
            "text/plain": [
              "<Figure size 1000x500 with 0 Axes>"
            ]
          },
          "metadata": {}
        },
        {
          "output_type": "display_data",
          "data": {
            "text/plain": [
              "<Figure size 1000x500 with 0 Axes>"
            ]
          },
          "metadata": {}
        },
        {
          "output_type": "display_data",
          "data": {
            "text/plain": [
              "<Figure size 1000x500 with 0 Axes>"
            ]
          },
          "metadata": {}
        },
        {
          "output_type": "display_data",
          "data": {
            "text/plain": [
              "<Figure size 1000x500 with 0 Axes>"
            ]
          },
          "metadata": {}
        },
        {
          "output_type": "display_data",
          "data": {
            "text/plain": [
              "<Figure size 1000x500 with 0 Axes>"
            ]
          },
          "metadata": {}
        },
        {
          "output_type": "display_data",
          "data": {
            "text/plain": [
              "<Figure size 1000x500 with 0 Axes>"
            ]
          },
          "metadata": {}
        },
        {
          "output_type": "display_data",
          "data": {
            "text/plain": [
              "<Figure size 1000x500 with 0 Axes>"
            ]
          },
          "metadata": {}
        },
        {
          "output_type": "display_data",
          "data": {
            "text/plain": [
              "<Figure size 1000x500 with 0 Axes>"
            ]
          },
          "metadata": {}
        },
        {
          "output_type": "display_data",
          "data": {
            "text/plain": [
              "<Figure size 1000x500 with 0 Axes>"
            ]
          },
          "metadata": {}
        },
        {
          "output_type": "display_data",
          "data": {
            "text/plain": [
              "<Figure size 1000x500 with 0 Axes>"
            ]
          },
          "metadata": {}
        },
        {
          "output_type": "display_data",
          "data": {
            "text/plain": [
              "<Figure size 1000x500 with 0 Axes>"
            ]
          },
          "metadata": {}
        },
        {
          "output_type": "display_data",
          "data": {
            "text/plain": [
              "<Figure size 1000x500 with 0 Axes>"
            ]
          },
          "metadata": {}
        },
        {
          "output_type": "display_data",
          "data": {
            "text/plain": [
              "<Figure size 1000x500 with 0 Axes>"
            ]
          },
          "metadata": {}
        },
        {
          "output_type": "display_data",
          "data": {
            "text/plain": [
              "<Figure size 1000x500 with 0 Axes>"
            ]
          },
          "metadata": {}
        },
        {
          "output_type": "display_data",
          "data": {
            "text/plain": [
              "<Figure size 1000x500 with 0 Axes>"
            ]
          },
          "metadata": {}
        },
        {
          "output_type": "display_data",
          "data": {
            "text/plain": [
              "<Figure size 1000x500 with 0 Axes>"
            ]
          },
          "metadata": {}
        },
        {
          "output_type": "display_data",
          "data": {
            "text/plain": [
              "<Figure size 1000x500 with 0 Axes>"
            ]
          },
          "metadata": {}
        },
        {
          "output_type": "display_data",
          "data": {
            "text/plain": [
              "<Figure size 1000x500 with 0 Axes>"
            ]
          },
          "metadata": {}
        },
        {
          "output_type": "display_data",
          "data": {
            "text/plain": [
              "<Figure size 1000x500 with 0 Axes>"
            ]
          },
          "metadata": {}
        },
        {
          "output_type": "display_data",
          "data": {
            "text/plain": [
              "<Figure size 1000x500 with 0 Axes>"
            ]
          },
          "metadata": {}
        },
        {
          "output_type": "display_data",
          "data": {
            "text/plain": [
              "<Figure size 1000x500 with 0 Axes>"
            ]
          },
          "metadata": {}
        },
        {
          "output_type": "display_data",
          "data": {
            "text/plain": [
              "<Figure size 1000x500 with 0 Axes>"
            ]
          },
          "metadata": {}
        },
        {
          "output_type": "display_data",
          "data": {
            "text/plain": [
              "<Figure size 1000x500 with 0 Axes>"
            ]
          },
          "metadata": {}
        },
        {
          "output_type": "display_data",
          "data": {
            "text/plain": [
              "<Figure size 1000x500 with 0 Axes>"
            ]
          },
          "metadata": {}
        },
        {
          "output_type": "display_data",
          "data": {
            "text/plain": [
              "<Figure size 1000x500 with 0 Axes>"
            ]
          },
          "metadata": {}
        },
        {
          "output_type": "display_data",
          "data": {
            "text/plain": [
              "<Figure size 1000x500 with 0 Axes>"
            ]
          },
          "metadata": {}
        },
        {
          "output_type": "display_data",
          "data": {
            "text/plain": [
              "<Figure size 1000x500 with 0 Axes>"
            ]
          },
          "metadata": {}
        },
        {
          "output_type": "display_data",
          "data": {
            "text/plain": [
              "<Figure size 1000x500 with 0 Axes>"
            ]
          },
          "metadata": {}
        },
        {
          "output_type": "display_data",
          "data": {
            "text/plain": [
              "<Figure size 1000x500 with 0 Axes>"
            ]
          },
          "metadata": {}
        },
        {
          "output_type": "display_data",
          "data": {
            "text/plain": [
              "<Figure size 1000x500 with 0 Axes>"
            ]
          },
          "metadata": {}
        },
        {
          "output_type": "display_data",
          "data": {
            "text/plain": [
              "<Figure size 1000x500 with 0 Axes>"
            ]
          },
          "metadata": {}
        },
        {
          "output_type": "display_data",
          "data": {
            "text/plain": [
              "<Figure size 1000x500 with 0 Axes>"
            ]
          },
          "metadata": {}
        },
        {
          "output_type": "display_data",
          "data": {
            "text/plain": [
              "<Figure size 1000x500 with 0 Axes>"
            ]
          },
          "metadata": {}
        },
        {
          "output_type": "display_data",
          "data": {
            "text/plain": [
              "<Figure size 1000x500 with 0 Axes>"
            ]
          },
          "metadata": {}
        },
        {
          "output_type": "display_data",
          "data": {
            "text/plain": [
              "<Figure size 1000x500 with 0 Axes>"
            ]
          },
          "metadata": {}
        },
        {
          "output_type": "display_data",
          "data": {
            "text/plain": [
              "<Figure size 1000x500 with 0 Axes>"
            ]
          },
          "metadata": {}
        },
        {
          "output_type": "display_data",
          "data": {
            "text/plain": [
              "<Figure size 1000x500 with 0 Axes>"
            ]
          },
          "metadata": {}
        },
        {
          "output_type": "display_data",
          "data": {
            "text/plain": [
              "<Figure size 1000x500 with 0 Axes>"
            ]
          },
          "metadata": {}
        },
        {
          "output_type": "display_data",
          "data": {
            "text/plain": [
              "<Figure size 1000x500 with 0 Axes>"
            ]
          },
          "metadata": {}
        },
        {
          "output_type": "display_data",
          "data": {
            "text/plain": [
              "<Figure size 1000x500 with 0 Axes>"
            ]
          },
          "metadata": {}
        },
        {
          "output_type": "display_data",
          "data": {
            "text/plain": [
              "<Figure size 1000x500 with 0 Axes>"
            ]
          },
          "metadata": {}
        },
        {
          "output_type": "display_data",
          "data": {
            "text/plain": [
              "<Figure size 1000x500 with 0 Axes>"
            ]
          },
          "metadata": {}
        },
        {
          "output_type": "display_data",
          "data": {
            "text/plain": [
              "<Figure size 1000x500 with 0 Axes>"
            ]
          },
          "metadata": {}
        },
        {
          "output_type": "display_data",
          "data": {
            "text/plain": [
              "<Figure size 1000x500 with 0 Axes>"
            ]
          },
          "metadata": {}
        },
        {
          "output_type": "display_data",
          "data": {
            "text/plain": [
              "<Figure size 1000x500 with 0 Axes>"
            ]
          },
          "metadata": {}
        },
        {
          "output_type": "display_data",
          "data": {
            "text/plain": [
              "<Figure size 1000x500 with 0 Axes>"
            ]
          },
          "metadata": {}
        },
        {
          "output_type": "display_data",
          "data": {
            "text/plain": [
              "<Figure size 1000x500 with 0 Axes>"
            ]
          },
          "metadata": {}
        },
        {
          "output_type": "display_data",
          "data": {
            "text/plain": [
              "<Figure size 1000x500 with 0 Axes>"
            ]
          },
          "metadata": {}
        },
        {
          "output_type": "display_data",
          "data": {
            "text/plain": [
              "<Figure size 1000x500 with 0 Axes>"
            ]
          },
          "metadata": {}
        },
        {
          "output_type": "display_data",
          "data": {
            "text/plain": [
              "<Figure size 1000x500 with 0 Axes>"
            ]
          },
          "metadata": {}
        },
        {
          "output_type": "display_data",
          "data": {
            "text/plain": [
              "<Figure size 1000x500 with 0 Axes>"
            ]
          },
          "metadata": {}
        },
        {
          "output_type": "display_data",
          "data": {
            "text/plain": [
              "<Figure size 1000x500 with 0 Axes>"
            ]
          },
          "metadata": {}
        },
        {
          "output_type": "display_data",
          "data": {
            "text/plain": [
              "<Figure size 1000x500 with 0 Axes>"
            ]
          },
          "metadata": {}
        },
        {
          "output_type": "display_data",
          "data": {
            "text/plain": [
              "<Figure size 1000x500 with 0 Axes>"
            ]
          },
          "metadata": {}
        },
        {
          "output_type": "display_data",
          "data": {
            "text/plain": [
              "<Figure size 1000x500 with 0 Axes>"
            ]
          },
          "metadata": {}
        },
        {
          "output_type": "display_data",
          "data": {
            "text/plain": [
              "<Figure size 1000x500 with 0 Axes>"
            ]
          },
          "metadata": {}
        },
        {
          "output_type": "display_data",
          "data": {
            "text/plain": [
              "<Figure size 1000x500 with 0 Axes>"
            ]
          },
          "metadata": {}
        },
        {
          "output_type": "display_data",
          "data": {
            "text/plain": [
              "<Figure size 1000x500 with 0 Axes>"
            ]
          },
          "metadata": {}
        },
        {
          "output_type": "display_data",
          "data": {
            "text/plain": [
              "<Figure size 1000x500 with 0 Axes>"
            ]
          },
          "metadata": {}
        },
        {
          "output_type": "display_data",
          "data": {
            "text/plain": [
              "<Figure size 1000x500 with 0 Axes>"
            ]
          },
          "metadata": {}
        },
        {
          "output_type": "display_data",
          "data": {
            "text/plain": [
              "<Figure size 1000x500 with 0 Axes>"
            ]
          },
          "metadata": {}
        },
        {
          "output_type": "display_data",
          "data": {
            "text/plain": [
              "<Figure size 1000x500 with 0 Axes>"
            ]
          },
          "metadata": {}
        },
        {
          "output_type": "display_data",
          "data": {
            "text/plain": [
              "<Figure size 1000x500 with 0 Axes>"
            ]
          },
          "metadata": {}
        },
        {
          "output_type": "display_data",
          "data": {
            "text/plain": [
              "<Figure size 1000x500 with 0 Axes>"
            ]
          },
          "metadata": {}
        },
        {
          "output_type": "display_data",
          "data": {
            "text/plain": [
              "<Figure size 1000x500 with 0 Axes>"
            ]
          },
          "metadata": {}
        },
        {
          "output_type": "display_data",
          "data": {
            "text/plain": [
              "<Figure size 1000x500 with 0 Axes>"
            ]
          },
          "metadata": {}
        },
        {
          "output_type": "display_data",
          "data": {
            "text/plain": [
              "<Figure size 1000x500 with 0 Axes>"
            ]
          },
          "metadata": {}
        },
        {
          "output_type": "display_data",
          "data": {
            "text/plain": [
              "<Figure size 1000x500 with 0 Axes>"
            ]
          },
          "metadata": {}
        },
        {
          "output_type": "display_data",
          "data": {
            "text/plain": [
              "<Figure size 1000x500 with 0 Axes>"
            ]
          },
          "metadata": {}
        },
        {
          "output_type": "display_data",
          "data": {
            "text/plain": [
              "<Figure size 1000x500 with 0 Axes>"
            ]
          },
          "metadata": {}
        },
        {
          "output_type": "display_data",
          "data": {
            "text/plain": [
              "<Figure size 1000x500 with 0 Axes>"
            ]
          },
          "metadata": {}
        },
        {
          "output_type": "display_data",
          "data": {
            "text/plain": [
              "<Figure size 1000x500 with 0 Axes>"
            ]
          },
          "metadata": {}
        },
        {
          "output_type": "display_data",
          "data": {
            "text/plain": [
              "<Figure size 1000x500 with 0 Axes>"
            ]
          },
          "metadata": {}
        },
        {
          "output_type": "display_data",
          "data": {
            "text/plain": [
              "<Figure size 1000x500 with 0 Axes>"
            ]
          },
          "metadata": {}
        },
        {
          "output_type": "display_data",
          "data": {
            "text/plain": [
              "<Figure size 1000x500 with 0 Axes>"
            ]
          },
          "metadata": {}
        },
        {
          "output_type": "display_data",
          "data": {
            "text/plain": [
              "<Figure size 1000x500 with 0 Axes>"
            ]
          },
          "metadata": {}
        },
        {
          "output_type": "display_data",
          "data": {
            "text/plain": [
              "<Figure size 1000x500 with 0 Axes>"
            ]
          },
          "metadata": {}
        },
        {
          "output_type": "display_data",
          "data": {
            "text/plain": [
              "<Figure size 1000x500 with 0 Axes>"
            ]
          },
          "metadata": {}
        },
        {
          "output_type": "display_data",
          "data": {
            "text/plain": [
              "<Figure size 1000x500 with 0 Axes>"
            ]
          },
          "metadata": {}
        },
        {
          "output_type": "display_data",
          "data": {
            "text/plain": [
              "<Figure size 1000x500 with 0 Axes>"
            ]
          },
          "metadata": {}
        },
        {
          "output_type": "display_data",
          "data": {
            "text/plain": [
              "<Figure size 1000x500 with 0 Axes>"
            ]
          },
          "metadata": {}
        },
        {
          "output_type": "display_data",
          "data": {
            "text/plain": [
              "<Figure size 1000x500 with 0 Axes>"
            ]
          },
          "metadata": {}
        },
        {
          "output_type": "display_data",
          "data": {
            "text/plain": [
              "<Figure size 1000x500 with 0 Axes>"
            ]
          },
          "metadata": {}
        },
        {
          "output_type": "display_data",
          "data": {
            "text/plain": [
              "<Figure size 1000x500 with 0 Axes>"
            ]
          },
          "metadata": {}
        },
        {
          "output_type": "display_data",
          "data": {
            "text/plain": [
              "<Figure size 1000x500 with 0 Axes>"
            ]
          },
          "metadata": {}
        },
        {
          "output_type": "display_data",
          "data": {
            "text/plain": [
              "<Figure size 1000x500 with 0 Axes>"
            ]
          },
          "metadata": {}
        },
        {
          "output_type": "display_data",
          "data": {
            "text/plain": [
              "<Figure size 1000x500 with 0 Axes>"
            ]
          },
          "metadata": {}
        },
        {
          "output_type": "display_data",
          "data": {
            "text/plain": [
              "<Figure size 1000x500 with 0 Axes>"
            ]
          },
          "metadata": {}
        },
        {
          "output_type": "display_data",
          "data": {
            "text/plain": [
              "<Figure size 1000x500 with 0 Axes>"
            ]
          },
          "metadata": {}
        },
        {
          "output_type": "display_data",
          "data": {
            "text/plain": [
              "<Figure size 1000x500 with 0 Axes>"
            ]
          },
          "metadata": {}
        },
        {
          "output_type": "display_data",
          "data": {
            "text/plain": [
              "<Figure size 1000x500 with 0 Axes>"
            ]
          },
          "metadata": {}
        },
        {
          "output_type": "display_data",
          "data": {
            "text/plain": [
              "<Figure size 1000x500 with 0 Axes>"
            ]
          },
          "metadata": {}
        },
        {
          "output_type": "display_data",
          "data": {
            "text/plain": [
              "<Figure size 1000x500 with 0 Axes>"
            ]
          },
          "metadata": {}
        },
        {
          "output_type": "display_data",
          "data": {
            "text/plain": [
              "<Figure size 1000x500 with 0 Axes>"
            ]
          },
          "metadata": {}
        },
        {
          "output_type": "display_data",
          "data": {
            "text/plain": [
              "<Figure size 1000x500 with 0 Axes>"
            ]
          },
          "metadata": {}
        },
        {
          "output_type": "display_data",
          "data": {
            "text/plain": [
              "<Figure size 1000x500 with 0 Axes>"
            ]
          },
          "metadata": {}
        },
        {
          "output_type": "display_data",
          "data": {
            "text/plain": [
              "<Figure size 1000x500 with 0 Axes>"
            ]
          },
          "metadata": {}
        },
        {
          "output_type": "display_data",
          "data": {
            "text/plain": [
              "<Figure size 1000x500 with 0 Axes>"
            ]
          },
          "metadata": {}
        },
        {
          "output_type": "display_data",
          "data": {
            "text/plain": [
              "<Figure size 1000x500 with 0 Axes>"
            ]
          },
          "metadata": {}
        },
        {
          "output_type": "display_data",
          "data": {
            "text/plain": [
              "<Figure size 1000x500 with 0 Axes>"
            ]
          },
          "metadata": {}
        },
        {
          "output_type": "display_data",
          "data": {
            "text/plain": [
              "<Figure size 1000x500 with 0 Axes>"
            ]
          },
          "metadata": {}
        },
        {
          "output_type": "display_data",
          "data": {
            "text/plain": [
              "<Figure size 1000x500 with 0 Axes>"
            ]
          },
          "metadata": {}
        },
        {
          "output_type": "display_data",
          "data": {
            "text/plain": [
              "<Figure size 1000x500 with 0 Axes>"
            ]
          },
          "metadata": {}
        },
        {
          "output_type": "display_data",
          "data": {
            "text/plain": [
              "<Figure size 1000x500 with 0 Axes>"
            ]
          },
          "metadata": {}
        },
        {
          "output_type": "display_data",
          "data": {
            "text/plain": [
              "<Figure size 1000x500 with 0 Axes>"
            ]
          },
          "metadata": {}
        },
        {
          "output_type": "display_data",
          "data": {
            "text/plain": [
              "<Figure size 1000x500 with 0 Axes>"
            ]
          },
          "metadata": {}
        },
        {
          "output_type": "display_data",
          "data": {
            "text/plain": [
              "<Figure size 1000x500 with 0 Axes>"
            ]
          },
          "metadata": {}
        },
        {
          "output_type": "display_data",
          "data": {
            "text/plain": [
              "<Figure size 1000x500 with 0 Axes>"
            ]
          },
          "metadata": {}
        },
        {
          "output_type": "display_data",
          "data": {
            "text/plain": [
              "<Figure size 1000x500 with 0 Axes>"
            ]
          },
          "metadata": {}
        },
        {
          "output_type": "display_data",
          "data": {
            "text/plain": [
              "<Figure size 1000x500 with 0 Axes>"
            ]
          },
          "metadata": {}
        },
        {
          "output_type": "display_data",
          "data": {
            "text/plain": [
              "<Figure size 1000x500 with 0 Axes>"
            ]
          },
          "metadata": {}
        },
        {
          "output_type": "display_data",
          "data": {
            "text/plain": [
              "<Figure size 1000x500 with 0 Axes>"
            ]
          },
          "metadata": {}
        },
        {
          "output_type": "display_data",
          "data": {
            "text/plain": [
              "<Figure size 1000x500 with 0 Axes>"
            ]
          },
          "metadata": {}
        },
        {
          "output_type": "display_data",
          "data": {
            "text/plain": [
              "<Figure size 1000x500 with 0 Axes>"
            ]
          },
          "metadata": {}
        },
        {
          "output_type": "display_data",
          "data": {
            "text/plain": [
              "<Figure size 1000x500 with 0 Axes>"
            ]
          },
          "metadata": {}
        },
        {
          "output_type": "display_data",
          "data": {
            "text/plain": [
              "<Figure size 1000x500 with 0 Axes>"
            ]
          },
          "metadata": {}
        },
        {
          "output_type": "display_data",
          "data": {
            "text/plain": [
              "<Figure size 1000x500 with 0 Axes>"
            ]
          },
          "metadata": {}
        },
        {
          "output_type": "display_data",
          "data": {
            "text/plain": [
              "<Figure size 1000x500 with 0 Axes>"
            ]
          },
          "metadata": {}
        },
        {
          "output_type": "display_data",
          "data": {
            "text/plain": [
              "<Figure size 1000x500 with 0 Axes>"
            ]
          },
          "metadata": {}
        },
        {
          "output_type": "display_data",
          "data": {
            "text/plain": [
              "<Figure size 1000x500 with 0 Axes>"
            ]
          },
          "metadata": {}
        },
        {
          "output_type": "display_data",
          "data": {
            "text/plain": [
              "<Figure size 1000x500 with 0 Axes>"
            ]
          },
          "metadata": {}
        },
        {
          "output_type": "display_data",
          "data": {
            "text/plain": [
              "<Figure size 1000x500 with 0 Axes>"
            ]
          },
          "metadata": {}
        },
        {
          "output_type": "display_data",
          "data": {
            "text/plain": [
              "<Figure size 1000x500 with 0 Axes>"
            ]
          },
          "metadata": {}
        },
        {
          "output_type": "display_data",
          "data": {
            "text/plain": [
              "<Figure size 1000x500 with 0 Axes>"
            ]
          },
          "metadata": {}
        },
        {
          "output_type": "display_data",
          "data": {
            "text/plain": [
              "<Figure size 1000x500 with 0 Axes>"
            ]
          },
          "metadata": {}
        },
        {
          "output_type": "display_data",
          "data": {
            "text/plain": [
              "<Figure size 1000x500 with 0 Axes>"
            ]
          },
          "metadata": {}
        },
        {
          "output_type": "display_data",
          "data": {
            "text/plain": [
              "<Figure size 1000x500 with 0 Axes>"
            ]
          },
          "metadata": {}
        },
        {
          "output_type": "display_data",
          "data": {
            "text/plain": [
              "<Figure size 1000x500 with 0 Axes>"
            ]
          },
          "metadata": {}
        },
        {
          "output_type": "display_data",
          "data": {
            "text/plain": [
              "<Figure size 1000x500 with 0 Axes>"
            ]
          },
          "metadata": {}
        },
        {
          "output_type": "display_data",
          "data": {
            "text/plain": [
              "<Figure size 1000x500 with 0 Axes>"
            ]
          },
          "metadata": {}
        },
        {
          "output_type": "display_data",
          "data": {
            "text/plain": [
              "<Figure size 1000x500 with 0 Axes>"
            ]
          },
          "metadata": {}
        },
        {
          "output_type": "display_data",
          "data": {
            "text/plain": [
              "<Figure size 1000x500 with 0 Axes>"
            ]
          },
          "metadata": {}
        },
        {
          "output_type": "display_data",
          "data": {
            "text/plain": [
              "<Figure size 1000x500 with 0 Axes>"
            ]
          },
          "metadata": {}
        },
        {
          "output_type": "display_data",
          "data": {
            "text/plain": [
              "<Figure size 1000x500 with 0 Axes>"
            ]
          },
          "metadata": {}
        },
        {
          "output_type": "display_data",
          "data": {
            "text/plain": [
              "<Figure size 1000x500 with 0 Axes>"
            ]
          },
          "metadata": {}
        },
        {
          "output_type": "display_data",
          "data": {
            "text/plain": [
              "<Figure size 1000x500 with 0 Axes>"
            ]
          },
          "metadata": {}
        },
        {
          "output_type": "display_data",
          "data": {
            "text/plain": [
              "<Figure size 1000x500 with 0 Axes>"
            ]
          },
          "metadata": {}
        },
        {
          "output_type": "display_data",
          "data": {
            "text/plain": [
              "<Figure size 1000x500 with 0 Axes>"
            ]
          },
          "metadata": {}
        },
        {
          "output_type": "display_data",
          "data": {
            "text/plain": [
              "<Figure size 1000x500 with 0 Axes>"
            ]
          },
          "metadata": {}
        },
        {
          "output_type": "display_data",
          "data": {
            "text/plain": [
              "<Figure size 1000x500 with 0 Axes>"
            ]
          },
          "metadata": {}
        },
        {
          "output_type": "display_data",
          "data": {
            "text/plain": [
              "<Figure size 1000x500 with 0 Axes>"
            ]
          },
          "metadata": {}
        },
        {
          "output_type": "display_data",
          "data": {
            "text/plain": [
              "<Figure size 1000x500 with 0 Axes>"
            ]
          },
          "metadata": {}
        },
        {
          "output_type": "display_data",
          "data": {
            "text/plain": [
              "<Figure size 1000x500 with 0 Axes>"
            ]
          },
          "metadata": {}
        },
        {
          "output_type": "display_data",
          "data": {
            "text/plain": [
              "<Figure size 1000x500 with 0 Axes>"
            ]
          },
          "metadata": {}
        },
        {
          "output_type": "display_data",
          "data": {
            "text/plain": [
              "<Figure size 1000x500 with 0 Axes>"
            ]
          },
          "metadata": {}
        },
        {
          "output_type": "display_data",
          "data": {
            "text/plain": [
              "<Figure size 1000x500 with 0 Axes>"
            ]
          },
          "metadata": {}
        },
        {
          "output_type": "display_data",
          "data": {
            "text/plain": [
              "<Figure size 1000x500 with 0 Axes>"
            ]
          },
          "metadata": {}
        },
        {
          "output_type": "display_data",
          "data": {
            "text/plain": [
              "<Figure size 1000x500 with 0 Axes>"
            ]
          },
          "metadata": {}
        },
        {
          "output_type": "display_data",
          "data": {
            "text/plain": [
              "<Figure size 1000x500 with 0 Axes>"
            ]
          },
          "metadata": {}
        },
        {
          "output_type": "display_data",
          "data": {
            "text/plain": [
              "<Figure size 1000x500 with 0 Axes>"
            ]
          },
          "metadata": {}
        },
        {
          "output_type": "display_data",
          "data": {
            "text/plain": [
              "<Figure size 1000x500 with 0 Axes>"
            ]
          },
          "metadata": {}
        },
        {
          "output_type": "display_data",
          "data": {
            "text/plain": [
              "<Figure size 1000x500 with 0 Axes>"
            ]
          },
          "metadata": {}
        },
        {
          "output_type": "display_data",
          "data": {
            "text/plain": [
              "<Figure size 1000x500 with 0 Axes>"
            ]
          },
          "metadata": {}
        },
        {
          "output_type": "display_data",
          "data": {
            "text/plain": [
              "<Figure size 1000x500 with 0 Axes>"
            ]
          },
          "metadata": {}
        },
        {
          "output_type": "display_data",
          "data": {
            "text/plain": [
              "<Figure size 1000x500 with 0 Axes>"
            ]
          },
          "metadata": {}
        },
        {
          "output_type": "display_data",
          "data": {
            "text/plain": [
              "<Figure size 1000x500 with 0 Axes>"
            ]
          },
          "metadata": {}
        },
        {
          "output_type": "display_data",
          "data": {
            "text/plain": [
              "<Figure size 1000x500 with 0 Axes>"
            ]
          },
          "metadata": {}
        },
        {
          "output_type": "display_data",
          "data": {
            "text/plain": [
              "<Figure size 1000x500 with 0 Axes>"
            ]
          },
          "metadata": {}
        },
        {
          "output_type": "display_data",
          "data": {
            "text/plain": [
              "<Figure size 1000x500 with 0 Axes>"
            ]
          },
          "metadata": {}
        },
        {
          "output_type": "display_data",
          "data": {
            "text/plain": [
              "<Figure size 1000x500 with 0 Axes>"
            ]
          },
          "metadata": {}
        },
        {
          "output_type": "display_data",
          "data": {
            "text/plain": [
              "<Figure size 1000x500 with 0 Axes>"
            ]
          },
          "metadata": {}
        },
        {
          "output_type": "display_data",
          "data": {
            "text/plain": [
              "<Figure size 1000x500 with 0 Axes>"
            ]
          },
          "metadata": {}
        },
        {
          "output_type": "display_data",
          "data": {
            "text/plain": [
              "<Figure size 1000x500 with 0 Axes>"
            ]
          },
          "metadata": {}
        },
        {
          "output_type": "display_data",
          "data": {
            "text/plain": [
              "<Figure size 1000x500 with 0 Axes>"
            ]
          },
          "metadata": {}
        },
        {
          "output_type": "display_data",
          "data": {
            "text/plain": [
              "<Figure size 1000x500 with 0 Axes>"
            ]
          },
          "metadata": {}
        },
        {
          "output_type": "display_data",
          "data": {
            "text/plain": [
              "<Figure size 1000x500 with 0 Axes>"
            ]
          },
          "metadata": {}
        },
        {
          "output_type": "display_data",
          "data": {
            "text/plain": [
              "<Figure size 1000x500 with 0 Axes>"
            ]
          },
          "metadata": {}
        },
        {
          "output_type": "display_data",
          "data": {
            "text/plain": [
              "<Figure size 1000x500 with 0 Axes>"
            ]
          },
          "metadata": {}
        },
        {
          "output_type": "display_data",
          "data": {
            "text/plain": [
              "<Figure size 1000x500 with 0 Axes>"
            ]
          },
          "metadata": {}
        },
        {
          "output_type": "display_data",
          "data": {
            "text/plain": [
              "<Figure size 1000x500 with 0 Axes>"
            ]
          },
          "metadata": {}
        },
        {
          "output_type": "display_data",
          "data": {
            "text/plain": [
              "<Figure size 1000x500 with 0 Axes>"
            ]
          },
          "metadata": {}
        },
        {
          "output_type": "display_data",
          "data": {
            "text/plain": [
              "<Figure size 1000x500 with 0 Axes>"
            ]
          },
          "metadata": {}
        },
        {
          "output_type": "display_data",
          "data": {
            "text/plain": [
              "<Figure size 1000x500 with 0 Axes>"
            ]
          },
          "metadata": {}
        },
        {
          "output_type": "display_data",
          "data": {
            "text/plain": [
              "<Figure size 1000x500 with 0 Axes>"
            ]
          },
          "metadata": {}
        },
        {
          "output_type": "display_data",
          "data": {
            "text/plain": [
              "<Figure size 1000x500 with 0 Axes>"
            ]
          },
          "metadata": {}
        },
        {
          "output_type": "display_data",
          "data": {
            "text/plain": [
              "<Figure size 1000x500 with 0 Axes>"
            ]
          },
          "metadata": {}
        },
        {
          "output_type": "display_data",
          "data": {
            "text/plain": [
              "<Figure size 1000x500 with 0 Axes>"
            ]
          },
          "metadata": {}
        },
        {
          "output_type": "display_data",
          "data": {
            "text/plain": [
              "<Figure size 1000x500 with 0 Axes>"
            ]
          },
          "metadata": {}
        },
        {
          "output_type": "display_data",
          "data": {
            "text/plain": [
              "<Figure size 1000x500 with 0 Axes>"
            ]
          },
          "metadata": {}
        },
        {
          "output_type": "display_data",
          "data": {
            "text/plain": [
              "<Figure size 1000x500 with 0 Axes>"
            ]
          },
          "metadata": {}
        },
        {
          "output_type": "display_data",
          "data": {
            "text/plain": [
              "<Figure size 1000x500 with 0 Axes>"
            ]
          },
          "metadata": {}
        },
        {
          "output_type": "display_data",
          "data": {
            "text/plain": [
              "<Figure size 1000x500 with 0 Axes>"
            ]
          },
          "metadata": {}
        },
        {
          "output_type": "display_data",
          "data": {
            "text/plain": [
              "<Figure size 1000x500 with 0 Axes>"
            ]
          },
          "metadata": {}
        },
        {
          "output_type": "display_data",
          "data": {
            "text/plain": [
              "<Figure size 1000x500 with 0 Axes>"
            ]
          },
          "metadata": {}
        },
        {
          "output_type": "display_data",
          "data": {
            "text/plain": [
              "<Figure size 1000x500 with 0 Axes>"
            ]
          },
          "metadata": {}
        },
        {
          "output_type": "display_data",
          "data": {
            "text/plain": [
              "<Figure size 1000x500 with 0 Axes>"
            ]
          },
          "metadata": {}
        },
        {
          "output_type": "display_data",
          "data": {
            "text/plain": [
              "<Figure size 1000x500 with 0 Axes>"
            ]
          },
          "metadata": {}
        },
        {
          "output_type": "display_data",
          "data": {
            "text/plain": [
              "<Figure size 1000x500 with 0 Axes>"
            ]
          },
          "metadata": {}
        },
        {
          "output_type": "display_data",
          "data": {
            "text/plain": [
              "<Figure size 1000x500 with 0 Axes>"
            ]
          },
          "metadata": {}
        },
        {
          "output_type": "display_data",
          "data": {
            "text/plain": [
              "<Figure size 1000x500 with 0 Axes>"
            ]
          },
          "metadata": {}
        },
        {
          "output_type": "display_data",
          "data": {
            "text/plain": [
              "<Figure size 1000x500 with 0 Axes>"
            ]
          },
          "metadata": {}
        },
        {
          "output_type": "display_data",
          "data": {
            "text/plain": [
              "<Figure size 1000x500 with 0 Axes>"
            ]
          },
          "metadata": {}
        },
        {
          "output_type": "display_data",
          "data": {
            "text/plain": [
              "<Figure size 1000x500 with 0 Axes>"
            ]
          },
          "metadata": {}
        },
        {
          "output_type": "display_data",
          "data": {
            "text/plain": [
              "<Figure size 1000x500 with 0 Axes>"
            ]
          },
          "metadata": {}
        },
        {
          "output_type": "display_data",
          "data": {
            "text/plain": [
              "<Figure size 1000x500 with 0 Axes>"
            ]
          },
          "metadata": {}
        },
        {
          "output_type": "display_data",
          "data": {
            "text/plain": [
              "<Figure size 1000x500 with 0 Axes>"
            ]
          },
          "metadata": {}
        },
        {
          "output_type": "display_data",
          "data": {
            "text/plain": [
              "<Figure size 1000x500 with 0 Axes>"
            ]
          },
          "metadata": {}
        },
        {
          "output_type": "display_data",
          "data": {
            "text/plain": [
              "<Figure size 1000x500 with 0 Axes>"
            ]
          },
          "metadata": {}
        },
        {
          "output_type": "display_data",
          "data": {
            "text/plain": [
              "<Figure size 1000x500 with 0 Axes>"
            ]
          },
          "metadata": {}
        },
        {
          "output_type": "display_data",
          "data": {
            "text/plain": [
              "<Figure size 1000x500 with 0 Axes>"
            ]
          },
          "metadata": {}
        },
        {
          "output_type": "display_data",
          "data": {
            "text/plain": [
              "<Figure size 1000x500 with 0 Axes>"
            ]
          },
          "metadata": {}
        },
        {
          "output_type": "display_data",
          "data": {
            "text/plain": [
              "<Figure size 1000x500 with 0 Axes>"
            ]
          },
          "metadata": {}
        },
        {
          "output_type": "display_data",
          "data": {
            "text/plain": [
              "<Figure size 1000x500 with 0 Axes>"
            ]
          },
          "metadata": {}
        },
        {
          "output_type": "display_data",
          "data": {
            "text/plain": [
              "<Figure size 1000x500 with 0 Axes>"
            ]
          },
          "metadata": {}
        },
        {
          "output_type": "display_data",
          "data": {
            "text/plain": [
              "<Figure size 1000x500 with 0 Axes>"
            ]
          },
          "metadata": {}
        },
        {
          "output_type": "display_data",
          "data": {
            "text/plain": [
              "<Figure size 1000x500 with 0 Axes>"
            ]
          },
          "metadata": {}
        },
        {
          "output_type": "display_data",
          "data": {
            "text/plain": [
              "<Figure size 1000x500 with 0 Axes>"
            ]
          },
          "metadata": {}
        },
        {
          "output_type": "display_data",
          "data": {
            "text/plain": [
              "<Figure size 1000x500 with 0 Axes>"
            ]
          },
          "metadata": {}
        },
        {
          "output_type": "display_data",
          "data": {
            "text/plain": [
              "<Figure size 1000x500 with 0 Axes>"
            ]
          },
          "metadata": {}
        },
        {
          "output_type": "display_data",
          "data": {
            "text/plain": [
              "<Figure size 1000x500 with 0 Axes>"
            ]
          },
          "metadata": {}
        },
        {
          "output_type": "display_data",
          "data": {
            "text/plain": [
              "<Figure size 1000x500 with 0 Axes>"
            ]
          },
          "metadata": {}
        },
        {
          "output_type": "display_data",
          "data": {
            "text/plain": [
              "<Figure size 1000x500 with 0 Axes>"
            ]
          },
          "metadata": {}
        },
        {
          "output_type": "display_data",
          "data": {
            "text/plain": [
              "<Figure size 1000x500 with 0 Axes>"
            ]
          },
          "metadata": {}
        },
        {
          "output_type": "display_data",
          "data": {
            "text/plain": [
              "<Figure size 1000x500 with 0 Axes>"
            ]
          },
          "metadata": {}
        },
        {
          "output_type": "display_data",
          "data": {
            "text/plain": [
              "<Figure size 1000x500 with 0 Axes>"
            ]
          },
          "metadata": {}
        },
        {
          "output_type": "display_data",
          "data": {
            "text/plain": [
              "<Figure size 1000x500 with 0 Axes>"
            ]
          },
          "metadata": {}
        },
        {
          "output_type": "display_data",
          "data": {
            "text/plain": [
              "<Figure size 1000x500 with 0 Axes>"
            ]
          },
          "metadata": {}
        },
        {
          "output_type": "display_data",
          "data": {
            "text/plain": [
              "<Figure size 1000x500 with 0 Axes>"
            ]
          },
          "metadata": {}
        },
        {
          "output_type": "display_data",
          "data": {
            "text/plain": [
              "<Figure size 1000x500 with 0 Axes>"
            ]
          },
          "metadata": {}
        },
        {
          "output_type": "display_data",
          "data": {
            "text/plain": [
              "<Figure size 1000x500 with 0 Axes>"
            ]
          },
          "metadata": {}
        },
        {
          "output_type": "display_data",
          "data": {
            "text/plain": [
              "<Figure size 1000x500 with 0 Axes>"
            ]
          },
          "metadata": {}
        },
        {
          "output_type": "display_data",
          "data": {
            "text/plain": [
              "<Figure size 1000x500 with 0 Axes>"
            ]
          },
          "metadata": {}
        },
        {
          "output_type": "display_data",
          "data": {
            "text/plain": [
              "<Figure size 1000x500 with 0 Axes>"
            ]
          },
          "metadata": {}
        },
        {
          "output_type": "display_data",
          "data": {
            "text/plain": [
              "<Figure size 1000x500 with 0 Axes>"
            ]
          },
          "metadata": {}
        },
        {
          "output_type": "display_data",
          "data": {
            "text/plain": [
              "<Figure size 1000x500 with 0 Axes>"
            ]
          },
          "metadata": {}
        },
        {
          "output_type": "display_data",
          "data": {
            "text/plain": [
              "<Figure size 1000x500 with 0 Axes>"
            ]
          },
          "metadata": {}
        },
        {
          "output_type": "display_data",
          "data": {
            "text/plain": [
              "<Figure size 1000x500 with 0 Axes>"
            ]
          },
          "metadata": {}
        },
        {
          "output_type": "display_data",
          "data": {
            "text/plain": [
              "<Figure size 1000x500 with 0 Axes>"
            ]
          },
          "metadata": {}
        },
        {
          "output_type": "display_data",
          "data": {
            "text/plain": [
              "<Figure size 1000x500 with 0 Axes>"
            ]
          },
          "metadata": {}
        },
        {
          "output_type": "display_data",
          "data": {
            "text/plain": [
              "<Figure size 1000x500 with 0 Axes>"
            ]
          },
          "metadata": {}
        },
        {
          "output_type": "display_data",
          "data": {
            "text/plain": [
              "<Figure size 1000x500 with 0 Axes>"
            ]
          },
          "metadata": {}
        },
        {
          "output_type": "display_data",
          "data": {
            "text/plain": [
              "<Figure size 1000x500 with 0 Axes>"
            ]
          },
          "metadata": {}
        },
        {
          "output_type": "display_data",
          "data": {
            "text/plain": [
              "<Figure size 1000x500 with 0 Axes>"
            ]
          },
          "metadata": {}
        },
        {
          "output_type": "display_data",
          "data": {
            "text/plain": [
              "<Figure size 1000x500 with 0 Axes>"
            ]
          },
          "metadata": {}
        },
        {
          "output_type": "display_data",
          "data": {
            "text/plain": [
              "<Figure size 1000x500 with 0 Axes>"
            ]
          },
          "metadata": {}
        },
        {
          "output_type": "display_data",
          "data": {
            "text/plain": [
              "<Figure size 1000x500 with 0 Axes>"
            ]
          },
          "metadata": {}
        },
        {
          "output_type": "display_data",
          "data": {
            "text/plain": [
              "<Figure size 1000x500 with 0 Axes>"
            ]
          },
          "metadata": {}
        },
        {
          "output_type": "display_data",
          "data": {
            "text/plain": [
              "<Figure size 1000x500 with 0 Axes>"
            ]
          },
          "metadata": {}
        },
        {
          "output_type": "display_data",
          "data": {
            "text/plain": [
              "<Figure size 1000x500 with 0 Axes>"
            ]
          },
          "metadata": {}
        },
        {
          "output_type": "display_data",
          "data": {
            "text/plain": [
              "<Figure size 1000x500 with 0 Axes>"
            ]
          },
          "metadata": {}
        },
        {
          "output_type": "display_data",
          "data": {
            "text/plain": [
              "<Figure size 1000x500 with 0 Axes>"
            ]
          },
          "metadata": {}
        },
        {
          "output_type": "display_data",
          "data": {
            "text/plain": [
              "<Figure size 1000x500 with 0 Axes>"
            ]
          },
          "metadata": {}
        },
        {
          "output_type": "display_data",
          "data": {
            "text/plain": [
              "<Figure size 1000x500 with 0 Axes>"
            ]
          },
          "metadata": {}
        },
        {
          "output_type": "display_data",
          "data": {
            "text/plain": [
              "<Figure size 1000x500 with 0 Axes>"
            ]
          },
          "metadata": {}
        },
        {
          "output_type": "display_data",
          "data": {
            "text/plain": [
              "<Figure size 1000x500 with 0 Axes>"
            ]
          },
          "metadata": {}
        },
        {
          "output_type": "display_data",
          "data": {
            "text/plain": [
              "<Figure size 1000x500 with 0 Axes>"
            ]
          },
          "metadata": {}
        },
        {
          "output_type": "display_data",
          "data": {
            "text/plain": [
              "<Figure size 1000x500 with 0 Axes>"
            ]
          },
          "metadata": {}
        },
        {
          "output_type": "display_data",
          "data": {
            "text/plain": [
              "<Figure size 1000x500 with 0 Axes>"
            ]
          },
          "metadata": {}
        },
        {
          "output_type": "display_data",
          "data": {
            "text/plain": [
              "<Figure size 1000x500 with 0 Axes>"
            ]
          },
          "metadata": {}
        },
        {
          "output_type": "display_data",
          "data": {
            "text/plain": [
              "<Figure size 1000x500 with 0 Axes>"
            ]
          },
          "metadata": {}
        },
        {
          "output_type": "display_data",
          "data": {
            "text/plain": [
              "<Figure size 1000x500 with 0 Axes>"
            ]
          },
          "metadata": {}
        },
        {
          "output_type": "display_data",
          "data": {
            "text/plain": [
              "<Figure size 1000x500 with 0 Axes>"
            ]
          },
          "metadata": {}
        },
        {
          "output_type": "display_data",
          "data": {
            "text/plain": [
              "<Figure size 1000x500 with 0 Axes>"
            ]
          },
          "metadata": {}
        },
        {
          "output_type": "display_data",
          "data": {
            "text/plain": [
              "<Figure size 1000x500 with 0 Axes>"
            ]
          },
          "metadata": {}
        },
        {
          "output_type": "display_data",
          "data": {
            "text/plain": [
              "<Figure size 1000x500 with 0 Axes>"
            ]
          },
          "metadata": {}
        },
        {
          "output_type": "display_data",
          "data": {
            "text/plain": [
              "<Figure size 1000x500 with 0 Axes>"
            ]
          },
          "metadata": {}
        },
        {
          "output_type": "display_data",
          "data": {
            "text/plain": [
              "<Figure size 1000x500 with 0 Axes>"
            ]
          },
          "metadata": {}
        },
        {
          "output_type": "display_data",
          "data": {
            "text/plain": [
              "<Figure size 1000x500 with 0 Axes>"
            ]
          },
          "metadata": {}
        },
        {
          "output_type": "display_data",
          "data": {
            "text/plain": [
              "<Figure size 1000x500 with 0 Axes>"
            ]
          },
          "metadata": {}
        },
        {
          "output_type": "display_data",
          "data": {
            "text/plain": [
              "<Figure size 1000x500 with 0 Axes>"
            ]
          },
          "metadata": {}
        },
        {
          "output_type": "display_data",
          "data": {
            "text/plain": [
              "<Figure size 1000x500 with 0 Axes>"
            ]
          },
          "metadata": {}
        },
        {
          "output_type": "display_data",
          "data": {
            "text/plain": [
              "<Figure size 1000x500 with 0 Axes>"
            ]
          },
          "metadata": {}
        },
        {
          "output_type": "display_data",
          "data": {
            "text/plain": [
              "<Figure size 1000x500 with 0 Axes>"
            ]
          },
          "metadata": {}
        },
        {
          "output_type": "display_data",
          "data": {
            "text/plain": [
              "<Figure size 1000x500 with 0 Axes>"
            ]
          },
          "metadata": {}
        },
        {
          "output_type": "display_data",
          "data": {
            "text/plain": [
              "<Figure size 1000x500 with 0 Axes>"
            ]
          },
          "metadata": {}
        },
        {
          "output_type": "display_data",
          "data": {
            "text/plain": [
              "<Figure size 1000x500 with 0 Axes>"
            ]
          },
          "metadata": {}
        },
        {
          "output_type": "display_data",
          "data": {
            "text/plain": [
              "<Figure size 1000x500 with 0 Axes>"
            ]
          },
          "metadata": {}
        },
        {
          "output_type": "display_data",
          "data": {
            "text/plain": [
              "<Figure size 1000x500 with 0 Axes>"
            ]
          },
          "metadata": {}
        },
        {
          "output_type": "display_data",
          "data": {
            "text/plain": [
              "<Figure size 1000x500 with 0 Axes>"
            ]
          },
          "metadata": {}
        },
        {
          "output_type": "display_data",
          "data": {
            "text/plain": [
              "<Figure size 1000x500 with 0 Axes>"
            ]
          },
          "metadata": {}
        },
        {
          "output_type": "display_data",
          "data": {
            "text/plain": [
              "<Figure size 1000x500 with 0 Axes>"
            ]
          },
          "metadata": {}
        },
        {
          "output_type": "display_data",
          "data": {
            "text/plain": [
              "<Figure size 1000x500 with 0 Axes>"
            ]
          },
          "metadata": {}
        },
        {
          "output_type": "display_data",
          "data": {
            "text/plain": [
              "<Figure size 1000x500 with 0 Axes>"
            ]
          },
          "metadata": {}
        },
        {
          "output_type": "display_data",
          "data": {
            "text/plain": [
              "<Figure size 1000x500 with 0 Axes>"
            ]
          },
          "metadata": {}
        },
        {
          "output_type": "display_data",
          "data": {
            "text/plain": [
              "<Figure size 1000x500 with 0 Axes>"
            ]
          },
          "metadata": {}
        },
        {
          "output_type": "display_data",
          "data": {
            "text/plain": [
              "<Figure size 1000x500 with 0 Axes>"
            ]
          },
          "metadata": {}
        },
        {
          "output_type": "display_data",
          "data": {
            "text/plain": [
              "<Figure size 1000x500 with 0 Axes>"
            ]
          },
          "metadata": {}
        },
        {
          "output_type": "display_data",
          "data": {
            "text/plain": [
              "<Figure size 1000x500 with 0 Axes>"
            ]
          },
          "metadata": {}
        },
        {
          "output_type": "display_data",
          "data": {
            "text/plain": [
              "<Figure size 1000x500 with 0 Axes>"
            ]
          },
          "metadata": {}
        },
        {
          "output_type": "display_data",
          "data": {
            "text/plain": [
              "<Figure size 1000x500 with 0 Axes>"
            ]
          },
          "metadata": {}
        },
        {
          "output_type": "display_data",
          "data": {
            "text/plain": [
              "<Figure size 1000x500 with 0 Axes>"
            ]
          },
          "metadata": {}
        },
        {
          "output_type": "display_data",
          "data": {
            "text/plain": [
              "<Figure size 1000x500 with 0 Axes>"
            ]
          },
          "metadata": {}
        },
        {
          "output_type": "display_data",
          "data": {
            "text/plain": [
              "<Figure size 1000x500 with 0 Axes>"
            ]
          },
          "metadata": {}
        },
        {
          "output_type": "display_data",
          "data": {
            "text/plain": [
              "<Figure size 1000x500 with 0 Axes>"
            ]
          },
          "metadata": {}
        },
        {
          "output_type": "display_data",
          "data": {
            "text/plain": [
              "<Figure size 1000x500 with 0 Axes>"
            ]
          },
          "metadata": {}
        },
        {
          "output_type": "display_data",
          "data": {
            "text/plain": [
              "<Figure size 1000x500 with 0 Axes>"
            ]
          },
          "metadata": {}
        },
        {
          "output_type": "display_data",
          "data": {
            "text/plain": [
              "<Figure size 1000x500 with 0 Axes>"
            ]
          },
          "metadata": {}
        },
        {
          "output_type": "display_data",
          "data": {
            "text/plain": [
              "<Figure size 1000x500 with 0 Axes>"
            ]
          },
          "metadata": {}
        },
        {
          "output_type": "display_data",
          "data": {
            "text/plain": [
              "<Figure size 1000x500 with 0 Axes>"
            ]
          },
          "metadata": {}
        },
        {
          "output_type": "display_data",
          "data": {
            "text/plain": [
              "<Figure size 1000x500 with 0 Axes>"
            ]
          },
          "metadata": {}
        },
        {
          "output_type": "display_data",
          "data": {
            "text/plain": [
              "<Figure size 1000x500 with 0 Axes>"
            ]
          },
          "metadata": {}
        },
        {
          "output_type": "display_data",
          "data": {
            "text/plain": [
              "<Figure size 1000x500 with 0 Axes>"
            ]
          },
          "metadata": {}
        },
        {
          "output_type": "display_data",
          "data": {
            "text/plain": [
              "<Figure size 1000x500 with 0 Axes>"
            ]
          },
          "metadata": {}
        },
        {
          "output_type": "display_data",
          "data": {
            "text/plain": [
              "<Figure size 1000x500 with 0 Axes>"
            ]
          },
          "metadata": {}
        },
        {
          "output_type": "display_data",
          "data": {
            "text/plain": [
              "<Figure size 1000x500 with 0 Axes>"
            ]
          },
          "metadata": {}
        },
        {
          "output_type": "display_data",
          "data": {
            "text/plain": [
              "<Figure size 1000x500 with 0 Axes>"
            ]
          },
          "metadata": {}
        },
        {
          "output_type": "display_data",
          "data": {
            "text/plain": [
              "<Figure size 1000x500 with 0 Axes>"
            ]
          },
          "metadata": {}
        },
        {
          "output_type": "display_data",
          "data": {
            "text/plain": [
              "<Figure size 1000x500 with 0 Axes>"
            ]
          },
          "metadata": {}
        },
        {
          "output_type": "display_data",
          "data": {
            "text/plain": [
              "<Figure size 1000x500 with 0 Axes>"
            ]
          },
          "metadata": {}
        },
        {
          "output_type": "display_data",
          "data": {
            "text/plain": [
              "<Figure size 1000x500 with 0 Axes>"
            ]
          },
          "metadata": {}
        },
        {
          "output_type": "display_data",
          "data": {
            "text/plain": [
              "<Figure size 1000x500 with 0 Axes>"
            ]
          },
          "metadata": {}
        },
        {
          "output_type": "display_data",
          "data": {
            "text/plain": [
              "<Figure size 1000x500 with 0 Axes>"
            ]
          },
          "metadata": {}
        },
        {
          "output_type": "display_data",
          "data": {
            "text/plain": [
              "<Figure size 1000x500 with 0 Axes>"
            ]
          },
          "metadata": {}
        },
        {
          "output_type": "display_data",
          "data": {
            "text/plain": [
              "<Figure size 1000x500 with 0 Axes>"
            ]
          },
          "metadata": {}
        },
        {
          "output_type": "display_data",
          "data": {
            "text/plain": [
              "<Figure size 1000x500 with 0 Axes>"
            ]
          },
          "metadata": {}
        },
        {
          "output_type": "display_data",
          "data": {
            "text/plain": [
              "<Figure size 1000x500 with 0 Axes>"
            ]
          },
          "metadata": {}
        },
        {
          "output_type": "display_data",
          "data": {
            "text/plain": [
              "<Figure size 1000x500 with 0 Axes>"
            ]
          },
          "metadata": {}
        },
        {
          "output_type": "display_data",
          "data": {
            "text/plain": [
              "<Figure size 1000x500 with 0 Axes>"
            ]
          },
          "metadata": {}
        },
        {
          "output_type": "display_data",
          "data": {
            "text/plain": [
              "<Figure size 1000x500 with 0 Axes>"
            ]
          },
          "metadata": {}
        },
        {
          "output_type": "display_data",
          "data": {
            "text/plain": [
              "<Figure size 1000x500 with 0 Axes>"
            ]
          },
          "metadata": {}
        },
        {
          "output_type": "display_data",
          "data": {
            "text/plain": [
              "<Figure size 1000x500 with 0 Axes>"
            ]
          },
          "metadata": {}
        },
        {
          "output_type": "display_data",
          "data": {
            "text/plain": [
              "<Figure size 1000x500 with 0 Axes>"
            ]
          },
          "metadata": {}
        },
        {
          "output_type": "display_data",
          "data": {
            "text/plain": [
              "<Figure size 1000x500 with 0 Axes>"
            ]
          },
          "metadata": {}
        },
        {
          "output_type": "display_data",
          "data": {
            "text/plain": [
              "<Figure size 1000x500 with 0 Axes>"
            ]
          },
          "metadata": {}
        },
        {
          "output_type": "display_data",
          "data": {
            "text/plain": [
              "<Figure size 1000x500 with 0 Axes>"
            ]
          },
          "metadata": {}
        },
        {
          "output_type": "display_data",
          "data": {
            "text/plain": [
              "<Figure size 1000x500 with 0 Axes>"
            ]
          },
          "metadata": {}
        },
        {
          "output_type": "display_data",
          "data": {
            "text/plain": [
              "<Figure size 1000x500 with 0 Axes>"
            ]
          },
          "metadata": {}
        },
        {
          "output_type": "display_data",
          "data": {
            "text/plain": [
              "<Figure size 1000x500 with 0 Axes>"
            ]
          },
          "metadata": {}
        },
        {
          "output_type": "display_data",
          "data": {
            "text/plain": [
              "<Figure size 1000x500 with 0 Axes>"
            ]
          },
          "metadata": {}
        },
        {
          "output_type": "display_data",
          "data": {
            "text/plain": [
              "<Figure size 1000x500 with 0 Axes>"
            ]
          },
          "metadata": {}
        },
        {
          "output_type": "display_data",
          "data": {
            "text/plain": [
              "<Figure size 1000x500 with 0 Axes>"
            ]
          },
          "metadata": {}
        },
        {
          "output_type": "display_data",
          "data": {
            "text/plain": [
              "<Figure size 1000x500 with 0 Axes>"
            ]
          },
          "metadata": {}
        },
        {
          "output_type": "display_data",
          "data": {
            "text/plain": [
              "<Figure size 1000x500 with 0 Axes>"
            ]
          },
          "metadata": {}
        },
        {
          "output_type": "display_data",
          "data": {
            "text/plain": [
              "<Figure size 1000x500 with 0 Axes>"
            ]
          },
          "metadata": {}
        },
        {
          "output_type": "display_data",
          "data": {
            "text/plain": [
              "<Figure size 1000x500 with 0 Axes>"
            ]
          },
          "metadata": {}
        },
        {
          "output_type": "display_data",
          "data": {
            "text/plain": [
              "<Figure size 1000x500 with 0 Axes>"
            ]
          },
          "metadata": {}
        },
        {
          "output_type": "display_data",
          "data": {
            "text/plain": [
              "<Figure size 1000x500 with 0 Axes>"
            ]
          },
          "metadata": {}
        },
        {
          "output_type": "display_data",
          "data": {
            "text/plain": [
              "<Figure size 1000x500 with 0 Axes>"
            ]
          },
          "metadata": {}
        },
        {
          "output_type": "display_data",
          "data": {
            "text/plain": [
              "<Figure size 1000x500 with 0 Axes>"
            ]
          },
          "metadata": {}
        }
      ]
    },
    {
      "cell_type": "code",
      "source": [
        "import scipy\n",
        "from scipy import signal\n",
        "from scipy.io import wavfile\n",
        "from scipy.signal import spectrogram\n",
        "from scipy.signal import resample\n",
        "\n",
        "labels = 'normal abnormal'.split()\n",
        "for l in labels:\n",
        "    pathlib.Path(f'/content/drive/MyDrive/SPECIMAGES/Validation/{l}').mkdir(parents=True, exist_ok=True)\n",
        "    for filename in os.listdir(f'/content/drive/MyDrive/Preprocessed1/Validation/{l}'):\n",
        "        audio_file = f'/content/drive/MyDrive/Preprocessed1/Validation/{l}/{filename}'\n",
        "        # load the .wav file\n",
        "        sample_rate, signal_data = wavfile.read(audio_file)\n",
        "\n",
        "        # downsample to 1000 Hz\n",
        "        resampled_signal = resample(signal_data, int(len(signal_data) * (1000/sample_rate)))\n",
        "\n",
        "        # Calculate spectrogram using Tukey window\n",
        "        f, t, spec = spectrogram(resampled_signal, fs=1000, window='tukey', nperseg=128, noverlap=64)\n",
        "\n",
        "        # Discard the first frequency bin\n",
        "        spec = spec[1:, :]\n",
        "\n",
        "        # Convert spectrogram values to logarithmic scale\n",
        "        log_spec = np.log10(spec)\n",
        "\n",
        "        # Normalize between 0 and 1 using min-max normalization\n",
        "        Sxx = (log_spec - log_spec.min()) / (log_spec.max() - log_spec.min())\n",
        "\n",
        "        # truncate or pad spectrogram to desired dimensions\n",
        "        n_time_bins = 64\n",
        "        n_freq_bins = 128\n",
        "\n",
        "        if Sxx.shape[1] < n_freq_bins:\n",
        "            padding = np.zeros((Sxx.shape[0], n_freq_bins - Sxx.shape[1]))\n",
        "            Sxx = np.hstack((Sxx, padding))\n",
        "        else:\n",
        "            Sxx = Sxx[:, :n_freq_bins]\n",
        "\n",
        "        if Sxx.shape[1] < n_time_bins:\n",
        "            padding = np.zeros((n_time_bins - Sxx.shape[1], Sxx.shape[1]))\n",
        "            Sxx = np.vstack((Sxx, padding))\n",
        "        else:\n",
        "            Sxx = Sxx[:n_time_bins, :]\n",
        "\n",
        "        # reshape spectrogram to desired dimensions\n",
        "        Sxx = np.reshape(Sxx, (n_time_bins, n_freq_bins, 1))\n",
        "\n",
        "        # Plot the spectrogram\n",
        "        plt.figure(figsize=(10, 5))\n",
        "        plt.imshow(Sxx, cmap='jet', aspect='auto', origin='lower',\n",
        "                  extent=[t.min(), t.max(), f.min(), f.max()])\n",
        "\n",
        "        plt.axis('off');\n",
        "        plt.savefig(f'/content/drive/MyDrive/SPECIMAGES/Validation/{l}/{filename[:-3].replace(\".\", \"\")}.png')\n",
        "        plt.clf()"
      ],
      "metadata": {
        "colab": {
          "base_uri": "https://localhost:8080/",
          "height": 1000
        },
        "id": "IifE6-EJjBxO",
        "outputId": "a200ba06-95aa-43ef-d7a3-42464f51ee2d"
      },
      "execution_count": null,
      "outputs": [
        {
          "output_type": "display_data",
          "data": {
            "text/plain": [
              "<Figure size 1000x500 with 0 Axes>"
            ]
          },
          "metadata": {}
        },
        {
          "output_type": "display_data",
          "data": {
            "text/plain": [
              "<Figure size 1000x500 with 0 Axes>"
            ]
          },
          "metadata": {}
        },
        {
          "output_type": "display_data",
          "data": {
            "text/plain": [
              "<Figure size 1000x500 with 0 Axes>"
            ]
          },
          "metadata": {}
        },
        {
          "output_type": "display_data",
          "data": {
            "text/plain": [
              "<Figure size 1000x500 with 0 Axes>"
            ]
          },
          "metadata": {}
        },
        {
          "output_type": "display_data",
          "data": {
            "text/plain": [
              "<Figure size 1000x500 with 0 Axes>"
            ]
          },
          "metadata": {}
        },
        {
          "output_type": "display_data",
          "data": {
            "text/plain": [
              "<Figure size 1000x500 with 0 Axes>"
            ]
          },
          "metadata": {}
        },
        {
          "output_type": "display_data",
          "data": {
            "text/plain": [
              "<Figure size 1000x500 with 0 Axes>"
            ]
          },
          "metadata": {}
        },
        {
          "output_type": "display_data",
          "data": {
            "text/plain": [
              "<Figure size 1000x500 with 0 Axes>"
            ]
          },
          "metadata": {}
        },
        {
          "output_type": "display_data",
          "data": {
            "text/plain": [
              "<Figure size 1000x500 with 0 Axes>"
            ]
          },
          "metadata": {}
        },
        {
          "output_type": "display_data",
          "data": {
            "text/plain": [
              "<Figure size 1000x500 with 0 Axes>"
            ]
          },
          "metadata": {}
        },
        {
          "output_type": "display_data",
          "data": {
            "text/plain": [
              "<Figure size 1000x500 with 0 Axes>"
            ]
          },
          "metadata": {}
        },
        {
          "output_type": "display_data",
          "data": {
            "text/plain": [
              "<Figure size 1000x500 with 0 Axes>"
            ]
          },
          "metadata": {}
        },
        {
          "output_type": "display_data",
          "data": {
            "text/plain": [
              "<Figure size 1000x500 with 0 Axes>"
            ]
          },
          "metadata": {}
        },
        {
          "output_type": "display_data",
          "data": {
            "text/plain": [
              "<Figure size 1000x500 with 0 Axes>"
            ]
          },
          "metadata": {}
        },
        {
          "output_type": "display_data",
          "data": {
            "text/plain": [
              "<Figure size 1000x500 with 0 Axes>"
            ]
          },
          "metadata": {}
        },
        {
          "output_type": "display_data",
          "data": {
            "text/plain": [
              "<Figure size 1000x500 with 0 Axes>"
            ]
          },
          "metadata": {}
        },
        {
          "output_type": "display_data",
          "data": {
            "text/plain": [
              "<Figure size 1000x500 with 0 Axes>"
            ]
          },
          "metadata": {}
        },
        {
          "output_type": "display_data",
          "data": {
            "text/plain": [
              "<Figure size 1000x500 with 0 Axes>"
            ]
          },
          "metadata": {}
        },
        {
          "output_type": "display_data",
          "data": {
            "text/plain": [
              "<Figure size 1000x500 with 0 Axes>"
            ]
          },
          "metadata": {}
        },
        {
          "output_type": "display_data",
          "data": {
            "text/plain": [
              "<Figure size 1000x500 with 0 Axes>"
            ]
          },
          "metadata": {}
        },
        {
          "output_type": "display_data",
          "data": {
            "text/plain": [
              "<Figure size 1000x500 with 0 Axes>"
            ]
          },
          "metadata": {}
        },
        {
          "output_type": "display_data",
          "data": {
            "text/plain": [
              "<Figure size 1000x500 with 0 Axes>"
            ]
          },
          "metadata": {}
        },
        {
          "output_type": "display_data",
          "data": {
            "text/plain": [
              "<Figure size 1000x500 with 0 Axes>"
            ]
          },
          "metadata": {}
        },
        {
          "output_type": "display_data",
          "data": {
            "text/plain": [
              "<Figure size 1000x500 with 0 Axes>"
            ]
          },
          "metadata": {}
        },
        {
          "output_type": "display_data",
          "data": {
            "text/plain": [
              "<Figure size 1000x500 with 0 Axes>"
            ]
          },
          "metadata": {}
        },
        {
          "output_type": "display_data",
          "data": {
            "text/plain": [
              "<Figure size 1000x500 with 0 Axes>"
            ]
          },
          "metadata": {}
        },
        {
          "output_type": "display_data",
          "data": {
            "text/plain": [
              "<Figure size 1000x500 with 0 Axes>"
            ]
          },
          "metadata": {}
        },
        {
          "output_type": "display_data",
          "data": {
            "text/plain": [
              "<Figure size 1000x500 with 0 Axes>"
            ]
          },
          "metadata": {}
        },
        {
          "output_type": "display_data",
          "data": {
            "text/plain": [
              "<Figure size 1000x500 with 0 Axes>"
            ]
          },
          "metadata": {}
        },
        {
          "output_type": "display_data",
          "data": {
            "text/plain": [
              "<Figure size 1000x500 with 0 Axes>"
            ]
          },
          "metadata": {}
        },
        {
          "output_type": "display_data",
          "data": {
            "text/plain": [
              "<Figure size 1000x500 with 0 Axes>"
            ]
          },
          "metadata": {}
        },
        {
          "output_type": "display_data",
          "data": {
            "text/plain": [
              "<Figure size 1000x500 with 0 Axes>"
            ]
          },
          "metadata": {}
        },
        {
          "output_type": "display_data",
          "data": {
            "text/plain": [
              "<Figure size 1000x500 with 0 Axes>"
            ]
          },
          "metadata": {}
        },
        {
          "output_type": "display_data",
          "data": {
            "text/plain": [
              "<Figure size 1000x500 with 0 Axes>"
            ]
          },
          "metadata": {}
        },
        {
          "output_type": "display_data",
          "data": {
            "text/plain": [
              "<Figure size 1000x500 with 0 Axes>"
            ]
          },
          "metadata": {}
        },
        {
          "output_type": "display_data",
          "data": {
            "text/plain": [
              "<Figure size 1000x500 with 0 Axes>"
            ]
          },
          "metadata": {}
        },
        {
          "output_type": "display_data",
          "data": {
            "text/plain": [
              "<Figure size 1000x500 with 0 Axes>"
            ]
          },
          "metadata": {}
        },
        {
          "output_type": "display_data",
          "data": {
            "text/plain": [
              "<Figure size 1000x500 with 0 Axes>"
            ]
          },
          "metadata": {}
        },
        {
          "output_type": "display_data",
          "data": {
            "text/plain": [
              "<Figure size 1000x500 with 0 Axes>"
            ]
          },
          "metadata": {}
        },
        {
          "output_type": "display_data",
          "data": {
            "text/plain": [
              "<Figure size 1000x500 with 0 Axes>"
            ]
          },
          "metadata": {}
        },
        {
          "output_type": "display_data",
          "data": {
            "text/plain": [
              "<Figure size 1000x500 with 0 Axes>"
            ]
          },
          "metadata": {}
        },
        {
          "output_type": "display_data",
          "data": {
            "text/plain": [
              "<Figure size 1000x500 with 0 Axes>"
            ]
          },
          "metadata": {}
        },
        {
          "output_type": "display_data",
          "data": {
            "text/plain": [
              "<Figure size 1000x500 with 0 Axes>"
            ]
          },
          "metadata": {}
        },
        {
          "output_type": "display_data",
          "data": {
            "text/plain": [
              "<Figure size 1000x500 with 0 Axes>"
            ]
          },
          "metadata": {}
        },
        {
          "output_type": "display_data",
          "data": {
            "text/plain": [
              "<Figure size 1000x500 with 0 Axes>"
            ]
          },
          "metadata": {}
        },
        {
          "output_type": "display_data",
          "data": {
            "text/plain": [
              "<Figure size 1000x500 with 0 Axes>"
            ]
          },
          "metadata": {}
        },
        {
          "output_type": "display_data",
          "data": {
            "text/plain": [
              "<Figure size 1000x500 with 0 Axes>"
            ]
          },
          "metadata": {}
        },
        {
          "output_type": "display_data",
          "data": {
            "text/plain": [
              "<Figure size 1000x500 with 0 Axes>"
            ]
          },
          "metadata": {}
        },
        {
          "output_type": "display_data",
          "data": {
            "text/plain": [
              "<Figure size 1000x500 with 0 Axes>"
            ]
          },
          "metadata": {}
        },
        {
          "output_type": "display_data",
          "data": {
            "text/plain": [
              "<Figure size 1000x500 with 0 Axes>"
            ]
          },
          "metadata": {}
        },
        {
          "output_type": "display_data",
          "data": {
            "text/plain": [
              "<Figure size 1000x500 with 0 Axes>"
            ]
          },
          "metadata": {}
        },
        {
          "output_type": "display_data",
          "data": {
            "text/plain": [
              "<Figure size 1000x500 with 0 Axes>"
            ]
          },
          "metadata": {}
        },
        {
          "output_type": "display_data",
          "data": {
            "text/plain": [
              "<Figure size 1000x500 with 0 Axes>"
            ]
          },
          "metadata": {}
        },
        {
          "output_type": "display_data",
          "data": {
            "text/plain": [
              "<Figure size 1000x500 with 0 Axes>"
            ]
          },
          "metadata": {}
        },
        {
          "output_type": "display_data",
          "data": {
            "text/plain": [
              "<Figure size 1000x500 with 0 Axes>"
            ]
          },
          "metadata": {}
        },
        {
          "output_type": "display_data",
          "data": {
            "text/plain": [
              "<Figure size 1000x500 with 0 Axes>"
            ]
          },
          "metadata": {}
        },
        {
          "output_type": "display_data",
          "data": {
            "text/plain": [
              "<Figure size 1000x500 with 0 Axes>"
            ]
          },
          "metadata": {}
        },
        {
          "output_type": "display_data",
          "data": {
            "text/plain": [
              "<Figure size 1000x500 with 0 Axes>"
            ]
          },
          "metadata": {}
        },
        {
          "output_type": "display_data",
          "data": {
            "text/plain": [
              "<Figure size 1000x500 with 0 Axes>"
            ]
          },
          "metadata": {}
        },
        {
          "output_type": "display_data",
          "data": {
            "text/plain": [
              "<Figure size 1000x500 with 0 Axes>"
            ]
          },
          "metadata": {}
        },
        {
          "output_type": "display_data",
          "data": {
            "text/plain": [
              "<Figure size 1000x500 with 0 Axes>"
            ]
          },
          "metadata": {}
        },
        {
          "output_type": "display_data",
          "data": {
            "text/plain": [
              "<Figure size 1000x500 with 0 Axes>"
            ]
          },
          "metadata": {}
        },
        {
          "output_type": "display_data",
          "data": {
            "text/plain": [
              "<Figure size 1000x500 with 0 Axes>"
            ]
          },
          "metadata": {}
        },
        {
          "output_type": "display_data",
          "data": {
            "text/plain": [
              "<Figure size 1000x500 with 0 Axes>"
            ]
          },
          "metadata": {}
        },
        {
          "output_type": "display_data",
          "data": {
            "text/plain": [
              "<Figure size 1000x500 with 0 Axes>"
            ]
          },
          "metadata": {}
        },
        {
          "output_type": "display_data",
          "data": {
            "text/plain": [
              "<Figure size 1000x500 with 0 Axes>"
            ]
          },
          "metadata": {}
        },
        {
          "output_type": "display_data",
          "data": {
            "text/plain": [
              "<Figure size 1000x500 with 0 Axes>"
            ]
          },
          "metadata": {}
        },
        {
          "output_type": "display_data",
          "data": {
            "text/plain": [
              "<Figure size 1000x500 with 0 Axes>"
            ]
          },
          "metadata": {}
        },
        {
          "output_type": "display_data",
          "data": {
            "text/plain": [
              "<Figure size 1000x500 with 0 Axes>"
            ]
          },
          "metadata": {}
        },
        {
          "output_type": "display_data",
          "data": {
            "text/plain": [
              "<Figure size 1000x500 with 0 Axes>"
            ]
          },
          "metadata": {}
        },
        {
          "output_type": "display_data",
          "data": {
            "text/plain": [
              "<Figure size 1000x500 with 0 Axes>"
            ]
          },
          "metadata": {}
        },
        {
          "output_type": "display_data",
          "data": {
            "text/plain": [
              "<Figure size 1000x500 with 0 Axes>"
            ]
          },
          "metadata": {}
        },
        {
          "output_type": "display_data",
          "data": {
            "text/plain": [
              "<Figure size 1000x500 with 0 Axes>"
            ]
          },
          "metadata": {}
        },
        {
          "output_type": "display_data",
          "data": {
            "text/plain": [
              "<Figure size 1000x500 with 0 Axes>"
            ]
          },
          "metadata": {}
        },
        {
          "output_type": "display_data",
          "data": {
            "text/plain": [
              "<Figure size 1000x500 with 0 Axes>"
            ]
          },
          "metadata": {}
        },
        {
          "output_type": "display_data",
          "data": {
            "text/plain": [
              "<Figure size 1000x500 with 0 Axes>"
            ]
          },
          "metadata": {}
        },
        {
          "output_type": "display_data",
          "data": {
            "text/plain": [
              "<Figure size 1000x500 with 0 Axes>"
            ]
          },
          "metadata": {}
        },
        {
          "output_type": "display_data",
          "data": {
            "text/plain": [
              "<Figure size 1000x500 with 0 Axes>"
            ]
          },
          "metadata": {}
        },
        {
          "output_type": "display_data",
          "data": {
            "text/plain": [
              "<Figure size 1000x500 with 0 Axes>"
            ]
          },
          "metadata": {}
        },
        {
          "output_type": "display_data",
          "data": {
            "text/plain": [
              "<Figure size 1000x500 with 0 Axes>"
            ]
          },
          "metadata": {}
        },
        {
          "output_type": "display_data",
          "data": {
            "text/plain": [
              "<Figure size 1000x500 with 0 Axes>"
            ]
          },
          "metadata": {}
        },
        {
          "output_type": "display_data",
          "data": {
            "text/plain": [
              "<Figure size 1000x500 with 0 Axes>"
            ]
          },
          "metadata": {}
        },
        {
          "output_type": "display_data",
          "data": {
            "text/plain": [
              "<Figure size 1000x500 with 0 Axes>"
            ]
          },
          "metadata": {}
        },
        {
          "output_type": "display_data",
          "data": {
            "text/plain": [
              "<Figure size 1000x500 with 0 Axes>"
            ]
          },
          "metadata": {}
        },
        {
          "output_type": "display_data",
          "data": {
            "text/plain": [
              "<Figure size 1000x500 with 0 Axes>"
            ]
          },
          "metadata": {}
        },
        {
          "output_type": "display_data",
          "data": {
            "text/plain": [
              "<Figure size 1000x500 with 0 Axes>"
            ]
          },
          "metadata": {}
        },
        {
          "output_type": "display_data",
          "data": {
            "text/plain": [
              "<Figure size 1000x500 with 0 Axes>"
            ]
          },
          "metadata": {}
        },
        {
          "output_type": "display_data",
          "data": {
            "text/plain": [
              "<Figure size 1000x500 with 0 Axes>"
            ]
          },
          "metadata": {}
        },
        {
          "output_type": "display_data",
          "data": {
            "text/plain": [
              "<Figure size 1000x500 with 0 Axes>"
            ]
          },
          "metadata": {}
        },
        {
          "output_type": "display_data",
          "data": {
            "text/plain": [
              "<Figure size 1000x500 with 0 Axes>"
            ]
          },
          "metadata": {}
        },
        {
          "output_type": "display_data",
          "data": {
            "text/plain": [
              "<Figure size 1000x500 with 0 Axes>"
            ]
          },
          "metadata": {}
        },
        {
          "output_type": "display_data",
          "data": {
            "text/plain": [
              "<Figure size 1000x500 with 0 Axes>"
            ]
          },
          "metadata": {}
        },
        {
          "output_type": "display_data",
          "data": {
            "text/plain": [
              "<Figure size 1000x500 with 0 Axes>"
            ]
          },
          "metadata": {}
        },
        {
          "output_type": "display_data",
          "data": {
            "text/plain": [
              "<Figure size 1000x500 with 0 Axes>"
            ]
          },
          "metadata": {}
        },
        {
          "output_type": "display_data",
          "data": {
            "text/plain": [
              "<Figure size 1000x500 with 0 Axes>"
            ]
          },
          "metadata": {}
        },
        {
          "output_type": "display_data",
          "data": {
            "text/plain": [
              "<Figure size 1000x500 with 0 Axes>"
            ]
          },
          "metadata": {}
        },
        {
          "output_type": "display_data",
          "data": {
            "text/plain": [
              "<Figure size 1000x500 with 0 Axes>"
            ]
          },
          "metadata": {}
        },
        {
          "output_type": "display_data",
          "data": {
            "text/plain": [
              "<Figure size 1000x500 with 0 Axes>"
            ]
          },
          "metadata": {}
        },
        {
          "output_type": "display_data",
          "data": {
            "text/plain": [
              "<Figure size 1000x500 with 0 Axes>"
            ]
          },
          "metadata": {}
        },
        {
          "output_type": "display_data",
          "data": {
            "text/plain": [
              "<Figure size 1000x500 with 0 Axes>"
            ]
          },
          "metadata": {}
        },
        {
          "output_type": "display_data",
          "data": {
            "text/plain": [
              "<Figure size 1000x500 with 0 Axes>"
            ]
          },
          "metadata": {}
        },
        {
          "output_type": "display_data",
          "data": {
            "text/plain": [
              "<Figure size 1000x500 with 0 Axes>"
            ]
          },
          "metadata": {}
        },
        {
          "output_type": "display_data",
          "data": {
            "text/plain": [
              "<Figure size 1000x500 with 0 Axes>"
            ]
          },
          "metadata": {}
        },
        {
          "output_type": "display_data",
          "data": {
            "text/plain": [
              "<Figure size 1000x500 with 0 Axes>"
            ]
          },
          "metadata": {}
        },
        {
          "output_type": "display_data",
          "data": {
            "text/plain": [
              "<Figure size 1000x500 with 0 Axes>"
            ]
          },
          "metadata": {}
        },
        {
          "output_type": "display_data",
          "data": {
            "text/plain": [
              "<Figure size 1000x500 with 0 Axes>"
            ]
          },
          "metadata": {}
        },
        {
          "output_type": "display_data",
          "data": {
            "text/plain": [
              "<Figure size 1000x500 with 0 Axes>"
            ]
          },
          "metadata": {}
        },
        {
          "output_type": "display_data",
          "data": {
            "text/plain": [
              "<Figure size 1000x500 with 0 Axes>"
            ]
          },
          "metadata": {}
        },
        {
          "output_type": "display_data",
          "data": {
            "text/plain": [
              "<Figure size 1000x500 with 0 Axes>"
            ]
          },
          "metadata": {}
        },
        {
          "output_type": "display_data",
          "data": {
            "text/plain": [
              "<Figure size 1000x500 with 0 Axes>"
            ]
          },
          "metadata": {}
        },
        {
          "output_type": "display_data",
          "data": {
            "text/plain": [
              "<Figure size 1000x500 with 0 Axes>"
            ]
          },
          "metadata": {}
        },
        {
          "output_type": "display_data",
          "data": {
            "text/plain": [
              "<Figure size 1000x500 with 0 Axes>"
            ]
          },
          "metadata": {}
        },
        {
          "output_type": "display_data",
          "data": {
            "text/plain": [
              "<Figure size 1000x500 with 0 Axes>"
            ]
          },
          "metadata": {}
        },
        {
          "output_type": "display_data",
          "data": {
            "text/plain": [
              "<Figure size 1000x500 with 0 Axes>"
            ]
          },
          "metadata": {}
        },
        {
          "output_type": "display_data",
          "data": {
            "text/plain": [
              "<Figure size 1000x500 with 0 Axes>"
            ]
          },
          "metadata": {}
        },
        {
          "output_type": "display_data",
          "data": {
            "text/plain": [
              "<Figure size 1000x500 with 0 Axes>"
            ]
          },
          "metadata": {}
        },
        {
          "output_type": "display_data",
          "data": {
            "text/plain": [
              "<Figure size 1000x500 with 0 Axes>"
            ]
          },
          "metadata": {}
        },
        {
          "output_type": "display_data",
          "data": {
            "text/plain": [
              "<Figure size 1000x500 with 0 Axes>"
            ]
          },
          "metadata": {}
        },
        {
          "output_type": "display_data",
          "data": {
            "text/plain": [
              "<Figure size 1000x500 with 0 Axes>"
            ]
          },
          "metadata": {}
        },
        {
          "output_type": "display_data",
          "data": {
            "text/plain": [
              "<Figure size 1000x500 with 0 Axes>"
            ]
          },
          "metadata": {}
        },
        {
          "output_type": "display_data",
          "data": {
            "text/plain": [
              "<Figure size 1000x500 with 0 Axes>"
            ]
          },
          "metadata": {}
        },
        {
          "output_type": "display_data",
          "data": {
            "text/plain": [
              "<Figure size 1000x500 with 0 Axes>"
            ]
          },
          "metadata": {}
        },
        {
          "output_type": "display_data",
          "data": {
            "text/plain": [
              "<Figure size 1000x500 with 0 Axes>"
            ]
          },
          "metadata": {}
        },
        {
          "output_type": "display_data",
          "data": {
            "text/plain": [
              "<Figure size 1000x500 with 0 Axes>"
            ]
          },
          "metadata": {}
        },
        {
          "output_type": "display_data",
          "data": {
            "text/plain": [
              "<Figure size 1000x500 with 0 Axes>"
            ]
          },
          "metadata": {}
        },
        {
          "output_type": "display_data",
          "data": {
            "text/plain": [
              "<Figure size 1000x500 with 0 Axes>"
            ]
          },
          "metadata": {}
        },
        {
          "output_type": "display_data",
          "data": {
            "text/plain": [
              "<Figure size 1000x500 with 0 Axes>"
            ]
          },
          "metadata": {}
        },
        {
          "output_type": "display_data",
          "data": {
            "text/plain": [
              "<Figure size 1000x500 with 0 Axes>"
            ]
          },
          "metadata": {}
        },
        {
          "output_type": "display_data",
          "data": {
            "text/plain": [
              "<Figure size 1000x500 with 0 Axes>"
            ]
          },
          "metadata": {}
        },
        {
          "output_type": "display_data",
          "data": {
            "text/plain": [
              "<Figure size 1000x500 with 0 Axes>"
            ]
          },
          "metadata": {}
        },
        {
          "output_type": "display_data",
          "data": {
            "text/plain": [
              "<Figure size 1000x500 with 0 Axes>"
            ]
          },
          "metadata": {}
        },
        {
          "output_type": "display_data",
          "data": {
            "text/plain": [
              "<Figure size 1000x500 with 0 Axes>"
            ]
          },
          "metadata": {}
        },
        {
          "output_type": "display_data",
          "data": {
            "text/plain": [
              "<Figure size 1000x500 with 0 Axes>"
            ]
          },
          "metadata": {}
        },
        {
          "output_type": "display_data",
          "data": {
            "text/plain": [
              "<Figure size 1000x500 with 0 Axes>"
            ]
          },
          "metadata": {}
        },
        {
          "output_type": "display_data",
          "data": {
            "text/plain": [
              "<Figure size 1000x500 with 0 Axes>"
            ]
          },
          "metadata": {}
        },
        {
          "output_type": "display_data",
          "data": {
            "text/plain": [
              "<Figure size 1000x500 with 0 Axes>"
            ]
          },
          "metadata": {}
        },
        {
          "output_type": "display_data",
          "data": {
            "text/plain": [
              "<Figure size 1000x500 with 0 Axes>"
            ]
          },
          "metadata": {}
        },
        {
          "output_type": "display_data",
          "data": {
            "text/plain": [
              "<Figure size 1000x500 with 0 Axes>"
            ]
          },
          "metadata": {}
        },
        {
          "output_type": "display_data",
          "data": {
            "text/plain": [
              "<Figure size 1000x500 with 0 Axes>"
            ]
          },
          "metadata": {}
        },
        {
          "output_type": "display_data",
          "data": {
            "text/plain": [
              "<Figure size 1000x500 with 0 Axes>"
            ]
          },
          "metadata": {}
        },
        {
          "output_type": "display_data",
          "data": {
            "text/plain": [
              "<Figure size 1000x500 with 0 Axes>"
            ]
          },
          "metadata": {}
        },
        {
          "output_type": "display_data",
          "data": {
            "text/plain": [
              "<Figure size 1000x500 with 0 Axes>"
            ]
          },
          "metadata": {}
        },
        {
          "output_type": "display_data",
          "data": {
            "text/plain": [
              "<Figure size 1000x500 with 0 Axes>"
            ]
          },
          "metadata": {}
        },
        {
          "output_type": "display_data",
          "data": {
            "text/plain": [
              "<Figure size 1000x500 with 0 Axes>"
            ]
          },
          "metadata": {}
        },
        {
          "output_type": "display_data",
          "data": {
            "text/plain": [
              "<Figure size 1000x500 with 0 Axes>"
            ]
          },
          "metadata": {}
        },
        {
          "output_type": "display_data",
          "data": {
            "text/plain": [
              "<Figure size 1000x500 with 0 Axes>"
            ]
          },
          "metadata": {}
        },
        {
          "output_type": "display_data",
          "data": {
            "text/plain": [
              "<Figure size 1000x500 with 0 Axes>"
            ]
          },
          "metadata": {}
        },
        {
          "output_type": "display_data",
          "data": {
            "text/plain": [
              "<Figure size 1000x500 with 0 Axes>"
            ]
          },
          "metadata": {}
        },
        {
          "output_type": "display_data",
          "data": {
            "text/plain": [
              "<Figure size 1000x500 with 0 Axes>"
            ]
          },
          "metadata": {}
        },
        {
          "output_type": "display_data",
          "data": {
            "text/plain": [
              "<Figure size 1000x500 with 0 Axes>"
            ]
          },
          "metadata": {}
        },
        {
          "output_type": "display_data",
          "data": {
            "text/plain": [
              "<Figure size 1000x500 with 0 Axes>"
            ]
          },
          "metadata": {}
        },
        {
          "output_type": "display_data",
          "data": {
            "text/plain": [
              "<Figure size 1000x500 with 0 Axes>"
            ]
          },
          "metadata": {}
        },
        {
          "output_type": "display_data",
          "data": {
            "text/plain": [
              "<Figure size 1000x500 with 0 Axes>"
            ]
          },
          "metadata": {}
        },
        {
          "output_type": "display_data",
          "data": {
            "text/plain": [
              "<Figure size 1000x500 with 0 Axes>"
            ]
          },
          "metadata": {}
        },
        {
          "output_type": "display_data",
          "data": {
            "text/plain": [
              "<Figure size 1000x500 with 0 Axes>"
            ]
          },
          "metadata": {}
        },
        {
          "output_type": "display_data",
          "data": {
            "text/plain": [
              "<Figure size 1000x500 with 0 Axes>"
            ]
          },
          "metadata": {}
        },
        {
          "output_type": "display_data",
          "data": {
            "text/plain": [
              "<Figure size 1000x500 with 0 Axes>"
            ]
          },
          "metadata": {}
        },
        {
          "output_type": "display_data",
          "data": {
            "text/plain": [
              "<Figure size 1000x500 with 0 Axes>"
            ]
          },
          "metadata": {}
        },
        {
          "output_type": "display_data",
          "data": {
            "text/plain": [
              "<Figure size 1000x500 with 0 Axes>"
            ]
          },
          "metadata": {}
        },
        {
          "output_type": "display_data",
          "data": {
            "text/plain": [
              "<Figure size 1000x500 with 0 Axes>"
            ]
          },
          "metadata": {}
        },
        {
          "output_type": "display_data",
          "data": {
            "text/plain": [
              "<Figure size 1000x500 with 0 Axes>"
            ]
          },
          "metadata": {}
        },
        {
          "output_type": "display_data",
          "data": {
            "text/plain": [
              "<Figure size 1000x500 with 0 Axes>"
            ]
          },
          "metadata": {}
        },
        {
          "output_type": "display_data",
          "data": {
            "text/plain": [
              "<Figure size 1000x500 with 0 Axes>"
            ]
          },
          "metadata": {}
        },
        {
          "output_type": "display_data",
          "data": {
            "text/plain": [
              "<Figure size 1000x500 with 0 Axes>"
            ]
          },
          "metadata": {}
        },
        {
          "output_type": "display_data",
          "data": {
            "text/plain": [
              "<Figure size 1000x500 with 0 Axes>"
            ]
          },
          "metadata": {}
        },
        {
          "output_type": "display_data",
          "data": {
            "text/plain": [
              "<Figure size 1000x500 with 0 Axes>"
            ]
          },
          "metadata": {}
        },
        {
          "output_type": "display_data",
          "data": {
            "text/plain": [
              "<Figure size 1000x500 with 0 Axes>"
            ]
          },
          "metadata": {}
        },
        {
          "output_type": "display_data",
          "data": {
            "text/plain": [
              "<Figure size 1000x500 with 0 Axes>"
            ]
          },
          "metadata": {}
        },
        {
          "output_type": "display_data",
          "data": {
            "text/plain": [
              "<Figure size 1000x500 with 0 Axes>"
            ]
          },
          "metadata": {}
        },
        {
          "output_type": "display_data",
          "data": {
            "text/plain": [
              "<Figure size 1000x500 with 0 Axes>"
            ]
          },
          "metadata": {}
        },
        {
          "output_type": "display_data",
          "data": {
            "text/plain": [
              "<Figure size 1000x500 with 0 Axes>"
            ]
          },
          "metadata": {}
        },
        {
          "output_type": "display_data",
          "data": {
            "text/plain": [
              "<Figure size 1000x500 with 0 Axes>"
            ]
          },
          "metadata": {}
        },
        {
          "output_type": "display_data",
          "data": {
            "text/plain": [
              "<Figure size 1000x500 with 0 Axes>"
            ]
          },
          "metadata": {}
        },
        {
          "output_type": "display_data",
          "data": {
            "text/plain": [
              "<Figure size 1000x500 with 0 Axes>"
            ]
          },
          "metadata": {}
        },
        {
          "output_type": "display_data",
          "data": {
            "text/plain": [
              "<Figure size 1000x500 with 0 Axes>"
            ]
          },
          "metadata": {}
        },
        {
          "output_type": "display_data",
          "data": {
            "text/plain": [
              "<Figure size 1000x500 with 0 Axes>"
            ]
          },
          "metadata": {}
        },
        {
          "output_type": "display_data",
          "data": {
            "text/plain": [
              "<Figure size 1000x500 with 0 Axes>"
            ]
          },
          "metadata": {}
        },
        {
          "output_type": "display_data",
          "data": {
            "text/plain": [
              "<Figure size 1000x500 with 0 Axes>"
            ]
          },
          "metadata": {}
        },
        {
          "output_type": "display_data",
          "data": {
            "text/plain": [
              "<Figure size 1000x500 with 0 Axes>"
            ]
          },
          "metadata": {}
        },
        {
          "output_type": "display_data",
          "data": {
            "text/plain": [
              "<Figure size 1000x500 with 0 Axes>"
            ]
          },
          "metadata": {}
        },
        {
          "output_type": "display_data",
          "data": {
            "text/plain": [
              "<Figure size 1000x500 with 0 Axes>"
            ]
          },
          "metadata": {}
        },
        {
          "output_type": "display_data",
          "data": {
            "text/plain": [
              "<Figure size 1000x500 with 0 Axes>"
            ]
          },
          "metadata": {}
        },
        {
          "output_type": "display_data",
          "data": {
            "text/plain": [
              "<Figure size 1000x500 with 0 Axes>"
            ]
          },
          "metadata": {}
        },
        {
          "output_type": "display_data",
          "data": {
            "text/plain": [
              "<Figure size 1000x500 with 0 Axes>"
            ]
          },
          "metadata": {}
        },
        {
          "output_type": "display_data",
          "data": {
            "text/plain": [
              "<Figure size 1000x500 with 0 Axes>"
            ]
          },
          "metadata": {}
        },
        {
          "output_type": "display_data",
          "data": {
            "text/plain": [
              "<Figure size 1000x500 with 0 Axes>"
            ]
          },
          "metadata": {}
        },
        {
          "output_type": "display_data",
          "data": {
            "text/plain": [
              "<Figure size 1000x500 with 0 Axes>"
            ]
          },
          "metadata": {}
        },
        {
          "output_type": "display_data",
          "data": {
            "text/plain": [
              "<Figure size 1000x500 with 0 Axes>"
            ]
          },
          "metadata": {}
        },
        {
          "output_type": "display_data",
          "data": {
            "text/plain": [
              "<Figure size 1000x500 with 0 Axes>"
            ]
          },
          "metadata": {}
        },
        {
          "output_type": "display_data",
          "data": {
            "text/plain": [
              "<Figure size 1000x500 with 0 Axes>"
            ]
          },
          "metadata": {}
        },
        {
          "output_type": "display_data",
          "data": {
            "text/plain": [
              "<Figure size 1000x500 with 0 Axes>"
            ]
          },
          "metadata": {}
        },
        {
          "output_type": "display_data",
          "data": {
            "text/plain": [
              "<Figure size 1000x500 with 0 Axes>"
            ]
          },
          "metadata": {}
        },
        {
          "output_type": "display_data",
          "data": {
            "text/plain": [
              "<Figure size 1000x500 with 0 Axes>"
            ]
          },
          "metadata": {}
        },
        {
          "output_type": "display_data",
          "data": {
            "text/plain": [
              "<Figure size 1000x500 with 0 Axes>"
            ]
          },
          "metadata": {}
        },
        {
          "output_type": "display_data",
          "data": {
            "text/plain": [
              "<Figure size 1000x500 with 0 Axes>"
            ]
          },
          "metadata": {}
        },
        {
          "output_type": "display_data",
          "data": {
            "text/plain": [
              "<Figure size 1000x500 with 0 Axes>"
            ]
          },
          "metadata": {}
        },
        {
          "output_type": "display_data",
          "data": {
            "text/plain": [
              "<Figure size 1000x500 with 0 Axes>"
            ]
          },
          "metadata": {}
        },
        {
          "output_type": "display_data",
          "data": {
            "text/plain": [
              "<Figure size 1000x500 with 0 Axes>"
            ]
          },
          "metadata": {}
        },
        {
          "output_type": "display_data",
          "data": {
            "text/plain": [
              "<Figure size 1000x500 with 0 Axes>"
            ]
          },
          "metadata": {}
        },
        {
          "output_type": "display_data",
          "data": {
            "text/plain": [
              "<Figure size 1000x500 with 0 Axes>"
            ]
          },
          "metadata": {}
        },
        {
          "output_type": "display_data",
          "data": {
            "text/plain": [
              "<Figure size 1000x500 with 0 Axes>"
            ]
          },
          "metadata": {}
        },
        {
          "output_type": "display_data",
          "data": {
            "text/plain": [
              "<Figure size 1000x500 with 0 Axes>"
            ]
          },
          "metadata": {}
        },
        {
          "output_type": "display_data",
          "data": {
            "text/plain": [
              "<Figure size 1000x500 with 0 Axes>"
            ]
          },
          "metadata": {}
        },
        {
          "output_type": "display_data",
          "data": {
            "text/plain": [
              "<Figure size 1000x500 with 0 Axes>"
            ]
          },
          "metadata": {}
        },
        {
          "output_type": "display_data",
          "data": {
            "text/plain": [
              "<Figure size 1000x500 with 0 Axes>"
            ]
          },
          "metadata": {}
        },
        {
          "output_type": "display_data",
          "data": {
            "text/plain": [
              "<Figure size 1000x500 with 0 Axes>"
            ]
          },
          "metadata": {}
        },
        {
          "output_type": "display_data",
          "data": {
            "text/plain": [
              "<Figure size 1000x500 with 0 Axes>"
            ]
          },
          "metadata": {}
        },
        {
          "output_type": "display_data",
          "data": {
            "text/plain": [
              "<Figure size 1000x500 with 0 Axes>"
            ]
          },
          "metadata": {}
        },
        {
          "output_type": "display_data",
          "data": {
            "text/plain": [
              "<Figure size 1000x500 with 0 Axes>"
            ]
          },
          "metadata": {}
        },
        {
          "output_type": "display_data",
          "data": {
            "text/plain": [
              "<Figure size 1000x500 with 0 Axes>"
            ]
          },
          "metadata": {}
        },
        {
          "output_type": "display_data",
          "data": {
            "text/plain": [
              "<Figure size 1000x500 with 0 Axes>"
            ]
          },
          "metadata": {}
        },
        {
          "output_type": "display_data",
          "data": {
            "text/plain": [
              "<Figure size 1000x500 with 0 Axes>"
            ]
          },
          "metadata": {}
        },
        {
          "output_type": "display_data",
          "data": {
            "text/plain": [
              "<Figure size 1000x500 with 0 Axes>"
            ]
          },
          "metadata": {}
        },
        {
          "output_type": "display_data",
          "data": {
            "text/plain": [
              "<Figure size 1000x500 with 0 Axes>"
            ]
          },
          "metadata": {}
        },
        {
          "output_type": "display_data",
          "data": {
            "text/plain": [
              "<Figure size 1000x500 with 0 Axes>"
            ]
          },
          "metadata": {}
        },
        {
          "output_type": "display_data",
          "data": {
            "text/plain": [
              "<Figure size 1000x500 with 0 Axes>"
            ]
          },
          "metadata": {}
        },
        {
          "output_type": "display_data",
          "data": {
            "text/plain": [
              "<Figure size 1000x500 with 0 Axes>"
            ]
          },
          "metadata": {}
        },
        {
          "output_type": "display_data",
          "data": {
            "text/plain": [
              "<Figure size 1000x500 with 0 Axes>"
            ]
          },
          "metadata": {}
        },
        {
          "output_type": "display_data",
          "data": {
            "text/plain": [
              "<Figure size 1000x500 with 0 Axes>"
            ]
          },
          "metadata": {}
        },
        {
          "output_type": "display_data",
          "data": {
            "text/plain": [
              "<Figure size 1000x500 with 0 Axes>"
            ]
          },
          "metadata": {}
        },
        {
          "output_type": "display_data",
          "data": {
            "text/plain": [
              "<Figure size 1000x500 with 0 Axes>"
            ]
          },
          "metadata": {}
        },
        {
          "output_type": "display_data",
          "data": {
            "text/plain": [
              "<Figure size 1000x500 with 0 Axes>"
            ]
          },
          "metadata": {}
        },
        {
          "output_type": "display_data",
          "data": {
            "text/plain": [
              "<Figure size 1000x500 with 0 Axes>"
            ]
          },
          "metadata": {}
        },
        {
          "output_type": "display_data",
          "data": {
            "text/plain": [
              "<Figure size 1000x500 with 0 Axes>"
            ]
          },
          "metadata": {}
        },
        {
          "output_type": "display_data",
          "data": {
            "text/plain": [
              "<Figure size 1000x500 with 0 Axes>"
            ]
          },
          "metadata": {}
        },
        {
          "output_type": "display_data",
          "data": {
            "text/plain": [
              "<Figure size 1000x500 with 0 Axes>"
            ]
          },
          "metadata": {}
        },
        {
          "output_type": "display_data",
          "data": {
            "text/plain": [
              "<Figure size 1000x500 with 0 Axes>"
            ]
          },
          "metadata": {}
        },
        {
          "output_type": "display_data",
          "data": {
            "text/plain": [
              "<Figure size 1000x500 with 0 Axes>"
            ]
          },
          "metadata": {}
        },
        {
          "output_type": "display_data",
          "data": {
            "text/plain": [
              "<Figure size 1000x500 with 0 Axes>"
            ]
          },
          "metadata": {}
        },
        {
          "output_type": "display_data",
          "data": {
            "text/plain": [
              "<Figure size 1000x500 with 0 Axes>"
            ]
          },
          "metadata": {}
        },
        {
          "output_type": "display_data",
          "data": {
            "text/plain": [
              "<Figure size 1000x500 with 0 Axes>"
            ]
          },
          "metadata": {}
        },
        {
          "output_type": "display_data",
          "data": {
            "text/plain": [
              "<Figure size 1000x500 with 0 Axes>"
            ]
          },
          "metadata": {}
        },
        {
          "output_type": "display_data",
          "data": {
            "text/plain": [
              "<Figure size 1000x500 with 0 Axes>"
            ]
          },
          "metadata": {}
        },
        {
          "output_type": "display_data",
          "data": {
            "text/plain": [
              "<Figure size 1000x500 with 0 Axes>"
            ]
          },
          "metadata": {}
        },
        {
          "output_type": "display_data",
          "data": {
            "text/plain": [
              "<Figure size 1000x500 with 0 Axes>"
            ]
          },
          "metadata": {}
        },
        {
          "output_type": "display_data",
          "data": {
            "text/plain": [
              "<Figure size 1000x500 with 0 Axes>"
            ]
          },
          "metadata": {}
        },
        {
          "output_type": "display_data",
          "data": {
            "text/plain": [
              "<Figure size 1000x500 with 0 Axes>"
            ]
          },
          "metadata": {}
        },
        {
          "output_type": "display_data",
          "data": {
            "text/plain": [
              "<Figure size 1000x500 with 0 Axes>"
            ]
          },
          "metadata": {}
        },
        {
          "output_type": "display_data",
          "data": {
            "text/plain": [
              "<Figure size 1000x500 with 0 Axes>"
            ]
          },
          "metadata": {}
        },
        {
          "output_type": "display_data",
          "data": {
            "text/plain": [
              "<Figure size 1000x500 with 0 Axes>"
            ]
          },
          "metadata": {}
        },
        {
          "output_type": "display_data",
          "data": {
            "text/plain": [
              "<Figure size 1000x500 with 0 Axes>"
            ]
          },
          "metadata": {}
        },
        {
          "output_type": "display_data",
          "data": {
            "text/plain": [
              "<Figure size 1000x500 with 0 Axes>"
            ]
          },
          "metadata": {}
        },
        {
          "output_type": "display_data",
          "data": {
            "text/plain": [
              "<Figure size 1000x500 with 0 Axes>"
            ]
          },
          "metadata": {}
        },
        {
          "output_type": "display_data",
          "data": {
            "text/plain": [
              "<Figure size 1000x500 with 0 Axes>"
            ]
          },
          "metadata": {}
        },
        {
          "output_type": "display_data",
          "data": {
            "text/plain": [
              "<Figure size 1000x500 with 0 Axes>"
            ]
          },
          "metadata": {}
        },
        {
          "output_type": "display_data",
          "data": {
            "text/plain": [
              "<Figure size 1000x500 with 0 Axes>"
            ]
          },
          "metadata": {}
        },
        {
          "output_type": "display_data",
          "data": {
            "text/plain": [
              "<Figure size 1000x500 with 0 Axes>"
            ]
          },
          "metadata": {}
        },
        {
          "output_type": "display_data",
          "data": {
            "text/plain": [
              "<Figure size 1000x500 with 0 Axes>"
            ]
          },
          "metadata": {}
        },
        {
          "output_type": "display_data",
          "data": {
            "text/plain": [
              "<Figure size 1000x500 with 0 Axes>"
            ]
          },
          "metadata": {}
        },
        {
          "output_type": "display_data",
          "data": {
            "text/plain": [
              "<Figure size 1000x500 with 0 Axes>"
            ]
          },
          "metadata": {}
        },
        {
          "output_type": "display_data",
          "data": {
            "text/plain": [
              "<Figure size 1000x500 with 0 Axes>"
            ]
          },
          "metadata": {}
        },
        {
          "output_type": "display_data",
          "data": {
            "text/plain": [
              "<Figure size 1000x500 with 0 Axes>"
            ]
          },
          "metadata": {}
        },
        {
          "output_type": "display_data",
          "data": {
            "text/plain": [
              "<Figure size 1000x500 with 0 Axes>"
            ]
          },
          "metadata": {}
        },
        {
          "output_type": "display_data",
          "data": {
            "text/plain": [
              "<Figure size 1000x500 with 0 Axes>"
            ]
          },
          "metadata": {}
        },
        {
          "output_type": "display_data",
          "data": {
            "text/plain": [
              "<Figure size 1000x500 with 0 Axes>"
            ]
          },
          "metadata": {}
        },
        {
          "output_type": "display_data",
          "data": {
            "text/plain": [
              "<Figure size 1000x500 with 0 Axes>"
            ]
          },
          "metadata": {}
        },
        {
          "output_type": "display_data",
          "data": {
            "text/plain": [
              "<Figure size 1000x500 with 0 Axes>"
            ]
          },
          "metadata": {}
        },
        {
          "output_type": "display_data",
          "data": {
            "text/plain": [
              "<Figure size 1000x500 with 0 Axes>"
            ]
          },
          "metadata": {}
        },
        {
          "output_type": "display_data",
          "data": {
            "text/plain": [
              "<Figure size 1000x500 with 0 Axes>"
            ]
          },
          "metadata": {}
        },
        {
          "output_type": "display_data",
          "data": {
            "text/plain": [
              "<Figure size 1000x500 with 0 Axes>"
            ]
          },
          "metadata": {}
        },
        {
          "output_type": "display_data",
          "data": {
            "text/plain": [
              "<Figure size 1000x500 with 0 Axes>"
            ]
          },
          "metadata": {}
        },
        {
          "output_type": "display_data",
          "data": {
            "text/plain": [
              "<Figure size 1000x500 with 0 Axes>"
            ]
          },
          "metadata": {}
        },
        {
          "output_type": "display_data",
          "data": {
            "text/plain": [
              "<Figure size 1000x500 with 0 Axes>"
            ]
          },
          "metadata": {}
        },
        {
          "output_type": "display_data",
          "data": {
            "text/plain": [
              "<Figure size 1000x500 with 0 Axes>"
            ]
          },
          "metadata": {}
        },
        {
          "output_type": "display_data",
          "data": {
            "text/plain": [
              "<Figure size 1000x500 with 0 Axes>"
            ]
          },
          "metadata": {}
        },
        {
          "output_type": "display_data",
          "data": {
            "text/plain": [
              "<Figure size 1000x500 with 0 Axes>"
            ]
          },
          "metadata": {}
        },
        {
          "output_type": "display_data",
          "data": {
            "text/plain": [
              "<Figure size 1000x500 with 0 Axes>"
            ]
          },
          "metadata": {}
        },
        {
          "output_type": "display_data",
          "data": {
            "text/plain": [
              "<Figure size 1000x500 with 0 Axes>"
            ]
          },
          "metadata": {}
        },
        {
          "output_type": "display_data",
          "data": {
            "text/plain": [
              "<Figure size 1000x500 with 0 Axes>"
            ]
          },
          "metadata": {}
        },
        {
          "output_type": "display_data",
          "data": {
            "text/plain": [
              "<Figure size 1000x500 with 0 Axes>"
            ]
          },
          "metadata": {}
        },
        {
          "output_type": "display_data",
          "data": {
            "text/plain": [
              "<Figure size 1000x500 with 0 Axes>"
            ]
          },
          "metadata": {}
        },
        {
          "output_type": "display_data",
          "data": {
            "text/plain": [
              "<Figure size 1000x500 with 0 Axes>"
            ]
          },
          "metadata": {}
        },
        {
          "output_type": "display_data",
          "data": {
            "text/plain": [
              "<Figure size 1000x500 with 0 Axes>"
            ]
          },
          "metadata": {}
        },
        {
          "output_type": "display_data",
          "data": {
            "text/plain": [
              "<Figure size 1000x500 with 0 Axes>"
            ]
          },
          "metadata": {}
        },
        {
          "output_type": "display_data",
          "data": {
            "text/plain": [
              "<Figure size 1000x500 with 0 Axes>"
            ]
          },
          "metadata": {}
        },
        {
          "output_type": "display_data",
          "data": {
            "text/plain": [
              "<Figure size 1000x500 with 0 Axes>"
            ]
          },
          "metadata": {}
        },
        {
          "output_type": "display_data",
          "data": {
            "text/plain": [
              "<Figure size 1000x500 with 0 Axes>"
            ]
          },
          "metadata": {}
        },
        {
          "output_type": "display_data",
          "data": {
            "text/plain": [
              "<Figure size 1000x500 with 0 Axes>"
            ]
          },
          "metadata": {}
        },
        {
          "output_type": "display_data",
          "data": {
            "text/plain": [
              "<Figure size 1000x500 with 0 Axes>"
            ]
          },
          "metadata": {}
        },
        {
          "output_type": "display_data",
          "data": {
            "text/plain": [
              "<Figure size 1000x500 with 0 Axes>"
            ]
          },
          "metadata": {}
        },
        {
          "output_type": "display_data",
          "data": {
            "text/plain": [
              "<Figure size 1000x500 with 0 Axes>"
            ]
          },
          "metadata": {}
        },
        {
          "output_type": "display_data",
          "data": {
            "text/plain": [
              "<Figure size 1000x500 with 0 Axes>"
            ]
          },
          "metadata": {}
        },
        {
          "output_type": "display_data",
          "data": {
            "text/plain": [
              "<Figure size 1000x500 with 0 Axes>"
            ]
          },
          "metadata": {}
        },
        {
          "output_type": "display_data",
          "data": {
            "text/plain": [
              "<Figure size 1000x500 with 0 Axes>"
            ]
          },
          "metadata": {}
        },
        {
          "output_type": "display_data",
          "data": {
            "text/plain": [
              "<Figure size 1000x500 with 0 Axes>"
            ]
          },
          "metadata": {}
        },
        {
          "output_type": "display_data",
          "data": {
            "text/plain": [
              "<Figure size 1000x500 with 0 Axes>"
            ]
          },
          "metadata": {}
        },
        {
          "output_type": "display_data",
          "data": {
            "text/plain": [
              "<Figure size 1000x500 with 0 Axes>"
            ]
          },
          "metadata": {}
        },
        {
          "output_type": "display_data",
          "data": {
            "text/plain": [
              "<Figure size 1000x500 with 0 Axes>"
            ]
          },
          "metadata": {}
        },
        {
          "output_type": "display_data",
          "data": {
            "text/plain": [
              "<Figure size 1000x500 with 0 Axes>"
            ]
          },
          "metadata": {}
        },
        {
          "output_type": "display_data",
          "data": {
            "text/plain": [
              "<Figure size 1000x500 with 0 Axes>"
            ]
          },
          "metadata": {}
        },
        {
          "output_type": "display_data",
          "data": {
            "text/plain": [
              "<Figure size 1000x500 with 0 Axes>"
            ]
          },
          "metadata": {}
        },
        {
          "output_type": "display_data",
          "data": {
            "text/plain": [
              "<Figure size 1000x500 with 0 Axes>"
            ]
          },
          "metadata": {}
        },
        {
          "output_type": "display_data",
          "data": {
            "text/plain": [
              "<Figure size 1000x500 with 0 Axes>"
            ]
          },
          "metadata": {}
        },
        {
          "output_type": "display_data",
          "data": {
            "text/plain": [
              "<Figure size 1000x500 with 0 Axes>"
            ]
          },
          "metadata": {}
        },
        {
          "output_type": "display_data",
          "data": {
            "text/plain": [
              "<Figure size 1000x500 with 0 Axes>"
            ]
          },
          "metadata": {}
        },
        {
          "output_type": "display_data",
          "data": {
            "text/plain": [
              "<Figure size 1000x500 with 0 Axes>"
            ]
          },
          "metadata": {}
        },
        {
          "output_type": "display_data",
          "data": {
            "text/plain": [
              "<Figure size 1000x500 with 0 Axes>"
            ]
          },
          "metadata": {}
        },
        {
          "output_type": "display_data",
          "data": {
            "text/plain": [
              "<Figure size 1000x500 with 0 Axes>"
            ]
          },
          "metadata": {}
        },
        {
          "output_type": "display_data",
          "data": {
            "text/plain": [
              "<Figure size 1000x500 with 0 Axes>"
            ]
          },
          "metadata": {}
        },
        {
          "output_type": "display_data",
          "data": {
            "text/plain": [
              "<Figure size 1000x500 with 0 Axes>"
            ]
          },
          "metadata": {}
        },
        {
          "output_type": "display_data",
          "data": {
            "text/plain": [
              "<Figure size 1000x500 with 0 Axes>"
            ]
          },
          "metadata": {}
        },
        {
          "output_type": "display_data",
          "data": {
            "text/plain": [
              "<Figure size 1000x500 with 0 Axes>"
            ]
          },
          "metadata": {}
        },
        {
          "output_type": "display_data",
          "data": {
            "text/plain": [
              "<Figure size 1000x500 with 0 Axes>"
            ]
          },
          "metadata": {}
        },
        {
          "output_type": "display_data",
          "data": {
            "text/plain": [
              "<Figure size 1000x500 with 0 Axes>"
            ]
          },
          "metadata": {}
        },
        {
          "output_type": "display_data",
          "data": {
            "text/plain": [
              "<Figure size 1000x500 with 0 Axes>"
            ]
          },
          "metadata": {}
        },
        {
          "output_type": "display_data",
          "data": {
            "text/plain": [
              "<Figure size 1000x500 with 0 Axes>"
            ]
          },
          "metadata": {}
        },
        {
          "output_type": "display_data",
          "data": {
            "text/plain": [
              "<Figure size 1000x500 with 0 Axes>"
            ]
          },
          "metadata": {}
        },
        {
          "output_type": "display_data",
          "data": {
            "text/plain": [
              "<Figure size 1000x500 with 0 Axes>"
            ]
          },
          "metadata": {}
        },
        {
          "output_type": "display_data",
          "data": {
            "text/plain": [
              "<Figure size 1000x500 with 0 Axes>"
            ]
          },
          "metadata": {}
        },
        {
          "output_type": "display_data",
          "data": {
            "text/plain": [
              "<Figure size 1000x500 with 0 Axes>"
            ]
          },
          "metadata": {}
        },
        {
          "output_type": "display_data",
          "data": {
            "text/plain": [
              "<Figure size 1000x500 with 0 Axes>"
            ]
          },
          "metadata": {}
        },
        {
          "output_type": "display_data",
          "data": {
            "text/plain": [
              "<Figure size 1000x500 with 0 Axes>"
            ]
          },
          "metadata": {}
        },
        {
          "output_type": "display_data",
          "data": {
            "text/plain": [
              "<Figure size 1000x500 with 0 Axes>"
            ]
          },
          "metadata": {}
        },
        {
          "output_type": "display_data",
          "data": {
            "text/plain": [
              "<Figure size 1000x500 with 0 Axes>"
            ]
          },
          "metadata": {}
        },
        {
          "output_type": "display_data",
          "data": {
            "text/plain": [
              "<Figure size 1000x500 with 0 Axes>"
            ]
          },
          "metadata": {}
        },
        {
          "output_type": "display_data",
          "data": {
            "text/plain": [
              "<Figure size 1000x500 with 0 Axes>"
            ]
          },
          "metadata": {}
        },
        {
          "output_type": "display_data",
          "data": {
            "text/plain": [
              "<Figure size 1000x500 with 0 Axes>"
            ]
          },
          "metadata": {}
        },
        {
          "output_type": "display_data",
          "data": {
            "text/plain": [
              "<Figure size 1000x500 with 0 Axes>"
            ]
          },
          "metadata": {}
        },
        {
          "output_type": "display_data",
          "data": {
            "text/plain": [
              "<Figure size 1000x500 with 0 Axes>"
            ]
          },
          "metadata": {}
        },
        {
          "output_type": "display_data",
          "data": {
            "text/plain": [
              "<Figure size 1000x500 with 0 Axes>"
            ]
          },
          "metadata": {}
        },
        {
          "output_type": "display_data",
          "data": {
            "text/plain": [
              "<Figure size 1000x500 with 0 Axes>"
            ]
          },
          "metadata": {}
        },
        {
          "output_type": "display_data",
          "data": {
            "text/plain": [
              "<Figure size 1000x500 with 0 Axes>"
            ]
          },
          "metadata": {}
        },
        {
          "output_type": "display_data",
          "data": {
            "text/plain": [
              "<Figure size 1000x500 with 0 Axes>"
            ]
          },
          "metadata": {}
        },
        {
          "output_type": "display_data",
          "data": {
            "text/plain": [
              "<Figure size 1000x500 with 0 Axes>"
            ]
          },
          "metadata": {}
        },
        {
          "output_type": "display_data",
          "data": {
            "text/plain": [
              "<Figure size 1000x500 with 0 Axes>"
            ]
          },
          "metadata": {}
        },
        {
          "output_type": "display_data",
          "data": {
            "text/plain": [
              "<Figure size 1000x500 with 0 Axes>"
            ]
          },
          "metadata": {}
        },
        {
          "output_type": "display_data",
          "data": {
            "text/plain": [
              "<Figure size 1000x500 with 0 Axes>"
            ]
          },
          "metadata": {}
        },
        {
          "output_type": "display_data",
          "data": {
            "text/plain": [
              "<Figure size 1000x500 with 0 Axes>"
            ]
          },
          "metadata": {}
        },
        {
          "output_type": "display_data",
          "data": {
            "text/plain": [
              "<Figure size 1000x500 with 0 Axes>"
            ]
          },
          "metadata": {}
        },
        {
          "output_type": "display_data",
          "data": {
            "text/plain": [
              "<Figure size 1000x500 with 0 Axes>"
            ]
          },
          "metadata": {}
        },
        {
          "output_type": "display_data",
          "data": {
            "text/plain": [
              "<Figure size 1000x500 with 0 Axes>"
            ]
          },
          "metadata": {}
        },
        {
          "output_type": "display_data",
          "data": {
            "text/plain": [
              "<Figure size 1000x500 with 0 Axes>"
            ]
          },
          "metadata": {}
        },
        {
          "output_type": "display_data",
          "data": {
            "text/plain": [
              "<Figure size 1000x500 with 0 Axes>"
            ]
          },
          "metadata": {}
        },
        {
          "output_type": "display_data",
          "data": {
            "text/plain": [
              "<Figure size 1000x500 with 0 Axes>"
            ]
          },
          "metadata": {}
        },
        {
          "output_type": "display_data",
          "data": {
            "text/plain": [
              "<Figure size 1000x500 with 0 Axes>"
            ]
          },
          "metadata": {}
        },
        {
          "output_type": "display_data",
          "data": {
            "text/plain": [
              "<Figure size 1000x500 with 0 Axes>"
            ]
          },
          "metadata": {}
        },
        {
          "output_type": "display_data",
          "data": {
            "text/plain": [
              "<Figure size 1000x500 with 0 Axes>"
            ]
          },
          "metadata": {}
        },
        {
          "output_type": "display_data",
          "data": {
            "text/plain": [
              "<Figure size 1000x500 with 0 Axes>"
            ]
          },
          "metadata": {}
        },
        {
          "output_type": "display_data",
          "data": {
            "text/plain": [
              "<Figure size 1000x500 with 0 Axes>"
            ]
          },
          "metadata": {}
        },
        {
          "output_type": "display_data",
          "data": {
            "text/plain": [
              "<Figure size 1000x500 with 0 Axes>"
            ]
          },
          "metadata": {}
        },
        {
          "output_type": "display_data",
          "data": {
            "text/plain": [
              "<Figure size 1000x500 with 0 Axes>"
            ]
          },
          "metadata": {}
        },
        {
          "output_type": "display_data",
          "data": {
            "text/plain": [
              "<Figure size 1000x500 with 0 Axes>"
            ]
          },
          "metadata": {}
        },
        {
          "output_type": "display_data",
          "data": {
            "text/plain": [
              "<Figure size 1000x500 with 0 Axes>"
            ]
          },
          "metadata": {}
        },
        {
          "output_type": "display_data",
          "data": {
            "text/plain": [
              "<Figure size 1000x500 with 0 Axes>"
            ]
          },
          "metadata": {}
        },
        {
          "output_type": "display_data",
          "data": {
            "text/plain": [
              "<Figure size 1000x500 with 0 Axes>"
            ]
          },
          "metadata": {}
        },
        {
          "output_type": "display_data",
          "data": {
            "text/plain": [
              "<Figure size 1000x500 with 0 Axes>"
            ]
          },
          "metadata": {}
        },
        {
          "output_type": "display_data",
          "data": {
            "text/plain": [
              "<Figure size 1000x500 with 0 Axes>"
            ]
          },
          "metadata": {}
        },
        {
          "output_type": "display_data",
          "data": {
            "text/plain": [
              "<Figure size 1000x500 with 0 Axes>"
            ]
          },
          "metadata": {}
        },
        {
          "output_type": "display_data",
          "data": {
            "text/plain": [
              "<Figure size 1000x500 with 0 Axes>"
            ]
          },
          "metadata": {}
        },
        {
          "output_type": "display_data",
          "data": {
            "text/plain": [
              "<Figure size 1000x500 with 0 Axes>"
            ]
          },
          "metadata": {}
        },
        {
          "output_type": "display_data",
          "data": {
            "text/plain": [
              "<Figure size 1000x500 with 0 Axes>"
            ]
          },
          "metadata": {}
        },
        {
          "output_type": "display_data",
          "data": {
            "text/plain": [
              "<Figure size 1000x500 with 0 Axes>"
            ]
          },
          "metadata": {}
        },
        {
          "output_type": "display_data",
          "data": {
            "text/plain": [
              "<Figure size 1000x500 with 0 Axes>"
            ]
          },
          "metadata": {}
        },
        {
          "output_type": "display_data",
          "data": {
            "text/plain": [
              "<Figure size 1000x500 with 0 Axes>"
            ]
          },
          "metadata": {}
        },
        {
          "output_type": "display_data",
          "data": {
            "text/plain": [
              "<Figure size 1000x500 with 0 Axes>"
            ]
          },
          "metadata": {}
        },
        {
          "output_type": "display_data",
          "data": {
            "text/plain": [
              "<Figure size 1000x500 with 0 Axes>"
            ]
          },
          "metadata": {}
        },
        {
          "output_type": "display_data",
          "data": {
            "text/plain": [
              "<Figure size 1000x500 with 0 Axes>"
            ]
          },
          "metadata": {}
        },
        {
          "output_type": "display_data",
          "data": {
            "text/plain": [
              "<Figure size 1000x500 with 0 Axes>"
            ]
          },
          "metadata": {}
        },
        {
          "output_type": "display_data",
          "data": {
            "text/plain": [
              "<Figure size 1000x500 with 0 Axes>"
            ]
          },
          "metadata": {}
        },
        {
          "output_type": "display_data",
          "data": {
            "text/plain": [
              "<Figure size 1000x500 with 0 Axes>"
            ]
          },
          "metadata": {}
        },
        {
          "output_type": "display_data",
          "data": {
            "text/plain": [
              "<Figure size 1000x500 with 0 Axes>"
            ]
          },
          "metadata": {}
        },
        {
          "output_type": "display_data",
          "data": {
            "text/plain": [
              "<Figure size 1000x500 with 0 Axes>"
            ]
          },
          "metadata": {}
        },
        {
          "output_type": "display_data",
          "data": {
            "text/plain": [
              "<Figure size 1000x500 with 0 Axes>"
            ]
          },
          "metadata": {}
        },
        {
          "output_type": "display_data",
          "data": {
            "text/plain": [
              "<Figure size 1000x500 with 0 Axes>"
            ]
          },
          "metadata": {}
        },
        {
          "output_type": "display_data",
          "data": {
            "text/plain": [
              "<Figure size 1000x500 with 0 Axes>"
            ]
          },
          "metadata": {}
        },
        {
          "output_type": "display_data",
          "data": {
            "text/plain": [
              "<Figure size 1000x500 with 0 Axes>"
            ]
          },
          "metadata": {}
        },
        {
          "output_type": "display_data",
          "data": {
            "text/plain": [
              "<Figure size 1000x500 with 0 Axes>"
            ]
          },
          "metadata": {}
        },
        {
          "output_type": "display_data",
          "data": {
            "text/plain": [
              "<Figure size 1000x500 with 0 Axes>"
            ]
          },
          "metadata": {}
        },
        {
          "output_type": "display_data",
          "data": {
            "text/plain": [
              "<Figure size 1000x500 with 0 Axes>"
            ]
          },
          "metadata": {}
        },
        {
          "output_type": "display_data",
          "data": {
            "text/plain": [
              "<Figure size 1000x500 with 0 Axes>"
            ]
          },
          "metadata": {}
        },
        {
          "output_type": "display_data",
          "data": {
            "text/plain": [
              "<Figure size 1000x500 with 0 Axes>"
            ]
          },
          "metadata": {}
        },
        {
          "output_type": "display_data",
          "data": {
            "text/plain": [
              "<Figure size 1000x500 with 0 Axes>"
            ]
          },
          "metadata": {}
        },
        {
          "output_type": "display_data",
          "data": {
            "text/plain": [
              "<Figure size 1000x500 with 0 Axes>"
            ]
          },
          "metadata": {}
        },
        {
          "output_type": "display_data",
          "data": {
            "text/plain": [
              "<Figure size 1000x500 with 0 Axes>"
            ]
          },
          "metadata": {}
        },
        {
          "output_type": "display_data",
          "data": {
            "text/plain": [
              "<Figure size 1000x500 with 0 Axes>"
            ]
          },
          "metadata": {}
        },
        {
          "output_type": "display_data",
          "data": {
            "text/plain": [
              "<Figure size 1000x500 with 0 Axes>"
            ]
          },
          "metadata": {}
        },
        {
          "output_type": "display_data",
          "data": {
            "text/plain": [
              "<Figure size 1000x500 with 0 Axes>"
            ]
          },
          "metadata": {}
        },
        {
          "output_type": "display_data",
          "data": {
            "text/plain": [
              "<Figure size 1000x500 with 0 Axes>"
            ]
          },
          "metadata": {}
        },
        {
          "output_type": "display_data",
          "data": {
            "text/plain": [
              "<Figure size 1000x500 with 0 Axes>"
            ]
          },
          "metadata": {}
        },
        {
          "output_type": "display_data",
          "data": {
            "text/plain": [
              "<Figure size 1000x500 with 0 Axes>"
            ]
          },
          "metadata": {}
        },
        {
          "output_type": "display_data",
          "data": {
            "text/plain": [
              "<Figure size 1000x500 with 0 Axes>"
            ]
          },
          "metadata": {}
        },
        {
          "output_type": "display_data",
          "data": {
            "text/plain": [
              "<Figure size 1000x500 with 0 Axes>"
            ]
          },
          "metadata": {}
        },
        {
          "output_type": "display_data",
          "data": {
            "text/plain": [
              "<Figure size 1000x500 with 0 Axes>"
            ]
          },
          "metadata": {}
        },
        {
          "output_type": "display_data",
          "data": {
            "text/plain": [
              "<Figure size 1000x500 with 0 Axes>"
            ]
          },
          "metadata": {}
        },
        {
          "output_type": "display_data",
          "data": {
            "text/plain": [
              "<Figure size 1000x500 with 0 Axes>"
            ]
          },
          "metadata": {}
        },
        {
          "output_type": "display_data",
          "data": {
            "text/plain": [
              "<Figure size 1000x500 with 0 Axes>"
            ]
          },
          "metadata": {}
        },
        {
          "output_type": "display_data",
          "data": {
            "text/plain": [
              "<Figure size 1000x500 with 0 Axes>"
            ]
          },
          "metadata": {}
        },
        {
          "output_type": "display_data",
          "data": {
            "text/plain": [
              "<Figure size 1000x500 with 0 Axes>"
            ]
          },
          "metadata": {}
        },
        {
          "output_type": "display_data",
          "data": {
            "text/plain": [
              "<Figure size 1000x500 with 0 Axes>"
            ]
          },
          "metadata": {}
        },
        {
          "output_type": "display_data",
          "data": {
            "text/plain": [
              "<Figure size 1000x500 with 0 Axes>"
            ]
          },
          "metadata": {}
        },
        {
          "output_type": "display_data",
          "data": {
            "text/plain": [
              "<Figure size 1000x500 with 0 Axes>"
            ]
          },
          "metadata": {}
        },
        {
          "output_type": "display_data",
          "data": {
            "text/plain": [
              "<Figure size 1000x500 with 0 Axes>"
            ]
          },
          "metadata": {}
        },
        {
          "output_type": "display_data",
          "data": {
            "text/plain": [
              "<Figure size 1000x500 with 0 Axes>"
            ]
          },
          "metadata": {}
        },
        {
          "output_type": "display_data",
          "data": {
            "text/plain": [
              "<Figure size 1000x500 with 0 Axes>"
            ]
          },
          "metadata": {}
        },
        {
          "output_type": "display_data",
          "data": {
            "text/plain": [
              "<Figure size 1000x500 with 0 Axes>"
            ]
          },
          "metadata": {}
        },
        {
          "output_type": "display_data",
          "data": {
            "text/plain": [
              "<Figure size 1000x500 with 0 Axes>"
            ]
          },
          "metadata": {}
        },
        {
          "output_type": "display_data",
          "data": {
            "text/plain": [
              "<Figure size 1000x500 with 0 Axes>"
            ]
          },
          "metadata": {}
        },
        {
          "output_type": "display_data",
          "data": {
            "text/plain": [
              "<Figure size 1000x500 with 0 Axes>"
            ]
          },
          "metadata": {}
        },
        {
          "output_type": "display_data",
          "data": {
            "text/plain": [
              "<Figure size 1000x500 with 0 Axes>"
            ]
          },
          "metadata": {}
        },
        {
          "output_type": "display_data",
          "data": {
            "text/plain": [
              "<Figure size 1000x500 with 0 Axes>"
            ]
          },
          "metadata": {}
        },
        {
          "output_type": "display_data",
          "data": {
            "text/plain": [
              "<Figure size 1000x500 with 0 Axes>"
            ]
          },
          "metadata": {}
        },
        {
          "output_type": "display_data",
          "data": {
            "text/plain": [
              "<Figure size 1000x500 with 0 Axes>"
            ]
          },
          "metadata": {}
        },
        {
          "output_type": "display_data",
          "data": {
            "text/plain": [
              "<Figure size 1000x500 with 0 Axes>"
            ]
          },
          "metadata": {}
        },
        {
          "output_type": "display_data",
          "data": {
            "text/plain": [
              "<Figure size 1000x500 with 0 Axes>"
            ]
          },
          "metadata": {}
        },
        {
          "output_type": "display_data",
          "data": {
            "text/plain": [
              "<Figure size 1000x500 with 0 Axes>"
            ]
          },
          "metadata": {}
        },
        {
          "output_type": "display_data",
          "data": {
            "text/plain": [
              "<Figure size 1000x500 with 0 Axes>"
            ]
          },
          "metadata": {}
        },
        {
          "output_type": "display_data",
          "data": {
            "text/plain": [
              "<Figure size 1000x500 with 0 Axes>"
            ]
          },
          "metadata": {}
        },
        {
          "output_type": "display_data",
          "data": {
            "text/plain": [
              "<Figure size 1000x500 with 0 Axes>"
            ]
          },
          "metadata": {}
        },
        {
          "output_type": "display_data",
          "data": {
            "text/plain": [
              "<Figure size 1000x500 with 0 Axes>"
            ]
          },
          "metadata": {}
        },
        {
          "output_type": "display_data",
          "data": {
            "text/plain": [
              "<Figure size 1000x500 with 0 Axes>"
            ]
          },
          "metadata": {}
        },
        {
          "output_type": "display_data",
          "data": {
            "text/plain": [
              "<Figure size 1000x500 with 0 Axes>"
            ]
          },
          "metadata": {}
        },
        {
          "output_type": "display_data",
          "data": {
            "text/plain": [
              "<Figure size 1000x500 with 0 Axes>"
            ]
          },
          "metadata": {}
        },
        {
          "output_type": "display_data",
          "data": {
            "text/plain": [
              "<Figure size 1000x500 with 0 Axes>"
            ]
          },
          "metadata": {}
        },
        {
          "output_type": "display_data",
          "data": {
            "text/plain": [
              "<Figure size 1000x500 with 0 Axes>"
            ]
          },
          "metadata": {}
        },
        {
          "output_type": "display_data",
          "data": {
            "text/plain": [
              "<Figure size 1000x500 with 0 Axes>"
            ]
          },
          "metadata": {}
        },
        {
          "output_type": "display_data",
          "data": {
            "text/plain": [
              "<Figure size 1000x500 with 0 Axes>"
            ]
          },
          "metadata": {}
        },
        {
          "output_type": "display_data",
          "data": {
            "text/plain": [
              "<Figure size 1000x500 with 0 Axes>"
            ]
          },
          "metadata": {}
        },
        {
          "output_type": "display_data",
          "data": {
            "text/plain": [
              "<Figure size 1000x500 with 0 Axes>"
            ]
          },
          "metadata": {}
        },
        {
          "output_type": "display_data",
          "data": {
            "text/plain": [
              "<Figure size 1000x500 with 0 Axes>"
            ]
          },
          "metadata": {}
        },
        {
          "output_type": "display_data",
          "data": {
            "text/plain": [
              "<Figure size 1000x500 with 0 Axes>"
            ]
          },
          "metadata": {}
        },
        {
          "output_type": "display_data",
          "data": {
            "text/plain": [
              "<Figure size 1000x500 with 0 Axes>"
            ]
          },
          "metadata": {}
        },
        {
          "output_type": "display_data",
          "data": {
            "text/plain": [
              "<Figure size 1000x500 with 0 Axes>"
            ]
          },
          "metadata": {}
        },
        {
          "output_type": "display_data",
          "data": {
            "text/plain": [
              "<Figure size 1000x500 with 0 Axes>"
            ]
          },
          "metadata": {}
        },
        {
          "output_type": "display_data",
          "data": {
            "text/plain": [
              "<Figure size 1000x500 with 0 Axes>"
            ]
          },
          "metadata": {}
        },
        {
          "output_type": "display_data",
          "data": {
            "text/plain": [
              "<Figure size 1000x500 with 0 Axes>"
            ]
          },
          "metadata": {}
        },
        {
          "output_type": "display_data",
          "data": {
            "text/plain": [
              "<Figure size 1000x500 with 0 Axes>"
            ]
          },
          "metadata": {}
        },
        {
          "output_type": "display_data",
          "data": {
            "text/plain": [
              "<Figure size 1000x500 with 0 Axes>"
            ]
          },
          "metadata": {}
        },
        {
          "output_type": "display_data",
          "data": {
            "text/plain": [
              "<Figure size 1000x500 with 0 Axes>"
            ]
          },
          "metadata": {}
        },
        {
          "output_type": "display_data",
          "data": {
            "text/plain": [
              "<Figure size 1000x500 with 0 Axes>"
            ]
          },
          "metadata": {}
        },
        {
          "output_type": "display_data",
          "data": {
            "text/plain": [
              "<Figure size 1000x500 with 0 Axes>"
            ]
          },
          "metadata": {}
        },
        {
          "output_type": "display_data",
          "data": {
            "text/plain": [
              "<Figure size 1000x500 with 0 Axes>"
            ]
          },
          "metadata": {}
        },
        {
          "output_type": "display_data",
          "data": {
            "text/plain": [
              "<Figure size 1000x500 with 0 Axes>"
            ]
          },
          "metadata": {}
        },
        {
          "output_type": "display_data",
          "data": {
            "text/plain": [
              "<Figure size 1000x500 with 0 Axes>"
            ]
          },
          "metadata": {}
        },
        {
          "output_type": "display_data",
          "data": {
            "text/plain": [
              "<Figure size 1000x500 with 0 Axes>"
            ]
          },
          "metadata": {}
        },
        {
          "output_type": "display_data",
          "data": {
            "text/plain": [
              "<Figure size 1000x500 with 0 Axes>"
            ]
          },
          "metadata": {}
        },
        {
          "output_type": "display_data",
          "data": {
            "text/plain": [
              "<Figure size 1000x500 with 0 Axes>"
            ]
          },
          "metadata": {}
        },
        {
          "output_type": "display_data",
          "data": {
            "text/plain": [
              "<Figure size 1000x500 with 0 Axes>"
            ]
          },
          "metadata": {}
        },
        {
          "output_type": "display_data",
          "data": {
            "text/plain": [
              "<Figure size 1000x500 with 0 Axes>"
            ]
          },
          "metadata": {}
        },
        {
          "output_type": "display_data",
          "data": {
            "text/plain": [
              "<Figure size 1000x500 with 0 Axes>"
            ]
          },
          "metadata": {}
        },
        {
          "output_type": "display_data",
          "data": {
            "text/plain": [
              "<Figure size 1000x500 with 0 Axes>"
            ]
          },
          "metadata": {}
        },
        {
          "output_type": "display_data",
          "data": {
            "text/plain": [
              "<Figure size 1000x500 with 0 Axes>"
            ]
          },
          "metadata": {}
        },
        {
          "output_type": "display_data",
          "data": {
            "text/plain": [
              "<Figure size 1000x500 with 0 Axes>"
            ]
          },
          "metadata": {}
        },
        {
          "output_type": "display_data",
          "data": {
            "text/plain": [
              "<Figure size 1000x500 with 0 Axes>"
            ]
          },
          "metadata": {}
        },
        {
          "output_type": "display_data",
          "data": {
            "text/plain": [
              "<Figure size 1000x500 with 0 Axes>"
            ]
          },
          "metadata": {}
        },
        {
          "output_type": "display_data",
          "data": {
            "text/plain": [
              "<Figure size 1000x500 with 0 Axes>"
            ]
          },
          "metadata": {}
        },
        {
          "output_type": "display_data",
          "data": {
            "text/plain": [
              "<Figure size 1000x500 with 0 Axes>"
            ]
          },
          "metadata": {}
        },
        {
          "output_type": "display_data",
          "data": {
            "text/plain": [
              "<Figure size 1000x500 with 0 Axes>"
            ]
          },
          "metadata": {}
        },
        {
          "output_type": "display_data",
          "data": {
            "text/plain": [
              "<Figure size 1000x500 with 0 Axes>"
            ]
          },
          "metadata": {}
        },
        {
          "output_type": "display_data",
          "data": {
            "text/plain": [
              "<Figure size 1000x500 with 0 Axes>"
            ]
          },
          "metadata": {}
        },
        {
          "output_type": "display_data",
          "data": {
            "text/plain": [
              "<Figure size 1000x500 with 0 Axes>"
            ]
          },
          "metadata": {}
        },
        {
          "output_type": "display_data",
          "data": {
            "text/plain": [
              "<Figure size 1000x500 with 0 Axes>"
            ]
          },
          "metadata": {}
        },
        {
          "output_type": "display_data",
          "data": {
            "text/plain": [
              "<Figure size 1000x500 with 0 Axes>"
            ]
          },
          "metadata": {}
        },
        {
          "output_type": "display_data",
          "data": {
            "text/plain": [
              "<Figure size 1000x500 with 0 Axes>"
            ]
          },
          "metadata": {}
        },
        {
          "output_type": "display_data",
          "data": {
            "text/plain": [
              "<Figure size 1000x500 with 0 Axes>"
            ]
          },
          "metadata": {}
        },
        {
          "output_type": "display_data",
          "data": {
            "text/plain": [
              "<Figure size 1000x500 with 0 Axes>"
            ]
          },
          "metadata": {}
        },
        {
          "output_type": "display_data",
          "data": {
            "text/plain": [
              "<Figure size 1000x500 with 0 Axes>"
            ]
          },
          "metadata": {}
        },
        {
          "output_type": "display_data",
          "data": {
            "text/plain": [
              "<Figure size 1000x500 with 0 Axes>"
            ]
          },
          "metadata": {}
        },
        {
          "output_type": "display_data",
          "data": {
            "text/plain": [
              "<Figure size 1000x500 with 0 Axes>"
            ]
          },
          "metadata": {}
        },
        {
          "output_type": "display_data",
          "data": {
            "text/plain": [
              "<Figure size 1000x500 with 0 Axes>"
            ]
          },
          "metadata": {}
        },
        {
          "output_type": "display_data",
          "data": {
            "text/plain": [
              "<Figure size 1000x500 with 0 Axes>"
            ]
          },
          "metadata": {}
        },
        {
          "output_type": "display_data",
          "data": {
            "text/plain": [
              "<Figure size 1000x500 with 0 Axes>"
            ]
          },
          "metadata": {}
        },
        {
          "output_type": "display_data",
          "data": {
            "text/plain": [
              "<Figure size 1000x500 with 0 Axes>"
            ]
          },
          "metadata": {}
        },
        {
          "output_type": "display_data",
          "data": {
            "text/plain": [
              "<Figure size 1000x500 with 0 Axes>"
            ]
          },
          "metadata": {}
        },
        {
          "output_type": "display_data",
          "data": {
            "text/plain": [
              "<Figure size 1000x500 with 0 Axes>"
            ]
          },
          "metadata": {}
        },
        {
          "output_type": "display_data",
          "data": {
            "text/plain": [
              "<Figure size 1000x500 with 0 Axes>"
            ]
          },
          "metadata": {}
        },
        {
          "output_type": "display_data",
          "data": {
            "text/plain": [
              "<Figure size 1000x500 with 0 Axes>"
            ]
          },
          "metadata": {}
        },
        {
          "output_type": "display_data",
          "data": {
            "text/plain": [
              "<Figure size 1000x500 with 0 Axes>"
            ]
          },
          "metadata": {}
        },
        {
          "output_type": "display_data",
          "data": {
            "text/plain": [
              "<Figure size 1000x500 with 0 Axes>"
            ]
          },
          "metadata": {}
        },
        {
          "output_type": "display_data",
          "data": {
            "text/plain": [
              "<Figure size 1000x500 with 0 Axes>"
            ]
          },
          "metadata": {}
        },
        {
          "output_type": "display_data",
          "data": {
            "text/plain": [
              "<Figure size 1000x500 with 0 Axes>"
            ]
          },
          "metadata": {}
        },
        {
          "output_type": "display_data",
          "data": {
            "text/plain": [
              "<Figure size 1000x500 with 0 Axes>"
            ]
          },
          "metadata": {}
        },
        {
          "output_type": "display_data",
          "data": {
            "text/plain": [
              "<Figure size 1000x500 with 0 Axes>"
            ]
          },
          "metadata": {}
        },
        {
          "output_type": "display_data",
          "data": {
            "text/plain": [
              "<Figure size 1000x500 with 0 Axes>"
            ]
          },
          "metadata": {}
        },
        {
          "output_type": "display_data",
          "data": {
            "text/plain": [
              "<Figure size 1000x500 with 0 Axes>"
            ]
          },
          "metadata": {}
        },
        {
          "output_type": "display_data",
          "data": {
            "text/plain": [
              "<Figure size 1000x500 with 0 Axes>"
            ]
          },
          "metadata": {}
        },
        {
          "output_type": "display_data",
          "data": {
            "text/plain": [
              "<Figure size 1000x500 with 0 Axes>"
            ]
          },
          "metadata": {}
        },
        {
          "output_type": "display_data",
          "data": {
            "text/plain": [
              "<Figure size 1000x500 with 0 Axes>"
            ]
          },
          "metadata": {}
        },
        {
          "output_type": "display_data",
          "data": {
            "text/plain": [
              "<Figure size 1000x500 with 0 Axes>"
            ]
          },
          "metadata": {}
        },
        {
          "output_type": "display_data",
          "data": {
            "text/plain": [
              "<Figure size 1000x500 with 0 Axes>"
            ]
          },
          "metadata": {}
        },
        {
          "output_type": "display_data",
          "data": {
            "text/plain": [
              "<Figure size 1000x500 with 0 Axes>"
            ]
          },
          "metadata": {}
        },
        {
          "output_type": "display_data",
          "data": {
            "text/plain": [
              "<Figure size 1000x500 with 0 Axes>"
            ]
          },
          "metadata": {}
        },
        {
          "output_type": "display_data",
          "data": {
            "text/plain": [
              "<Figure size 1000x500 with 0 Axes>"
            ]
          },
          "metadata": {}
        },
        {
          "output_type": "display_data",
          "data": {
            "text/plain": [
              "<Figure size 1000x500 with 0 Axes>"
            ]
          },
          "metadata": {}
        },
        {
          "output_type": "display_data",
          "data": {
            "text/plain": [
              "<Figure size 1000x500 with 0 Axes>"
            ]
          },
          "metadata": {}
        },
        {
          "output_type": "display_data",
          "data": {
            "text/plain": [
              "<Figure size 1000x500 with 0 Axes>"
            ]
          },
          "metadata": {}
        },
        {
          "output_type": "display_data",
          "data": {
            "text/plain": [
              "<Figure size 1000x500 with 0 Axes>"
            ]
          },
          "metadata": {}
        },
        {
          "output_type": "display_data",
          "data": {
            "text/plain": [
              "<Figure size 1000x500 with 0 Axes>"
            ]
          },
          "metadata": {}
        },
        {
          "output_type": "display_data",
          "data": {
            "text/plain": [
              "<Figure size 1000x500 with 0 Axes>"
            ]
          },
          "metadata": {}
        },
        {
          "output_type": "display_data",
          "data": {
            "text/plain": [
              "<Figure size 1000x500 with 0 Axes>"
            ]
          },
          "metadata": {}
        },
        {
          "output_type": "display_data",
          "data": {
            "text/plain": [
              "<Figure size 1000x500 with 0 Axes>"
            ]
          },
          "metadata": {}
        },
        {
          "output_type": "display_data",
          "data": {
            "text/plain": [
              "<Figure size 1000x500 with 0 Axes>"
            ]
          },
          "metadata": {}
        },
        {
          "output_type": "display_data",
          "data": {
            "text/plain": [
              "<Figure size 1000x500 with 0 Axes>"
            ]
          },
          "metadata": {}
        },
        {
          "output_type": "display_data",
          "data": {
            "text/plain": [
              "<Figure size 1000x500 with 0 Axes>"
            ]
          },
          "metadata": {}
        },
        {
          "output_type": "display_data",
          "data": {
            "text/plain": [
              "<Figure size 1000x500 with 0 Axes>"
            ]
          },
          "metadata": {}
        },
        {
          "output_type": "display_data",
          "data": {
            "text/plain": [
              "<Figure size 1000x500 with 0 Axes>"
            ]
          },
          "metadata": {}
        },
        {
          "output_type": "display_data",
          "data": {
            "text/plain": [
              "<Figure size 1000x500 with 0 Axes>"
            ]
          },
          "metadata": {}
        },
        {
          "output_type": "display_data",
          "data": {
            "text/plain": [
              "<Figure size 1000x500 with 0 Axes>"
            ]
          },
          "metadata": {}
        },
        {
          "output_type": "display_data",
          "data": {
            "text/plain": [
              "<Figure size 1000x500 with 0 Axes>"
            ]
          },
          "metadata": {}
        },
        {
          "output_type": "display_data",
          "data": {
            "text/plain": [
              "<Figure size 1000x500 with 0 Axes>"
            ]
          },
          "metadata": {}
        },
        {
          "output_type": "display_data",
          "data": {
            "text/plain": [
              "<Figure size 1000x500 with 0 Axes>"
            ]
          },
          "metadata": {}
        },
        {
          "output_type": "display_data",
          "data": {
            "text/plain": [
              "<Figure size 1000x500 with 0 Axes>"
            ]
          },
          "metadata": {}
        },
        {
          "output_type": "display_data",
          "data": {
            "text/plain": [
              "<Figure size 1000x500 with 0 Axes>"
            ]
          },
          "metadata": {}
        },
        {
          "output_type": "display_data",
          "data": {
            "text/plain": [
              "<Figure size 1000x500 with 0 Axes>"
            ]
          },
          "metadata": {}
        },
        {
          "output_type": "display_data",
          "data": {
            "text/plain": [
              "<Figure size 1000x500 with 0 Axes>"
            ]
          },
          "metadata": {}
        },
        {
          "output_type": "display_data",
          "data": {
            "text/plain": [
              "<Figure size 1000x500 with 0 Axes>"
            ]
          },
          "metadata": {}
        },
        {
          "output_type": "display_data",
          "data": {
            "text/plain": [
              "<Figure size 1000x500 with 0 Axes>"
            ]
          },
          "metadata": {}
        },
        {
          "output_type": "display_data",
          "data": {
            "text/plain": [
              "<Figure size 1000x500 with 0 Axes>"
            ]
          },
          "metadata": {}
        },
        {
          "output_type": "display_data",
          "data": {
            "text/plain": [
              "<Figure size 1000x500 with 0 Axes>"
            ]
          },
          "metadata": {}
        },
        {
          "output_type": "display_data",
          "data": {
            "text/plain": [
              "<Figure size 1000x500 with 0 Axes>"
            ]
          },
          "metadata": {}
        },
        {
          "output_type": "display_data",
          "data": {
            "text/plain": [
              "<Figure size 1000x500 with 0 Axes>"
            ]
          },
          "metadata": {}
        },
        {
          "output_type": "display_data",
          "data": {
            "text/plain": [
              "<Figure size 1000x500 with 0 Axes>"
            ]
          },
          "metadata": {}
        },
        {
          "output_type": "display_data",
          "data": {
            "text/plain": [
              "<Figure size 1000x500 with 0 Axes>"
            ]
          },
          "metadata": {}
        },
        {
          "output_type": "display_data",
          "data": {
            "text/plain": [
              "<Figure size 1000x500 with 0 Axes>"
            ]
          },
          "metadata": {}
        },
        {
          "output_type": "display_data",
          "data": {
            "text/plain": [
              "<Figure size 1000x500 with 0 Axes>"
            ]
          },
          "metadata": {}
        },
        {
          "output_type": "display_data",
          "data": {
            "text/plain": [
              "<Figure size 1000x500 with 0 Axes>"
            ]
          },
          "metadata": {}
        },
        {
          "output_type": "display_data",
          "data": {
            "text/plain": [
              "<Figure size 1000x500 with 0 Axes>"
            ]
          },
          "metadata": {}
        },
        {
          "output_type": "display_data",
          "data": {
            "text/plain": [
              "<Figure size 1000x500 with 0 Axes>"
            ]
          },
          "metadata": {}
        },
        {
          "output_type": "display_data",
          "data": {
            "text/plain": [
              "<Figure size 1000x500 with 0 Axes>"
            ]
          },
          "metadata": {}
        },
        {
          "output_type": "display_data",
          "data": {
            "text/plain": [
              "<Figure size 1000x500 with 0 Axes>"
            ]
          },
          "metadata": {}
        },
        {
          "output_type": "display_data",
          "data": {
            "text/plain": [
              "<Figure size 1000x500 with 0 Axes>"
            ]
          },
          "metadata": {}
        },
        {
          "output_type": "display_data",
          "data": {
            "text/plain": [
              "<Figure size 1000x500 with 0 Axes>"
            ]
          },
          "metadata": {}
        },
        {
          "output_type": "display_data",
          "data": {
            "text/plain": [
              "<Figure size 1000x500 with 0 Axes>"
            ]
          },
          "metadata": {}
        },
        {
          "output_type": "display_data",
          "data": {
            "text/plain": [
              "<Figure size 1000x500 with 0 Axes>"
            ]
          },
          "metadata": {}
        },
        {
          "output_type": "display_data",
          "data": {
            "text/plain": [
              "<Figure size 1000x500 with 0 Axes>"
            ]
          },
          "metadata": {}
        },
        {
          "output_type": "display_data",
          "data": {
            "text/plain": [
              "<Figure size 1000x500 with 0 Axes>"
            ]
          },
          "metadata": {}
        },
        {
          "output_type": "display_data",
          "data": {
            "text/plain": [
              "<Figure size 1000x500 with 0 Axes>"
            ]
          },
          "metadata": {}
        },
        {
          "output_type": "display_data",
          "data": {
            "text/plain": [
              "<Figure size 1000x500 with 0 Axes>"
            ]
          },
          "metadata": {}
        },
        {
          "output_type": "display_data",
          "data": {
            "text/plain": [
              "<Figure size 1000x500 with 0 Axes>"
            ]
          },
          "metadata": {}
        },
        {
          "output_type": "display_data",
          "data": {
            "text/plain": [
              "<Figure size 1000x500 with 0 Axes>"
            ]
          },
          "metadata": {}
        },
        {
          "output_type": "display_data",
          "data": {
            "text/plain": [
              "<Figure size 1000x500 with 0 Axes>"
            ]
          },
          "metadata": {}
        },
        {
          "output_type": "display_data",
          "data": {
            "text/plain": [
              "<Figure size 1000x500 with 0 Axes>"
            ]
          },
          "metadata": {}
        },
        {
          "output_type": "display_data",
          "data": {
            "text/plain": [
              "<Figure size 1000x500 with 0 Axes>"
            ]
          },
          "metadata": {}
        },
        {
          "output_type": "display_data",
          "data": {
            "text/plain": [
              "<Figure size 1000x500 with 0 Axes>"
            ]
          },
          "metadata": {}
        },
        {
          "output_type": "display_data",
          "data": {
            "text/plain": [
              "<Figure size 1000x500 with 0 Axes>"
            ]
          },
          "metadata": {}
        },
        {
          "output_type": "display_data",
          "data": {
            "text/plain": [
              "<Figure size 1000x500 with 0 Axes>"
            ]
          },
          "metadata": {}
        },
        {
          "output_type": "display_data",
          "data": {
            "text/plain": [
              "<Figure size 1000x500 with 0 Axes>"
            ]
          },
          "metadata": {}
        },
        {
          "output_type": "display_data",
          "data": {
            "text/plain": [
              "<Figure size 1000x500 with 0 Axes>"
            ]
          },
          "metadata": {}
        },
        {
          "output_type": "display_data",
          "data": {
            "text/plain": [
              "<Figure size 1000x500 with 0 Axes>"
            ]
          },
          "metadata": {}
        },
        {
          "output_type": "display_data",
          "data": {
            "text/plain": [
              "<Figure size 1000x500 with 0 Axes>"
            ]
          },
          "metadata": {}
        },
        {
          "output_type": "display_data",
          "data": {
            "text/plain": [
              "<Figure size 1000x500 with 0 Axes>"
            ]
          },
          "metadata": {}
        },
        {
          "output_type": "display_data",
          "data": {
            "text/plain": [
              "<Figure size 1000x500 with 0 Axes>"
            ]
          },
          "metadata": {}
        },
        {
          "output_type": "display_data",
          "data": {
            "text/plain": [
              "<Figure size 1000x500 with 0 Axes>"
            ]
          },
          "metadata": {}
        },
        {
          "output_type": "display_data",
          "data": {
            "text/plain": [
              "<Figure size 1000x500 with 0 Axes>"
            ]
          },
          "metadata": {}
        },
        {
          "output_type": "display_data",
          "data": {
            "text/plain": [
              "<Figure size 1000x500 with 0 Axes>"
            ]
          },
          "metadata": {}
        },
        {
          "output_type": "display_data",
          "data": {
            "text/plain": [
              "<Figure size 1000x500 with 0 Axes>"
            ]
          },
          "metadata": {}
        },
        {
          "output_type": "display_data",
          "data": {
            "text/plain": [
              "<Figure size 1000x500 with 0 Axes>"
            ]
          },
          "metadata": {}
        },
        {
          "output_type": "display_data",
          "data": {
            "text/plain": [
              "<Figure size 1000x500 with 0 Axes>"
            ]
          },
          "metadata": {}
        },
        {
          "output_type": "display_data",
          "data": {
            "text/plain": [
              "<Figure size 1000x500 with 0 Axes>"
            ]
          },
          "metadata": {}
        },
        {
          "output_type": "display_data",
          "data": {
            "text/plain": [
              "<Figure size 1000x500 with 0 Axes>"
            ]
          },
          "metadata": {}
        },
        {
          "output_type": "display_data",
          "data": {
            "text/plain": [
              "<Figure size 1000x500 with 0 Axes>"
            ]
          },
          "metadata": {}
        },
        {
          "output_type": "display_data",
          "data": {
            "text/plain": [
              "<Figure size 1000x500 with 0 Axes>"
            ]
          },
          "metadata": {}
        },
        {
          "output_type": "display_data",
          "data": {
            "text/plain": [
              "<Figure size 1000x500 with 0 Axes>"
            ]
          },
          "metadata": {}
        },
        {
          "output_type": "display_data",
          "data": {
            "text/plain": [
              "<Figure size 1000x500 with 0 Axes>"
            ]
          },
          "metadata": {}
        },
        {
          "output_type": "display_data",
          "data": {
            "text/plain": [
              "<Figure size 1000x500 with 0 Axes>"
            ]
          },
          "metadata": {}
        },
        {
          "output_type": "display_data",
          "data": {
            "text/plain": [
              "<Figure size 1000x500 with 0 Axes>"
            ]
          },
          "metadata": {}
        },
        {
          "output_type": "display_data",
          "data": {
            "text/plain": [
              "<Figure size 1000x500 with 0 Axes>"
            ]
          },
          "metadata": {}
        },
        {
          "output_type": "display_data",
          "data": {
            "text/plain": [
              "<Figure size 1000x500 with 0 Axes>"
            ]
          },
          "metadata": {}
        }
      ]
    },
    {
      "cell_type": "markdown",
      "source": [
        "# **Image Classification**"
      ],
      "metadata": {
        "id": "fRTHC8NsvVNA"
      }
    },
    {
      "cell_type": "code",
      "source": [
        "from keras.preprocessing.image import ImageDataGenerator\n",
        "\n",
        "# Create an image data generator for augmenting and preprocessing training images\n",
        "train_datagen = ImageDataGenerator(\n",
        "        rescale=1./255,\n",
        "        shear_range=0.2,\n",
        "        zoom_range=0.2,\n",
        "        horizontal_flip=True)"
      ],
      "metadata": {
        "id": "YaxiODWAxy7p"
      },
      "execution_count": null,
      "outputs": []
    },
    {
      "cell_type": "code",
      "source": [
        "# Generate batches of training data from the training set directory\n",
        "training_set = train_datagen.flow_from_directory(\n",
        "        '/content/drive/MyDrive/SPECIMAGES/train',\n",
        "        batch_size=32,\n",
        "        class_mode='binary')"
      ],
      "metadata": {
        "id": "KHnBWDuWxzn5",
        "colab": {
          "base_uri": "https://localhost:8080/"
        },
        "outputId": "b3a143fd-f121-4ecc-e60b-49e2336c4285"
      },
      "execution_count": null,
      "outputs": [
        {
          "output_type": "stream",
          "name": "stdout",
          "text": [
            "Found 1647 images belonging to 2 classes.\n"
          ]
        }
      ]
    },
    {
      "cell_type": "code",
      "source": [
        "# Create an image data generator for augmenting and preprocessing Validation images\n",
        "test_datagen = ImageDataGenerator(\n",
        "        rescale=1./255,\n",
        "        shear_range=0.2,\n",
        "        zoom_range=0.2,\n",
        "        horizontal_flip=True)"
      ],
      "metadata": {
        "id": "L1no7G2ox0Dg"
      },
      "execution_count": null,
      "outputs": []
    },
    {
      "cell_type": "code",
      "source": [
        "# Generate batches of Validation data from the Validation set directory\n",
        "test_set = test_datagen.flow_from_directory(\n",
        "        '/content/drive/MyDrive/SPECIMAGES/Validation',\n",
        "        batch_size=32,\n",
        "        class_mode='binary' )"
      ],
      "metadata": {
        "id": "r4D5i_m0x0dy",
        "colab": {
          "base_uri": "https://localhost:8080/"
        },
        "outputId": "a861ac0a-9137-4516-ce5a-34fc801abe98"
      },
      "execution_count": null,
      "outputs": [
        {
          "output_type": "stream",
          "name": "stdout",
          "text": [
            "Found 557 images belonging to 2 classes.\n"
          ]
        }
      ]
    },
    {
      "cell_type": "markdown",
      "source": [
        "Developing and Implementing the Image Classification model"
      ],
      "metadata": {
        "id": "9asbLD4q40If"
      }
    },
    {
      "cell_type": "code",
      "source": [
        "from keras.models import Sequential\n",
        "from keras.layers import Conv2D, MaxPooling2D\n",
        "from keras.layers import Activation, Dropout, Flatten, Dense\n",
        "\n",
        "model = Sequential()\n",
        "\n",
        "# Add 5 convolutional layers with 32, 32, 64, 128, and 256 filters, each with a 3x3 kernel size\n",
        "model.add(Conv2D(32, (3, 3), input_shape=(256, 256, 3)))\n",
        "model.add(Activation('relu'))\n",
        "model.add(MaxPooling2D(pool_size=(2, 2)))\n",
        "\n",
        "model.add(Conv2D(32, (3, 3)))\n",
        "model.add(Activation('relu'))\n",
        "model.add(MaxPooling2D(pool_size=(2, 2)))\n",
        "\n",
        "model.add(Conv2D(64, (3, 3)))\n",
        "model.add(Activation('relu'))\n",
        "model.add(MaxPooling2D(pool_size=(2, 2)))\n",
        "\n",
        "model.add(Conv2D(128, (3, 3)))\n",
        "model.add(Activation('relu'))\n",
        "model.add(MaxPooling2D(pool_size=(2, 2)))\n",
        "\n",
        "model.add(Conv2D(256, (3, 3)))\n",
        "model.add(Activation('relu'))\n",
        "model.add(MaxPooling2D(pool_size=(2, 2)))\n",
        "\n",
        "# Flatten the output from the convolutional layers to a 1D vector\n",
        "model.add(Flatten())\n",
        "\n",
        "model.add(Dense(256))\n",
        "model.add(Activation('relu'))\n",
        "\n",
        "# Add a dropout layer with a rate of 0.5 to prevent overfitting\n",
        "model.add(Dropout(0.5))\n",
        "\n",
        "# Add a dense output layer with a single neuron and a sigmoid activation function for binary classification\n",
        "model.add(Dense(1))\n",
        "model.add(Activation('sigmoid'))\n",
        "\n",
        "# Print a summary of the model architecture\n",
        "model.summary()"
      ],
      "metadata": {
        "colab": {
          "base_uri": "https://localhost:8080/"
        },
        "id": "RLsMgrJuLLgT",
        "outputId": "ebfb38a4-a6b7-4aa9-ecb2-905cf67c3674"
      },
      "execution_count": null,
      "outputs": [
        {
          "output_type": "stream",
          "name": "stdout",
          "text": [
            "Model: \"sequential\"\n",
            "_________________________________________________________________\n",
            " Layer (type)                Output Shape              Param #   \n",
            "=================================================================\n",
            " conv2d (Conv2D)             (None, 254, 254, 32)      896       \n",
            "                                                                 \n",
            " activation (Activation)     (None, 254, 254, 32)      0         \n",
            "                                                                 \n",
            " max_pooling2d (MaxPooling2  (None, 127, 127, 32)      0         \n",
            " D)                                                              \n",
            "                                                                 \n",
            " conv2d_1 (Conv2D)           (None, 125, 125, 32)      9248      \n",
            "                                                                 \n",
            " activation_1 (Activation)   (None, 125, 125, 32)      0         \n",
            "                                                                 \n",
            " max_pooling2d_1 (MaxPoolin  (None, 62, 62, 32)        0         \n",
            " g2D)                                                            \n",
            "                                                                 \n",
            " conv2d_2 (Conv2D)           (None, 60, 60, 64)        18496     \n",
            "                                                                 \n",
            " activation_2 (Activation)   (None, 60, 60, 64)        0         \n",
            "                                                                 \n",
            " max_pooling2d_2 (MaxPoolin  (None, 30, 30, 64)        0         \n",
            " g2D)                                                            \n",
            "                                                                 \n",
            " conv2d_3 (Conv2D)           (None, 28, 28, 128)       73856     \n",
            "                                                                 \n",
            " activation_3 (Activation)   (None, 28, 28, 128)       0         \n",
            "                                                                 \n",
            " max_pooling2d_3 (MaxPoolin  (None, 14, 14, 128)       0         \n",
            " g2D)                                                            \n",
            "                                                                 \n",
            " conv2d_4 (Conv2D)           (None, 12, 12, 256)       295168    \n",
            "                                                                 \n",
            " activation_4 (Activation)   (None, 12, 12, 256)       0         \n",
            "                                                                 \n",
            " max_pooling2d_4 (MaxPoolin  (None, 6, 6, 256)         0         \n",
            " g2D)                                                            \n",
            "                                                                 \n",
            " flatten (Flatten)           (None, 9216)              0         \n",
            "                                                                 \n",
            " dense (Dense)               (None, 256)               2359552   \n",
            "                                                                 \n",
            " activation_5 (Activation)   (None, 256)               0         \n",
            "                                                                 \n",
            " dropout (Dropout)           (None, 256)               0         \n",
            "                                                                 \n",
            " dense_1 (Dense)             (None, 1)                 257       \n",
            "                                                                 \n",
            " activation_6 (Activation)   (None, 1)                 0         \n",
            "                                                                 \n",
            "=================================================================\n",
            "Total params: 2757473 (10.52 MB)\n",
            "Trainable params: 2757473 (10.52 MB)\n",
            "Non-trainable params: 0 (0.00 Byte)\n",
            "_________________________________________________________________\n"
          ]
        }
      ]
    },
    {
      "cell_type": "code",
      "source": [
        "# Compile the model with binary crossentropy loss function, Adam optimizer, and accuracy metric\n",
        "model.compile(loss='binary_crossentropy',\n",
        "              optimizer='adam',\n",
        "              metrics=['accuracy'])"
      ],
      "metadata": {
        "id": "lXBVWXiLlfSU"
      },
      "execution_count": null,
      "outputs": []
    },
    {
      "cell_type": "code",
      "source": [
        "#Train the model\n",
        "model.fit_generator(\n",
        "        training_set,\n",
        "        epochs=20,\n",
        "        validation_data=test_set)"
      ],
      "metadata": {
        "colab": {
          "base_uri": "https://localhost:8080/",
          "height": 1000
        },
        "id": "CCa0KlZhljN8",
        "outputId": "4346c323-606a-41e8-f19a-51ead8169ad2"
      },
      "execution_count": null,
      "outputs": [
        {
          "output_type": "stream",
          "name": "stdout",
          "text": [
            "Epoch 1/20\n",
            "52/52 [==============================] - 70s 1s/step - loss: 0.5116 - accuracy: 0.7942 - val_loss: 0.4878 - val_accuracy: 0.8061\n",
            "Epoch 2/20\n",
            "52/52 [==============================] - 57s 1s/step - loss: 0.4952 - accuracy: 0.8063 - val_loss: 0.4732 - val_accuracy: 0.8061\n",
            "Epoch 3/20\n",
            "52/52 [==============================] - 56s 1s/step - loss: 0.4395 - accuracy: 0.8087 - val_loss: 0.3513 - val_accuracy: 0.8079\n",
            "Epoch 4/20\n",
            "52/52 [==============================] - 56s 1s/step - loss: 0.3452 - accuracy: 0.8458 - val_loss: 0.3202 - val_accuracy: 0.8707\n",
            "Epoch 5/20\n",
            "52/52 [==============================] - 62s 1s/step - loss: 0.3004 - accuracy: 0.8616 - val_loss: 0.2640 - val_accuracy: 0.8761\n",
            "Epoch 6/20\n",
            "52/52 [==============================] - 56s 1s/step - loss: 0.2634 - accuracy: 0.8871 - val_loss: 0.2739 - val_accuracy: 0.8761\n",
            "Epoch 7/20\n",
            "52/52 [==============================] - 56s 1s/step - loss: 0.2608 - accuracy: 0.8901 - val_loss: 0.2518 - val_accuracy: 0.9084\n",
            "Epoch 8/20\n",
            "52/52 [==============================] - 56s 1s/step - loss: 0.2583 - accuracy: 0.8907 - val_loss: 0.2452 - val_accuracy: 0.8941\n",
            "Epoch 9/20\n",
            "52/52 [==============================] - 56s 1s/step - loss: 0.2375 - accuracy: 0.9010 - val_loss: 0.2445 - val_accuracy: 0.9066\n",
            "Epoch 10/20\n",
            "52/52 [==============================] - 55s 1s/step - loss: 0.2422 - accuracy: 0.8956 - val_loss: 0.2581 - val_accuracy: 0.8995\n",
            "Epoch 11/20\n",
            "52/52 [==============================] - 57s 1s/step - loss: 0.2306 - accuracy: 0.9089 - val_loss: 0.2155 - val_accuracy: 0.9156\n",
            "Epoch 12/20\n",
            "52/52 [==============================] - 65s 1s/step - loss: 0.2240 - accuracy: 0.9029 - val_loss: 0.2182 - val_accuracy: 0.9066\n",
            "Epoch 13/20\n",
            "52/52 [==============================] - 57s 1s/step - loss: 0.2273 - accuracy: 0.8986 - val_loss: 0.2824 - val_accuracy: 0.8797\n",
            "Epoch 14/20\n",
            "52/52 [==============================] - 56s 1s/step - loss: 0.2154 - accuracy: 0.9053 - val_loss: 0.2049 - val_accuracy: 0.9138\n",
            "Epoch 15/20\n",
            "52/52 [==============================] - 56s 1s/step - loss: 0.2395 - accuracy: 0.8968 - val_loss: 0.2256 - val_accuracy: 0.9192\n",
            "Epoch 16/20\n",
            "52/52 [==============================] - 57s 1s/step - loss: 0.2134 - accuracy: 0.9095 - val_loss: 0.2207 - val_accuracy: 0.9174\n",
            "Epoch 17/20\n",
            "52/52 [==============================] - 56s 1s/step - loss: 0.2178 - accuracy: 0.9065 - val_loss: 0.2041 - val_accuracy: 0.9102\n",
            "Epoch 18/20\n",
            "52/52 [==============================] - 55s 1s/step - loss: 0.2014 - accuracy: 0.9107 - val_loss: 0.2367 - val_accuracy: 0.9031\n",
            "Epoch 19/20\n",
            "52/52 [==============================] - 55s 1s/step - loss: 0.2197 - accuracy: 0.9010 - val_loss: 0.2503 - val_accuracy: 0.8887\n",
            "Epoch 20/20\n",
            "52/52 [==============================] - 56s 1s/step - loss: 0.2196 - accuracy: 0.9041 - val_loss: 0.2254 - val_accuracy: 0.9048\n"
          ]
        },
        {
          "output_type": "error",
          "ename": "FileNotFoundError",
          "evalue": "ignored",
          "traceback": [
            "\u001b[0;31m---------------------------------------------------------------------------\u001b[0m",
            "\u001b[0;31mFileNotFoundError\u001b[0m                         Traceback (most recent call last)",
            "\u001b[0;32m<ipython-input-17-d120dc64d498>\u001b[0m in \u001b[0;36m<cell line: 8>\u001b[0;34m()\u001b[0m\n\u001b[1;32m      6\u001b[0m \u001b[0;34m\u001b[0m\u001b[0m\n\u001b[1;32m      7\u001b[0m \u001b[0;31m# Save the weights of the trained model to a file\u001b[0m\u001b[0;34m\u001b[0m\u001b[0;34m\u001b[0m\u001b[0m\n\u001b[0;32m----> 8\u001b[0;31m \u001b[0mmodel\u001b[0m\u001b[0;34m.\u001b[0m\u001b[0msave_weights\u001b[0m\u001b[0;34m(\u001b[0m\u001b[0;34m'/content/sample_data/Untitled Folder/weights_saved1.h5'\u001b[0m\u001b[0;34m)\u001b[0m\u001b[0;34m\u001b[0m\u001b[0;34m\u001b[0m\u001b[0m\n\u001b[0m",
            "\u001b[0;32m/usr/local/lib/python3.10/dist-packages/keras/src/utils/traceback_utils.py\u001b[0m in \u001b[0;36merror_handler\u001b[0;34m(*args, **kwargs)\u001b[0m\n\u001b[1;32m     68\u001b[0m             \u001b[0;31m# To get the full stack trace, call:\u001b[0m\u001b[0;34m\u001b[0m\u001b[0;34m\u001b[0m\u001b[0m\n\u001b[1;32m     69\u001b[0m             \u001b[0;31m# `tf.debugging.disable_traceback_filtering()`\u001b[0m\u001b[0;34m\u001b[0m\u001b[0;34m\u001b[0m\u001b[0m\n\u001b[0;32m---> 70\u001b[0;31m             \u001b[0;32mraise\u001b[0m \u001b[0me\u001b[0m\u001b[0;34m.\u001b[0m\u001b[0mwith_traceback\u001b[0m\u001b[0;34m(\u001b[0m\u001b[0mfiltered_tb\u001b[0m\u001b[0;34m)\u001b[0m \u001b[0;32mfrom\u001b[0m \u001b[0;32mNone\u001b[0m\u001b[0;34m\u001b[0m\u001b[0;34m\u001b[0m\u001b[0m\n\u001b[0m\u001b[1;32m     71\u001b[0m         \u001b[0;32mfinally\u001b[0m\u001b[0;34m:\u001b[0m\u001b[0;34m\u001b[0m\u001b[0;34m\u001b[0m\u001b[0m\n\u001b[1;32m     72\u001b[0m             \u001b[0;32mdel\u001b[0m \u001b[0mfiltered_tb\u001b[0m\u001b[0;34m\u001b[0m\u001b[0;34m\u001b[0m\u001b[0m\n",
            "\u001b[0;32m/usr/local/lib/python3.10/dist-packages/h5py/_hl/files.py\u001b[0m in \u001b[0;36m__init__\u001b[0;34m(self, name, mode, driver, libver, userblock_size, swmr, rdcc_nslots, rdcc_nbytes, rdcc_w0, track_order, fs_strategy, fs_persist, fs_threshold, fs_page_size, page_buf_size, min_meta_keep, min_raw_keep, locking, alignment_threshold, alignment_interval, meta_block_size, **kwds)\u001b[0m\n\u001b[1;32m    565\u001b[0m                                  \u001b[0mfs_persist\u001b[0m\u001b[0;34m=\u001b[0m\u001b[0mfs_persist\u001b[0m\u001b[0;34m,\u001b[0m \u001b[0mfs_threshold\u001b[0m\u001b[0;34m=\u001b[0m\u001b[0mfs_threshold\u001b[0m\u001b[0;34m,\u001b[0m\u001b[0;34m\u001b[0m\u001b[0;34m\u001b[0m\u001b[0m\n\u001b[1;32m    566\u001b[0m                                  fs_page_size=fs_page_size)\n\u001b[0;32m--> 567\u001b[0;31m                 \u001b[0mfid\u001b[0m \u001b[0;34m=\u001b[0m \u001b[0mmake_fid\u001b[0m\u001b[0;34m(\u001b[0m\u001b[0mname\u001b[0m\u001b[0;34m,\u001b[0m \u001b[0mmode\u001b[0m\u001b[0;34m,\u001b[0m \u001b[0muserblock_size\u001b[0m\u001b[0;34m,\u001b[0m \u001b[0mfapl\u001b[0m\u001b[0;34m,\u001b[0m \u001b[0mfcpl\u001b[0m\u001b[0;34m,\u001b[0m \u001b[0mswmr\u001b[0m\u001b[0;34m=\u001b[0m\u001b[0mswmr\u001b[0m\u001b[0;34m)\u001b[0m\u001b[0;34m\u001b[0m\u001b[0;34m\u001b[0m\u001b[0m\n\u001b[0m\u001b[1;32m    568\u001b[0m \u001b[0;34m\u001b[0m\u001b[0m\n\u001b[1;32m    569\u001b[0m             \u001b[0;32mif\u001b[0m \u001b[0misinstance\u001b[0m\u001b[0;34m(\u001b[0m\u001b[0mlibver\u001b[0m\u001b[0;34m,\u001b[0m \u001b[0mtuple\u001b[0m\u001b[0;34m)\u001b[0m\u001b[0;34m:\u001b[0m\u001b[0;34m\u001b[0m\u001b[0;34m\u001b[0m\u001b[0m\n",
            "\u001b[0;32m/usr/local/lib/python3.10/dist-packages/h5py/_hl/files.py\u001b[0m in \u001b[0;36mmake_fid\u001b[0;34m(name, mode, userblock_size, fapl, fcpl, swmr)\u001b[0m\n\u001b[1;32m    235\u001b[0m         \u001b[0mfid\u001b[0m \u001b[0;34m=\u001b[0m \u001b[0mh5f\u001b[0m\u001b[0;34m.\u001b[0m\u001b[0mcreate\u001b[0m\u001b[0;34m(\u001b[0m\u001b[0mname\u001b[0m\u001b[0;34m,\u001b[0m \u001b[0mh5f\u001b[0m\u001b[0;34m.\u001b[0m\u001b[0mACC_EXCL\u001b[0m\u001b[0;34m,\u001b[0m \u001b[0mfapl\u001b[0m\u001b[0;34m=\u001b[0m\u001b[0mfapl\u001b[0m\u001b[0;34m,\u001b[0m \u001b[0mfcpl\u001b[0m\u001b[0;34m=\u001b[0m\u001b[0mfcpl\u001b[0m\u001b[0;34m)\u001b[0m\u001b[0;34m\u001b[0m\u001b[0;34m\u001b[0m\u001b[0m\n\u001b[1;32m    236\u001b[0m     \u001b[0;32melif\u001b[0m \u001b[0mmode\u001b[0m \u001b[0;34m==\u001b[0m \u001b[0;34m'w'\u001b[0m\u001b[0;34m:\u001b[0m\u001b[0;34m\u001b[0m\u001b[0;34m\u001b[0m\u001b[0m\n\u001b[0;32m--> 237\u001b[0;31m         \u001b[0mfid\u001b[0m \u001b[0;34m=\u001b[0m \u001b[0mh5f\u001b[0m\u001b[0;34m.\u001b[0m\u001b[0mcreate\u001b[0m\u001b[0;34m(\u001b[0m\u001b[0mname\u001b[0m\u001b[0;34m,\u001b[0m \u001b[0mh5f\u001b[0m\u001b[0;34m.\u001b[0m\u001b[0mACC_TRUNC\u001b[0m\u001b[0;34m,\u001b[0m \u001b[0mfapl\u001b[0m\u001b[0;34m=\u001b[0m\u001b[0mfapl\u001b[0m\u001b[0;34m,\u001b[0m \u001b[0mfcpl\u001b[0m\u001b[0;34m=\u001b[0m\u001b[0mfcpl\u001b[0m\u001b[0;34m)\u001b[0m\u001b[0;34m\u001b[0m\u001b[0;34m\u001b[0m\u001b[0m\n\u001b[0m\u001b[1;32m    238\u001b[0m     \u001b[0;32melif\u001b[0m \u001b[0mmode\u001b[0m \u001b[0;34m==\u001b[0m \u001b[0;34m'a'\u001b[0m\u001b[0;34m:\u001b[0m\u001b[0;34m\u001b[0m\u001b[0;34m\u001b[0m\u001b[0m\n\u001b[1;32m    239\u001b[0m         \u001b[0;31m# Open in append mode (read/write).\u001b[0m\u001b[0;34m\u001b[0m\u001b[0;34m\u001b[0m\u001b[0m\n",
            "\u001b[0;32mh5py/_objects.pyx\u001b[0m in \u001b[0;36mh5py._objects.with_phil.wrapper\u001b[0;34m()\u001b[0m\n",
            "\u001b[0;32mh5py/_objects.pyx\u001b[0m in \u001b[0;36mh5py._objects.with_phil.wrapper\u001b[0;34m()\u001b[0m\n",
            "\u001b[0;32mh5py/h5f.pyx\u001b[0m in \u001b[0;36mh5py.h5f.create\u001b[0;34m()\u001b[0m\n",
            "\u001b[0;31mFileNotFoundError\u001b[0m: [Errno 2] Unable to create file (unable to open file: name = '/content/sample_data/Untitled Folder/weights_saved1.h5', errno = 2, error message = 'No such file or directory', flags = 13, o_flags = 242)"
          ]
        }
      ]
    },
    {
      "cell_type": "code",
      "source": [
        "# Save the weights of the trained model to a file\n",
        "model.save_weights('/content/sample_data/OUTPUT/weights_saved.h5')"
      ],
      "metadata": {
        "id": "X19u_2eva8EL"
      },
      "execution_count": null,
      "outputs": []
    },
    {
      "cell_type": "code",
      "source": [
        "\"\"\"\n",
        "Run this cell if model needs to loaded from a h5 file\n",
        "\"\"\"\n",
        "# from keras.models import load_model\n",
        "# model = create_model()\n",
        "# model.compile(loss='binary_crossentropy',\n",
        "#               optimizer='adam',\n",
        "#               metrics=['accuracy'])\n",
        "# model.load_weights('../models/weights_saved.h5')"
      ],
      "metadata": {
        "id": "XwTiilxEMyN_"
      },
      "execution_count": null,
      "outputs": []
    },
    {
      "cell_type": "code",
      "source": [
        "# Load the CSV file\n",
        "df = pd.read_csv('/content/drive/MyDrive/Rixprojects-cairdio-ml-pipeline-fe9a94f56c5b/data_splits_2016/test_recordings.csv')\n",
        "\n",
        "# Extract the recording IDs\n",
        "recording_ids = list(df['recording_id'])\n",
        "\n",
        "# Define the source folder\n",
        "source_folder = '/content/drive/MyDrive/preprocessed_recordings_10s'\n",
        "\n",
        "# Define the destination folder\n",
        "destination_folder = '/content/drive/MyDrive/TESTDATA'\n",
        "\n",
        "# Loop through each recording ID and copy the corresponding .wav file to the destination folder\n",
        "for recording_id in recording_ids:\n",
        "    filename = f'{recording_id}.wav'\n",
        "    source_path = os.path.join(source_folder, filename)\n",
        "    destination_path = os.path.join(destination_folder, filename)\n",
        "    shutil.copyfile(source_path, destination_path)"
      ],
      "metadata": {
        "id": "ahozY6KHTGDo"
      },
      "execution_count": null,
      "outputs": []
    },
    {
      "cell_type": "code",
      "source": [
        "pathlib.Path(f'/content/drive/MyDrive/TESTDATAIMAGE').mkdir(parents=True, exist_ok=True)\n",
        "for filename in os.listdir(f'/content/drive/MyDrive/TESTDATA'):\n",
        "    audio_file = f'/content/drive/MyDrive/TESTDATA/{filename}'\n",
        "    # load the .wav file\n",
        "    sample_rate, signal_data = wavfile.read(audio_file)\n",
        "\n",
        "    # downsample to 1000 Hz\n",
        "    resampled_signal = resample(signal_data, int(len(signal_data) * (1000/sample_rate)))\n",
        "\n",
        "    # Calculate spectrogram using Tukey window\n",
        "    f, t, spec = spectrogram(resampled_signal, fs=1000, window='tukey', nperseg=128, noverlap=64)\n",
        "\n",
        "    # Discard the first frequency bin\n",
        "    spec = spec[1:, :]\n",
        "\n",
        "    # Convert spectrogram values to logarithmic scale\n",
        "    log_spec = np.log10(spec)\n",
        "\n",
        "    # Normalize between 0 and 1 using min-max normalization\n",
        "    Sxx = (log_spec - log_spec.min()) / (log_spec.max() - log_spec.min())\n",
        "\n",
        "    # truncate or pad spectrogram to desired dimensions\n",
        "    n_time_bins = 64\n",
        "    n_freq_bins = 128\n",
        "\n",
        "    if Sxx.shape[1] < n_freq_bins:\n",
        "        padding = np.zeros((Sxx.shape[0], n_freq_bins - Sxx.shape[1]))\n",
        "        Sxx = np.hstack((Sxx, padding))\n",
        "    else:\n",
        "        Sxx = Sxx[:, :n_freq_bins]\n",
        "\n",
        "    if Sxx.shape[1] < n_time_bins:\n",
        "        padding = np.zeros((n_time_bins - Sxx.shape[1], Sxx.shape[1]))\n",
        "        Sxx = np.vstack((Sxx, padding))\n",
        "    else:\n",
        "        Sxx = Sxx[:n_time_bins, :]\n",
        "\n",
        "    # reshape spectrogram to desired dimensions\n",
        "    Sxx = np.reshape(Sxx, (n_time_bins, n_freq_bins, 1))\n",
        "\n",
        "    # Plot the spectrogram\n",
        "    plt.figure(figsize=(10, 5))\n",
        "    plt.imshow(Sxx, cmap='jet', aspect='auto', origin='lower',\n",
        "              extent=[t.min(), t.max(), f.min(), f.max()])\n",
        "\n",
        "    plt.axis('off');\n",
        "    plt.savefig(f'/content/drive/MyDrive/TESTDATAIMAGE/{filename[:-3].replace(\".\", \"\")}.png')\n",
        "    plt.clf()"
      ],
      "metadata": {
        "id": "sHsz_S4kPTyB",
        "colab": {
          "base_uri": "https://localhost:8080/",
          "height": 1000
        },
        "outputId": "d5a37122-d03c-45a5-e55a-b28271752a0d"
      },
      "execution_count": null,
      "outputs": [
        {
          "output_type": "display_data",
          "data": {
            "text/plain": [
              "<Figure size 1000x500 with 0 Axes>"
            ]
          },
          "metadata": {}
        },
        {
          "output_type": "display_data",
          "data": {
            "text/plain": [
              "<Figure size 1000x500 with 0 Axes>"
            ]
          },
          "metadata": {}
        },
        {
          "output_type": "display_data",
          "data": {
            "text/plain": [
              "<Figure size 1000x500 with 0 Axes>"
            ]
          },
          "metadata": {}
        },
        {
          "output_type": "display_data",
          "data": {
            "text/plain": [
              "<Figure size 1000x500 with 0 Axes>"
            ]
          },
          "metadata": {}
        },
        {
          "output_type": "display_data",
          "data": {
            "text/plain": [
              "<Figure size 1000x500 with 0 Axes>"
            ]
          },
          "metadata": {}
        },
        {
          "output_type": "display_data",
          "data": {
            "text/plain": [
              "<Figure size 1000x500 with 0 Axes>"
            ]
          },
          "metadata": {}
        },
        {
          "output_type": "display_data",
          "data": {
            "text/plain": [
              "<Figure size 1000x500 with 0 Axes>"
            ]
          },
          "metadata": {}
        },
        {
          "output_type": "display_data",
          "data": {
            "text/plain": [
              "<Figure size 1000x500 with 0 Axes>"
            ]
          },
          "metadata": {}
        },
        {
          "output_type": "display_data",
          "data": {
            "text/plain": [
              "<Figure size 1000x500 with 0 Axes>"
            ]
          },
          "metadata": {}
        },
        {
          "output_type": "display_data",
          "data": {
            "text/plain": [
              "<Figure size 1000x500 with 0 Axes>"
            ]
          },
          "metadata": {}
        },
        {
          "output_type": "display_data",
          "data": {
            "text/plain": [
              "<Figure size 1000x500 with 0 Axes>"
            ]
          },
          "metadata": {}
        },
        {
          "output_type": "display_data",
          "data": {
            "text/plain": [
              "<Figure size 1000x500 with 0 Axes>"
            ]
          },
          "metadata": {}
        },
        {
          "output_type": "display_data",
          "data": {
            "text/plain": [
              "<Figure size 1000x500 with 0 Axes>"
            ]
          },
          "metadata": {}
        },
        {
          "output_type": "display_data",
          "data": {
            "text/plain": [
              "<Figure size 1000x500 with 0 Axes>"
            ]
          },
          "metadata": {}
        },
        {
          "output_type": "display_data",
          "data": {
            "text/plain": [
              "<Figure size 1000x500 with 0 Axes>"
            ]
          },
          "metadata": {}
        },
        {
          "output_type": "display_data",
          "data": {
            "text/plain": [
              "<Figure size 1000x500 with 0 Axes>"
            ]
          },
          "metadata": {}
        },
        {
          "output_type": "display_data",
          "data": {
            "text/plain": [
              "<Figure size 1000x500 with 0 Axes>"
            ]
          },
          "metadata": {}
        },
        {
          "output_type": "display_data",
          "data": {
            "text/plain": [
              "<Figure size 1000x500 with 0 Axes>"
            ]
          },
          "metadata": {}
        },
        {
          "output_type": "display_data",
          "data": {
            "text/plain": [
              "<Figure size 1000x500 with 0 Axes>"
            ]
          },
          "metadata": {}
        },
        {
          "output_type": "display_data",
          "data": {
            "text/plain": [
              "<Figure size 1000x500 with 0 Axes>"
            ]
          },
          "metadata": {}
        },
        {
          "output_type": "display_data",
          "data": {
            "text/plain": [
              "<Figure size 1000x500 with 0 Axes>"
            ]
          },
          "metadata": {}
        },
        {
          "output_type": "display_data",
          "data": {
            "text/plain": [
              "<Figure size 1000x500 with 0 Axes>"
            ]
          },
          "metadata": {}
        },
        {
          "output_type": "display_data",
          "data": {
            "text/plain": [
              "<Figure size 1000x500 with 0 Axes>"
            ]
          },
          "metadata": {}
        },
        {
          "output_type": "display_data",
          "data": {
            "text/plain": [
              "<Figure size 1000x500 with 0 Axes>"
            ]
          },
          "metadata": {}
        },
        {
          "output_type": "display_data",
          "data": {
            "text/plain": [
              "<Figure size 1000x500 with 0 Axes>"
            ]
          },
          "metadata": {}
        },
        {
          "output_type": "display_data",
          "data": {
            "text/plain": [
              "<Figure size 1000x500 with 0 Axes>"
            ]
          },
          "metadata": {}
        },
        {
          "output_type": "display_data",
          "data": {
            "text/plain": [
              "<Figure size 1000x500 with 0 Axes>"
            ]
          },
          "metadata": {}
        },
        {
          "output_type": "display_data",
          "data": {
            "text/plain": [
              "<Figure size 1000x500 with 0 Axes>"
            ]
          },
          "metadata": {}
        },
        {
          "output_type": "display_data",
          "data": {
            "text/plain": [
              "<Figure size 1000x500 with 0 Axes>"
            ]
          },
          "metadata": {}
        },
        {
          "output_type": "display_data",
          "data": {
            "text/plain": [
              "<Figure size 1000x500 with 0 Axes>"
            ]
          },
          "metadata": {}
        },
        {
          "output_type": "display_data",
          "data": {
            "text/plain": [
              "<Figure size 1000x500 with 0 Axes>"
            ]
          },
          "metadata": {}
        },
        {
          "output_type": "display_data",
          "data": {
            "text/plain": [
              "<Figure size 1000x500 with 0 Axes>"
            ]
          },
          "metadata": {}
        },
        {
          "output_type": "display_data",
          "data": {
            "text/plain": [
              "<Figure size 1000x500 with 0 Axes>"
            ]
          },
          "metadata": {}
        },
        {
          "output_type": "display_data",
          "data": {
            "text/plain": [
              "<Figure size 1000x500 with 0 Axes>"
            ]
          },
          "metadata": {}
        },
        {
          "output_type": "display_data",
          "data": {
            "text/plain": [
              "<Figure size 1000x500 with 0 Axes>"
            ]
          },
          "metadata": {}
        },
        {
          "output_type": "display_data",
          "data": {
            "text/plain": [
              "<Figure size 1000x500 with 0 Axes>"
            ]
          },
          "metadata": {}
        },
        {
          "output_type": "display_data",
          "data": {
            "text/plain": [
              "<Figure size 1000x500 with 0 Axes>"
            ]
          },
          "metadata": {}
        },
        {
          "output_type": "display_data",
          "data": {
            "text/plain": [
              "<Figure size 1000x500 with 0 Axes>"
            ]
          },
          "metadata": {}
        },
        {
          "output_type": "display_data",
          "data": {
            "text/plain": [
              "<Figure size 1000x500 with 0 Axes>"
            ]
          },
          "metadata": {}
        },
        {
          "output_type": "display_data",
          "data": {
            "text/plain": [
              "<Figure size 1000x500 with 0 Axes>"
            ]
          },
          "metadata": {}
        },
        {
          "output_type": "display_data",
          "data": {
            "text/plain": [
              "<Figure size 1000x500 with 0 Axes>"
            ]
          },
          "metadata": {}
        },
        {
          "output_type": "display_data",
          "data": {
            "text/plain": [
              "<Figure size 1000x500 with 0 Axes>"
            ]
          },
          "metadata": {}
        },
        {
          "output_type": "display_data",
          "data": {
            "text/plain": [
              "<Figure size 1000x500 with 0 Axes>"
            ]
          },
          "metadata": {}
        },
        {
          "output_type": "display_data",
          "data": {
            "text/plain": [
              "<Figure size 1000x500 with 0 Axes>"
            ]
          },
          "metadata": {}
        },
        {
          "output_type": "display_data",
          "data": {
            "text/plain": [
              "<Figure size 1000x500 with 0 Axes>"
            ]
          },
          "metadata": {}
        },
        {
          "output_type": "display_data",
          "data": {
            "text/plain": [
              "<Figure size 1000x500 with 0 Axes>"
            ]
          },
          "metadata": {}
        },
        {
          "output_type": "display_data",
          "data": {
            "text/plain": [
              "<Figure size 1000x500 with 0 Axes>"
            ]
          },
          "metadata": {}
        },
        {
          "output_type": "display_data",
          "data": {
            "text/plain": [
              "<Figure size 1000x500 with 0 Axes>"
            ]
          },
          "metadata": {}
        },
        {
          "output_type": "display_data",
          "data": {
            "text/plain": [
              "<Figure size 1000x500 with 0 Axes>"
            ]
          },
          "metadata": {}
        },
        {
          "output_type": "display_data",
          "data": {
            "text/plain": [
              "<Figure size 1000x500 with 0 Axes>"
            ]
          },
          "metadata": {}
        },
        {
          "output_type": "display_data",
          "data": {
            "text/plain": [
              "<Figure size 1000x500 with 0 Axes>"
            ]
          },
          "metadata": {}
        },
        {
          "output_type": "display_data",
          "data": {
            "text/plain": [
              "<Figure size 1000x500 with 0 Axes>"
            ]
          },
          "metadata": {}
        },
        {
          "output_type": "display_data",
          "data": {
            "text/plain": [
              "<Figure size 1000x500 with 0 Axes>"
            ]
          },
          "metadata": {}
        },
        {
          "output_type": "display_data",
          "data": {
            "text/plain": [
              "<Figure size 1000x500 with 0 Axes>"
            ]
          },
          "metadata": {}
        },
        {
          "output_type": "display_data",
          "data": {
            "text/plain": [
              "<Figure size 1000x500 with 0 Axes>"
            ]
          },
          "metadata": {}
        },
        {
          "output_type": "display_data",
          "data": {
            "text/plain": [
              "<Figure size 1000x500 with 0 Axes>"
            ]
          },
          "metadata": {}
        },
        {
          "output_type": "display_data",
          "data": {
            "text/plain": [
              "<Figure size 1000x500 with 0 Axes>"
            ]
          },
          "metadata": {}
        },
        {
          "output_type": "display_data",
          "data": {
            "text/plain": [
              "<Figure size 1000x500 with 0 Axes>"
            ]
          },
          "metadata": {}
        },
        {
          "output_type": "display_data",
          "data": {
            "text/plain": [
              "<Figure size 1000x500 with 0 Axes>"
            ]
          },
          "metadata": {}
        },
        {
          "output_type": "display_data",
          "data": {
            "text/plain": [
              "<Figure size 1000x500 with 0 Axes>"
            ]
          },
          "metadata": {}
        },
        {
          "output_type": "display_data",
          "data": {
            "text/plain": [
              "<Figure size 1000x500 with 0 Axes>"
            ]
          },
          "metadata": {}
        },
        {
          "output_type": "display_data",
          "data": {
            "text/plain": [
              "<Figure size 1000x500 with 0 Axes>"
            ]
          },
          "metadata": {}
        },
        {
          "output_type": "display_data",
          "data": {
            "text/plain": [
              "<Figure size 1000x500 with 0 Axes>"
            ]
          },
          "metadata": {}
        },
        {
          "output_type": "display_data",
          "data": {
            "text/plain": [
              "<Figure size 1000x500 with 0 Axes>"
            ]
          },
          "metadata": {}
        },
        {
          "output_type": "display_data",
          "data": {
            "text/plain": [
              "<Figure size 1000x500 with 0 Axes>"
            ]
          },
          "metadata": {}
        },
        {
          "output_type": "display_data",
          "data": {
            "text/plain": [
              "<Figure size 1000x500 with 0 Axes>"
            ]
          },
          "metadata": {}
        },
        {
          "output_type": "display_data",
          "data": {
            "text/plain": [
              "<Figure size 1000x500 with 0 Axes>"
            ]
          },
          "metadata": {}
        },
        {
          "output_type": "display_data",
          "data": {
            "text/plain": [
              "<Figure size 1000x500 with 0 Axes>"
            ]
          },
          "metadata": {}
        },
        {
          "output_type": "display_data",
          "data": {
            "text/plain": [
              "<Figure size 1000x500 with 0 Axes>"
            ]
          },
          "metadata": {}
        },
        {
          "output_type": "display_data",
          "data": {
            "text/plain": [
              "<Figure size 1000x500 with 0 Axes>"
            ]
          },
          "metadata": {}
        },
        {
          "output_type": "display_data",
          "data": {
            "text/plain": [
              "<Figure size 1000x500 with 0 Axes>"
            ]
          },
          "metadata": {}
        },
        {
          "output_type": "display_data",
          "data": {
            "text/plain": [
              "<Figure size 1000x500 with 0 Axes>"
            ]
          },
          "metadata": {}
        },
        {
          "output_type": "display_data",
          "data": {
            "text/plain": [
              "<Figure size 1000x500 with 0 Axes>"
            ]
          },
          "metadata": {}
        },
        {
          "output_type": "display_data",
          "data": {
            "text/plain": [
              "<Figure size 1000x500 with 0 Axes>"
            ]
          },
          "metadata": {}
        },
        {
          "output_type": "display_data",
          "data": {
            "text/plain": [
              "<Figure size 1000x500 with 0 Axes>"
            ]
          },
          "metadata": {}
        },
        {
          "output_type": "display_data",
          "data": {
            "text/plain": [
              "<Figure size 1000x500 with 0 Axes>"
            ]
          },
          "metadata": {}
        },
        {
          "output_type": "display_data",
          "data": {
            "text/plain": [
              "<Figure size 1000x500 with 0 Axes>"
            ]
          },
          "metadata": {}
        },
        {
          "output_type": "display_data",
          "data": {
            "text/plain": [
              "<Figure size 1000x500 with 0 Axes>"
            ]
          },
          "metadata": {}
        },
        {
          "output_type": "display_data",
          "data": {
            "text/plain": [
              "<Figure size 1000x500 with 0 Axes>"
            ]
          },
          "metadata": {}
        },
        {
          "output_type": "display_data",
          "data": {
            "text/plain": [
              "<Figure size 1000x500 with 0 Axes>"
            ]
          },
          "metadata": {}
        },
        {
          "output_type": "display_data",
          "data": {
            "text/plain": [
              "<Figure size 1000x500 with 0 Axes>"
            ]
          },
          "metadata": {}
        },
        {
          "output_type": "display_data",
          "data": {
            "text/plain": [
              "<Figure size 1000x500 with 0 Axes>"
            ]
          },
          "metadata": {}
        },
        {
          "output_type": "display_data",
          "data": {
            "text/plain": [
              "<Figure size 1000x500 with 0 Axes>"
            ]
          },
          "metadata": {}
        },
        {
          "output_type": "display_data",
          "data": {
            "text/plain": [
              "<Figure size 1000x500 with 0 Axes>"
            ]
          },
          "metadata": {}
        },
        {
          "output_type": "display_data",
          "data": {
            "text/plain": [
              "<Figure size 1000x500 with 0 Axes>"
            ]
          },
          "metadata": {}
        },
        {
          "output_type": "display_data",
          "data": {
            "text/plain": [
              "<Figure size 1000x500 with 0 Axes>"
            ]
          },
          "metadata": {}
        },
        {
          "output_type": "display_data",
          "data": {
            "text/plain": [
              "<Figure size 1000x500 with 0 Axes>"
            ]
          },
          "metadata": {}
        },
        {
          "output_type": "display_data",
          "data": {
            "text/plain": [
              "<Figure size 1000x500 with 0 Axes>"
            ]
          },
          "metadata": {}
        },
        {
          "output_type": "display_data",
          "data": {
            "text/plain": [
              "<Figure size 1000x500 with 0 Axes>"
            ]
          },
          "metadata": {}
        },
        {
          "output_type": "display_data",
          "data": {
            "text/plain": [
              "<Figure size 1000x500 with 0 Axes>"
            ]
          },
          "metadata": {}
        },
        {
          "output_type": "display_data",
          "data": {
            "text/plain": [
              "<Figure size 1000x500 with 0 Axes>"
            ]
          },
          "metadata": {}
        },
        {
          "output_type": "display_data",
          "data": {
            "text/plain": [
              "<Figure size 1000x500 with 0 Axes>"
            ]
          },
          "metadata": {}
        },
        {
          "output_type": "display_data",
          "data": {
            "text/plain": [
              "<Figure size 1000x500 with 0 Axes>"
            ]
          },
          "metadata": {}
        },
        {
          "output_type": "display_data",
          "data": {
            "text/plain": [
              "<Figure size 1000x500 with 0 Axes>"
            ]
          },
          "metadata": {}
        },
        {
          "output_type": "display_data",
          "data": {
            "text/plain": [
              "<Figure size 1000x500 with 0 Axes>"
            ]
          },
          "metadata": {}
        },
        {
          "output_type": "display_data",
          "data": {
            "text/plain": [
              "<Figure size 1000x500 with 0 Axes>"
            ]
          },
          "metadata": {}
        },
        {
          "output_type": "display_data",
          "data": {
            "text/plain": [
              "<Figure size 1000x500 with 0 Axes>"
            ]
          },
          "metadata": {}
        },
        {
          "output_type": "display_data",
          "data": {
            "text/plain": [
              "<Figure size 1000x500 with 0 Axes>"
            ]
          },
          "metadata": {}
        },
        {
          "output_type": "display_data",
          "data": {
            "text/plain": [
              "<Figure size 1000x500 with 0 Axes>"
            ]
          },
          "metadata": {}
        },
        {
          "output_type": "display_data",
          "data": {
            "text/plain": [
              "<Figure size 1000x500 with 0 Axes>"
            ]
          },
          "metadata": {}
        },
        {
          "output_type": "display_data",
          "data": {
            "text/plain": [
              "<Figure size 1000x500 with 0 Axes>"
            ]
          },
          "metadata": {}
        },
        {
          "output_type": "display_data",
          "data": {
            "text/plain": [
              "<Figure size 1000x500 with 0 Axes>"
            ]
          },
          "metadata": {}
        },
        {
          "output_type": "display_data",
          "data": {
            "text/plain": [
              "<Figure size 1000x500 with 0 Axes>"
            ]
          },
          "metadata": {}
        },
        {
          "output_type": "display_data",
          "data": {
            "text/plain": [
              "<Figure size 1000x500 with 0 Axes>"
            ]
          },
          "metadata": {}
        },
        {
          "output_type": "display_data",
          "data": {
            "text/plain": [
              "<Figure size 1000x500 with 0 Axes>"
            ]
          },
          "metadata": {}
        },
        {
          "output_type": "display_data",
          "data": {
            "text/plain": [
              "<Figure size 1000x500 with 0 Axes>"
            ]
          },
          "metadata": {}
        },
        {
          "output_type": "display_data",
          "data": {
            "text/plain": [
              "<Figure size 1000x500 with 0 Axes>"
            ]
          },
          "metadata": {}
        },
        {
          "output_type": "display_data",
          "data": {
            "text/plain": [
              "<Figure size 1000x500 with 0 Axes>"
            ]
          },
          "metadata": {}
        },
        {
          "output_type": "display_data",
          "data": {
            "text/plain": [
              "<Figure size 1000x500 with 0 Axes>"
            ]
          },
          "metadata": {}
        },
        {
          "output_type": "display_data",
          "data": {
            "text/plain": [
              "<Figure size 1000x500 with 0 Axes>"
            ]
          },
          "metadata": {}
        },
        {
          "output_type": "display_data",
          "data": {
            "text/plain": [
              "<Figure size 1000x500 with 0 Axes>"
            ]
          },
          "metadata": {}
        },
        {
          "output_type": "display_data",
          "data": {
            "text/plain": [
              "<Figure size 1000x500 with 0 Axes>"
            ]
          },
          "metadata": {}
        },
        {
          "output_type": "display_data",
          "data": {
            "text/plain": [
              "<Figure size 1000x500 with 0 Axes>"
            ]
          },
          "metadata": {}
        },
        {
          "output_type": "display_data",
          "data": {
            "text/plain": [
              "<Figure size 1000x500 with 0 Axes>"
            ]
          },
          "metadata": {}
        },
        {
          "output_type": "display_data",
          "data": {
            "text/plain": [
              "<Figure size 1000x500 with 0 Axes>"
            ]
          },
          "metadata": {}
        },
        {
          "output_type": "display_data",
          "data": {
            "text/plain": [
              "<Figure size 1000x500 with 0 Axes>"
            ]
          },
          "metadata": {}
        },
        {
          "output_type": "display_data",
          "data": {
            "text/plain": [
              "<Figure size 1000x500 with 0 Axes>"
            ]
          },
          "metadata": {}
        },
        {
          "output_type": "display_data",
          "data": {
            "text/plain": [
              "<Figure size 1000x500 with 0 Axes>"
            ]
          },
          "metadata": {}
        },
        {
          "output_type": "display_data",
          "data": {
            "text/plain": [
              "<Figure size 1000x500 with 0 Axes>"
            ]
          },
          "metadata": {}
        },
        {
          "output_type": "display_data",
          "data": {
            "text/plain": [
              "<Figure size 1000x500 with 0 Axes>"
            ]
          },
          "metadata": {}
        },
        {
          "output_type": "display_data",
          "data": {
            "text/plain": [
              "<Figure size 1000x500 with 0 Axes>"
            ]
          },
          "metadata": {}
        },
        {
          "output_type": "display_data",
          "data": {
            "text/plain": [
              "<Figure size 1000x500 with 0 Axes>"
            ]
          },
          "metadata": {}
        },
        {
          "output_type": "display_data",
          "data": {
            "text/plain": [
              "<Figure size 1000x500 with 0 Axes>"
            ]
          },
          "metadata": {}
        },
        {
          "output_type": "display_data",
          "data": {
            "text/plain": [
              "<Figure size 1000x500 with 0 Axes>"
            ]
          },
          "metadata": {}
        },
        {
          "output_type": "display_data",
          "data": {
            "text/plain": [
              "<Figure size 1000x500 with 0 Axes>"
            ]
          },
          "metadata": {}
        },
        {
          "output_type": "display_data",
          "data": {
            "text/plain": [
              "<Figure size 1000x500 with 0 Axes>"
            ]
          },
          "metadata": {}
        },
        {
          "output_type": "display_data",
          "data": {
            "text/plain": [
              "<Figure size 1000x500 with 0 Axes>"
            ]
          },
          "metadata": {}
        },
        {
          "output_type": "display_data",
          "data": {
            "text/plain": [
              "<Figure size 1000x500 with 0 Axes>"
            ]
          },
          "metadata": {}
        },
        {
          "output_type": "display_data",
          "data": {
            "text/plain": [
              "<Figure size 1000x500 with 0 Axes>"
            ]
          },
          "metadata": {}
        },
        {
          "output_type": "display_data",
          "data": {
            "text/plain": [
              "<Figure size 1000x500 with 0 Axes>"
            ]
          },
          "metadata": {}
        },
        {
          "output_type": "display_data",
          "data": {
            "text/plain": [
              "<Figure size 1000x500 with 0 Axes>"
            ]
          },
          "metadata": {}
        },
        {
          "output_type": "display_data",
          "data": {
            "text/plain": [
              "<Figure size 1000x500 with 0 Axes>"
            ]
          },
          "metadata": {}
        },
        {
          "output_type": "display_data",
          "data": {
            "text/plain": [
              "<Figure size 1000x500 with 0 Axes>"
            ]
          },
          "metadata": {}
        },
        {
          "output_type": "display_data",
          "data": {
            "text/plain": [
              "<Figure size 1000x500 with 0 Axes>"
            ]
          },
          "metadata": {}
        },
        {
          "output_type": "display_data",
          "data": {
            "text/plain": [
              "<Figure size 1000x500 with 0 Axes>"
            ]
          },
          "metadata": {}
        },
        {
          "output_type": "display_data",
          "data": {
            "text/plain": [
              "<Figure size 1000x500 with 0 Axes>"
            ]
          },
          "metadata": {}
        },
        {
          "output_type": "display_data",
          "data": {
            "text/plain": [
              "<Figure size 1000x500 with 0 Axes>"
            ]
          },
          "metadata": {}
        },
        {
          "output_type": "display_data",
          "data": {
            "text/plain": [
              "<Figure size 1000x500 with 0 Axes>"
            ]
          },
          "metadata": {}
        },
        {
          "output_type": "display_data",
          "data": {
            "text/plain": [
              "<Figure size 1000x500 with 0 Axes>"
            ]
          },
          "metadata": {}
        },
        {
          "output_type": "display_data",
          "data": {
            "text/plain": [
              "<Figure size 1000x500 with 0 Axes>"
            ]
          },
          "metadata": {}
        },
        {
          "output_type": "display_data",
          "data": {
            "text/plain": [
              "<Figure size 1000x500 with 0 Axes>"
            ]
          },
          "metadata": {}
        },
        {
          "output_type": "display_data",
          "data": {
            "text/plain": [
              "<Figure size 1000x500 with 0 Axes>"
            ]
          },
          "metadata": {}
        },
        {
          "output_type": "display_data",
          "data": {
            "text/plain": [
              "<Figure size 1000x500 with 0 Axes>"
            ]
          },
          "metadata": {}
        },
        {
          "output_type": "display_data",
          "data": {
            "text/plain": [
              "<Figure size 1000x500 with 0 Axes>"
            ]
          },
          "metadata": {}
        },
        {
          "output_type": "display_data",
          "data": {
            "text/plain": [
              "<Figure size 1000x500 with 0 Axes>"
            ]
          },
          "metadata": {}
        },
        {
          "output_type": "display_data",
          "data": {
            "text/plain": [
              "<Figure size 1000x500 with 0 Axes>"
            ]
          },
          "metadata": {}
        },
        {
          "output_type": "display_data",
          "data": {
            "text/plain": [
              "<Figure size 1000x500 with 0 Axes>"
            ]
          },
          "metadata": {}
        },
        {
          "output_type": "display_data",
          "data": {
            "text/plain": [
              "<Figure size 1000x500 with 0 Axes>"
            ]
          },
          "metadata": {}
        },
        {
          "output_type": "display_data",
          "data": {
            "text/plain": [
              "<Figure size 1000x500 with 0 Axes>"
            ]
          },
          "metadata": {}
        },
        {
          "output_type": "display_data",
          "data": {
            "text/plain": [
              "<Figure size 1000x500 with 0 Axes>"
            ]
          },
          "metadata": {}
        },
        {
          "output_type": "display_data",
          "data": {
            "text/plain": [
              "<Figure size 1000x500 with 0 Axes>"
            ]
          },
          "metadata": {}
        },
        {
          "output_type": "display_data",
          "data": {
            "text/plain": [
              "<Figure size 1000x500 with 0 Axes>"
            ]
          },
          "metadata": {}
        },
        {
          "output_type": "display_data",
          "data": {
            "text/plain": [
              "<Figure size 1000x500 with 0 Axes>"
            ]
          },
          "metadata": {}
        },
        {
          "output_type": "display_data",
          "data": {
            "text/plain": [
              "<Figure size 1000x500 with 0 Axes>"
            ]
          },
          "metadata": {}
        },
        {
          "output_type": "display_data",
          "data": {
            "text/plain": [
              "<Figure size 1000x500 with 0 Axes>"
            ]
          },
          "metadata": {}
        },
        {
          "output_type": "display_data",
          "data": {
            "text/plain": [
              "<Figure size 1000x500 with 0 Axes>"
            ]
          },
          "metadata": {}
        },
        {
          "output_type": "display_data",
          "data": {
            "text/plain": [
              "<Figure size 1000x500 with 0 Axes>"
            ]
          },
          "metadata": {}
        },
        {
          "output_type": "display_data",
          "data": {
            "text/plain": [
              "<Figure size 1000x500 with 0 Axes>"
            ]
          },
          "metadata": {}
        },
        {
          "output_type": "display_data",
          "data": {
            "text/plain": [
              "<Figure size 1000x500 with 0 Axes>"
            ]
          },
          "metadata": {}
        },
        {
          "output_type": "display_data",
          "data": {
            "text/plain": [
              "<Figure size 1000x500 with 0 Axes>"
            ]
          },
          "metadata": {}
        },
        {
          "output_type": "display_data",
          "data": {
            "text/plain": [
              "<Figure size 1000x500 with 0 Axes>"
            ]
          },
          "metadata": {}
        },
        {
          "output_type": "display_data",
          "data": {
            "text/plain": [
              "<Figure size 1000x500 with 0 Axes>"
            ]
          },
          "metadata": {}
        },
        {
          "output_type": "display_data",
          "data": {
            "text/plain": [
              "<Figure size 1000x500 with 0 Axes>"
            ]
          },
          "metadata": {}
        },
        {
          "output_type": "display_data",
          "data": {
            "text/plain": [
              "<Figure size 1000x500 with 0 Axes>"
            ]
          },
          "metadata": {}
        },
        {
          "output_type": "display_data",
          "data": {
            "text/plain": [
              "<Figure size 1000x500 with 0 Axes>"
            ]
          },
          "metadata": {}
        },
        {
          "output_type": "display_data",
          "data": {
            "text/plain": [
              "<Figure size 1000x500 with 0 Axes>"
            ]
          },
          "metadata": {}
        },
        {
          "output_type": "display_data",
          "data": {
            "text/plain": [
              "<Figure size 1000x500 with 0 Axes>"
            ]
          },
          "metadata": {}
        },
        {
          "output_type": "display_data",
          "data": {
            "text/plain": [
              "<Figure size 1000x500 with 0 Axes>"
            ]
          },
          "metadata": {}
        },
        {
          "output_type": "display_data",
          "data": {
            "text/plain": [
              "<Figure size 1000x500 with 0 Axes>"
            ]
          },
          "metadata": {}
        },
        {
          "output_type": "display_data",
          "data": {
            "text/plain": [
              "<Figure size 1000x500 with 0 Axes>"
            ]
          },
          "metadata": {}
        },
        {
          "output_type": "display_data",
          "data": {
            "text/plain": [
              "<Figure size 1000x500 with 0 Axes>"
            ]
          },
          "metadata": {}
        },
        {
          "output_type": "display_data",
          "data": {
            "text/plain": [
              "<Figure size 1000x500 with 0 Axes>"
            ]
          },
          "metadata": {}
        },
        {
          "output_type": "display_data",
          "data": {
            "text/plain": [
              "<Figure size 1000x500 with 0 Axes>"
            ]
          },
          "metadata": {}
        },
        {
          "output_type": "display_data",
          "data": {
            "text/plain": [
              "<Figure size 1000x500 with 0 Axes>"
            ]
          },
          "metadata": {}
        },
        {
          "output_type": "display_data",
          "data": {
            "text/plain": [
              "<Figure size 1000x500 with 0 Axes>"
            ]
          },
          "metadata": {}
        },
        {
          "output_type": "display_data",
          "data": {
            "text/plain": [
              "<Figure size 1000x500 with 0 Axes>"
            ]
          },
          "metadata": {}
        },
        {
          "output_type": "display_data",
          "data": {
            "text/plain": [
              "<Figure size 1000x500 with 0 Axes>"
            ]
          },
          "metadata": {}
        },
        {
          "output_type": "display_data",
          "data": {
            "text/plain": [
              "<Figure size 1000x500 with 0 Axes>"
            ]
          },
          "metadata": {}
        },
        {
          "output_type": "display_data",
          "data": {
            "text/plain": [
              "<Figure size 1000x500 with 0 Axes>"
            ]
          },
          "metadata": {}
        },
        {
          "output_type": "display_data",
          "data": {
            "text/plain": [
              "<Figure size 1000x500 with 0 Axes>"
            ]
          },
          "metadata": {}
        },
        {
          "output_type": "display_data",
          "data": {
            "text/plain": [
              "<Figure size 1000x500 with 0 Axes>"
            ]
          },
          "metadata": {}
        },
        {
          "output_type": "display_data",
          "data": {
            "text/plain": [
              "<Figure size 1000x500 with 0 Axes>"
            ]
          },
          "metadata": {}
        },
        {
          "output_type": "display_data",
          "data": {
            "text/plain": [
              "<Figure size 1000x500 with 0 Axes>"
            ]
          },
          "metadata": {}
        },
        {
          "output_type": "display_data",
          "data": {
            "text/plain": [
              "<Figure size 1000x500 with 0 Axes>"
            ]
          },
          "metadata": {}
        },
        {
          "output_type": "display_data",
          "data": {
            "text/plain": [
              "<Figure size 1000x500 with 0 Axes>"
            ]
          },
          "metadata": {}
        },
        {
          "output_type": "display_data",
          "data": {
            "text/plain": [
              "<Figure size 1000x500 with 0 Axes>"
            ]
          },
          "metadata": {}
        },
        {
          "output_type": "display_data",
          "data": {
            "text/plain": [
              "<Figure size 1000x500 with 0 Axes>"
            ]
          },
          "metadata": {}
        },
        {
          "output_type": "display_data",
          "data": {
            "text/plain": [
              "<Figure size 1000x500 with 0 Axes>"
            ]
          },
          "metadata": {}
        },
        {
          "output_type": "display_data",
          "data": {
            "text/plain": [
              "<Figure size 1000x500 with 0 Axes>"
            ]
          },
          "metadata": {}
        },
        {
          "output_type": "display_data",
          "data": {
            "text/plain": [
              "<Figure size 1000x500 with 0 Axes>"
            ]
          },
          "metadata": {}
        },
        {
          "output_type": "display_data",
          "data": {
            "text/plain": [
              "<Figure size 1000x500 with 0 Axes>"
            ]
          },
          "metadata": {}
        },
        {
          "output_type": "display_data",
          "data": {
            "text/plain": [
              "<Figure size 1000x500 with 0 Axes>"
            ]
          },
          "metadata": {}
        },
        {
          "output_type": "display_data",
          "data": {
            "text/plain": [
              "<Figure size 1000x500 with 0 Axes>"
            ]
          },
          "metadata": {}
        },
        {
          "output_type": "display_data",
          "data": {
            "text/plain": [
              "<Figure size 1000x500 with 0 Axes>"
            ]
          },
          "metadata": {}
        },
        {
          "output_type": "display_data",
          "data": {
            "text/plain": [
              "<Figure size 1000x500 with 0 Axes>"
            ]
          },
          "metadata": {}
        },
        {
          "output_type": "display_data",
          "data": {
            "text/plain": [
              "<Figure size 1000x500 with 0 Axes>"
            ]
          },
          "metadata": {}
        },
        {
          "output_type": "display_data",
          "data": {
            "text/plain": [
              "<Figure size 1000x500 with 0 Axes>"
            ]
          },
          "metadata": {}
        },
        {
          "output_type": "display_data",
          "data": {
            "text/plain": [
              "<Figure size 1000x500 with 0 Axes>"
            ]
          },
          "metadata": {}
        },
        {
          "output_type": "display_data",
          "data": {
            "text/plain": [
              "<Figure size 1000x500 with 0 Axes>"
            ]
          },
          "metadata": {}
        },
        {
          "output_type": "display_data",
          "data": {
            "text/plain": [
              "<Figure size 1000x500 with 0 Axes>"
            ]
          },
          "metadata": {}
        },
        {
          "output_type": "display_data",
          "data": {
            "text/plain": [
              "<Figure size 1000x500 with 0 Axes>"
            ]
          },
          "metadata": {}
        },
        {
          "output_type": "display_data",
          "data": {
            "text/plain": [
              "<Figure size 1000x500 with 0 Axes>"
            ]
          },
          "metadata": {}
        },
        {
          "output_type": "display_data",
          "data": {
            "text/plain": [
              "<Figure size 1000x500 with 0 Axes>"
            ]
          },
          "metadata": {}
        },
        {
          "output_type": "display_data",
          "data": {
            "text/plain": [
              "<Figure size 1000x500 with 0 Axes>"
            ]
          },
          "metadata": {}
        },
        {
          "output_type": "display_data",
          "data": {
            "text/plain": [
              "<Figure size 1000x500 with 0 Axes>"
            ]
          },
          "metadata": {}
        },
        {
          "output_type": "display_data",
          "data": {
            "text/plain": [
              "<Figure size 1000x500 with 0 Axes>"
            ]
          },
          "metadata": {}
        },
        {
          "output_type": "display_data",
          "data": {
            "text/plain": [
              "<Figure size 1000x500 with 0 Axes>"
            ]
          },
          "metadata": {}
        },
        {
          "output_type": "display_data",
          "data": {
            "text/plain": [
              "<Figure size 1000x500 with 0 Axes>"
            ]
          },
          "metadata": {}
        },
        {
          "output_type": "display_data",
          "data": {
            "text/plain": [
              "<Figure size 1000x500 with 0 Axes>"
            ]
          },
          "metadata": {}
        },
        {
          "output_type": "display_data",
          "data": {
            "text/plain": [
              "<Figure size 1000x500 with 0 Axes>"
            ]
          },
          "metadata": {}
        },
        {
          "output_type": "display_data",
          "data": {
            "text/plain": [
              "<Figure size 1000x500 with 0 Axes>"
            ]
          },
          "metadata": {}
        },
        {
          "output_type": "display_data",
          "data": {
            "text/plain": [
              "<Figure size 1000x500 with 0 Axes>"
            ]
          },
          "metadata": {}
        },
        {
          "output_type": "display_data",
          "data": {
            "text/plain": [
              "<Figure size 1000x500 with 0 Axes>"
            ]
          },
          "metadata": {}
        },
        {
          "output_type": "display_data",
          "data": {
            "text/plain": [
              "<Figure size 1000x500 with 0 Axes>"
            ]
          },
          "metadata": {}
        },
        {
          "output_type": "display_data",
          "data": {
            "text/plain": [
              "<Figure size 1000x500 with 0 Axes>"
            ]
          },
          "metadata": {}
        },
        {
          "output_type": "display_data",
          "data": {
            "text/plain": [
              "<Figure size 1000x500 with 0 Axes>"
            ]
          },
          "metadata": {}
        },
        {
          "output_type": "display_data",
          "data": {
            "text/plain": [
              "<Figure size 1000x500 with 0 Axes>"
            ]
          },
          "metadata": {}
        },
        {
          "output_type": "display_data",
          "data": {
            "text/plain": [
              "<Figure size 1000x500 with 0 Axes>"
            ]
          },
          "metadata": {}
        },
        {
          "output_type": "display_data",
          "data": {
            "text/plain": [
              "<Figure size 1000x500 with 0 Axes>"
            ]
          },
          "metadata": {}
        },
        {
          "output_type": "display_data",
          "data": {
            "text/plain": [
              "<Figure size 1000x500 with 0 Axes>"
            ]
          },
          "metadata": {}
        },
        {
          "output_type": "display_data",
          "data": {
            "text/plain": [
              "<Figure size 1000x500 with 0 Axes>"
            ]
          },
          "metadata": {}
        },
        {
          "output_type": "display_data",
          "data": {
            "text/plain": [
              "<Figure size 1000x500 with 0 Axes>"
            ]
          },
          "metadata": {}
        },
        {
          "output_type": "display_data",
          "data": {
            "text/plain": [
              "<Figure size 1000x500 with 0 Axes>"
            ]
          },
          "metadata": {}
        },
        {
          "output_type": "display_data",
          "data": {
            "text/plain": [
              "<Figure size 1000x500 with 0 Axes>"
            ]
          },
          "metadata": {}
        },
        {
          "output_type": "display_data",
          "data": {
            "text/plain": [
              "<Figure size 1000x500 with 0 Axes>"
            ]
          },
          "metadata": {}
        },
        {
          "output_type": "display_data",
          "data": {
            "text/plain": [
              "<Figure size 1000x500 with 0 Axes>"
            ]
          },
          "metadata": {}
        },
        {
          "output_type": "display_data",
          "data": {
            "text/plain": [
              "<Figure size 1000x500 with 0 Axes>"
            ]
          },
          "metadata": {}
        },
        {
          "output_type": "display_data",
          "data": {
            "text/plain": [
              "<Figure size 1000x500 with 0 Axes>"
            ]
          },
          "metadata": {}
        },
        {
          "output_type": "display_data",
          "data": {
            "text/plain": [
              "<Figure size 1000x500 with 0 Axes>"
            ]
          },
          "metadata": {}
        },
        {
          "output_type": "display_data",
          "data": {
            "text/plain": [
              "<Figure size 1000x500 with 0 Axes>"
            ]
          },
          "metadata": {}
        },
        {
          "output_type": "display_data",
          "data": {
            "text/plain": [
              "<Figure size 1000x500 with 0 Axes>"
            ]
          },
          "metadata": {}
        },
        {
          "output_type": "display_data",
          "data": {
            "text/plain": [
              "<Figure size 1000x500 with 0 Axes>"
            ]
          },
          "metadata": {}
        },
        {
          "output_type": "display_data",
          "data": {
            "text/plain": [
              "<Figure size 1000x500 with 0 Axes>"
            ]
          },
          "metadata": {}
        },
        {
          "output_type": "display_data",
          "data": {
            "text/plain": [
              "<Figure size 1000x500 with 0 Axes>"
            ]
          },
          "metadata": {}
        },
        {
          "output_type": "display_data",
          "data": {
            "text/plain": [
              "<Figure size 1000x500 with 0 Axes>"
            ]
          },
          "metadata": {}
        },
        {
          "output_type": "display_data",
          "data": {
            "text/plain": [
              "<Figure size 1000x500 with 0 Axes>"
            ]
          },
          "metadata": {}
        },
        {
          "output_type": "display_data",
          "data": {
            "text/plain": [
              "<Figure size 1000x500 with 0 Axes>"
            ]
          },
          "metadata": {}
        },
        {
          "output_type": "display_data",
          "data": {
            "text/plain": [
              "<Figure size 1000x500 with 0 Axes>"
            ]
          },
          "metadata": {}
        },
        {
          "output_type": "display_data",
          "data": {
            "text/plain": [
              "<Figure size 1000x500 with 0 Axes>"
            ]
          },
          "metadata": {}
        },
        {
          "output_type": "display_data",
          "data": {
            "text/plain": [
              "<Figure size 1000x500 with 0 Axes>"
            ]
          },
          "metadata": {}
        },
        {
          "output_type": "display_data",
          "data": {
            "text/plain": [
              "<Figure size 1000x500 with 0 Axes>"
            ]
          },
          "metadata": {}
        },
        {
          "output_type": "display_data",
          "data": {
            "text/plain": [
              "<Figure size 1000x500 with 0 Axes>"
            ]
          },
          "metadata": {}
        },
        {
          "output_type": "display_data",
          "data": {
            "text/plain": [
              "<Figure size 1000x500 with 0 Axes>"
            ]
          },
          "metadata": {}
        },
        {
          "output_type": "display_data",
          "data": {
            "text/plain": [
              "<Figure size 1000x500 with 0 Axes>"
            ]
          },
          "metadata": {}
        },
        {
          "output_type": "display_data",
          "data": {
            "text/plain": [
              "<Figure size 1000x500 with 0 Axes>"
            ]
          },
          "metadata": {}
        },
        {
          "output_type": "display_data",
          "data": {
            "text/plain": [
              "<Figure size 1000x500 with 0 Axes>"
            ]
          },
          "metadata": {}
        },
        {
          "output_type": "display_data",
          "data": {
            "text/plain": [
              "<Figure size 1000x500 with 0 Axes>"
            ]
          },
          "metadata": {}
        },
        {
          "output_type": "display_data",
          "data": {
            "text/plain": [
              "<Figure size 1000x500 with 0 Axes>"
            ]
          },
          "metadata": {}
        },
        {
          "output_type": "display_data",
          "data": {
            "text/plain": [
              "<Figure size 1000x500 with 0 Axes>"
            ]
          },
          "metadata": {}
        },
        {
          "output_type": "display_data",
          "data": {
            "text/plain": [
              "<Figure size 1000x500 with 0 Axes>"
            ]
          },
          "metadata": {}
        },
        {
          "output_type": "display_data",
          "data": {
            "text/plain": [
              "<Figure size 1000x500 with 0 Axes>"
            ]
          },
          "metadata": {}
        },
        {
          "output_type": "display_data",
          "data": {
            "text/plain": [
              "<Figure size 1000x500 with 0 Axes>"
            ]
          },
          "metadata": {}
        },
        {
          "output_type": "display_data",
          "data": {
            "text/plain": [
              "<Figure size 1000x500 with 0 Axes>"
            ]
          },
          "metadata": {}
        },
        {
          "output_type": "display_data",
          "data": {
            "text/plain": [
              "<Figure size 1000x500 with 0 Axes>"
            ]
          },
          "metadata": {}
        },
        {
          "output_type": "display_data",
          "data": {
            "text/plain": [
              "<Figure size 1000x500 with 0 Axes>"
            ]
          },
          "metadata": {}
        },
        {
          "output_type": "display_data",
          "data": {
            "text/plain": [
              "<Figure size 1000x500 with 0 Axes>"
            ]
          },
          "metadata": {}
        },
        {
          "output_type": "display_data",
          "data": {
            "text/plain": [
              "<Figure size 1000x500 with 0 Axes>"
            ]
          },
          "metadata": {}
        },
        {
          "output_type": "display_data",
          "data": {
            "text/plain": [
              "<Figure size 1000x500 with 0 Axes>"
            ]
          },
          "metadata": {}
        },
        {
          "output_type": "display_data",
          "data": {
            "text/plain": [
              "<Figure size 1000x500 with 0 Axes>"
            ]
          },
          "metadata": {}
        },
        {
          "output_type": "display_data",
          "data": {
            "text/plain": [
              "<Figure size 1000x500 with 0 Axes>"
            ]
          },
          "metadata": {}
        },
        {
          "output_type": "display_data",
          "data": {
            "text/plain": [
              "<Figure size 1000x500 with 0 Axes>"
            ]
          },
          "metadata": {}
        },
        {
          "output_type": "display_data",
          "data": {
            "text/plain": [
              "<Figure size 1000x500 with 0 Axes>"
            ]
          },
          "metadata": {}
        },
        {
          "output_type": "display_data",
          "data": {
            "text/plain": [
              "<Figure size 1000x500 with 0 Axes>"
            ]
          },
          "metadata": {}
        },
        {
          "output_type": "display_data",
          "data": {
            "text/plain": [
              "<Figure size 1000x500 with 0 Axes>"
            ]
          },
          "metadata": {}
        },
        {
          "output_type": "display_data",
          "data": {
            "text/plain": [
              "<Figure size 1000x500 with 0 Axes>"
            ]
          },
          "metadata": {}
        },
        {
          "output_type": "display_data",
          "data": {
            "text/plain": [
              "<Figure size 1000x500 with 0 Axes>"
            ]
          },
          "metadata": {}
        },
        {
          "output_type": "display_data",
          "data": {
            "text/plain": [
              "<Figure size 1000x500 with 0 Axes>"
            ]
          },
          "metadata": {}
        },
        {
          "output_type": "display_data",
          "data": {
            "text/plain": [
              "<Figure size 1000x500 with 0 Axes>"
            ]
          },
          "metadata": {}
        },
        {
          "output_type": "display_data",
          "data": {
            "text/plain": [
              "<Figure size 1000x500 with 0 Axes>"
            ]
          },
          "metadata": {}
        },
        {
          "output_type": "display_data",
          "data": {
            "text/plain": [
              "<Figure size 1000x500 with 0 Axes>"
            ]
          },
          "metadata": {}
        },
        {
          "output_type": "display_data",
          "data": {
            "text/plain": [
              "<Figure size 1000x500 with 0 Axes>"
            ]
          },
          "metadata": {}
        },
        {
          "output_type": "display_data",
          "data": {
            "text/plain": [
              "<Figure size 1000x500 with 0 Axes>"
            ]
          },
          "metadata": {}
        },
        {
          "output_type": "display_data",
          "data": {
            "text/plain": [
              "<Figure size 1000x500 with 0 Axes>"
            ]
          },
          "metadata": {}
        },
        {
          "output_type": "display_data",
          "data": {
            "text/plain": [
              "<Figure size 1000x500 with 0 Axes>"
            ]
          },
          "metadata": {}
        },
        {
          "output_type": "display_data",
          "data": {
            "text/plain": [
              "<Figure size 1000x500 with 0 Axes>"
            ]
          },
          "metadata": {}
        },
        {
          "output_type": "display_data",
          "data": {
            "text/plain": [
              "<Figure size 1000x500 with 0 Axes>"
            ]
          },
          "metadata": {}
        },
        {
          "output_type": "display_data",
          "data": {
            "text/plain": [
              "<Figure size 1000x500 with 0 Axes>"
            ]
          },
          "metadata": {}
        },
        {
          "output_type": "display_data",
          "data": {
            "text/plain": [
              "<Figure size 1000x500 with 0 Axes>"
            ]
          },
          "metadata": {}
        },
        {
          "output_type": "display_data",
          "data": {
            "text/plain": [
              "<Figure size 1000x500 with 0 Axes>"
            ]
          },
          "metadata": {}
        },
        {
          "output_type": "display_data",
          "data": {
            "text/plain": [
              "<Figure size 1000x500 with 0 Axes>"
            ]
          },
          "metadata": {}
        },
        {
          "output_type": "display_data",
          "data": {
            "text/plain": [
              "<Figure size 1000x500 with 0 Axes>"
            ]
          },
          "metadata": {}
        },
        {
          "output_type": "display_data",
          "data": {
            "text/plain": [
              "<Figure size 1000x500 with 0 Axes>"
            ]
          },
          "metadata": {}
        },
        {
          "output_type": "display_data",
          "data": {
            "text/plain": [
              "<Figure size 1000x500 with 0 Axes>"
            ]
          },
          "metadata": {}
        },
        {
          "output_type": "display_data",
          "data": {
            "text/plain": [
              "<Figure size 1000x500 with 0 Axes>"
            ]
          },
          "metadata": {}
        },
        {
          "output_type": "display_data",
          "data": {
            "text/plain": [
              "<Figure size 1000x500 with 0 Axes>"
            ]
          },
          "metadata": {}
        },
        {
          "output_type": "display_data",
          "data": {
            "text/plain": [
              "<Figure size 1000x500 with 0 Axes>"
            ]
          },
          "metadata": {}
        },
        {
          "output_type": "display_data",
          "data": {
            "text/plain": [
              "<Figure size 1000x500 with 0 Axes>"
            ]
          },
          "metadata": {}
        },
        {
          "output_type": "display_data",
          "data": {
            "text/plain": [
              "<Figure size 1000x500 with 0 Axes>"
            ]
          },
          "metadata": {}
        },
        {
          "output_type": "display_data",
          "data": {
            "text/plain": [
              "<Figure size 1000x500 with 0 Axes>"
            ]
          },
          "metadata": {}
        },
        {
          "output_type": "display_data",
          "data": {
            "text/plain": [
              "<Figure size 1000x500 with 0 Axes>"
            ]
          },
          "metadata": {}
        },
        {
          "output_type": "display_data",
          "data": {
            "text/plain": [
              "<Figure size 1000x500 with 0 Axes>"
            ]
          },
          "metadata": {}
        },
        {
          "output_type": "display_data",
          "data": {
            "text/plain": [
              "<Figure size 1000x500 with 0 Axes>"
            ]
          },
          "metadata": {}
        },
        {
          "output_type": "display_data",
          "data": {
            "text/plain": [
              "<Figure size 1000x500 with 0 Axes>"
            ]
          },
          "metadata": {}
        },
        {
          "output_type": "display_data",
          "data": {
            "text/plain": [
              "<Figure size 1000x500 with 0 Axes>"
            ]
          },
          "metadata": {}
        },
        {
          "output_type": "display_data",
          "data": {
            "text/plain": [
              "<Figure size 1000x500 with 0 Axes>"
            ]
          },
          "metadata": {}
        },
        {
          "output_type": "display_data",
          "data": {
            "text/plain": [
              "<Figure size 1000x500 with 0 Axes>"
            ]
          },
          "metadata": {}
        },
        {
          "output_type": "display_data",
          "data": {
            "text/plain": [
              "<Figure size 1000x500 with 0 Axes>"
            ]
          },
          "metadata": {}
        },
        {
          "output_type": "display_data",
          "data": {
            "text/plain": [
              "<Figure size 1000x500 with 0 Axes>"
            ]
          },
          "metadata": {}
        },
        {
          "output_type": "display_data",
          "data": {
            "text/plain": [
              "<Figure size 1000x500 with 0 Axes>"
            ]
          },
          "metadata": {}
        },
        {
          "output_type": "display_data",
          "data": {
            "text/plain": [
              "<Figure size 1000x500 with 0 Axes>"
            ]
          },
          "metadata": {}
        },
        {
          "output_type": "display_data",
          "data": {
            "text/plain": [
              "<Figure size 1000x500 with 0 Axes>"
            ]
          },
          "metadata": {}
        },
        {
          "output_type": "display_data",
          "data": {
            "text/plain": [
              "<Figure size 1000x500 with 0 Axes>"
            ]
          },
          "metadata": {}
        },
        {
          "output_type": "display_data",
          "data": {
            "text/plain": [
              "<Figure size 1000x500 with 0 Axes>"
            ]
          },
          "metadata": {}
        },
        {
          "output_type": "display_data",
          "data": {
            "text/plain": [
              "<Figure size 1000x500 with 0 Axes>"
            ]
          },
          "metadata": {}
        },
        {
          "output_type": "display_data",
          "data": {
            "text/plain": [
              "<Figure size 1000x500 with 0 Axes>"
            ]
          },
          "metadata": {}
        },
        {
          "output_type": "display_data",
          "data": {
            "text/plain": [
              "<Figure size 1000x500 with 0 Axes>"
            ]
          },
          "metadata": {}
        },
        {
          "output_type": "display_data",
          "data": {
            "text/plain": [
              "<Figure size 1000x500 with 0 Axes>"
            ]
          },
          "metadata": {}
        },
        {
          "output_type": "display_data",
          "data": {
            "text/plain": [
              "<Figure size 1000x500 with 0 Axes>"
            ]
          },
          "metadata": {}
        },
        {
          "output_type": "display_data",
          "data": {
            "text/plain": [
              "<Figure size 1000x500 with 0 Axes>"
            ]
          },
          "metadata": {}
        },
        {
          "output_type": "display_data",
          "data": {
            "text/plain": [
              "<Figure size 1000x500 with 0 Axes>"
            ]
          },
          "metadata": {}
        },
        {
          "output_type": "display_data",
          "data": {
            "text/plain": [
              "<Figure size 1000x500 with 0 Axes>"
            ]
          },
          "metadata": {}
        },
        {
          "output_type": "display_data",
          "data": {
            "text/plain": [
              "<Figure size 1000x500 with 0 Axes>"
            ]
          },
          "metadata": {}
        },
        {
          "output_type": "display_data",
          "data": {
            "text/plain": [
              "<Figure size 1000x500 with 0 Axes>"
            ]
          },
          "metadata": {}
        },
        {
          "output_type": "display_data",
          "data": {
            "text/plain": [
              "<Figure size 1000x500 with 0 Axes>"
            ]
          },
          "metadata": {}
        },
        {
          "output_type": "display_data",
          "data": {
            "text/plain": [
              "<Figure size 1000x500 with 0 Axes>"
            ]
          },
          "metadata": {}
        },
        {
          "output_type": "display_data",
          "data": {
            "text/plain": [
              "<Figure size 1000x500 with 0 Axes>"
            ]
          },
          "metadata": {}
        },
        {
          "output_type": "display_data",
          "data": {
            "text/plain": [
              "<Figure size 1000x500 with 0 Axes>"
            ]
          },
          "metadata": {}
        },
        {
          "output_type": "display_data",
          "data": {
            "text/plain": [
              "<Figure size 1000x500 with 0 Axes>"
            ]
          },
          "metadata": {}
        },
        {
          "output_type": "display_data",
          "data": {
            "text/plain": [
              "<Figure size 1000x500 with 0 Axes>"
            ]
          },
          "metadata": {}
        },
        {
          "output_type": "display_data",
          "data": {
            "text/plain": [
              "<Figure size 1000x500 with 0 Axes>"
            ]
          },
          "metadata": {}
        },
        {
          "output_type": "display_data",
          "data": {
            "text/plain": [
              "<Figure size 1000x500 with 0 Axes>"
            ]
          },
          "metadata": {}
        },
        {
          "output_type": "display_data",
          "data": {
            "text/plain": [
              "<Figure size 1000x500 with 0 Axes>"
            ]
          },
          "metadata": {}
        },
        {
          "output_type": "display_data",
          "data": {
            "text/plain": [
              "<Figure size 1000x500 with 0 Axes>"
            ]
          },
          "metadata": {}
        },
        {
          "output_type": "display_data",
          "data": {
            "text/plain": [
              "<Figure size 1000x500 with 0 Axes>"
            ]
          },
          "metadata": {}
        },
        {
          "output_type": "display_data",
          "data": {
            "text/plain": [
              "<Figure size 1000x500 with 0 Axes>"
            ]
          },
          "metadata": {}
        },
        {
          "output_type": "display_data",
          "data": {
            "text/plain": [
              "<Figure size 1000x500 with 0 Axes>"
            ]
          },
          "metadata": {}
        },
        {
          "output_type": "display_data",
          "data": {
            "text/plain": [
              "<Figure size 1000x500 with 0 Axes>"
            ]
          },
          "metadata": {}
        },
        {
          "output_type": "display_data",
          "data": {
            "text/plain": [
              "<Figure size 1000x500 with 0 Axes>"
            ]
          },
          "metadata": {}
        },
        {
          "output_type": "display_data",
          "data": {
            "text/plain": [
              "<Figure size 1000x500 with 0 Axes>"
            ]
          },
          "metadata": {}
        },
        {
          "output_type": "display_data",
          "data": {
            "text/plain": [
              "<Figure size 1000x500 with 0 Axes>"
            ]
          },
          "metadata": {}
        },
        {
          "output_type": "display_data",
          "data": {
            "text/plain": [
              "<Figure size 1000x500 with 0 Axes>"
            ]
          },
          "metadata": {}
        },
        {
          "output_type": "display_data",
          "data": {
            "text/plain": [
              "<Figure size 1000x500 with 0 Axes>"
            ]
          },
          "metadata": {}
        },
        {
          "output_type": "display_data",
          "data": {
            "text/plain": [
              "<Figure size 1000x500 with 0 Axes>"
            ]
          },
          "metadata": {}
        },
        {
          "output_type": "display_data",
          "data": {
            "text/plain": [
              "<Figure size 1000x500 with 0 Axes>"
            ]
          },
          "metadata": {}
        },
        {
          "output_type": "display_data",
          "data": {
            "text/plain": [
              "<Figure size 1000x500 with 0 Axes>"
            ]
          },
          "metadata": {}
        },
        {
          "output_type": "display_data",
          "data": {
            "text/plain": [
              "<Figure size 1000x500 with 0 Axes>"
            ]
          },
          "metadata": {}
        },
        {
          "output_type": "display_data",
          "data": {
            "text/plain": [
              "<Figure size 1000x500 with 0 Axes>"
            ]
          },
          "metadata": {}
        },
        {
          "output_type": "display_data",
          "data": {
            "text/plain": [
              "<Figure size 1000x500 with 0 Axes>"
            ]
          },
          "metadata": {}
        },
        {
          "output_type": "display_data",
          "data": {
            "text/plain": [
              "<Figure size 1000x500 with 0 Axes>"
            ]
          },
          "metadata": {}
        },
        {
          "output_type": "display_data",
          "data": {
            "text/plain": [
              "<Figure size 1000x500 with 0 Axes>"
            ]
          },
          "metadata": {}
        },
        {
          "output_type": "display_data",
          "data": {
            "text/plain": [
              "<Figure size 1000x500 with 0 Axes>"
            ]
          },
          "metadata": {}
        },
        {
          "output_type": "display_data",
          "data": {
            "text/plain": [
              "<Figure size 1000x500 with 0 Axes>"
            ]
          },
          "metadata": {}
        },
        {
          "output_type": "display_data",
          "data": {
            "text/plain": [
              "<Figure size 1000x500 with 0 Axes>"
            ]
          },
          "metadata": {}
        },
        {
          "output_type": "display_data",
          "data": {
            "text/plain": [
              "<Figure size 1000x500 with 0 Axes>"
            ]
          },
          "metadata": {}
        },
        {
          "output_type": "display_data",
          "data": {
            "text/plain": [
              "<Figure size 1000x500 with 0 Axes>"
            ]
          },
          "metadata": {}
        },
        {
          "output_type": "display_data",
          "data": {
            "text/plain": [
              "<Figure size 1000x500 with 0 Axes>"
            ]
          },
          "metadata": {}
        },
        {
          "output_type": "display_data",
          "data": {
            "text/plain": [
              "<Figure size 1000x500 with 0 Axes>"
            ]
          },
          "metadata": {}
        },
        {
          "output_type": "display_data",
          "data": {
            "text/plain": [
              "<Figure size 1000x500 with 0 Axes>"
            ]
          },
          "metadata": {}
        },
        {
          "output_type": "display_data",
          "data": {
            "text/plain": [
              "<Figure size 1000x500 with 0 Axes>"
            ]
          },
          "metadata": {}
        },
        {
          "output_type": "display_data",
          "data": {
            "text/plain": [
              "<Figure size 1000x500 with 0 Axes>"
            ]
          },
          "metadata": {}
        },
        {
          "output_type": "display_data",
          "data": {
            "text/plain": [
              "<Figure size 1000x500 with 0 Axes>"
            ]
          },
          "metadata": {}
        },
        {
          "output_type": "display_data",
          "data": {
            "text/plain": [
              "<Figure size 1000x500 with 0 Axes>"
            ]
          },
          "metadata": {}
        },
        {
          "output_type": "display_data",
          "data": {
            "text/plain": [
              "<Figure size 1000x500 with 0 Axes>"
            ]
          },
          "metadata": {}
        },
        {
          "output_type": "display_data",
          "data": {
            "text/plain": [
              "<Figure size 1000x500 with 0 Axes>"
            ]
          },
          "metadata": {}
        },
        {
          "output_type": "display_data",
          "data": {
            "text/plain": [
              "<Figure size 1000x500 with 0 Axes>"
            ]
          },
          "metadata": {}
        },
        {
          "output_type": "display_data",
          "data": {
            "text/plain": [
              "<Figure size 1000x500 with 0 Axes>"
            ]
          },
          "metadata": {}
        },
        {
          "output_type": "display_data",
          "data": {
            "text/plain": [
              "<Figure size 1000x500 with 0 Axes>"
            ]
          },
          "metadata": {}
        },
        {
          "output_type": "display_data",
          "data": {
            "text/plain": [
              "<Figure size 1000x500 with 0 Axes>"
            ]
          },
          "metadata": {}
        },
        {
          "output_type": "display_data",
          "data": {
            "text/plain": [
              "<Figure size 1000x500 with 0 Axes>"
            ]
          },
          "metadata": {}
        },
        {
          "output_type": "display_data",
          "data": {
            "text/plain": [
              "<Figure size 1000x500 with 0 Axes>"
            ]
          },
          "metadata": {}
        },
        {
          "output_type": "display_data",
          "data": {
            "text/plain": [
              "<Figure size 1000x500 with 0 Axes>"
            ]
          },
          "metadata": {}
        },
        {
          "output_type": "display_data",
          "data": {
            "text/plain": [
              "<Figure size 1000x500 with 0 Axes>"
            ]
          },
          "metadata": {}
        },
        {
          "output_type": "display_data",
          "data": {
            "text/plain": [
              "<Figure size 1000x500 with 0 Axes>"
            ]
          },
          "metadata": {}
        },
        {
          "output_type": "display_data",
          "data": {
            "text/plain": [
              "<Figure size 1000x500 with 0 Axes>"
            ]
          },
          "metadata": {}
        },
        {
          "output_type": "display_data",
          "data": {
            "text/plain": [
              "<Figure size 1000x500 with 0 Axes>"
            ]
          },
          "metadata": {}
        },
        {
          "output_type": "display_data",
          "data": {
            "text/plain": [
              "<Figure size 1000x500 with 0 Axes>"
            ]
          },
          "metadata": {}
        },
        {
          "output_type": "display_data",
          "data": {
            "text/plain": [
              "<Figure size 1000x500 with 0 Axes>"
            ]
          },
          "metadata": {}
        },
        {
          "output_type": "display_data",
          "data": {
            "text/plain": [
              "<Figure size 1000x500 with 0 Axes>"
            ]
          },
          "metadata": {}
        },
        {
          "output_type": "display_data",
          "data": {
            "text/plain": [
              "<Figure size 1000x500 with 0 Axes>"
            ]
          },
          "metadata": {}
        },
        {
          "output_type": "display_data",
          "data": {
            "text/plain": [
              "<Figure size 1000x500 with 0 Axes>"
            ]
          },
          "metadata": {}
        },
        {
          "output_type": "display_data",
          "data": {
            "text/plain": [
              "<Figure size 1000x500 with 0 Axes>"
            ]
          },
          "metadata": {}
        },
        {
          "output_type": "display_data",
          "data": {
            "text/plain": [
              "<Figure size 1000x500 with 0 Axes>"
            ]
          },
          "metadata": {}
        },
        {
          "output_type": "display_data",
          "data": {
            "text/plain": [
              "<Figure size 1000x500 with 0 Axes>"
            ]
          },
          "metadata": {}
        },
        {
          "output_type": "display_data",
          "data": {
            "text/plain": [
              "<Figure size 1000x500 with 0 Axes>"
            ]
          },
          "metadata": {}
        },
        {
          "output_type": "display_data",
          "data": {
            "text/plain": [
              "<Figure size 1000x500 with 0 Axes>"
            ]
          },
          "metadata": {}
        },
        {
          "output_type": "display_data",
          "data": {
            "text/plain": [
              "<Figure size 1000x500 with 0 Axes>"
            ]
          },
          "metadata": {}
        },
        {
          "output_type": "display_data",
          "data": {
            "text/plain": [
              "<Figure size 1000x500 with 0 Axes>"
            ]
          },
          "metadata": {}
        },
        {
          "output_type": "display_data",
          "data": {
            "text/plain": [
              "<Figure size 1000x500 with 0 Axes>"
            ]
          },
          "metadata": {}
        },
        {
          "output_type": "display_data",
          "data": {
            "text/plain": [
              "<Figure size 1000x500 with 0 Axes>"
            ]
          },
          "metadata": {}
        },
        {
          "output_type": "display_data",
          "data": {
            "text/plain": [
              "<Figure size 1000x500 with 0 Axes>"
            ]
          },
          "metadata": {}
        },
        {
          "output_type": "display_data",
          "data": {
            "text/plain": [
              "<Figure size 1000x500 with 0 Axes>"
            ]
          },
          "metadata": {}
        },
        {
          "output_type": "display_data",
          "data": {
            "text/plain": [
              "<Figure size 1000x500 with 0 Axes>"
            ]
          },
          "metadata": {}
        },
        {
          "output_type": "display_data",
          "data": {
            "text/plain": [
              "<Figure size 1000x500 with 0 Axes>"
            ]
          },
          "metadata": {}
        },
        {
          "output_type": "display_data",
          "data": {
            "text/plain": [
              "<Figure size 1000x500 with 0 Axes>"
            ]
          },
          "metadata": {}
        },
        {
          "output_type": "display_data",
          "data": {
            "text/plain": [
              "<Figure size 1000x500 with 0 Axes>"
            ]
          },
          "metadata": {}
        },
        {
          "output_type": "display_data",
          "data": {
            "text/plain": [
              "<Figure size 1000x500 with 0 Axes>"
            ]
          },
          "metadata": {}
        },
        {
          "output_type": "display_data",
          "data": {
            "text/plain": [
              "<Figure size 1000x500 with 0 Axes>"
            ]
          },
          "metadata": {}
        },
        {
          "output_type": "display_data",
          "data": {
            "text/plain": [
              "<Figure size 1000x500 with 0 Axes>"
            ]
          },
          "metadata": {}
        },
        {
          "output_type": "display_data",
          "data": {
            "text/plain": [
              "<Figure size 1000x500 with 0 Axes>"
            ]
          },
          "metadata": {}
        },
        {
          "output_type": "display_data",
          "data": {
            "text/plain": [
              "<Figure size 1000x500 with 0 Axes>"
            ]
          },
          "metadata": {}
        },
        {
          "output_type": "display_data",
          "data": {
            "text/plain": [
              "<Figure size 1000x500 with 0 Axes>"
            ]
          },
          "metadata": {}
        },
        {
          "output_type": "display_data",
          "data": {
            "text/plain": [
              "<Figure size 1000x500 with 0 Axes>"
            ]
          },
          "metadata": {}
        },
        {
          "output_type": "display_data",
          "data": {
            "text/plain": [
              "<Figure size 1000x500 with 0 Axes>"
            ]
          },
          "metadata": {}
        },
        {
          "output_type": "display_data",
          "data": {
            "text/plain": [
              "<Figure size 1000x500 with 0 Axes>"
            ]
          },
          "metadata": {}
        },
        {
          "output_type": "display_data",
          "data": {
            "text/plain": [
              "<Figure size 1000x500 with 0 Axes>"
            ]
          },
          "metadata": {}
        },
        {
          "output_type": "display_data",
          "data": {
            "text/plain": [
              "<Figure size 1000x500 with 0 Axes>"
            ]
          },
          "metadata": {}
        },
        {
          "output_type": "display_data",
          "data": {
            "text/plain": [
              "<Figure size 1000x500 with 0 Axes>"
            ]
          },
          "metadata": {}
        },
        {
          "output_type": "display_data",
          "data": {
            "text/plain": [
              "<Figure size 1000x500 with 0 Axes>"
            ]
          },
          "metadata": {}
        },
        {
          "output_type": "display_data",
          "data": {
            "text/plain": [
              "<Figure size 1000x500 with 0 Axes>"
            ]
          },
          "metadata": {}
        },
        {
          "output_type": "display_data",
          "data": {
            "text/plain": [
              "<Figure size 1000x500 with 0 Axes>"
            ]
          },
          "metadata": {}
        },
        {
          "output_type": "display_data",
          "data": {
            "text/plain": [
              "<Figure size 1000x500 with 0 Axes>"
            ]
          },
          "metadata": {}
        },
        {
          "output_type": "display_data",
          "data": {
            "text/plain": [
              "<Figure size 1000x500 with 0 Axes>"
            ]
          },
          "metadata": {}
        },
        {
          "output_type": "display_data",
          "data": {
            "text/plain": [
              "<Figure size 1000x500 with 0 Axes>"
            ]
          },
          "metadata": {}
        },
        {
          "output_type": "display_data",
          "data": {
            "text/plain": [
              "<Figure size 1000x500 with 0 Axes>"
            ]
          },
          "metadata": {}
        },
        {
          "output_type": "display_data",
          "data": {
            "text/plain": [
              "<Figure size 1000x500 with 0 Axes>"
            ]
          },
          "metadata": {}
        },
        {
          "output_type": "display_data",
          "data": {
            "text/plain": [
              "<Figure size 1000x500 with 0 Axes>"
            ]
          },
          "metadata": {}
        },
        {
          "output_type": "display_data",
          "data": {
            "text/plain": [
              "<Figure size 1000x500 with 0 Axes>"
            ]
          },
          "metadata": {}
        },
        {
          "output_type": "display_data",
          "data": {
            "text/plain": [
              "<Figure size 1000x500 with 0 Axes>"
            ]
          },
          "metadata": {}
        },
        {
          "output_type": "display_data",
          "data": {
            "text/plain": [
              "<Figure size 1000x500 with 0 Axes>"
            ]
          },
          "metadata": {}
        },
        {
          "output_type": "display_data",
          "data": {
            "text/plain": [
              "<Figure size 1000x500 with 0 Axes>"
            ]
          },
          "metadata": {}
        },
        {
          "output_type": "display_data",
          "data": {
            "text/plain": [
              "<Figure size 1000x500 with 0 Axes>"
            ]
          },
          "metadata": {}
        },
        {
          "output_type": "display_data",
          "data": {
            "text/plain": [
              "<Figure size 1000x500 with 0 Axes>"
            ]
          },
          "metadata": {}
        },
        {
          "output_type": "display_data",
          "data": {
            "text/plain": [
              "<Figure size 1000x500 with 0 Axes>"
            ]
          },
          "metadata": {}
        },
        {
          "output_type": "display_data",
          "data": {
            "text/plain": [
              "<Figure size 1000x500 with 0 Axes>"
            ]
          },
          "metadata": {}
        },
        {
          "output_type": "display_data",
          "data": {
            "text/plain": [
              "<Figure size 1000x500 with 0 Axes>"
            ]
          },
          "metadata": {}
        },
        {
          "output_type": "display_data",
          "data": {
            "text/plain": [
              "<Figure size 1000x500 with 0 Axes>"
            ]
          },
          "metadata": {}
        },
        {
          "output_type": "display_data",
          "data": {
            "text/plain": [
              "<Figure size 1000x500 with 0 Axes>"
            ]
          },
          "metadata": {}
        },
        {
          "output_type": "display_data",
          "data": {
            "text/plain": [
              "<Figure size 1000x500 with 0 Axes>"
            ]
          },
          "metadata": {}
        },
        {
          "output_type": "display_data",
          "data": {
            "text/plain": [
              "<Figure size 1000x500 with 0 Axes>"
            ]
          },
          "metadata": {}
        },
        {
          "output_type": "display_data",
          "data": {
            "text/plain": [
              "<Figure size 1000x500 with 0 Axes>"
            ]
          },
          "metadata": {}
        },
        {
          "output_type": "display_data",
          "data": {
            "text/plain": [
              "<Figure size 1000x500 with 0 Axes>"
            ]
          },
          "metadata": {}
        },
        {
          "output_type": "display_data",
          "data": {
            "text/plain": [
              "<Figure size 1000x500 with 0 Axes>"
            ]
          },
          "metadata": {}
        },
        {
          "output_type": "display_data",
          "data": {
            "text/plain": [
              "<Figure size 1000x500 with 0 Axes>"
            ]
          },
          "metadata": {}
        },
        {
          "output_type": "display_data",
          "data": {
            "text/plain": [
              "<Figure size 1000x500 with 0 Axes>"
            ]
          },
          "metadata": {}
        },
        {
          "output_type": "display_data",
          "data": {
            "text/plain": [
              "<Figure size 1000x500 with 0 Axes>"
            ]
          },
          "metadata": {}
        },
        {
          "output_type": "display_data",
          "data": {
            "text/plain": [
              "<Figure size 1000x500 with 0 Axes>"
            ]
          },
          "metadata": {}
        },
        {
          "output_type": "display_data",
          "data": {
            "text/plain": [
              "<Figure size 1000x500 with 0 Axes>"
            ]
          },
          "metadata": {}
        },
        {
          "output_type": "display_data",
          "data": {
            "text/plain": [
              "<Figure size 1000x500 with 0 Axes>"
            ]
          },
          "metadata": {}
        },
        {
          "output_type": "display_data",
          "data": {
            "text/plain": [
              "<Figure size 1000x500 with 0 Axes>"
            ]
          },
          "metadata": {}
        },
        {
          "output_type": "display_data",
          "data": {
            "text/plain": [
              "<Figure size 1000x500 with 0 Axes>"
            ]
          },
          "metadata": {}
        },
        {
          "output_type": "display_data",
          "data": {
            "text/plain": [
              "<Figure size 1000x500 with 0 Axes>"
            ]
          },
          "metadata": {}
        },
        {
          "output_type": "display_data",
          "data": {
            "text/plain": [
              "<Figure size 1000x500 with 0 Axes>"
            ]
          },
          "metadata": {}
        },
        {
          "output_type": "display_data",
          "data": {
            "text/plain": [
              "<Figure size 1000x500 with 0 Axes>"
            ]
          },
          "metadata": {}
        },
        {
          "output_type": "display_data",
          "data": {
            "text/plain": [
              "<Figure size 1000x500 with 0 Axes>"
            ]
          },
          "metadata": {}
        },
        {
          "output_type": "display_data",
          "data": {
            "text/plain": [
              "<Figure size 1000x500 with 0 Axes>"
            ]
          },
          "metadata": {}
        },
        {
          "output_type": "display_data",
          "data": {
            "text/plain": [
              "<Figure size 1000x500 with 0 Axes>"
            ]
          },
          "metadata": {}
        },
        {
          "output_type": "display_data",
          "data": {
            "text/plain": [
              "<Figure size 1000x500 with 0 Axes>"
            ]
          },
          "metadata": {}
        },
        {
          "output_type": "display_data",
          "data": {
            "text/plain": [
              "<Figure size 1000x500 with 0 Axes>"
            ]
          },
          "metadata": {}
        },
        {
          "output_type": "display_data",
          "data": {
            "text/plain": [
              "<Figure size 1000x500 with 0 Axes>"
            ]
          },
          "metadata": {}
        },
        {
          "output_type": "display_data",
          "data": {
            "text/plain": [
              "<Figure size 1000x500 with 0 Axes>"
            ]
          },
          "metadata": {}
        },
        {
          "output_type": "display_data",
          "data": {
            "text/plain": [
              "<Figure size 1000x500 with 0 Axes>"
            ]
          },
          "metadata": {}
        },
        {
          "output_type": "display_data",
          "data": {
            "text/plain": [
              "<Figure size 1000x500 with 0 Axes>"
            ]
          },
          "metadata": {}
        },
        {
          "output_type": "display_data",
          "data": {
            "text/plain": [
              "<Figure size 1000x500 with 0 Axes>"
            ]
          },
          "metadata": {}
        },
        {
          "output_type": "display_data",
          "data": {
            "text/plain": [
              "<Figure size 1000x500 with 0 Axes>"
            ]
          },
          "metadata": {}
        },
        {
          "output_type": "display_data",
          "data": {
            "text/plain": [
              "<Figure size 1000x500 with 0 Axes>"
            ]
          },
          "metadata": {}
        },
        {
          "output_type": "display_data",
          "data": {
            "text/plain": [
              "<Figure size 1000x500 with 0 Axes>"
            ]
          },
          "metadata": {}
        },
        {
          "output_type": "display_data",
          "data": {
            "text/plain": [
              "<Figure size 1000x500 with 0 Axes>"
            ]
          },
          "metadata": {}
        },
        {
          "output_type": "display_data",
          "data": {
            "text/plain": [
              "<Figure size 1000x500 with 0 Axes>"
            ]
          },
          "metadata": {}
        },
        {
          "output_type": "display_data",
          "data": {
            "text/plain": [
              "<Figure size 1000x500 with 0 Axes>"
            ]
          },
          "metadata": {}
        },
        {
          "output_type": "display_data",
          "data": {
            "text/plain": [
              "<Figure size 1000x500 with 0 Axes>"
            ]
          },
          "metadata": {}
        },
        {
          "output_type": "display_data",
          "data": {
            "text/plain": [
              "<Figure size 1000x500 with 0 Axes>"
            ]
          },
          "metadata": {}
        },
        {
          "output_type": "display_data",
          "data": {
            "text/plain": [
              "<Figure size 1000x500 with 0 Axes>"
            ]
          },
          "metadata": {}
        },
        {
          "output_type": "display_data",
          "data": {
            "text/plain": [
              "<Figure size 1000x500 with 0 Axes>"
            ]
          },
          "metadata": {}
        },
        {
          "output_type": "display_data",
          "data": {
            "text/plain": [
              "<Figure size 1000x500 with 0 Axes>"
            ]
          },
          "metadata": {}
        },
        {
          "output_type": "display_data",
          "data": {
            "text/plain": [
              "<Figure size 1000x500 with 0 Axes>"
            ]
          },
          "metadata": {}
        },
        {
          "output_type": "display_data",
          "data": {
            "text/plain": [
              "<Figure size 1000x500 with 0 Axes>"
            ]
          },
          "metadata": {}
        },
        {
          "output_type": "display_data",
          "data": {
            "text/plain": [
              "<Figure size 1000x500 with 0 Axes>"
            ]
          },
          "metadata": {}
        },
        {
          "output_type": "display_data",
          "data": {
            "text/plain": [
              "<Figure size 1000x500 with 0 Axes>"
            ]
          },
          "metadata": {}
        },
        {
          "output_type": "display_data",
          "data": {
            "text/plain": [
              "<Figure size 1000x500 with 0 Axes>"
            ]
          },
          "metadata": {}
        },
        {
          "output_type": "display_data",
          "data": {
            "text/plain": [
              "<Figure size 1000x500 with 0 Axes>"
            ]
          },
          "metadata": {}
        },
        {
          "output_type": "display_data",
          "data": {
            "text/plain": [
              "<Figure size 1000x500 with 0 Axes>"
            ]
          },
          "metadata": {}
        },
        {
          "output_type": "display_data",
          "data": {
            "text/plain": [
              "<Figure size 1000x500 with 0 Axes>"
            ]
          },
          "metadata": {}
        },
        {
          "output_type": "display_data",
          "data": {
            "text/plain": [
              "<Figure size 1000x500 with 0 Axes>"
            ]
          },
          "metadata": {}
        },
        {
          "output_type": "display_data",
          "data": {
            "text/plain": [
              "<Figure size 1000x500 with 0 Axes>"
            ]
          },
          "metadata": {}
        },
        {
          "output_type": "display_data",
          "data": {
            "text/plain": [
              "<Figure size 1000x500 with 0 Axes>"
            ]
          },
          "metadata": {}
        },
        {
          "output_type": "display_data",
          "data": {
            "text/plain": [
              "<Figure size 1000x500 with 0 Axes>"
            ]
          },
          "metadata": {}
        },
        {
          "output_type": "display_data",
          "data": {
            "text/plain": [
              "<Figure size 1000x500 with 0 Axes>"
            ]
          },
          "metadata": {}
        },
        {
          "output_type": "display_data",
          "data": {
            "text/plain": [
              "<Figure size 1000x500 with 0 Axes>"
            ]
          },
          "metadata": {}
        },
        {
          "output_type": "display_data",
          "data": {
            "text/plain": [
              "<Figure size 1000x500 with 0 Axes>"
            ]
          },
          "metadata": {}
        },
        {
          "output_type": "display_data",
          "data": {
            "text/plain": [
              "<Figure size 1000x500 with 0 Axes>"
            ]
          },
          "metadata": {}
        },
        {
          "output_type": "display_data",
          "data": {
            "text/plain": [
              "<Figure size 1000x500 with 0 Axes>"
            ]
          },
          "metadata": {}
        },
        {
          "output_type": "display_data",
          "data": {
            "text/plain": [
              "<Figure size 1000x500 with 0 Axes>"
            ]
          },
          "metadata": {}
        },
        {
          "output_type": "display_data",
          "data": {
            "text/plain": [
              "<Figure size 1000x500 with 0 Axes>"
            ]
          },
          "metadata": {}
        },
        {
          "output_type": "display_data",
          "data": {
            "text/plain": [
              "<Figure size 1000x500 with 0 Axes>"
            ]
          },
          "metadata": {}
        },
        {
          "output_type": "display_data",
          "data": {
            "text/plain": [
              "<Figure size 1000x500 with 0 Axes>"
            ]
          },
          "metadata": {}
        },
        {
          "output_type": "display_data",
          "data": {
            "text/plain": [
              "<Figure size 1000x500 with 0 Axes>"
            ]
          },
          "metadata": {}
        },
        {
          "output_type": "display_data",
          "data": {
            "text/plain": [
              "<Figure size 1000x500 with 0 Axes>"
            ]
          },
          "metadata": {}
        },
        {
          "output_type": "display_data",
          "data": {
            "text/plain": [
              "<Figure size 1000x500 with 0 Axes>"
            ]
          },
          "metadata": {}
        },
        {
          "output_type": "display_data",
          "data": {
            "text/plain": [
              "<Figure size 1000x500 with 0 Axes>"
            ]
          },
          "metadata": {}
        },
        {
          "output_type": "display_data",
          "data": {
            "text/plain": [
              "<Figure size 1000x500 with 0 Axes>"
            ]
          },
          "metadata": {}
        },
        {
          "output_type": "display_data",
          "data": {
            "text/plain": [
              "<Figure size 1000x500 with 0 Axes>"
            ]
          },
          "metadata": {}
        },
        {
          "output_type": "display_data",
          "data": {
            "text/plain": [
              "<Figure size 1000x500 with 0 Axes>"
            ]
          },
          "metadata": {}
        },
        {
          "output_type": "display_data",
          "data": {
            "text/plain": [
              "<Figure size 1000x500 with 0 Axes>"
            ]
          },
          "metadata": {}
        },
        {
          "output_type": "display_data",
          "data": {
            "text/plain": [
              "<Figure size 1000x500 with 0 Axes>"
            ]
          },
          "metadata": {}
        },
        {
          "output_type": "display_data",
          "data": {
            "text/plain": [
              "<Figure size 1000x500 with 0 Axes>"
            ]
          },
          "metadata": {}
        },
        {
          "output_type": "display_data",
          "data": {
            "text/plain": [
              "<Figure size 1000x500 with 0 Axes>"
            ]
          },
          "metadata": {}
        },
        {
          "output_type": "display_data",
          "data": {
            "text/plain": [
              "<Figure size 1000x500 with 0 Axes>"
            ]
          },
          "metadata": {}
        },
        {
          "output_type": "display_data",
          "data": {
            "text/plain": [
              "<Figure size 1000x500 with 0 Axes>"
            ]
          },
          "metadata": {}
        },
        {
          "output_type": "display_data",
          "data": {
            "text/plain": [
              "<Figure size 1000x500 with 0 Axes>"
            ]
          },
          "metadata": {}
        },
        {
          "output_type": "display_data",
          "data": {
            "text/plain": [
              "<Figure size 1000x500 with 0 Axes>"
            ]
          },
          "metadata": {}
        },
        {
          "output_type": "display_data",
          "data": {
            "text/plain": [
              "<Figure size 1000x500 with 0 Axes>"
            ]
          },
          "metadata": {}
        },
        {
          "output_type": "display_data",
          "data": {
            "text/plain": [
              "<Figure size 1000x500 with 0 Axes>"
            ]
          },
          "metadata": {}
        },
        {
          "output_type": "display_data",
          "data": {
            "text/plain": [
              "<Figure size 1000x500 with 0 Axes>"
            ]
          },
          "metadata": {}
        },
        {
          "output_type": "display_data",
          "data": {
            "text/plain": [
              "<Figure size 1000x500 with 0 Axes>"
            ]
          },
          "metadata": {}
        },
        {
          "output_type": "display_data",
          "data": {
            "text/plain": [
              "<Figure size 1000x500 with 0 Axes>"
            ]
          },
          "metadata": {}
        },
        {
          "output_type": "display_data",
          "data": {
            "text/plain": [
              "<Figure size 1000x500 with 0 Axes>"
            ]
          },
          "metadata": {}
        },
        {
          "output_type": "display_data",
          "data": {
            "text/plain": [
              "<Figure size 1000x500 with 0 Axes>"
            ]
          },
          "metadata": {}
        },
        {
          "output_type": "display_data",
          "data": {
            "text/plain": [
              "<Figure size 1000x500 with 0 Axes>"
            ]
          },
          "metadata": {}
        },
        {
          "output_type": "display_data",
          "data": {
            "text/plain": [
              "<Figure size 1000x500 with 0 Axes>"
            ]
          },
          "metadata": {}
        },
        {
          "output_type": "display_data",
          "data": {
            "text/plain": [
              "<Figure size 1000x500 with 0 Axes>"
            ]
          },
          "metadata": {}
        },
        {
          "output_type": "display_data",
          "data": {
            "text/plain": [
              "<Figure size 1000x500 with 0 Axes>"
            ]
          },
          "metadata": {}
        },
        {
          "output_type": "display_data",
          "data": {
            "text/plain": [
              "<Figure size 1000x500 with 0 Axes>"
            ]
          },
          "metadata": {}
        },
        {
          "output_type": "display_data",
          "data": {
            "text/plain": [
              "<Figure size 1000x500 with 0 Axes>"
            ]
          },
          "metadata": {}
        },
        {
          "output_type": "display_data",
          "data": {
            "text/plain": [
              "<Figure size 1000x500 with 0 Axes>"
            ]
          },
          "metadata": {}
        },
        {
          "output_type": "display_data",
          "data": {
            "text/plain": [
              "<Figure size 1000x500 with 0 Axes>"
            ]
          },
          "metadata": {}
        },
        {
          "output_type": "display_data",
          "data": {
            "text/plain": [
              "<Figure size 1000x500 with 0 Axes>"
            ]
          },
          "metadata": {}
        },
        {
          "output_type": "display_data",
          "data": {
            "text/plain": [
              "<Figure size 1000x500 with 0 Axes>"
            ]
          },
          "metadata": {}
        },
        {
          "output_type": "display_data",
          "data": {
            "text/plain": [
              "<Figure size 1000x500 with 0 Axes>"
            ]
          },
          "metadata": {}
        },
        {
          "output_type": "display_data",
          "data": {
            "text/plain": [
              "<Figure size 1000x500 with 0 Axes>"
            ]
          },
          "metadata": {}
        },
        {
          "output_type": "display_data",
          "data": {
            "text/plain": [
              "<Figure size 1000x500 with 0 Axes>"
            ]
          },
          "metadata": {}
        },
        {
          "output_type": "display_data",
          "data": {
            "text/plain": [
              "<Figure size 1000x500 with 0 Axes>"
            ]
          },
          "metadata": {}
        },
        {
          "output_type": "display_data",
          "data": {
            "text/plain": [
              "<Figure size 1000x500 with 0 Axes>"
            ]
          },
          "metadata": {}
        },
        {
          "output_type": "display_data",
          "data": {
            "text/plain": [
              "<Figure size 1000x500 with 0 Axes>"
            ]
          },
          "metadata": {}
        },
        {
          "output_type": "display_data",
          "data": {
            "text/plain": [
              "<Figure size 1000x500 with 0 Axes>"
            ]
          },
          "metadata": {}
        },
        {
          "output_type": "display_data",
          "data": {
            "text/plain": [
              "<Figure size 1000x500 with 0 Axes>"
            ]
          },
          "metadata": {}
        },
        {
          "output_type": "display_data",
          "data": {
            "text/plain": [
              "<Figure size 1000x500 with 0 Axes>"
            ]
          },
          "metadata": {}
        },
        {
          "output_type": "display_data",
          "data": {
            "text/plain": [
              "<Figure size 1000x500 with 0 Axes>"
            ]
          },
          "metadata": {}
        },
        {
          "output_type": "display_data",
          "data": {
            "text/plain": [
              "<Figure size 1000x500 with 0 Axes>"
            ]
          },
          "metadata": {}
        },
        {
          "output_type": "display_data",
          "data": {
            "text/plain": [
              "<Figure size 1000x500 with 0 Axes>"
            ]
          },
          "metadata": {}
        },
        {
          "output_type": "display_data",
          "data": {
            "text/plain": [
              "<Figure size 1000x500 with 0 Axes>"
            ]
          },
          "metadata": {}
        },
        {
          "output_type": "display_data",
          "data": {
            "text/plain": [
              "<Figure size 1000x500 with 0 Axes>"
            ]
          },
          "metadata": {}
        },
        {
          "output_type": "display_data",
          "data": {
            "text/plain": [
              "<Figure size 1000x500 with 0 Axes>"
            ]
          },
          "metadata": {}
        },
        {
          "output_type": "display_data",
          "data": {
            "text/plain": [
              "<Figure size 1000x500 with 0 Axes>"
            ]
          },
          "metadata": {}
        },
        {
          "output_type": "display_data",
          "data": {
            "text/plain": [
              "<Figure size 1000x500 with 0 Axes>"
            ]
          },
          "metadata": {}
        },
        {
          "output_type": "display_data",
          "data": {
            "text/plain": [
              "<Figure size 1000x500 with 0 Axes>"
            ]
          },
          "metadata": {}
        },
        {
          "output_type": "display_data",
          "data": {
            "text/plain": [
              "<Figure size 1000x500 with 0 Axes>"
            ]
          },
          "metadata": {}
        },
        {
          "output_type": "display_data",
          "data": {
            "text/plain": [
              "<Figure size 1000x500 with 0 Axes>"
            ]
          },
          "metadata": {}
        },
        {
          "output_type": "display_data",
          "data": {
            "text/plain": [
              "<Figure size 1000x500 with 0 Axes>"
            ]
          },
          "metadata": {}
        },
        {
          "output_type": "display_data",
          "data": {
            "text/plain": [
              "<Figure size 1000x500 with 0 Axes>"
            ]
          },
          "metadata": {}
        },
        {
          "output_type": "display_data",
          "data": {
            "text/plain": [
              "<Figure size 1000x500 with 0 Axes>"
            ]
          },
          "metadata": {}
        },
        {
          "output_type": "display_data",
          "data": {
            "text/plain": [
              "<Figure size 1000x500 with 0 Axes>"
            ]
          },
          "metadata": {}
        },
        {
          "output_type": "display_data",
          "data": {
            "text/plain": [
              "<Figure size 1000x500 with 0 Axes>"
            ]
          },
          "metadata": {}
        },
        {
          "output_type": "display_data",
          "data": {
            "text/plain": [
              "<Figure size 1000x500 with 0 Axes>"
            ]
          },
          "metadata": {}
        },
        {
          "output_type": "display_data",
          "data": {
            "text/plain": [
              "<Figure size 1000x500 with 0 Axes>"
            ]
          },
          "metadata": {}
        },
        {
          "output_type": "display_data",
          "data": {
            "text/plain": [
              "<Figure size 1000x500 with 0 Axes>"
            ]
          },
          "metadata": {}
        },
        {
          "output_type": "display_data",
          "data": {
            "text/plain": [
              "<Figure size 1000x500 with 0 Axes>"
            ]
          },
          "metadata": {}
        },
        {
          "output_type": "display_data",
          "data": {
            "text/plain": [
              "<Figure size 1000x500 with 0 Axes>"
            ]
          },
          "metadata": {}
        },
        {
          "output_type": "display_data",
          "data": {
            "text/plain": [
              "<Figure size 1000x500 with 0 Axes>"
            ]
          },
          "metadata": {}
        },
        {
          "output_type": "display_data",
          "data": {
            "text/plain": [
              "<Figure size 1000x500 with 0 Axes>"
            ]
          },
          "metadata": {}
        },
        {
          "output_type": "display_data",
          "data": {
            "text/plain": [
              "<Figure size 1000x500 with 0 Axes>"
            ]
          },
          "metadata": {}
        },
        {
          "output_type": "display_data",
          "data": {
            "text/plain": [
              "<Figure size 1000x500 with 0 Axes>"
            ]
          },
          "metadata": {}
        },
        {
          "output_type": "display_data",
          "data": {
            "text/plain": [
              "<Figure size 1000x500 with 0 Axes>"
            ]
          },
          "metadata": {}
        },
        {
          "output_type": "display_data",
          "data": {
            "text/plain": [
              "<Figure size 1000x500 with 0 Axes>"
            ]
          },
          "metadata": {}
        },
        {
          "output_type": "display_data",
          "data": {
            "text/plain": [
              "<Figure size 1000x500 with 0 Axes>"
            ]
          },
          "metadata": {}
        },
        {
          "output_type": "display_data",
          "data": {
            "text/plain": [
              "<Figure size 1000x500 with 0 Axes>"
            ]
          },
          "metadata": {}
        },
        {
          "output_type": "display_data",
          "data": {
            "text/plain": [
              "<Figure size 1000x500 with 0 Axes>"
            ]
          },
          "metadata": {}
        },
        {
          "output_type": "display_data",
          "data": {
            "text/plain": [
              "<Figure size 1000x500 with 0 Axes>"
            ]
          },
          "metadata": {}
        },
        {
          "output_type": "display_data",
          "data": {
            "text/plain": [
              "<Figure size 1000x500 with 0 Axes>"
            ]
          },
          "metadata": {}
        },
        {
          "output_type": "display_data",
          "data": {
            "text/plain": [
              "<Figure size 1000x500 with 0 Axes>"
            ]
          },
          "metadata": {}
        },
        {
          "output_type": "display_data",
          "data": {
            "text/plain": [
              "<Figure size 1000x500 with 0 Axes>"
            ]
          },
          "metadata": {}
        },
        {
          "output_type": "display_data",
          "data": {
            "text/plain": [
              "<Figure size 1000x500 with 0 Axes>"
            ]
          },
          "metadata": {}
        },
        {
          "output_type": "display_data",
          "data": {
            "text/plain": [
              "<Figure size 1000x500 with 0 Axes>"
            ]
          },
          "metadata": {}
        },
        {
          "output_type": "display_data",
          "data": {
            "text/plain": [
              "<Figure size 1000x500 with 0 Axes>"
            ]
          },
          "metadata": {}
        },
        {
          "output_type": "display_data",
          "data": {
            "text/plain": [
              "<Figure size 1000x500 with 0 Axes>"
            ]
          },
          "metadata": {}
        },
        {
          "output_type": "display_data",
          "data": {
            "text/plain": [
              "<Figure size 1000x500 with 0 Axes>"
            ]
          },
          "metadata": {}
        },
        {
          "output_type": "display_data",
          "data": {
            "text/plain": [
              "<Figure size 1000x500 with 0 Axes>"
            ]
          },
          "metadata": {}
        },
        {
          "output_type": "display_data",
          "data": {
            "text/plain": [
              "<Figure size 1000x500 with 0 Axes>"
            ]
          },
          "metadata": {}
        },
        {
          "output_type": "display_data",
          "data": {
            "text/plain": [
              "<Figure size 1000x500 with 0 Axes>"
            ]
          },
          "metadata": {}
        },
        {
          "output_type": "display_data",
          "data": {
            "text/plain": [
              "<Figure size 1000x500 with 0 Axes>"
            ]
          },
          "metadata": {}
        },
        {
          "output_type": "display_data",
          "data": {
            "text/plain": [
              "<Figure size 1000x500 with 0 Axes>"
            ]
          },
          "metadata": {}
        },
        {
          "output_type": "display_data",
          "data": {
            "text/plain": [
              "<Figure size 1000x500 with 0 Axes>"
            ]
          },
          "metadata": {}
        }
      ]
    },
    {
      "cell_type": "markdown",
      "source": [
        "Prediction results of the model"
      ],
      "metadata": {
        "id": "wP2KuW4x5BmA"
      }
    },
    {
      "cell_type": "code",
      "source": [
        "from tensorflow.keras.preprocessing import image\n",
        "\n",
        "test_data = []\n",
        "\n",
        "for filename in os.listdir('/content/drive/MyDrive/TESTDATAIMAGE'):\n",
        "    if filename.endswith('.png'):\n",
        "        img_path = os.path.join('/content/drive/MyDrive/TESTDATAIMAGE', filename)\n",
        "        img = image.load_img(img_path, target_size=(256, 256))\n",
        "        img = image.img_to_array(img)\n",
        "        img = img / 255.0\n",
        "        test_data.append(img)\n",
        "\n",
        "test_data = np.array(test_data)"
      ],
      "metadata": {
        "id": "-0xjKB34e4MX"
      },
      "execution_count": null,
      "outputs": []
    },
    {
      "cell_type": "code",
      "source": [
        "csv_file_path = '/content/drive/MyDrive/Rixprojects-cairdio-ml-pipeline-fe9a94f56c5b/data_splits_2016/test_recordings.csv'\n",
        "df = pd.read_csv(csv_file_path)\n",
        "\n",
        "column_name = 'outcome'\n",
        "column_list = df[column_name].tolist()\n",
        "test_labels = np.array(column_list)"
      ],
      "metadata": {
        "id": "P7HQOp76g1AA"
      },
      "execution_count": null,
      "outputs": []
    },
    {
      "cell_type": "code",
      "source": [
        "test_loss, test_accuracy = model.evaluate(test_data, test_labels)\n",
        "\n",
        "print(f'Test Loss: {test_loss:.4f}')\n",
        "print(f'Test Accuracy: {test_accuracy:.4f}')"
      ],
      "metadata": {
        "colab": {
          "base_uri": "https://localhost:8080/"
        },
        "id": "_FdXFCAHhPfn",
        "outputId": "f4259562-97e6-4556-c295-c72278ef874e"
      },
      "execution_count": null,
      "outputs": [
        {
          "output_type": "stream",
          "name": "stdout",
          "text": [
            "18/18 [==============================] - 1s 44ms/step - loss: 0.6911 - accuracy: 0.8414\n",
            "Test Loss: 0.6911\n",
            "Test Accuracy: 0.8414\n"
          ]
        }
      ]
    },
    {
      "cell_type": "code",
      "source": [
        "predicted_probabilities = model.predict(test_data)\n",
        "\n",
        "predicted_labels = (predicted_probabilities > 0.5).astype(np.int32)\n",
        "predicted_labels = np.squeeze(predicted_labels).astype(np.int32)\n",
        "total_samples = len(test_labels)\n",
        "correct_predictions = np.sum(predicted_labels == test_labels)\n",
        "\n",
        "accuracy = correct_predictions / total_samples\n",
        "\n",
        "print(f\"Predicted Labels: {predicted_labels[:10]}\")  # Print the first 10 predicted labels\n",
        "print(f\"True Labels: {test_labels[:10]}\")  # Print the first 10 true labels\n",
        "\n",
        "print(f\"Correct Predictions: {correct_predictions}/{total_samples}\")\n",
        "print(f\"Accuracy: {accuracy * 100:.2f}%\")\n"
      ],
      "metadata": {
        "colab": {
          "base_uri": "https://localhost:8080/"
        },
        "id": "zfE__y6viRtV",
        "outputId": "ceba0771-65f2-49f0-dd43-62a1c60c18e4"
      },
      "execution_count": null,
      "outputs": [
        {
          "output_type": "stream",
          "name": "stdout",
          "text": [
            "18/18 [==============================] - 1s 20ms/step\n",
            "Predicted Labels: [1 1 1 0 1 1 1 0 1 1]\n",
            "True Labels: [0 1 1 1 0 1 1 0 0 0]\n",
            "Correct Predictions: 472/561\n",
            "Accuracy: 84.14%\n"
          ]
        }
      ]
    },
    {
      "cell_type": "code",
      "source": [
        "predicted_probabilities = predicted_probabilities.flatten()\n"
      ],
      "metadata": {
        "id": "PP_f920-lm19"
      },
      "execution_count": null,
      "outputs": []
    },
    {
      "cell_type": "code",
      "source": [
        "df = pd.read_csv('/content/drive/MyDrive/Rixprojects-cairdio-ml-pipeline-fe9a94f56c5b/data_splits_2016/test_recordings.csv')\n",
        "\n",
        "recording_ids = list(df['recording_id'])"
      ],
      "metadata": {
        "id": "Uv_5t1Yelb05"
      },
      "execution_count": null,
      "outputs": []
    },
    {
      "cell_type": "code",
      "source": [
        "import pandas as pd\n",
        "\n",
        "data = {\n",
        "    'Recording ID': recording_ids,\n",
        "    'Ground Truth': test_labels,\n",
        "    'Predicted Labels': predicted_labels,\n",
        "    'Probabilities': predicted_probabilities\n",
        "}\n",
        "\n",
        "df = pd.DataFrame(data)"
      ],
      "metadata": {
        "id": "hEGBgZZRkgGB"
      },
      "execution_count": null,
      "outputs": []
    },
    {
      "cell_type": "code",
      "source": [
        "csv_file_path = '/content/sample_data/OUTPUT/output_file.csv'\n",
        "\n",
        "df.to_csv(csv_file_path, index=False)"
      ],
      "metadata": {
        "id": "6sb-OUa5mSPY"
      },
      "execution_count": null,
      "outputs": []
    },
    {
      "cell_type": "code",
      "source": [
        "import numpy as np\n",
        "from sklearn.metrics import confusion_matrix\n",
        "\n",
        "# Calculate the confusion matrix\n",
        "conf_matrix = confusion_matrix(test_labels, predicted_labels)\n",
        "\n",
        "# Extract the values from the confusion matrix\n",
        "true_negatives, false_positives, false_negatives, true_positives = conf_matrix.ravel()\n",
        "\n",
        "# Calculate sensitivity and specificity\n",
        "sensitivity = true_positives / (true_positives + false_negatives)\n",
        "specificity = true_negatives / (true_negatives + false_positives)\n",
        "\n",
        "total_samples = len(test_labels)\n",
        "correct_predictions = np.sum(predicted_labels == test_labels)\n",
        "accuracy = correct_predictions / total_samples\n",
        "\n",
        "print(f\"Confusion Matrix:\\n{conf_matrix}\")\n",
        "print(f\"Correct Predictions: {correct_predictions}/{total_samples}\")\n",
        "print(f\"Accuracy: {accuracy * 100:.2f}%\")\n",
        "print(f\"Sensitivity: {sensitivity * 100:.2f}%\")\n",
        "print(f\"Specificity: {specificity * 100:.2f}%\")"
      ],
      "metadata": {
        "id": "WJ6ghYBV51Pd",
        "colab": {
          "base_uri": "https://localhost:8080/"
        },
        "outputId": "154e5fae-805e-4d83-dd77-57d645dc9c55"
      },
      "execution_count": null,
      "outputs": [
        {
          "output_type": "stream",
          "name": "stdout",
          "text": [
            "Confusion Matrix:\n",
            "[[398  49]\n",
            " [ 40  74]]\n",
            "Correct Predictions: 472/561\n",
            "Accuracy: 84.14%\n",
            "Sensitivity: 64.91%\n",
            "Specificity: 89.04%\n"
          ]
        }
      ]
    },
    {
      "cell_type": "code",
      "source": [],
      "metadata": {
        "id": "o000CsgNXF3y"
      },
      "execution_count": null,
      "outputs": []
    }
  ],
  "metadata": {
    "accelerator": "GPU",
    "colab": {
      "provenance": []
    },
    "gpuClass": "standard",
    "kernelspec": {
      "display_name": "Python 3",
      "name": "python3"
    },
    "language_info": {
      "name": "python"
    }
  },
  "nbformat": 4,
  "nbformat_minor": 0
}